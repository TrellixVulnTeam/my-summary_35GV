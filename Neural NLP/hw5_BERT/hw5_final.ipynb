{
 "cells": [
  {
   "cell_type": "markdown",
   "metadata": {
    "colab_type": "text",
    "id": "3k4mE1jYs1qM"
   },
   "source": [
    "# Additional assignment: BERT finetuning."
   ]
  },
  {
   "cell_type": "code",
   "execution_count": 1,
   "metadata": {
    "colab": {
     "base_uri": "https://localhost:8080/",
     "height": 85
    },
    "colab_type": "code",
    "id": "FRNGbbcHQxQ3",
    "outputId": "7429804d-1de9-4e22-b5b9-c0953356f828"
   },
   "outputs": [
    {
     "name": "stdout",
     "output_type": "stream",
     "text": [
      "Drive already mounted at /content/gdrive; to attempt to forcibly remount, call drive.mount(\"/content/gdrive\", force_remount=True).\n",
      "/content/gdrive/My Drive/Colab Notebooks\n",
      "/content/gdrive/My Drive/NLP\n",
      "/content/gdrive/My Drive/NLP/SkolTech/hw5\n"
     ]
    }
   ],
   "source": [
    "from google.colab import drive\n",
    "drive.mount('/content/gdrive')\n",
    "%matplotlib inline\n",
    "%cd /content/gdrive/My Drive/Colab Notebooks\n",
    "# %mkdir DL_project\n",
    "# %mkdir dataset\n",
    "\n",
    "%cd /content/gdrive/My Drive/NLP\n",
    "%cd SkolTech/hw5"
   ]
  },
  {
   "cell_type": "code",
   "execution_count": 2,
   "metadata": {
    "colab": {
     "base_uri": "https://localhost:8080/",
     "height": 581
    },
    "colab_type": "code",
    "id": "K4qUOdu2QxX9",
    "outputId": "7c148302-d06c-4b30-8b6f-b19093ea8b4c"
   },
   "outputs": [
    {
     "name": "stdout",
     "output_type": "stream",
     "text": [
      "\u001b[31mERROR: Could not find a version that satisfies the requirement pytorch==1.3 (from versions: 0.1.2, 1.0.2)\u001b[0m\n",
      "\u001b[31mERROR: No matching distribution found for pytorch==1.3\u001b[0m\n",
      "\u001b[31mERROR: Could not find a version that satisfies the requirement python==3.7 (from versions: none)\u001b[0m\n",
      "\u001b[31mERROR: No matching distribution found for python==3.7\u001b[0m\n",
      "Requirement already satisfied: transformers==2.1.1 in /usr/local/lib/python3.6/dist-packages (2.1.1)\n",
      "Requirement already satisfied: regex in /usr/local/lib/python3.6/dist-packages (from transformers==2.1.1) (2019.12.9)\n",
      "Requirement already satisfied: boto3 in /usr/local/lib/python3.6/dist-packages (from transformers==2.1.1) (1.10.40)\n",
      "Requirement already satisfied: numpy in /usr/local/lib/python3.6/dist-packages (from transformers==2.1.1) (1.17.4)\n",
      "Requirement already satisfied: tqdm in /usr/local/lib/python3.6/dist-packages (from transformers==2.1.1) (4.28.1)\n",
      "Requirement already satisfied: sacremoses in /usr/local/lib/python3.6/dist-packages (from transformers==2.1.1) (0.0.35)\n",
      "Requirement already satisfied: sentencepiece in /usr/local/lib/python3.6/dist-packages (from transformers==2.1.1) (0.1.85)\n",
      "Requirement already satisfied: requests in /usr/local/lib/python3.6/dist-packages (from transformers==2.1.1) (2.21.0)\n",
      "Requirement already satisfied: s3transfer<0.3.0,>=0.2.0 in /usr/local/lib/python3.6/dist-packages (from boto3->transformers==2.1.1) (0.2.1)\n",
      "Requirement already satisfied: jmespath<1.0.0,>=0.7.1 in /usr/local/lib/python3.6/dist-packages (from boto3->transformers==2.1.1) (0.9.4)\n",
      "Requirement already satisfied: botocore<1.14.0,>=1.13.40 in /usr/local/lib/python3.6/dist-packages (from boto3->transformers==2.1.1) (1.13.40)\n",
      "Requirement already satisfied: joblib in /usr/local/lib/python3.6/dist-packages (from sacremoses->transformers==2.1.1) (0.14.1)\n",
      "Requirement already satisfied: click in /usr/local/lib/python3.6/dist-packages (from sacremoses->transformers==2.1.1) (7.0)\n",
      "Requirement already satisfied: six in /usr/local/lib/python3.6/dist-packages (from sacremoses->transformers==2.1.1) (1.12.0)\n",
      "Requirement already satisfied: urllib3<1.25,>=1.21.1 in /usr/local/lib/python3.6/dist-packages (from requests->transformers==2.1.1) (1.24.3)\n",
      "Requirement already satisfied: idna<2.9,>=2.5 in /usr/local/lib/python3.6/dist-packages (from requests->transformers==2.1.1) (2.8)\n",
      "Requirement already satisfied: chardet<3.1.0,>=3.0.2 in /usr/local/lib/python3.6/dist-packages (from requests->transformers==2.1.1) (3.0.4)\n",
      "Requirement already satisfied: certifi>=2017.4.17 in /usr/local/lib/python3.6/dist-packages (from requests->transformers==2.1.1) (2019.11.28)\n",
      "Requirement already satisfied: python-dateutil<2.8.1,>=2.1; python_version >= \"2.7\" in /usr/local/lib/python3.6/dist-packages (from botocore<1.14.0,>=1.13.40->boto3->transformers==2.1.1) (2.6.1)\n",
      "Requirement already satisfied: docutils<0.16,>=0.10 in /usr/local/lib/python3.6/dist-packages (from botocore<1.14.0,>=1.13.40->boto3->transformers==2.1.1) (0.15.2)\n",
      "Requirement already satisfied: tensorboard==1.9 in /usr/local/lib/python3.6/dist-packages (1.9.0)\n",
      "Requirement already satisfied: markdown>=2.6.8 in /usr/local/lib/python3.6/dist-packages (from tensorboard==1.9) (3.1.1)\n",
      "Requirement already satisfied: six>=1.10.0 in /usr/local/lib/python3.6/dist-packages (from tensorboard==1.9) (1.12.0)\n",
      "Requirement already satisfied: wheel>=0.26; python_version >= \"3\" in /usr/local/lib/python3.6/dist-packages (from tensorboard==1.9) (0.33.6)\n",
      "Requirement already satisfied: numpy>=1.12.0 in /usr/local/lib/python3.6/dist-packages (from tensorboard==1.9) (1.17.4)\n",
      "Requirement already satisfied: protobuf>=3.4.0 in /usr/local/lib/python3.6/dist-packages (from tensorboard==1.9) (3.10.0)\n",
      "Requirement already satisfied: werkzeug>=0.11.10 in /usr/local/lib/python3.6/dist-packages (from tensorboard==1.9) (0.16.0)\n",
      "Requirement already satisfied: setuptools>=36 in /usr/local/lib/python3.6/dist-packages (from markdown>=2.6.8->tensorboard==1.9) (42.0.2)\n"
     ]
    }
   ],
   "source": [
    "%pip install pytorch==1.3 \n",
    "%pip install python==3.7\n",
    "%pip install transformers==2.1.1 \n",
    "%pip install tensorboard==1.9"
   ]
  },
  {
   "cell_type": "markdown",
   "metadata": {
    "colab_type": "text",
    "id": "rv_eqGNEQl9B"
   },
   "source": [
    "### 1. Setup Environment.​ \n",
    "\n",
    "Please, use exactly this environment and don’t use any additional libraries! Otherwise, your results will not be reproducible on our server!"
   ]
  },
  {
   "cell_type": "markdown",
   "metadata": {
    "colab_type": "text",
    "id": "aTADMOKaM5Va"
   },
   "source": [
    "### 2. Load ​ \"bert-base-uncased\" ​ model and corresponding tokenizer. \n",
    "\n",
    "Please, don’t use other models, for competition all implementations of finetuning should use identical pretrained\n",
    "weights! Other models are not available on reproduction server.\n",
    " -  Check that tokenizer correctly preprocesses text for the selected model(remember, the selected model is trained on lowercased texts!)"
   ]
  },
  {
   "cell_type": "code",
   "execution_count": 3,
   "metadata": {
    "colab": {
     "base_uri": "https://localhost:8080/",
     "height": 80
    },
    "colab_type": "code",
    "id": "3nWNbs_qQl9H",
    "outputId": "4fa5916f-6cd4-4252-f943-c2a5bcf94e68"
   },
   "outputs": [
    {
     "name": "stderr",
     "output_type": "stream",
     "text": [
      "WARNING:root:Limited tf.compat.v2.summary API due to missing TensorBoard installation.\n"
     ]
    },
    {
     "data": {
      "text/html": [
       "<p style=\"color: red;\">\n",
       "The default version of TensorFlow in Colab will soon switch to TensorFlow 2.x.<br>\n",
       "We recommend you <a href=\"https://www.tensorflow.org/guide/migrate\" target=\"_blank\">upgrade</a> now \n",
       "or ensure your notebook will continue to use TensorFlow 1.x via the <code>%tensorflow_version 1.x</code> magic:\n",
       "<a href=\"https://colab.research.google.com/notebooks/tensorflow_version.ipynb\" target=\"_blank\">more info</a>.</p>\n"
      ],
      "text/plain": [
       "<IPython.core.display.HTML object>"
      ]
     },
     "metadata": {
      "tags": []
     },
     "output_type": "display_data"
    }
   ],
   "source": [
    "from transformers import BertTokenizer\n",
    "from transformers import AdamW, WarmupLinearSchedule\n",
    "\n",
    "import torch\n",
    "from torch.utils.data import DataLoader, Dataset\n",
    "\n",
    "\n",
    "import pandas as pd\n",
    "import numpy as np \n",
    "import re\n",
    "from tqdm import tqdm_notebook\n",
    "import string\n",
    "from scipy.sparse import csr_matrix, hstack, issparse, coo_matrix\n",
    "from IPython.display import clear_output\n",
    "import matplotlib.pyplot as plt\n",
    "import time"
   ]
  },
  {
   "cell_type": "code",
   "execution_count": 4,
   "metadata": {
    "colab": {
     "base_uri": "https://localhost:8080/",
     "height": 51
    },
    "colab_type": "code",
    "id": "V6ryw62GM5Vl",
    "outputId": "cb7e0a0d-3be5-4c6b-9733-a33bb12f42b8"
   },
   "outputs": [
    {
     "name": "stdout",
     "output_type": "stream",
     "text": [
      "Tesla P100-PCIE-16GB\n"
     ]
    },
    {
     "data": {
      "text/plain": [
       "<torch._C.Generator at 0x7f1689d18a50>"
      ]
     },
     "execution_count": 4,
     "metadata": {
      "tags": []
     },
     "output_type": "execute_result"
    }
   ],
   "source": [
    "device = torch.device('cuda')\n",
    "n_gpu = torch.cuda.device_count()\n",
    "\n",
    "for i in range(n_gpu):\n",
    "    print(torch.cuda.get_device_name(i))\n",
    "    \n",
    "torch.manual_seed(117)"
   ]
  },
  {
   "cell_type": "code",
   "execution_count": 0,
   "metadata": {
    "colab": {},
    "colab_type": "code",
    "id": "jPsR9CtfM5Vc"
   },
   "outputs": [],
   "source": [
    "BERT_MODEL_NAME = \"bert-base-uncased\""
   ]
  },
  {
   "cell_type": "code",
   "execution_count": 0,
   "metadata": {
    "colab": {},
    "colab_type": "code",
    "id": "qv7XW-pVQl9O"
   },
   "outputs": [],
   "source": [
    "tokenizer = BertTokenizer.from_pretrained(BERT_MODEL_NAME, do_lower_case=True)"
   ]
  },
  {
   "cell_type": "code",
   "execution_count": 0,
   "metadata": {
    "colab": {},
    "colab_type": "code",
    "id": "iOjFmOn7Ql9R"
   },
   "outputs": [],
   "source": [
    "def read_data(path):\n",
    "    data_path = '../FILIMDB/'\n",
    "    data_path += path\n",
    "    data= []\n",
    "    with open(data_path) as file:\n",
    "        for line in file:\n",
    "            data.append(line.strip())\n",
    "    return data"
   ]
  },
  {
   "cell_type": "code",
   "execution_count": 0,
   "metadata": {
    "colab": {},
    "colab_type": "code",
    "id": "983sB0zDQl9U"
   },
   "outputs": [],
   "source": [
    "train_texts, test_texts, dev_texts = read_data('train.texts'),read_data('test.texts'),read_data('dev.texts')\n",
    "dev_b_texts, test_b_texts = read_data('dev-b.texts'),read_data('test-b.texts')\n",
    "train_labels , dev_labels, dev_b_labels =  read_data('train.labels'), read_data('dev.labels'), read_data('dev-b.labels')\n"
   ]
  },
  {
   "cell_type": "code",
   "execution_count": 0,
   "metadata": {
    "colab": {},
    "colab_type": "code",
    "id": "dXYv5fYsQl9W"
   },
   "outputs": [],
   "source": [
    "y_train = np.array([1 if label == 'pos' else 0 for label in train_labels ])\n",
    "y_dev = np.array([1 if label == 'pos' else 0 for label in dev_labels ])\n",
    "y_dev_b = np.array([1 if label == 'pos' else 0 for label in dev_b_labels ])"
   ]
  },
  {
   "cell_type": "code",
   "execution_count": 0,
   "metadata": {
    "colab": {},
    "colab_type": "code",
    "id": "pekklCk0Ql9Y"
   },
   "outputs": [],
   "source": [
    "from sklearn.preprocessing import OneHotEncoder\n",
    "\n",
    "encoder = OneHotEncoder(categories=[range(2)], sparse=False)\n",
    "y_enc_train = encoder.fit_transform(y_train.reshape(-1, 1))\n",
    "y_enc_dev = encoder.fit_transform(y_dev.reshape(-1, 1))\n",
    "y_enc_dev_b = encoder.fit_transform(y_dev_b.reshape(-1, 1))"
   ]
  },
  {
   "cell_type": "code",
   "execution_count": 0,
   "metadata": {
    "colab": {},
    "colab_type": "code",
    "id": "a7saPHJFQl9a"
   },
   "outputs": [],
   "source": [
    "stopwords_eng = set([\"them\", \"she\", \"wasn\", \"wasn't\", \"having\", \"ll\", \"hadn\", \"nor\", \"why\", \"these\", \"she's\", \"both\", \"you're\", \"an\", \"between\", \"myself\", \"because\", \"being\", \"ve\", \"while\", \"over\", \"whom\", \"isn\", \"shouldn\", \"wouldn't\", \"been\", \"d\", \"themselves\", \"does\", \"most\", \"below\", \"his\", \"you'll\", \"further\", \"there\", \"was\", \"ain\", \"doesn't\", \"each\", \"couldn\", \"which\", \"that'll\", \"down\", \"won't\", \"than\", \"y\", \"should've\", \"have\", \"until\", \"their\", \"through\", \"ma\", \"before\", \"is\", \"yours\", \"so\", \"up\", \"hasn\", \"doesn\", \"him\", \"very\", \"if\", \"mustn\", \"or\", \"it's\", \"too\", \"re\", \"mustn't\", \"as\", \"now\", \"isn't\", \"mightn't\", \"those\", \"other\", \"above\", \"who\", \"do\", \"the\", \"wouldn\", \"some\", \"this\", \"for\", \"don\", \"me\", \"any\", \"what\", \"theirs\", \"weren't\", \"mightn\", \"aren\", \"ours\", \"your\", \"didn't\", \"shan\", \"shouldn't\", \"off\", \"has\", \"just\", \"himself\", \"herself\", \"m\", \"we\", \"by\", \"aren't\", \"yourselves\", \"again\", \"after\", \"you've\", \"you\", \"how\", \"such\", \"can\", \"o\", \"were\", \"not\", \"they\", \"out\", \"few\", \"with\", \"i\", \"be\", \"haven't\", \"are\", \"s\", \"hadn't\", \"had\", \"our\", \"don't\", \"in\", \"needn't\", \"but\", \"during\", \"weren\", \"it\", \"will\", \"a\", \"did\", \"of\", \"shan't\", \"ourselves\", \"and\", \"no\", \"doing\", \"yourself\", \"at\", \"then\", \"you'd\", \"he\", \"once\", \"about\", \"where\", \"more\", \"only\", \"into\", \"same\", \"my\", \"hers\", \"t\", \"when\", \"its\", \"own\", \"here\", \"all\", \"won\", \"needn\", \"under\", \"br\", \"that\", \"couldn't\", \"from\", \"against\", \"itself\", \"am\", \"should\", \"her\", \"on\", \"to\", \"didn\", \"haven\", \"hasn't\",\"i\", \"me\", \"my\", \"myself\", \"we\", \"our\", \"ours\", \"ourselves\", \"you\", \"you're\", \"you've\", \"you'll\", \"you'd\", \"your\", \"yours\", \"yourself\", \"yourselves\", \"he\", \"him\", \"his\", \"himself\", \"she\", \"she's\", \"her\", \"hers\", \"herself\", \"it\", \"it's\", \"its\", \"itself\", \"they\", \"them\", \"their\", \"theirs\", \"themselves\", \"what\", \"which\", \"who\", \"whom\", \"this\", \"that\", \"that'll\", \"these\", \"those\", \"am\", \"is\", \"are\", \"was\", \"were\", \"be\", \"been\", \"being\", \"have\", \"has\", \"had\", \"having\", \"do\", \"does\", \"did\", \"doing\", \"a\", \"an\", \"the\", \"and\", \"but\", \"if\", \"or\", \"because\", \"as\", \"until\", \"while\", \"of\", \"at\", \"by\", \"for\", \"with\", \"about\", \"against\", \"between\", \"into\", \"through\", \"during\", \"before\", \"after\", \"above\", \"below\", \"to\", \"from\", \"up\", \"down\", \"in\", \"out\", \"on\", \"off\", \"over\", \"under\", \"again\", \"further\", \"then\", \"once\", \"here\", \"there\", \"when\", \"where\", \"why\", \"how\", \"all\", \"any\", \"both\", \"each\", \"few\", \"more\", \"most\", \"other\", \"some\", \"such\", \"no\", \"nor\", \"not\", \"only\", \"own\", \"same\", \"so\", \"than\", \"too\", \"very\", \"s\", \"t\", \"can\", \"will\", \"just\", \"don\", \"don't\", \"should\", \"should've\", \"now\", \"d\", \"ll\", \"m\", \"o\", \"re\", \"ve\", \"y\", \"ain\", \"aren\", \"aren't\", \"couldn\", \"couldn't\", \"didn\", \"didn't\", \"doesn\", \"doesn't\", \"hadn\", \"hadn't\", \"hasn\", \"hasn't\", \"haven\", \"haven't\", \"isn\", \"isn't\", \"ma\", \"mightn\", \"mightn't\", \"mustn\", \"mustn't\", \"needn\", \"needn't\", \"shan\", \"shan't\", \"shouldn\", \"shouldn't\", \"wasn\", \"wasn't\", \"weren\", \"weren't\", \"won\", \"won't\", \"wouldn\", \"wouldn't\", \"br\"])\n",
    "def preprocess(text,stop_words=False,punctuation=False, lower=True):\n",
    "    \"\"\"\n",
    "    Preprocess the data\n",
    "    \n",
    "    stop_words: flag to remove stopwords\n",
    "    punctuation: flag to remove punctuation\n",
    "    \"\"\"\n",
    "    new_text = []\n",
    "    for num,value in enumerate(text):\n",
    "        if lower:\n",
    "            value = value.lower()\n",
    "        \n",
    "        for char in set(string.punctuation):\n",
    "            value = value.replace(char,\" \"+char+\" \")\n",
    "\n",
    "        if stop_words:\n",
    "            pp = \" \".join([word for word in value.split() ])#if word not in stopwords_eng\n",
    "            if punctuation:\n",
    "                punctn = string.punctuation+'…–—‘“‚„«»'\n",
    "                pp = pp.translate(str.maketrans('', '',punctn ))\n",
    "                new_text.append(\" \".join(pp.split()))\n",
    "            else:\n",
    "                new_text.append(pp)\n",
    "        else:\n",
    "            new_text.append(\" \".join(value.split())) # remove multiple spaces\n",
    "             \n",
    "        \n",
    "    return new_text"
   ]
  },
  {
   "cell_type": "code",
   "execution_count": 0,
   "metadata": {
    "colab": {},
    "colab_type": "code",
    "id": "2dEc69U6Ql9d"
   },
   "outputs": [],
   "source": [
    "train_texts = preprocess(train_texts, punctuation=True)\n",
    "test_texts = preprocess(test_texts, punctuation=True)\n",
    "dev_texts = preprocess(dev_texts, punctuation=True)\n",
    "\n",
    "dev_b_texts = preprocess(dev_b_texts, punctuation=True)\n",
    "test_b_texts = preprocess(test_b_texts, punctuation=True)\n"
   ]
  },
  {
   "cell_type": "code",
   "execution_count": 0,
   "metadata": {
    "colab": {},
    "colab_type": "code",
    "id": "sfeLuaa8Ql9g"
   },
   "outputs": [],
   "source": [
    "train_texts = preprocess(train_texts, stop_words=True,punctuation=True)\n",
    "test_texts = preprocess(test_texts, stop_words=True,punctuation=True)\n",
    "dev_texts = preprocess(dev_texts, stop_words=True,punctuation=True)\n",
    "\n",
    "dev_b_texts = preprocess(dev_b_texts, stop_words=True,punctuation=True)\n",
    "test_b_texts = preprocess(test_b_texts, stop_words=True,punctuation=True)"
   ]
  },
  {
   "cell_type": "code",
   "execution_count": 14,
   "metadata": {
    "colab": {
     "base_uri": "https://localhost:8080/",
     "height": 54
    },
    "colab_type": "code",
    "id": "8ISS7L9eQl9i",
    "outputId": "edd442d9-9307-4e6c-8802-49fbf87396b5",
    "scrolled": false
   },
   "outputs": [
    {
     "data": {
      "text/plain": [
       "'if the myth regarding broken mirrors would be accurate everybody involved in this production would now face approximately 170 years of bad luck because there are a lot of mirrors falling to little pieces here if only the script was as shattering as the glass then the broken would have been a brilliant film now it s sadly just an overlong derivative and dull movie with only just a handful of remarkable ideas and memorable sequences sean ellis made a very stylish and elegantly photographed movie but the story is lackluster and the total absence of logic and explanation is really frustrating i got into a discussion with a friend regarding the basic concept and meaning of the film he thinks ellis found inspiration in an old legend claiming that spotting your doppelganger is a foreboding of how you re going to die interesting theory but i m not familiar with this legend and couldn t find anything on the internet about this neither personally i just think the broken is yet another umpteenth variation on the theme of invasion of the body snatchers but without the alien interference the broken centers on the american mcvey family living in london and particularly gina when a mirror spontaneously breaks during a birthday celebration this triggers a whole series of mysterious and seemingly supernatural events gina spots herself driving by in a car and follows her mirror image to an apartment building whilst driving home in a state of mental confusion she causes a terrible car accident and ends up in the hospital when dismissed gina feels like her whole surrounding is changing she doesn t recognize her own boyfriend anymore and uncanny fragments of the accident keep flashing before her eyes does she suffer from mental traumas invoked by the accident or is there really a supernatural conspiracy happening all around her writer director sean ellis definitely invokes feelings of curiosity and suspense in his script but unfortunately he fails to properly elaborate them the broken is a truly atmospheric and stylish effort but only after just half an hour of film you come to the painful conclusion it shall just remain a beautiful but empty package there s a frustratingly high amount of fake suspense in this film this means building up tension through ominous music and eerie camera angels when absolutely nothing has even happened so far by the time the actually mysteriousness kicks in these tricks don t have any scary effect on you anymore some of my fellow reviewers around here compare the film and particularly sean ellis style with the repertoires of david lynch stanley kubrick and even alfred hitchcock but that is way way way too much honor ps what is up with that alternate spelling the one with the scandinavian ø'"
      ]
     },
     "execution_count": 14,
     "metadata": {
      "tags": []
     },
     "output_type": "execute_result"
    }
   ],
   "source": [
    "train_texts[0]"
   ]
  },
  {
   "cell_type": "code",
   "execution_count": 15,
   "metadata": {
    "colab": {
     "base_uri": "https://localhost:8080/",
     "height": 54
    },
    "colab_type": "code",
    "id": "TpyLfjTsQl9l",
    "outputId": "727674bc-3eb5-41d2-ffb4-12985b327ebd"
   },
   "outputs": [
    {
     "name": "stdout",
     "output_type": "stream",
     "text": [
      "['if', 'the', 'myth', 'regarding', 'broken', 'mirrors', 'would', 'be', 'accurate', 'everybody', 'involved', 'in', 'this', 'production', 'would', 'now', 'face', 'approximately', '170', 'years', 'of', 'bad', 'luck', 'because', 'there', 'are', 'a', 'lot', 'of', 'mirrors', 'falling', 'to', 'little', 'pieces', 'here', 'if', 'only', 'the', 'script', 'was', 'as', 'shattering', 'as', 'the', 'glass', 'then', 'the', 'broken', 'would', 'have', 'been', 'a', 'brilliant', 'film', 'now', 'it', 's', 'sadly', 'just', 'an', 'over', '##long', 'derivative', 'and', 'dull', 'movie', 'with', 'only', 'just', 'a', 'handful', 'of', 'remarkable', 'ideas', 'and', 'memorable', 'sequences', 'sean', 'ellis', 'made', 'a', 'very', 'st', '##yl', '##ish', 'and', 'elegant', '##ly', 'photographed', 'movie', 'but', 'the', 'story', 'is', 'lack', '##lus', '##ter', 'and', 'the', 'total', 'absence', 'of', 'logic', 'and', 'explanation', 'is', 'really', 'frustrating', 'i', 'got', 'into', 'a', 'discussion', 'with', 'a', 'friend', 'regarding', 'the', 'basic', 'concept', 'and', 'meaning', 'of', 'the', 'film', 'he', 'thinks', 'ellis', 'found', 'inspiration', 'in', 'an', 'old', 'legend', 'claiming', 'that', 'spotting', 'your', 'do', '##ppel', '##gang', '##er', 'is', 'a', 'fore', '##bo', '##ding', 'of', 'how', 'you', 're', 'going', 'to', 'die', 'interesting', 'theory', 'but', 'i', 'm', 'not', 'familiar', 'with', 'this', 'legend', 'and', 'couldn', 't', 'find', 'anything', 'on', 'the', 'internet', 'about', 'this', 'neither', 'personally', 'i', 'just', 'think', 'the', 'broken', 'is', 'yet', 'another', 'um', '##pt', '##een', '##th', 'variation', 'on', 'the', 'theme', 'of', 'invasion', 'of', 'the', 'body', 'snatch', '##ers', 'but', 'without', 'the', 'alien', 'interference', 'the', 'broken', 'centers', 'on', 'the', 'american', 'mc', '##vey', 'family', 'living', 'in', 'london', 'and', 'particularly', 'gina', 'when', 'a', 'mirror', 'spontaneously', 'breaks', 'during', 'a', 'birthday', 'celebration', 'this', 'triggers', 'a', 'whole', 'series', 'of', 'mysterious', 'and', 'seemingly', 'supernatural', 'events', 'gina', 'spots', 'herself', 'driving', 'by', 'in', 'a', 'car', 'and', 'follows', 'her', 'mirror', 'image', 'to', 'an', 'apartment', 'building', 'whilst', 'driving', 'home', 'in', 'a', 'state', 'of', 'mental', 'confusion', 'she', 'causes', 'a', 'terrible', 'car', 'accident', 'and', 'ends', 'up', 'in', 'the', 'hospital', 'when', 'dismissed', 'gina', 'feels', 'like', 'her', 'whole', 'surrounding', 'is', 'changing', 'she', 'doesn', 't', 'recognize', 'her', 'own', 'boyfriend', 'anymore', 'and', 'uncanny', 'fragments', 'of', 'the', 'accident', 'keep', 'flashing', 'before', 'her', 'eyes', 'does', 'she', 'suffer', 'from', 'mental', 'trauma', '##s', 'invoked', 'by', 'the', 'accident', 'or', 'is', 'there', 'really', 'a', 'supernatural', 'conspiracy', 'happening', 'all', 'around', 'her', 'writer', 'director', 'sean', 'ellis', 'definitely', 'in', '##vo', '##kes', 'feelings', 'of', 'curiosity', 'and', 'suspense', 'in', 'his', 'script', 'but', 'unfortunately', 'he', 'fails', 'to', 'properly', 'elaborate', 'them', 'the', 'broken', 'is', 'a', 'truly', 'atmospheric', 'and', 'st', '##yl', '##ish', 'effort', 'but', 'only', 'after', 'just', 'half', 'an', 'hour', 'of', 'film', 'you', 'come', 'to', 'the', 'painful', 'conclusion', 'it', 'shall', 'just', 'remain', 'a', 'beautiful', 'but', 'empty', 'package', 'there', 's', 'a', 'frustrating', '##ly', 'high', 'amount', 'of', 'fake', 'suspense', 'in', 'this', 'film', 'this', 'means', 'building', 'up', 'tension', 'through', 'ominous', 'music', 'and', 'eerie', 'camera', 'angels', 'when', 'absolutely', 'nothing', 'has', 'even', 'happened', 'so', 'far', 'by', 'the', 'time', 'the', 'actually', 'mysterious', '##ness', 'kicks', 'in', 'these', 'tricks', 'don', 't', 'have', 'any', 'scary', 'effect', 'on', 'you', 'anymore', 'some', 'of', 'my', 'fellow', 'reviewers', 'around', 'here', 'compare', 'the', 'film', 'and', 'particularly', 'sean', 'ellis', 'style', 'with', 'the', 'repertoire', '##s', 'of', 'david', 'lynch', 'stanley', 'ku', '##brick', 'and', 'even', 'alfred', 'hitchcock', 'but', 'that', 'is', 'way', 'way', 'way', 'too', 'much', 'honor', 'ps', 'what', 'is', 'up', 'with', 'that', 'alternate', 'spelling', 'the', 'one', 'with', 'the', 'scandinavian', 'ø']\n"
     ]
    }
   ],
   "source": [
    "\n",
    "tokens = tokenizer.tokenize(train_texts[0])\n",
    "\n",
    "print(tokens)"
   ]
  },
  {
   "cell_type": "markdown",
   "metadata": {
    "colab_type": "text",
    "id": "X39qe6mRQl9n"
   },
   "source": [
    "### 3. Write ​ vectorize_ex ​ function that receives text and label for one example and required sequence length. It should return input representations for BERT (sequence of subword ids, segment ids, input mask and the label id).\n",
    " - Which special tokens were always attached to the input text during BERT pretraining? It may be a good idea to attach them during finetuning also, so BERT will see what it used to see.\n",
    " - Maximum length of an input text is limited by the number of positional embeddings in BERT. How much is it? If the text is longer, the simplest option is to truncate it (in Research part you can try other options).\n",
    " - You should pad each example to the required sequence length, because all examples in the batch should be the same length!\n",
    " - Build input mask to mask attention to the paddings - we don’t want the number of paddings to effect predictions!"
   ]
  },
  {
   "cell_type": "markdown",
   "metadata": {
    "colab_type": "text",
    "id": "2L2CMKAK3WiR"
   },
   "source": [
    "## **There my BertTokenizedDataset and PadSequences for dataloaders include all functionality of vectorize_ex**"
   ]
  },
  {
   "cell_type": "code",
   "execution_count": 0,
   "metadata": {
    "colab": {},
    "colab_type": "code",
    "id": "nDVw_KkYQl9p"
   },
   "outputs": [],
   "source": [
    "class BertTokenizedDataset(Dataset):\n",
    "    def __init__(self, tokenizer, text_data, target_data=None, max_length=256):\n",
    "        \"\"\"\n",
    "        Parameters\n",
    "        ----------\n",
    "        tokenizer : instance of BertTokenizer\n",
    "        text_data : list of str\n",
    "            List of input sentences\n",
    "        target_data : list of int\n",
    "            List of input targets\n",
    "        max_length : int\n",
    "            Maximum length of input sequence (length in bpe tokens)\n",
    "        \"\"\"\n",
    "        self.tokenizer = tokenizer \n",
    "        self.max_length = max_length\n",
    "        \n",
    "        self.target_data = target_data\n",
    "            \n",
    "        self.tokens  = [] \n",
    "        self.data = []\n",
    "        for line in text_data:\n",
    "            line = [\"[CLS]\"] + self.tokenizer.tokenize(line)[:max_length - 2] + [\"[SEP]\"]\n",
    "            self.tokens.append(line)\n",
    "            self.data.append(torch.tensor(tokenizer.convert_tokens_to_ids(line)))\n",
    "            \n",
    "    def __len__(self):\n",
    "        return len(self.data)\n",
    "    \n",
    "    def __getitem__(self, i):\n",
    "        if self.target_data is not None:\n",
    "            return self.data[i], self.target_data[i]\n",
    "        else:\n",
    "            return self.data[i]\n",
    "    "
   ]
  },
  {
   "cell_type": "code",
   "execution_count": 17,
   "metadata": {
    "colab": {
     "base_uri": "https://localhost:8080/",
     "height": 102
    },
    "colab_type": "code",
    "id": "6scF4L8FQl9r",
    "outputId": "e4573117-d100-4413-cc38-23a5ba2c70d8"
   },
   "outputs": [
    {
     "name": "stdout",
     "output_type": "stream",
     "text": [
      "1\n",
      "2\n",
      "3\n",
      "4\n",
      "5\n"
     ]
    }
   ],
   "source": [
    "train_dataset = BertTokenizedDataset(tokenizer, train_texts, y_train)\n",
    "print('1')\n",
    "dev_dataset = BertTokenizedDataset(tokenizer, dev_texts, y_dev)\n",
    "print('2')\n",
    "dev_b_dataset = BertTokenizedDataset(tokenizer, dev_b_texts, y_dev_b)\n",
    "print('3')\n",
    "test_dataset = BertTokenizedDataset(tokenizer, test_texts)\n",
    "print('4')\n",
    "test_b_dataset = BertTokenizedDataset(tokenizer, test_b_texts)\n",
    "print('5')"
   ]
  },
  {
   "cell_type": "code",
   "execution_count": 18,
   "metadata": {
    "colab": {
     "base_uri": "https://localhost:8080/",
     "height": 204
    },
    "colab_type": "code",
    "id": "DLU5GDlcQl9t",
    "outputId": "cb2b4529-3541-49a6-ba56-ab70471b2fe3"
   },
   "outputs": [
    {
     "data": {
      "text/plain": [
       "(tensor([  101,  5410,  5436,  9832,  2482, 15451, 11263, 27989,  1998, 13346,\n",
       "         11865, 29256,  3494,  2012,  2034,  1045,  2245,  2023,  3185,  2001,\n",
       "          2081,  2076,  1996, 26232,  2144,  1996,  3861,  3737,  2004,  2092,\n",
       "          2004,  1996,  9994,  1998,  3689,  2790,  2579,  2013,  2019,  2214,\n",
       "         12849,  3900,  2278,  2792,  2043,  1045,  7039,  1998,  2179,  2008,\n",
       "          2009,  2001,  2428,  2081,  2004,  2397,  2004,  5989,  1045,  2001,\n",
       "         22741,  2023,  2003,  2011,  2521,  2028,  1997,  1996,  5409,  1998,\n",
       "          2560, 10874,  5691,  1045,  2031,  2412,  2464,  7987,  7987,  2065,\n",
       "          2017,  3191,  2023,  2022,  9449,  2065,  2017,  2156,  2009,  2017,\n",
       "          5949,  2051,  2043,  2017,  2071,  2031,  2589,  2242,  2062, 10990,\n",
       "          2066,  3666,  6773,  4318,   102]), 0)"
      ]
     },
     "execution_count": 18,
     "metadata": {
      "tags": []
     },
     "output_type": "execute_result"
    }
   ],
   "source": [
    "train_dataset[3]"
   ]
  },
  {
   "cell_type": "code",
   "execution_count": 0,
   "metadata": {
    "colab": {},
    "colab_type": "code",
    "id": "B9-BK9AqQl9w"
   },
   "outputs": [],
   "source": [
    "class PadSequences:\n",
    "    def __init__(self, use_labels=False):\n",
    "        self.use_labels = use_labels\n",
    "    \n",
    "    def __call__(self, batch):\n",
    "        \"\"\"\n",
    "        Parameters\n",
    "        ----------\n",
    "        batch : list of objects or list of (object, label)\n",
    "            Each object is list of int indexes.\n",
    "            Each label is int.\n",
    "        \"\"\"\n",
    "        data_label_batch = batch if self.use_labels else [(x, 0) for x in batch]\n",
    "            \n",
    "        # Sort the batch in the descending order\n",
    "        max_sorted_batch = sorted(data_label_batch, key=lambda x: x[0].shape[0], reverse=True)\n",
    "        sorted_batch = data_label_batch\n",
    "        # Get each sequence and pad it\n",
    "        sequences = [x[0] for x in sorted_batch]\n",
    "        max_sorted_batch = [x[0] for x in max_sorted_batch]\n",
    "        sequences_padded = torch.nn.utils.rnn.pad_sequence(sequences, batch_first=True)\n",
    "        sequences_padded[:,-1] = 102\n",
    "        max_lenght = len(max_sorted_batch[0])\n",
    "\n",
    "        # Also need to store the length of each sequence\n",
    "        # This is later needed in order to unpad the sequences\n",
    "        lengths = torch.FloatTensor([[1] * len(x) + [0] * (max_lenght - len(x)) for x in sequences])\n",
    "        # Don't forget to grab the labels of the *sorted* batch\n",
    "        if self.use_labels:\n",
    "            labels = torch.FloatTensor([x[1] for x in sorted_batch])\n",
    "            return sequences_padded, lengths, labels\n",
    "        else:\n",
    "            return sequences_padded, lengths"
   ]
  },
  {
   "cell_type": "code",
   "execution_count": 0,
   "metadata": {
    "colab": {},
    "colab_type": "code",
    "id": "G8mj4vIDQl9y"
   },
   "outputs": [],
   "source": [
    "BATCH_SIZE = 4"
   ]
  },
  {
   "cell_type": "code",
   "execution_count": 0,
   "metadata": {
    "colab": {},
    "colab_type": "code",
    "id": "oNrgRST7Ql93"
   },
   "outputs": [],
   "source": [
    "train_dataloader = DataLoader(train_dataset, batch_size=BATCH_SIZE, shuffle=False,\n",
    "                              collate_fn=PadSequences(use_labels=True))\n",
    "\n",
    "dev_dataloader = DataLoader(dev_dataset, batch_size=BATCH_SIZE, shuffle=False,\n",
    "                              collate_fn=PadSequences(use_labels=True))\n",
    "\n",
    "dev_b_dataloader = DataLoader(dev_b_dataset, batch_size=BATCH_SIZE, shuffle=False,\n",
    "                              collate_fn=PadSequences(use_labels=True))\n",
    "\n",
    "test_dataloader = DataLoader(test_dataset, batch_size=BATCH_SIZE, shuffle=False,\n",
    "                              collate_fn=PadSequences(use_labels=False))\n",
    "\n",
    "test_b_dataloader = DataLoader(test_b_dataset, batch_size=BATCH_SIZE, shuffle=False,\n",
    "                              collate_fn=PadSequences(use_labels=False))\n"
   ]
  },
  {
   "cell_type": "code",
   "execution_count": 83,
   "metadata": {
    "colab": {
     "base_uri": "https://localhost:8080/",
     "height": 255
    },
    "colab_type": "code",
    "id": "v4EIksjYF9RY",
    "outputId": "773f8336-b04b-4770-c62c-6d9f475e6910"
   },
   "outputs": [
    {
     "name": "stdout",
     "output_type": "stream",
     "text": [
      "(tensor([[ 101, 2065, 1996,  ..., 2000, 2019,  102],\n",
      "        [ 101, 1045, 2435,  ...,    0,    0,  102],\n",
      "        [ 101, 2044, 3666,  ...,    0,    0,  102],\n",
      "        [ 101, 5410, 5436,  ...,    0,    0,  102]]), tensor([[1., 1., 1.,  ..., 1., 1., 1.],\n",
      "        [1., 1., 1.,  ..., 0., 0., 0.],\n",
      "        [1., 1., 1.,  ..., 0., 0., 0.],\n",
      "        [1., 1., 1.,  ..., 0., 0., 0.]]), tensor([0., 1., 0., 0.]))\n",
      "(tensor([[  101,  2073,  1996,  ...,  4130,  1997,   102],\n",
      "        [  101,  3889, 10533,  ...,     0,     0,   102],\n",
      "        [  101,  1996,  3937,  ...,     0,     0,   102],\n",
      "        [  101,  1045,  2031,  ...,  1996,  3185,   102]]), tensor([[1., 1., 1.,  ..., 1., 1., 1.],\n",
      "        [1., 1., 1.,  ..., 0., 0., 0.],\n",
      "        [1., 1., 1.,  ..., 0., 0., 0.],\n",
      "        [1., 1., 1.,  ..., 1., 1., 1.]]), tensor([1., 0., 0., 1.]))\n"
     ]
    }
   ],
   "source": [
    "for num,x in enumerate(train_dataloader):\n",
    "  if num == 2:\n",
    "    break\n",
    "  print(x)"
   ]
  },
  {
   "cell_type": "markdown",
   "metadata": {
    "colab_type": "text",
    "id": "iRdxYsQ_Ql97"
   },
   "source": [
    "### 4. Write main training loop. Plot learning curves: at least plot loss on train and dev (on one plot) and accuracy on train and dev (on another). For plotting Matplotlib or TensorflowX libraries will be installed on the server.\n",
    " - Use Adam optimizer. Select learning rate between 1e-6 and 1e-3.\n",
    " - Try using learning rate warmup (usually, 5-10% of the whole training time is enough) and learning rate decay. Carefully select the number of epochs (if your learning rate decays to small values too early, you will underfit).\n",
    " - What is the size of the memory in your GPU? What is the largest size you can use for BERT finetuning? Try using larger batches (32,128) via gradient accumulation trick."
   ]
  },
  {
   "cell_type": "code",
   "execution_count": 0,
   "metadata": {
    "colab": {},
    "colab_type": "code",
    "id": "UFea7sYSQl99"
   },
   "outputs": [],
   "source": [
    "EPOCH_AMOUNT = 2\n",
    "TRAIN_LENGTH = len(train_dataset)\n",
    "BATCH_SIZE = 4\n",
    "\n",
    "LR = 5e-6"
   ]
  },
  {
   "cell_type": "code",
   "execution_count": 0,
   "metadata": {
    "colab": {},
    "colab_type": "code",
    "id": "u2UF5i-Xxqnl"
   },
   "outputs": [],
   "source": [
    "import torch.nn as nn\n",
    "from transformers import BertModel\n",
    "import torch.optim as optim\n",
    "bert = BertModel.from_pretrained('bert-base-uncased')\n",
    "\n",
    "class Bert_Sig(nn.Module):\n",
    "    def __init__(self, dropout=0.1):\n",
    "        super(Bert_Sig, self).__init__()\n",
    "        self.bert = BertModel.from_pretrained('bert-base-uncased')\n",
    "        self.linear = nn.Linear(768, 1)\n",
    "        self.sigmoid = nn.Sigmoid()\n",
    "    \n",
    "    def forward(self, input_ids,input_mask):\n",
    "        _, output = self.bert(input_ids,attention_mask=input_mask)\n",
    "        proba = self.sigmoid(self.linear(output))\n",
    "        return proba"
   ]
  },
  {
   "cell_type": "code",
   "execution_count": 0,
   "metadata": {
    "colab": {},
    "colab_type": "code",
    "id": "92msoRL9xs_n"
   },
   "outputs": [],
   "source": [
    "bert_model = Bert_Sig()\n",
    "bert_model.to('cuda')\n",
    "\n",
    "\n",
    "optimizer = optim.Adam(bert_model.parameters(), lr=LR)"
   ]
  },
  {
   "cell_type": "code",
   "execution_count": 0,
   "metadata": {
    "colab": {},
    "colab_type": "code",
    "id": "vv3UhhFbzbtX"
   },
   "outputs": [],
   "source": [
    "from sklearn.metrics import accuracy_score\n",
    "criterion = nn.BCEWithLogitsLoss()"
   ]
  },
  {
   "cell_type": "code",
   "execution_count": 26,
   "metadata": {
    "colab": {
     "base_uri": "https://localhost:8080/",
     "height": 772,
     "referenced_widgets": [
      "63506ff975fb45399ef1b39965cd31b8",
      "1f62ae1121ec4471a4493f7c9b166de5",
      "f99ea03008254fe5bbd3795c312101f7",
      "b4d4b9818bca4842821dde03d3d277f0",
      "d827521c863c457482cb0a16fc35ddd5",
      "54ac321377ea438c8044e0a6c220501c",
      "030f64defe864f229581ffcb53b42bd1",
      "a3b8ab7631a943a1907ab6f9c4bc43a6",
      "1b6e3cebfc984b4c84c7a5cb2f6faba3",
      "6e943f10c2cb41ccbd87bfc3f895290e",
      "9bfecfd728bc4cc8b481dac0b3dd98fe",
      "b2c1550c19674528b667aa4dc432ec7f",
      "a37aef3921b947258d7eb3726a2edb26",
      "21dc3690869e4d0eae5ee2add7d2f064",
      "64368a2649dc468d85ee8cc99c2f9a62",
      "1f2ee98333be48058dedf32d463001f6",
      "fd046b0ba2a44bafa6bd36eb96e957c1",
      "5b71058e25a847a1a6d539158168ebbf",
      "939329662387418583253de21b065c3e",
      "a075752f1cec4963b809ce7e50f62e15",
      "7b05b15c2b8546ebbae032fb4c20174d",
      "550d3574e3d049f5ba6e57dc74bda7a6",
      "9e916600aa9b409ca40fa3d4782acb22",
      "04ca9171a6194096994931889ee29ac6",
      "b1e84a4ed445495da425c52939ee681c",
      "3de5da14d23441d9bc3272804cf0fd3b",
      "f958098522d94524963d8756f237d281",
      "67fdc1fee84549d8bdfaef205f358418",
      "6b6ee20c938b425ba221d2dc3e2fb19d",
      "c97e8b9659804fbf90544c9d0f02789a",
      "806005dd1ddc40f78e6585c5234ecefe",
      "e4518abc33c141f5af309d53f40191a3",
      "acdc2e3eb859419fb25bbc4387398d05",
      "d706c96bec084d3b992b8b9830a4cb80",
      "824c662647dd4290af179cf2f26278ca",
      "c5727cf908464501a100dce8e7bf5788",
      "bf8586cf1a9848069356df2cf823fa22",
      "0189cae09b454a5ba147324f792395b4",
      "e31bc0b0cfbf4c99b9f378d3688ec94c",
      "8106529b3b184e4f89f17cc67f20ad31"
     ]
    },
    "colab_type": "code",
    "id": "8l2Z0xKXQl-P",
    "outputId": "93683e58-77f6-4372-caa7-9718b31ab4de"
   },
   "outputs": [
    {
     "data": {
      "application/vnd.jupyter.widget-view+json": {
       "model_id": "63506ff975fb45399ef1b39965cd31b8",
       "version_major": 2,
       "version_minor": 0
      },
      "text/plain": [
       "HBox(children=(IntProgress(value=0, max=2), HTML(value='')))"
      ]
     },
     "metadata": {
      "tags": []
     },
     "output_type": "display_data"
    },
    {
     "data": {
      "application/vnd.jupyter.widget-view+json": {
       "model_id": "1b6e3cebfc984b4c84c7a5cb2f6faba3",
       "version_major": 2,
       "version_minor": 0
      },
      "text/plain": [
       "HBox(children=(IntProgress(value=1, bar_style='info', max=1), HTML(value='')))"
      ]
     },
     "metadata": {
      "tags": []
     },
     "output_type": "display_data"
    },
    {
     "name": "stdout",
     "output_type": "stream",
     "text": [
      "steps =  500 loss = 0.6314704939723015\n",
      "Train acc intermediate: 0.7375\n",
      "steps =  1000 loss = 0.5986952036619186\n",
      "Train acc intermediate: 0.80175\n",
      "steps =  1500 loss = 0.5879179012378056\n",
      "Train acc intermediate: 0.8225\n",
      "steps =  2000 loss = 0.5812911474108696\n",
      "Train acc intermediate: 0.8345\n",
      "steps =  2500 loss = 0.5766620802640915\n",
      "Train acc intermediate: 0.844\n",
      "steps =  3000 loss = 0.5735975114007791\n",
      "Train acc intermediate: 0.84975\n",
      "steps =  3500 loss = 0.5719046158364841\n",
      "Train acc intermediate: 0.8517142857142858\n",
      "Train loss: 0.5718619774977366\n",
      "Train acc: 0.8519333333333333\n"
     ]
    },
    {
     "data": {
      "application/vnd.jupyter.widget-view+json": {
       "model_id": "fd046b0ba2a44bafa6bd36eb96e957c1",
       "version_major": 2,
       "version_minor": 0
      },
      "text/plain": [
       "HBox(children=(IntProgress(value=0, max=2500), HTML(value='')))"
      ]
     },
     "metadata": {
      "tags": []
     },
     "output_type": "display_data"
    },
    {
     "name": "stdout",
     "output_type": "stream",
     "text": [
      "Validation Accuracy: 0.8916\n"
     ]
    },
    {
     "data": {
      "application/vnd.jupyter.widget-view+json": {
       "model_id": "b1e84a4ed445495da425c52939ee681c",
       "version_major": 2,
       "version_minor": 0
      },
      "text/plain": [
       "HBox(children=(IntProgress(value=1, bar_style='info', max=1), HTML(value='')))"
      ]
     },
     "metadata": {
      "tags": []
     },
     "output_type": "display_data"
    },
    {
     "name": "stdout",
     "output_type": "stream",
     "text": [
      "steps =  500 loss = 0.5494365622401237\n",
      "Train acc intermediate: 0.8574705882352941\n",
      "steps =  1000 loss = 0.5470297164916992\n",
      "Train acc intermediate: 0.8624736842105263\n",
      "steps =  1500 loss = 0.548076887011528\n",
      "Train acc intermediate: 0.8659523809523809\n",
      "steps =  2000 loss = 0.5465896734297275\n",
      "Train acc intermediate: 0.8698260869565217\n",
      "steps =  2500 loss = 0.5463857264637947\n",
      "Train acc intermediate: 0.87312\n",
      "steps =  3000 loss = 0.546352860858043\n",
      "Train acc intermediate: 0.8751481481481481\n",
      "steps =  3500 loss = 0.5467173394390515\n",
      "Train acc intermediate: 0.8765862068965518\n",
      "Train loss: 0.5469973384380341\n",
      "Train acc: 0.8772666666666666\n"
     ]
    },
    {
     "data": {
      "application/vnd.jupyter.widget-view+json": {
       "model_id": "acdc2e3eb859419fb25bbc4387398d05",
       "version_major": 2,
       "version_minor": 0
      },
      "text/plain": [
       "HBox(children=(IntProgress(value=0, max=2500), HTML(value='')))"
      ]
     },
     "metadata": {
      "tags": []
     },
     "output_type": "display_data"
    },
    {
     "name": "stdout",
     "output_type": "stream",
     "text": [
      "Validation Accuracy: 0.9008\n",
      "\n"
     ]
    }
   ],
   "source": [
    "train_loss_set = []\n",
    "train_acc_set = []\n",
    "\n",
    "# trange is a tqdm wrapper around the normal python range\n",
    "for _ in tqdm_notebook(range(EPOCH_AMOUNT)):\n",
    "\n",
    "\n",
    "    # Training\n",
    "\n",
    "    # Set our model to training mode (as opposed to evaluation mode)\n",
    "    bert_model.train(True) \n",
    "\n",
    "    # Tracking variables\n",
    "    tr_loss = 0\n",
    "    tr_acc = 0\n",
    "    nb_tr_examples, nb_tr_steps = 0, 0\n",
    "\n",
    "    # Train the data for one epoch\n",
    "    for step, batch in tqdm_notebook(enumerate(train_dataloader)):\n",
    "        # Add batch to GPU\n",
    "        batch = tuple(t.to(device) for t in batch)\n",
    "        # Unpack the inputs from our dataloader\n",
    "        b_input_ids, b_input_mask, b_labels = batch\n",
    "\n",
    "        # print(b_input_ids, b_input_mask, b_labels)\n",
    "        # Clear out the gradients (by default they accumulate)\n",
    "        \n",
    "        # Forward pass\n",
    "\n",
    "        outputs = bert_model(b_input_ids,b_input_mask)\n",
    "        loss = criterion(outputs.squeeze(1), b_labels)\n",
    "        bert_model.zero_grad()\n",
    "        # loss.backward() \n",
    "\n",
    "        train_loss_set.append(loss.item())\n",
    "        logits = outputs.squeeze(1).detach().cpu().numpy().round()\n",
    "        label_ids = b_labels.detach().cpu().numpy()\n",
    "\n",
    "        tr_acc=accuracy_score(logits,label_ids)\n",
    "        train_acc_set.append(tr_acc)\n",
    "\n",
    "        # print(f'LOSS {loss} outputs: {outputs}\\n  logits:{logits} label_ids:{label_ids} tr_acc {tr_acc}')\n",
    "\n",
    "        # Backward pass\n",
    "        loss.backward()\n",
    "\n",
    "        # Gradient clipping is not in AdamW anymore (so you can use amp without issue)\n",
    "        # torch.nn.utils.clip_grad_norm_(bert_model.parameters(), max_grad_norm)\n",
    "\n",
    "        # Update parameters and take a step using the computed gradient\n",
    "        optimizer.step()\n",
    "\n",
    "        # Update tracking variables\n",
    "        tr_loss += loss.item()\n",
    "        \n",
    "        nb_tr_examples += b_input_ids.size(0)\n",
    "        nb_tr_steps += 1\n",
    "\n",
    "        if nb_tr_steps % 500 == 0 :\n",
    "            print('steps = ',nb_tr_steps,'loss =',tr_loss/nb_tr_steps)\n",
    "            print(\"Train acc intermediate: {}\".format(np.mean(train_acc_set)))\n",
    "    print(\"Train loss: {}\".format(tr_loss/nb_tr_steps))\n",
    "    print(\"Train acc: {}\".format(np.mean(train_acc_set)))\n",
    "\n",
    "\n",
    "    # Validation\n",
    "\n",
    "    # Put model in evaluation mode to evaluate loss on the validation set\n",
    "    bert_model.eval()\n",
    "\n",
    "    # Tracking variables \n",
    "    eval_loss, eval_accuracy = 0, 0\n",
    "    nb_eval_steps, nb_eval_examples = 0, 0\n",
    "\n",
    "    # Evaluate data for one epoch\n",
    "    for batch in tqdm_notebook(dev_dataloader):\n",
    "        # Add batch to GPU\n",
    "        batch = tuple(t.to(device) for t in batch)\n",
    "        # Unpack the inputs from our dataloader\n",
    "        b_input_ids, b_input_mask, b_labels = batch\n",
    "        # Telling the model not to compute or store gradients, saving memory and speeding up validation\n",
    "        with torch.no_grad():\n",
    "          # Forward pass, calculate logit predictions\n",
    "            outputs = bert_model(b_input_ids,b_input_mask)\n",
    "        # Move logits and labels to CPU\n",
    "        logits = outputs.squeeze(1).detach().cpu().numpy().round()\n",
    "        label_ids = b_labels.detach().cpu().numpy()\n",
    "\n",
    "        tmp_eval_accuracy=accuracy_score(logits,label_ids)\n",
    "\n",
    "        eval_accuracy += tmp_eval_accuracy\n",
    "        nb_eval_steps += 1\n",
    "\n",
    "    print(\"Validation Accuracy: {}\".format(eval_accuracy/nb_eval_steps))\n",
    "    "
   ]
  },
  {
   "cell_type": "code",
   "execution_count": 0,
   "metadata": {
    "colab": {},
    "colab_type": "code",
    "id": "_Hard-IFvp0G"
   },
   "outputs": [],
   "source": [
    "def train(bert_model, train_dataloader, optimizer, scheduler, EPOCH_AMOUNT, with_clipping=False,max_grad_norm_clipping=1.0):\n",
    "    train_loss_set = []\n",
    "    train_acc_set = []\n",
    "    # trange is a tqdm wrapper around the normal python range\n",
    "    for _ in tqdm_notebook(range(EPOCH_AMOUNT)):\n",
    "        # Training\n",
    "\n",
    "        # Set our model to training mode (as opposed to evaluation mode)\n",
    "        bert_model.train() \n",
    "\n",
    "        # Tracking variables\n",
    "        tr_loss = 0\n",
    "        tr_acc = 0\n",
    "        nb_tr_examples, nb_tr_steps = 0, 0\n",
    "\n",
    "        # Train the data for one epoch\n",
    "        for step, batch in tqdm_notebook(enumerate(train_dataloader)):\n",
    "            # Add batch to GPU\n",
    "            batch = tuple(t.to(device) for t in batch)\n",
    "            # Unpack the inputs from our dataloader\n",
    "            b_input_ids, b_input_mask, b_labels = batch\n",
    "            \n",
    "            # Forward pass\n",
    "            outputs = bert_model(b_input_ids,b_input_mask)\n",
    "            loss = criterion(outputs.squeeze(1), b_labels)\n",
    "            bert_model.zero_grad()\n",
    "\n",
    "            train_loss_set.append(loss.item())    \n",
    "            logits = outputs.squeeze(1).detach().cpu().numpy().round()\n",
    "            label_ids = b_labels.detach().cpu().numpy()\n",
    "\n",
    "            tr_acc=accuracy_score(logits,label_ids)\n",
    "            train_acc_set.append(tr_acc)\n",
    "            # Backward pass\n",
    "            loss.backward()\n",
    "\n",
    "            if with_clipping:\n",
    "                # Gradient clipping is not in AdamW anymore (so you can use amp without issue)\n",
    "                torch.nn.utils.clip_grad_norm_(bert_model.parameters(), max_grad_norm_clipping)\n",
    "\n",
    "            # Update parameters and take a step using the computed gradient\n",
    "            optimizer.step()\n",
    "\n",
    "            # Update tracking variables\n",
    "            tr_loss += loss.item()\n",
    "            nb_tr_examples += b_input_ids.size(0)\n",
    "            nb_tr_steps += 1\n",
    "\n",
    "            if nb_tr_steps % 500 == 0 :\n",
    "                print('steps = ',nb_tr_steps,'loss =',tr_loss/nb_tr_steps)\n",
    "                print(\"Train acc intermediate: {}\".format(np.mean(train_acc_set)))\n",
    "\n",
    "        print(\"Train loss: {}\".format(tr_loss/nb_tr_steps))\n",
    "\n",
    "    plt.figure(figsize=(15,8))\n",
    "    plt.subplot(121)\n",
    "    plt.title(\"Training loss\")\n",
    "    plt.xlabel(\"Batch\")\n",
    "    plt.ylabel(\"Loss\")\n",
    "    plt.plot(train_loss_set)\n",
    "    plt.subplot(122)\n",
    "    plt.title(\"Training accuracy\")\n",
    "    plt.xlabel(\"Batch\")\n",
    "    plt.ylabel(\"Accuracy\")\n",
    "    plt.plot(train_acc_set)\n",
    "    plt.show()\n"
   ]
  },
  {
   "cell_type": "code",
   "execution_count": 0,
   "metadata": {
    "colab": {},
    "colab_type": "code",
    "id": "zRXapKNJvp3o"
   },
   "outputs": [],
   "source": [
    "def test(bert_model, dataloader, name_dtlder='Test'):\n",
    "    # Validation\n",
    "\n",
    "    # Put model in evaluation mode to evaluate loss on the validation set\n",
    "    bert_model.eval()\n",
    "\n",
    "    # Tracking variables \n",
    "    eval_loss, eval_accuracy = 0, 0\n",
    "    nb_eval_steps, nb_eval_examples = 0, 0\n",
    "\n",
    "    # Evaluate data for one epoch\n",
    "    for batch in tqdm_notebook(dataloader):\n",
    "        # Add batch to GPU\n",
    "        batch = tuple(t.to(device) for t in batch)\n",
    "        # Unpack the inputs from our dataloader\n",
    "        b_input_ids, b_input_mask, b_labels = batch\n",
    "        # Telling the model not to compute or store gradients, saving memory and speeding up validation\n",
    "        with torch.no_grad():\n",
    "          # Forward pass, calculate logit predictions\n",
    "          outputs = bert_model(b_input_ids, token_type_ids=None, attention_mask=b_input_mask)\n",
    "          logits = outputs[0]\n",
    "        # Move logits and labels to CPU\n",
    "        logits = logits.detach().cpu().numpy().round()\n",
    "        label_ids = b_labels.to('cpu').numpy()\n",
    "\n",
    "        tmp_eval_accuracy = flat_accuracy(logits, label_ids)\n",
    "\n",
    "        eval_accuracy += tmp_eval_accuracy\n",
    "        nb_eval_steps += 1\n",
    "\n",
    "\n",
    "    print(\"{} Accuracy: {}\".format(name_dtlder,eval_accuracy/nb_eval_steps))"
   ]
  },
  {
   "cell_type": "code",
   "execution_count": 0,
   "metadata": {
    "colab": {},
    "colab_type": "code",
    "id": "qFR1T8OHgF5R"
   },
   "outputs": [],
   "source": [
    "def predict(bert_model, dataloader):\n",
    "      # Validation\n",
    "\n",
    "    # Put model in evaluation mode to evaluate loss on the validation set\n",
    "    bert_model.eval()\n",
    "\n",
    "    all_outputs = np.array([])\n",
    "    # Evaluate data for one epoch\n",
    "    for batch in tqdm_notebook(dataloader):\n",
    "        # Add batch to GPU\n",
    "        batch = tuple(t.to(device) for t in batch)\n",
    "        if len(batch) == 2:\n",
    "            b_input_ids, b_input_mask = batch\n",
    "        elif len(batch) == 3:\n",
    "            # Unpack the inputs from our dataloader\n",
    "            b_input_ids, b_input_mask, b_labels = batch\n",
    "        # Telling the model not to compute or store gradients, saving memory and speeding up validation\n",
    "        outputs = bert_model(b_input_ids,b_input_mask)\n",
    "        # Move logits and labels to CPU\n",
    "        logits = outputs.squeeze(1).detach().cpu().numpy().round()\n",
    "        all_outputs = np.append(all_outputs,logits)\n",
    "    return all_outputs"
   ]
  },
  {
   "cell_type": "code",
   "execution_count": 86,
   "metadata": {
    "colab": {
     "base_uri": "https://localhost:8080/",
     "height": 113,
     "referenced_widgets": [
      "1f8b543e07664cc3b51c976414a8ca01",
      "b6051929c8624198afbac7c8c3ca17d5",
      "6b85226d0db14a0783c045d691db138b",
      "c4687f411df04fa38109f0b6a524807d",
      "eaa1bfd4ebdc40599a1fa9208de5238c",
      "f862366ffcf8423d98380103b565bca6",
      "c17b510798844013a3a0bcc28c80839e",
      "1f9f5e3a1fbf4ca0a939748efa7c275d",
      "69d6573c96a94e39b2ecb9f6de334fc4",
      "2ea1af06c4eb490a894be696ee1f4a64",
      "c324334e10e04fe98a07b5603e929d70",
      "9d12dcfa6adf4adda86a3888a3afad8d",
      "806bf28470f343a5b54b90585f1bc9d9",
      "9d91a018c9b340e0818cc46c44424aed",
      "b5958a8629d34f10a7f191b768437d6e",
      "cb902e57bf7b42c6ae0e8eeaa8d95b27",
      "3387154ae93e480489f8133eccc74ba7",
      "ad53e9d86be440babcb0fd62fbcd9712",
      "3768d741c907420a8f88dd0e3f2df0a1",
      "dcfe8892f7084ead88d79e016a0f73f6",
      "985d951458584d888a9abcde8051387e",
      "bcf042085fa94c4d9dd0511ce5fa6c02",
      "50ccaed0b5114801bbcbadb15b30add1",
      "56ca670a1e8a4c7b936d56b8883a39cf"
     ]
    },
    "colab_type": "code",
    "id": "8lZ-86Qcenvh",
    "outputId": "059ebbe8-408a-499c-8c73-526beca24fcb"
   },
   "outputs": [
    {
     "data": {
      "application/vnd.jupyter.widget-view+json": {
       "model_id": "1f8b543e07664cc3b51c976414a8ca01",
       "version_major": 2,
       "version_minor": 0
      },
      "text/plain": [
       "HBox(children=(IntProgress(value=0, max=3750), HTML(value='')))"
      ]
     },
     "metadata": {
      "tags": []
     },
     "output_type": "display_data"
    },
    {
     "data": {
      "application/vnd.jupyter.widget-view+json": {
       "model_id": "69d6573c96a94e39b2ecb9f6de334fc4",
       "version_major": 2,
       "version_minor": 0
      },
      "text/plain": [
       "HBox(children=(IntProgress(value=0, max=2500), HTML(value='')))"
      ]
     },
     "metadata": {
      "tags": []
     },
     "output_type": "display_data"
    },
    {
     "data": {
      "application/vnd.jupyter.widget-view+json": {
       "model_id": "3387154ae93e480489f8133eccc74ba7",
       "version_major": 2,
       "version_minor": 0
      },
      "text/plain": [
       "HBox(children=(IntProgress(value=0, max=500), HTML(value='')))"
      ]
     },
     "metadata": {
      "tags": []
     },
     "output_type": "display_data"
    }
   ],
   "source": [
    "preds_train = predict(bert_model,train_dataloader)\n",
    "preds_dev = predict(bert_model,dev_dataloader)\n",
    "preds_dev_b = predict(bert_model,dev_b_dataloader)"
   ]
  },
  {
   "cell_type": "code",
   "execution_count": 87,
   "metadata": {
    "colab": {
     "base_uri": "https://localhost:8080/",
     "height": 34
    },
    "colab_type": "code",
    "id": "Wu2h5TAYf_T2",
    "outputId": "6db8bbc2-9c59-4e09-8e9e-aea9a8414893"
   },
   "outputs": [
    {
     "data": {
      "text/plain": [
       "0.9298666666666666"
      ]
     },
     "execution_count": 87,
     "metadata": {
      "tags": []
     },
     "output_type": "execute_result"
    }
   ],
   "source": [
    "accuracy_score(y_train,preds_train)"
   ]
  },
  {
   "cell_type": "code",
   "execution_count": 88,
   "metadata": {
    "colab": {
     "base_uri": "https://localhost:8080/",
     "height": 34
    },
    "colab_type": "code",
    "id": "i7pC-LxigC6K",
    "outputId": "1fd36174-8b94-4a22-fddf-b091eafe66f2"
   },
   "outputs": [
    {
     "data": {
      "text/plain": [
       "0.9008"
      ]
     },
     "execution_count": 88,
     "metadata": {
      "tags": []
     },
     "output_type": "execute_result"
    }
   ],
   "source": [
    "accuracy_score(y_dev,preds_dev)"
   ]
  },
  {
   "cell_type": "code",
   "execution_count": 89,
   "metadata": {
    "colab": {
     "base_uri": "https://localhost:8080/",
     "height": 34
    },
    "colab_type": "code",
    "id": "9zHoSDr8fhSJ",
    "outputId": "db1d80cc-cc5f-4b33-cc64-f39e43e607d1"
   },
   "outputs": [
    {
     "data": {
      "text/plain": [
       "0.832"
      ]
     },
     "execution_count": 89,
     "metadata": {
      "tags": []
     },
     "output_type": "execute_result"
    }
   ],
   "source": [
    "accuracy_score(y_dev_b,preds_dev_b)"
   ]
  }
 ],
 "metadata": {
  "accelerator": "GPU",
  "colab": {
   "collapsed_sections": [],
   "machine_shape": "hm",
   "name": "hw5.ipynb",
   "provenance": [],
   "toc_visible": true
  },
  "kernelspec": {
   "display_name": "Python 3",
   "language": "python",
   "name": "python3"
  },
  "language_info": {
   "codemirror_mode": {
    "name": "ipython",
    "version": 3
   },
   "file_extension": ".py",
   "mimetype": "text/x-python",
   "name": "python",
   "nbconvert_exporter": "python",
   "pygments_lexer": "ipython3",
   "version": "3.7.1"
  },
  "widgets": {
   "application/vnd.jupyter.widget-state+json": {
    "0189cae09b454a5ba147324f792395b4": {
     "model_module": "@jupyter-widgets/base",
     "model_name": "LayoutModel",
     "state": {
      "_model_module": "@jupyter-widgets/base",
      "_model_module_version": "1.2.0",
      "_model_name": "LayoutModel",
      "_view_count": null,
      "_view_module": "@jupyter-widgets/base",
      "_view_module_version": "1.2.0",
      "_view_name": "LayoutView",
      "align_content": null,
      "align_items": null,
      "align_self": null,
      "border": null,
      "bottom": null,
      "display": null,
      "flex": null,
      "flex_flow": null,
      "grid_area": null,
      "grid_auto_columns": null,
      "grid_auto_flow": null,
      "grid_auto_rows": null,
      "grid_column": null,
      "grid_gap": null,
      "grid_row": null,
      "grid_template_areas": null,
      "grid_template_columns": null,
      "grid_template_rows": null,
      "height": null,
      "justify_content": null,
      "justify_items": null,
      "left": null,
      "margin": null,
      "max_height": null,
      "max_width": null,
      "min_height": null,
      "min_width": null,
      "object_fit": null,
      "object_position": null,
      "order": null,
      "overflow": null,
      "overflow_x": null,
      "overflow_y": null,
      "padding": null,
      "right": null,
      "top": null,
      "visibility": null,
      "width": null
     }
    },
    "030f64defe864f229581ffcb53b42bd1": {
     "model_module": "@jupyter-widgets/controls",
     "model_name": "DescriptionStyleModel",
     "state": {
      "_model_module": "@jupyter-widgets/controls",
      "_model_module_version": "1.5.0",
      "_model_name": "DescriptionStyleModel",
      "_view_count": null,
      "_view_module": "@jupyter-widgets/base",
      "_view_module_version": "1.2.0",
      "_view_name": "StyleView",
      "description_width": ""
     }
    },
    "04ca9171a6194096994931889ee29ac6": {
     "model_module": "@jupyter-widgets/base",
     "model_name": "LayoutModel",
     "state": {
      "_model_module": "@jupyter-widgets/base",
      "_model_module_version": "1.2.0",
      "_model_name": "LayoutModel",
      "_view_count": null,
      "_view_module": "@jupyter-widgets/base",
      "_view_module_version": "1.2.0",
      "_view_name": "LayoutView",
      "align_content": null,
      "align_items": null,
      "align_self": null,
      "border": null,
      "bottom": null,
      "display": null,
      "flex": null,
      "flex_flow": null,
      "grid_area": null,
      "grid_auto_columns": null,
      "grid_auto_flow": null,
      "grid_auto_rows": null,
      "grid_column": null,
      "grid_gap": null,
      "grid_row": null,
      "grid_template_areas": null,
      "grid_template_columns": null,
      "grid_template_rows": null,
      "height": null,
      "justify_content": null,
      "justify_items": null,
      "left": null,
      "margin": null,
      "max_height": null,
      "max_width": null,
      "min_height": null,
      "min_width": null,
      "object_fit": null,
      "object_position": null,
      "order": null,
      "overflow": null,
      "overflow_x": null,
      "overflow_y": null,
      "padding": null,
      "right": null,
      "top": null,
      "visibility": null,
      "width": null
     }
    },
    "1b6e3cebfc984b4c84c7a5cb2f6faba3": {
     "model_module": "@jupyter-widgets/controls",
     "model_name": "HBoxModel",
     "state": {
      "_dom_classes": [],
      "_model_module": "@jupyter-widgets/controls",
      "_model_module_version": "1.5.0",
      "_model_name": "HBoxModel",
      "_view_count": null,
      "_view_module": "@jupyter-widgets/controls",
      "_view_module_version": "1.5.0",
      "_view_name": "HBoxView",
      "box_style": "",
      "children": [
       "IPY_MODEL_9bfecfd728bc4cc8b481dac0b3dd98fe",
       "IPY_MODEL_b2c1550c19674528b667aa4dc432ec7f"
      ],
      "layout": "IPY_MODEL_6e943f10c2cb41ccbd87bfc3f895290e"
     }
    },
    "1f2ee98333be48058dedf32d463001f6": {
     "model_module": "@jupyter-widgets/base",
     "model_name": "LayoutModel",
     "state": {
      "_model_module": "@jupyter-widgets/base",
      "_model_module_version": "1.2.0",
      "_model_name": "LayoutModel",
      "_view_count": null,
      "_view_module": "@jupyter-widgets/base",
      "_view_module_version": "1.2.0",
      "_view_name": "LayoutView",
      "align_content": null,
      "align_items": null,
      "align_self": null,
      "border": null,
      "bottom": null,
      "display": null,
      "flex": null,
      "flex_flow": null,
      "grid_area": null,
      "grid_auto_columns": null,
      "grid_auto_flow": null,
      "grid_auto_rows": null,
      "grid_column": null,
      "grid_gap": null,
      "grid_row": null,
      "grid_template_areas": null,
      "grid_template_columns": null,
      "grid_template_rows": null,
      "height": null,
      "justify_content": null,
      "justify_items": null,
      "left": null,
      "margin": null,
      "max_height": null,
      "max_width": null,
      "min_height": null,
      "min_width": null,
      "object_fit": null,
      "object_position": null,
      "order": null,
      "overflow": null,
      "overflow_x": null,
      "overflow_y": null,
      "padding": null,
      "right": null,
      "top": null,
      "visibility": null,
      "width": null
     }
    },
    "1f62ae1121ec4471a4493f7c9b166de5": {
     "model_module": "@jupyter-widgets/base",
     "model_name": "LayoutModel",
     "state": {
      "_model_module": "@jupyter-widgets/base",
      "_model_module_version": "1.2.0",
      "_model_name": "LayoutModel",
      "_view_count": null,
      "_view_module": "@jupyter-widgets/base",
      "_view_module_version": "1.2.0",
      "_view_name": "LayoutView",
      "align_content": null,
      "align_items": null,
      "align_self": null,
      "border": null,
      "bottom": null,
      "display": null,
      "flex": null,
      "flex_flow": null,
      "grid_area": null,
      "grid_auto_columns": null,
      "grid_auto_flow": null,
      "grid_auto_rows": null,
      "grid_column": null,
      "grid_gap": null,
      "grid_row": null,
      "grid_template_areas": null,
      "grid_template_columns": null,
      "grid_template_rows": null,
      "height": null,
      "justify_content": null,
      "justify_items": null,
      "left": null,
      "margin": null,
      "max_height": null,
      "max_width": null,
      "min_height": null,
      "min_width": null,
      "object_fit": null,
      "object_position": null,
      "order": null,
      "overflow": null,
      "overflow_x": null,
      "overflow_y": null,
      "padding": null,
      "right": null,
      "top": null,
      "visibility": null,
      "width": null
     }
    },
    "1f8b543e07664cc3b51c976414a8ca01": {
     "model_module": "@jupyter-widgets/controls",
     "model_name": "HBoxModel",
     "state": {
      "_dom_classes": [],
      "_model_module": "@jupyter-widgets/controls",
      "_model_module_version": "1.5.0",
      "_model_name": "HBoxModel",
      "_view_count": null,
      "_view_module": "@jupyter-widgets/controls",
      "_view_module_version": "1.5.0",
      "_view_name": "HBoxView",
      "box_style": "",
      "children": [
       "IPY_MODEL_6b85226d0db14a0783c045d691db138b",
       "IPY_MODEL_c4687f411df04fa38109f0b6a524807d"
      ],
      "layout": "IPY_MODEL_b6051929c8624198afbac7c8c3ca17d5"
     }
    },
    "1f9f5e3a1fbf4ca0a939748efa7c275d": {
     "model_module": "@jupyter-widgets/base",
     "model_name": "LayoutModel",
     "state": {
      "_model_module": "@jupyter-widgets/base",
      "_model_module_version": "1.2.0",
      "_model_name": "LayoutModel",
      "_view_count": null,
      "_view_module": "@jupyter-widgets/base",
      "_view_module_version": "1.2.0",
      "_view_name": "LayoutView",
      "align_content": null,
      "align_items": null,
      "align_self": null,
      "border": null,
      "bottom": null,
      "display": null,
      "flex": null,
      "flex_flow": null,
      "grid_area": null,
      "grid_auto_columns": null,
      "grid_auto_flow": null,
      "grid_auto_rows": null,
      "grid_column": null,
      "grid_gap": null,
      "grid_row": null,
      "grid_template_areas": null,
      "grid_template_columns": null,
      "grid_template_rows": null,
      "height": null,
      "justify_content": null,
      "justify_items": null,
      "left": null,
      "margin": null,
      "max_height": null,
      "max_width": null,
      "min_height": null,
      "min_width": null,
      "object_fit": null,
      "object_position": null,
      "order": null,
      "overflow": null,
      "overflow_x": null,
      "overflow_y": null,
      "padding": null,
      "right": null,
      "top": null,
      "visibility": null,
      "width": null
     }
    },
    "21dc3690869e4d0eae5ee2add7d2f064": {
     "model_module": "@jupyter-widgets/base",
     "model_name": "LayoutModel",
     "state": {
      "_model_module": "@jupyter-widgets/base",
      "_model_module_version": "1.2.0",
      "_model_name": "LayoutModel",
      "_view_count": null,
      "_view_module": "@jupyter-widgets/base",
      "_view_module_version": "1.2.0",
      "_view_name": "LayoutView",
      "align_content": null,
      "align_items": null,
      "align_self": null,
      "border": null,
      "bottom": null,
      "display": null,
      "flex": null,
      "flex_flow": null,
      "grid_area": null,
      "grid_auto_columns": null,
      "grid_auto_flow": null,
      "grid_auto_rows": null,
      "grid_column": null,
      "grid_gap": null,
      "grid_row": null,
      "grid_template_areas": null,
      "grid_template_columns": null,
      "grid_template_rows": null,
      "height": null,
      "justify_content": null,
      "justify_items": null,
      "left": null,
      "margin": null,
      "max_height": null,
      "max_width": null,
      "min_height": null,
      "min_width": null,
      "object_fit": null,
      "object_position": null,
      "order": null,
      "overflow": null,
      "overflow_x": null,
      "overflow_y": null,
      "padding": null,
      "right": null,
      "top": null,
      "visibility": null,
      "width": null
     }
    },
    "2ea1af06c4eb490a894be696ee1f4a64": {
     "model_module": "@jupyter-widgets/base",
     "model_name": "LayoutModel",
     "state": {
      "_model_module": "@jupyter-widgets/base",
      "_model_module_version": "1.2.0",
      "_model_name": "LayoutModel",
      "_view_count": null,
      "_view_module": "@jupyter-widgets/base",
      "_view_module_version": "1.2.0",
      "_view_name": "LayoutView",
      "align_content": null,
      "align_items": null,
      "align_self": null,
      "border": null,
      "bottom": null,
      "display": null,
      "flex": null,
      "flex_flow": null,
      "grid_area": null,
      "grid_auto_columns": null,
      "grid_auto_flow": null,
      "grid_auto_rows": null,
      "grid_column": null,
      "grid_gap": null,
      "grid_row": null,
      "grid_template_areas": null,
      "grid_template_columns": null,
      "grid_template_rows": null,
      "height": null,
      "justify_content": null,
      "justify_items": null,
      "left": null,
      "margin": null,
      "max_height": null,
      "max_width": null,
      "min_height": null,
      "min_width": null,
      "object_fit": null,
      "object_position": null,
      "order": null,
      "overflow": null,
      "overflow_x": null,
      "overflow_y": null,
      "padding": null,
      "right": null,
      "top": null,
      "visibility": null,
      "width": null
     }
    },
    "3387154ae93e480489f8133eccc74ba7": {
     "model_module": "@jupyter-widgets/controls",
     "model_name": "HBoxModel",
     "state": {
      "_dom_classes": [],
      "_model_module": "@jupyter-widgets/controls",
      "_model_module_version": "1.5.0",
      "_model_name": "HBoxModel",
      "_view_count": null,
      "_view_module": "@jupyter-widgets/controls",
      "_view_module_version": "1.5.0",
      "_view_name": "HBoxView",
      "box_style": "",
      "children": [
       "IPY_MODEL_3768d741c907420a8f88dd0e3f2df0a1",
       "IPY_MODEL_dcfe8892f7084ead88d79e016a0f73f6"
      ],
      "layout": "IPY_MODEL_ad53e9d86be440babcb0fd62fbcd9712"
     }
    },
    "3768d741c907420a8f88dd0e3f2df0a1": {
     "model_module": "@jupyter-widgets/controls",
     "model_name": "IntProgressModel",
     "state": {
      "_dom_classes": [],
      "_model_module": "@jupyter-widgets/controls",
      "_model_module_version": "1.5.0",
      "_model_name": "IntProgressModel",
      "_view_count": null,
      "_view_module": "@jupyter-widgets/controls",
      "_view_module_version": "1.5.0",
      "_view_name": "ProgressView",
      "bar_style": "success",
      "description": "",
      "description_tooltip": null,
      "layout": "IPY_MODEL_bcf042085fa94c4d9dd0511ce5fa6c02",
      "max": 500,
      "min": 0,
      "orientation": "horizontal",
      "style": "IPY_MODEL_985d951458584d888a9abcde8051387e",
      "value": 500
     }
    },
    "3de5da14d23441d9bc3272804cf0fd3b": {
     "model_module": "@jupyter-widgets/base",
     "model_name": "LayoutModel",
     "state": {
      "_model_module": "@jupyter-widgets/base",
      "_model_module_version": "1.2.0",
      "_model_name": "LayoutModel",
      "_view_count": null,
      "_view_module": "@jupyter-widgets/base",
      "_view_module_version": "1.2.0",
      "_view_name": "LayoutView",
      "align_content": null,
      "align_items": null,
      "align_self": null,
      "border": null,
      "bottom": null,
      "display": null,
      "flex": null,
      "flex_flow": null,
      "grid_area": null,
      "grid_auto_columns": null,
      "grid_auto_flow": null,
      "grid_auto_rows": null,
      "grid_column": null,
      "grid_gap": null,
      "grid_row": null,
      "grid_template_areas": null,
      "grid_template_columns": null,
      "grid_template_rows": null,
      "height": null,
      "justify_content": null,
      "justify_items": null,
      "left": null,
      "margin": null,
      "max_height": null,
      "max_width": null,
      "min_height": null,
      "min_width": null,
      "object_fit": null,
      "object_position": null,
      "order": null,
      "overflow": null,
      "overflow_x": null,
      "overflow_y": null,
      "padding": null,
      "right": null,
      "top": null,
      "visibility": null,
      "width": null
     }
    },
    "50ccaed0b5114801bbcbadb15b30add1": {
     "model_module": "@jupyter-widgets/controls",
     "model_name": "DescriptionStyleModel",
     "state": {
      "_model_module": "@jupyter-widgets/controls",
      "_model_module_version": "1.5.0",
      "_model_name": "DescriptionStyleModel",
      "_view_count": null,
      "_view_module": "@jupyter-widgets/base",
      "_view_module_version": "1.2.0",
      "_view_name": "StyleView",
      "description_width": ""
     }
    },
    "54ac321377ea438c8044e0a6c220501c": {
     "model_module": "@jupyter-widgets/base",
     "model_name": "LayoutModel",
     "state": {
      "_model_module": "@jupyter-widgets/base",
      "_model_module_version": "1.2.0",
      "_model_name": "LayoutModel",
      "_view_count": null,
      "_view_module": "@jupyter-widgets/base",
      "_view_module_version": "1.2.0",
      "_view_name": "LayoutView",
      "align_content": null,
      "align_items": null,
      "align_self": null,
      "border": null,
      "bottom": null,
      "display": null,
      "flex": null,
      "flex_flow": null,
      "grid_area": null,
      "grid_auto_columns": null,
      "grid_auto_flow": null,
      "grid_auto_rows": null,
      "grid_column": null,
      "grid_gap": null,
      "grid_row": null,
      "grid_template_areas": null,
      "grid_template_columns": null,
      "grid_template_rows": null,
      "height": null,
      "justify_content": null,
      "justify_items": null,
      "left": null,
      "margin": null,
      "max_height": null,
      "max_width": null,
      "min_height": null,
      "min_width": null,
      "object_fit": null,
      "object_position": null,
      "order": null,
      "overflow": null,
      "overflow_x": null,
      "overflow_y": null,
      "padding": null,
      "right": null,
      "top": null,
      "visibility": null,
      "width": null
     }
    },
    "550d3574e3d049f5ba6e57dc74bda7a6": {
     "model_module": "@jupyter-widgets/base",
     "model_name": "LayoutModel",
     "state": {
      "_model_module": "@jupyter-widgets/base",
      "_model_module_version": "1.2.0",
      "_model_name": "LayoutModel",
      "_view_count": null,
      "_view_module": "@jupyter-widgets/base",
      "_view_module_version": "1.2.0",
      "_view_name": "LayoutView",
      "align_content": null,
      "align_items": null,
      "align_self": null,
      "border": null,
      "bottom": null,
      "display": null,
      "flex": null,
      "flex_flow": null,
      "grid_area": null,
      "grid_auto_columns": null,
      "grid_auto_flow": null,
      "grid_auto_rows": null,
      "grid_column": null,
      "grid_gap": null,
      "grid_row": null,
      "grid_template_areas": null,
      "grid_template_columns": null,
      "grid_template_rows": null,
      "height": null,
      "justify_content": null,
      "justify_items": null,
      "left": null,
      "margin": null,
      "max_height": null,
      "max_width": null,
      "min_height": null,
      "min_width": null,
      "object_fit": null,
      "object_position": null,
      "order": null,
      "overflow": null,
      "overflow_x": null,
      "overflow_y": null,
      "padding": null,
      "right": null,
      "top": null,
      "visibility": null,
      "width": null
     }
    },
    "56ca670a1e8a4c7b936d56b8883a39cf": {
     "model_module": "@jupyter-widgets/base",
     "model_name": "LayoutModel",
     "state": {
      "_model_module": "@jupyter-widgets/base",
      "_model_module_version": "1.2.0",
      "_model_name": "LayoutModel",
      "_view_count": null,
      "_view_module": "@jupyter-widgets/base",
      "_view_module_version": "1.2.0",
      "_view_name": "LayoutView",
      "align_content": null,
      "align_items": null,
      "align_self": null,
      "border": null,
      "bottom": null,
      "display": null,
      "flex": null,
      "flex_flow": null,
      "grid_area": null,
      "grid_auto_columns": null,
      "grid_auto_flow": null,
      "grid_auto_rows": null,
      "grid_column": null,
      "grid_gap": null,
      "grid_row": null,
      "grid_template_areas": null,
      "grid_template_columns": null,
      "grid_template_rows": null,
      "height": null,
      "justify_content": null,
      "justify_items": null,
      "left": null,
      "margin": null,
      "max_height": null,
      "max_width": null,
      "min_height": null,
      "min_width": null,
      "object_fit": null,
      "object_position": null,
      "order": null,
      "overflow": null,
      "overflow_x": null,
      "overflow_y": null,
      "padding": null,
      "right": null,
      "top": null,
      "visibility": null,
      "width": null
     }
    },
    "5b71058e25a847a1a6d539158168ebbf": {
     "model_module": "@jupyter-widgets/base",
     "model_name": "LayoutModel",
     "state": {
      "_model_module": "@jupyter-widgets/base",
      "_model_module_version": "1.2.0",
      "_model_name": "LayoutModel",
      "_view_count": null,
      "_view_module": "@jupyter-widgets/base",
      "_view_module_version": "1.2.0",
      "_view_name": "LayoutView",
      "align_content": null,
      "align_items": null,
      "align_self": null,
      "border": null,
      "bottom": null,
      "display": null,
      "flex": null,
      "flex_flow": null,
      "grid_area": null,
      "grid_auto_columns": null,
      "grid_auto_flow": null,
      "grid_auto_rows": null,
      "grid_column": null,
      "grid_gap": null,
      "grid_row": null,
      "grid_template_areas": null,
      "grid_template_columns": null,
      "grid_template_rows": null,
      "height": null,
      "justify_content": null,
      "justify_items": null,
      "left": null,
      "margin": null,
      "max_height": null,
      "max_width": null,
      "min_height": null,
      "min_width": null,
      "object_fit": null,
      "object_position": null,
      "order": null,
      "overflow": null,
      "overflow_x": null,
      "overflow_y": null,
      "padding": null,
      "right": null,
      "top": null,
      "visibility": null,
      "width": null
     }
    },
    "63506ff975fb45399ef1b39965cd31b8": {
     "model_module": "@jupyter-widgets/controls",
     "model_name": "HBoxModel",
     "state": {
      "_dom_classes": [],
      "_model_module": "@jupyter-widgets/controls",
      "_model_module_version": "1.5.0",
      "_model_name": "HBoxModel",
      "_view_count": null,
      "_view_module": "@jupyter-widgets/controls",
      "_view_module_version": "1.5.0",
      "_view_name": "HBoxView",
      "box_style": "",
      "children": [
       "IPY_MODEL_f99ea03008254fe5bbd3795c312101f7",
       "IPY_MODEL_b4d4b9818bca4842821dde03d3d277f0"
      ],
      "layout": "IPY_MODEL_1f62ae1121ec4471a4493f7c9b166de5"
     }
    },
    "64368a2649dc468d85ee8cc99c2f9a62": {
     "model_module": "@jupyter-widgets/controls",
     "model_name": "DescriptionStyleModel",
     "state": {
      "_model_module": "@jupyter-widgets/controls",
      "_model_module_version": "1.5.0",
      "_model_name": "DescriptionStyleModel",
      "_view_count": null,
      "_view_module": "@jupyter-widgets/base",
      "_view_module_version": "1.2.0",
      "_view_name": "StyleView",
      "description_width": ""
     }
    },
    "67fdc1fee84549d8bdfaef205f358418": {
     "model_module": "@jupyter-widgets/controls",
     "model_name": "HTMLModel",
     "state": {
      "_dom_classes": [],
      "_model_module": "@jupyter-widgets/controls",
      "_model_module_version": "1.5.0",
      "_model_name": "HTMLModel",
      "_view_count": null,
      "_view_module": "@jupyter-widgets/controls",
      "_view_module_version": "1.5.0",
      "_view_name": "HTMLView",
      "description": "",
      "description_tooltip": null,
      "layout": "IPY_MODEL_e4518abc33c141f5af309d53f40191a3",
      "placeholder": "​",
      "style": "IPY_MODEL_806005dd1ddc40f78e6585c5234ecefe",
      "value": "3750it [09:47,  6.31it/s]"
     }
    },
    "69d6573c96a94e39b2ecb9f6de334fc4": {
     "model_module": "@jupyter-widgets/controls",
     "model_name": "HBoxModel",
     "state": {
      "_dom_classes": [],
      "_model_module": "@jupyter-widgets/controls",
      "_model_module_version": "1.5.0",
      "_model_name": "HBoxModel",
      "_view_count": null,
      "_view_module": "@jupyter-widgets/controls",
      "_view_module_version": "1.5.0",
      "_view_name": "HBoxView",
      "box_style": "",
      "children": [
       "IPY_MODEL_c324334e10e04fe98a07b5603e929d70",
       "IPY_MODEL_9d12dcfa6adf4adda86a3888a3afad8d"
      ],
      "layout": "IPY_MODEL_2ea1af06c4eb490a894be696ee1f4a64"
     }
    },
    "6b6ee20c938b425ba221d2dc3e2fb19d": {
     "model_module": "@jupyter-widgets/controls",
     "model_name": "ProgressStyleModel",
     "state": {
      "_model_module": "@jupyter-widgets/controls",
      "_model_module_version": "1.5.0",
      "_model_name": "ProgressStyleModel",
      "_view_count": null,
      "_view_module": "@jupyter-widgets/base",
      "_view_module_version": "1.2.0",
      "_view_name": "StyleView",
      "bar_color": null,
      "description_width": ""
     }
    },
    "6b85226d0db14a0783c045d691db138b": {
     "model_module": "@jupyter-widgets/controls",
     "model_name": "IntProgressModel",
     "state": {
      "_dom_classes": [],
      "_model_module": "@jupyter-widgets/controls",
      "_model_module_version": "1.5.0",
      "_model_name": "IntProgressModel",
      "_view_count": null,
      "_view_module": "@jupyter-widgets/controls",
      "_view_module_version": "1.5.0",
      "_view_name": "ProgressView",
      "bar_style": "success",
      "description": "",
      "description_tooltip": null,
      "layout": "IPY_MODEL_f862366ffcf8423d98380103b565bca6",
      "max": 3750,
      "min": 0,
      "orientation": "horizontal",
      "style": "IPY_MODEL_eaa1bfd4ebdc40599a1fa9208de5238c",
      "value": 3750
     }
    },
    "6e943f10c2cb41ccbd87bfc3f895290e": {
     "model_module": "@jupyter-widgets/base",
     "model_name": "LayoutModel",
     "state": {
      "_model_module": "@jupyter-widgets/base",
      "_model_module_version": "1.2.0",
      "_model_name": "LayoutModel",
      "_view_count": null,
      "_view_module": "@jupyter-widgets/base",
      "_view_module_version": "1.2.0",
      "_view_name": "LayoutView",
      "align_content": null,
      "align_items": null,
      "align_self": null,
      "border": null,
      "bottom": null,
      "display": null,
      "flex": null,
      "flex_flow": null,
      "grid_area": null,
      "grid_auto_columns": null,
      "grid_auto_flow": null,
      "grid_auto_rows": null,
      "grid_column": null,
      "grid_gap": null,
      "grid_row": null,
      "grid_template_areas": null,
      "grid_template_columns": null,
      "grid_template_rows": null,
      "height": null,
      "justify_content": null,
      "justify_items": null,
      "left": null,
      "margin": null,
      "max_height": null,
      "max_width": null,
      "min_height": null,
      "min_width": null,
      "object_fit": null,
      "object_position": null,
      "order": null,
      "overflow": null,
      "overflow_x": null,
      "overflow_y": null,
      "padding": null,
      "right": null,
      "top": null,
      "visibility": null,
      "width": null
     }
    },
    "7b05b15c2b8546ebbae032fb4c20174d": {
     "model_module": "@jupyter-widgets/controls",
     "model_name": "ProgressStyleModel",
     "state": {
      "_model_module": "@jupyter-widgets/controls",
      "_model_module_version": "1.5.0",
      "_model_name": "ProgressStyleModel",
      "_view_count": null,
      "_view_module": "@jupyter-widgets/base",
      "_view_module_version": "1.2.0",
      "_view_name": "StyleView",
      "bar_color": null,
      "description_width": ""
     }
    },
    "806005dd1ddc40f78e6585c5234ecefe": {
     "model_module": "@jupyter-widgets/controls",
     "model_name": "DescriptionStyleModel",
     "state": {
      "_model_module": "@jupyter-widgets/controls",
      "_model_module_version": "1.5.0",
      "_model_name": "DescriptionStyleModel",
      "_view_count": null,
      "_view_module": "@jupyter-widgets/base",
      "_view_module_version": "1.2.0",
      "_view_name": "StyleView",
      "description_width": ""
     }
    },
    "806bf28470f343a5b54b90585f1bc9d9": {
     "model_module": "@jupyter-widgets/controls",
     "model_name": "ProgressStyleModel",
     "state": {
      "_model_module": "@jupyter-widgets/controls",
      "_model_module_version": "1.5.0",
      "_model_name": "ProgressStyleModel",
      "_view_count": null,
      "_view_module": "@jupyter-widgets/base",
      "_view_module_version": "1.2.0",
      "_view_name": "StyleView",
      "bar_color": null,
      "description_width": ""
     }
    },
    "8106529b3b184e4f89f17cc67f20ad31": {
     "model_module": "@jupyter-widgets/base",
     "model_name": "LayoutModel",
     "state": {
      "_model_module": "@jupyter-widgets/base",
      "_model_module_version": "1.2.0",
      "_model_name": "LayoutModel",
      "_view_count": null,
      "_view_module": "@jupyter-widgets/base",
      "_view_module_version": "1.2.0",
      "_view_name": "LayoutView",
      "align_content": null,
      "align_items": null,
      "align_self": null,
      "border": null,
      "bottom": null,
      "display": null,
      "flex": null,
      "flex_flow": null,
      "grid_area": null,
      "grid_auto_columns": null,
      "grid_auto_flow": null,
      "grid_auto_rows": null,
      "grid_column": null,
      "grid_gap": null,
      "grid_row": null,
      "grid_template_areas": null,
      "grid_template_columns": null,
      "grid_template_rows": null,
      "height": null,
      "justify_content": null,
      "justify_items": null,
      "left": null,
      "margin": null,
      "max_height": null,
      "max_width": null,
      "min_height": null,
      "min_width": null,
      "object_fit": null,
      "object_position": null,
      "order": null,
      "overflow": null,
      "overflow_x": null,
      "overflow_y": null,
      "padding": null,
      "right": null,
      "top": null,
      "visibility": null,
      "width": null
     }
    },
    "824c662647dd4290af179cf2f26278ca": {
     "model_module": "@jupyter-widgets/controls",
     "model_name": "IntProgressModel",
     "state": {
      "_dom_classes": [],
      "_model_module": "@jupyter-widgets/controls",
      "_model_module_version": "1.5.0",
      "_model_name": "IntProgressModel",
      "_view_count": null,
      "_view_module": "@jupyter-widgets/controls",
      "_view_module_version": "1.5.0",
      "_view_name": "ProgressView",
      "bar_style": "success",
      "description": "",
      "description_tooltip": null,
      "layout": "IPY_MODEL_0189cae09b454a5ba147324f792395b4",
      "max": 2500,
      "min": 0,
      "orientation": "horizontal",
      "style": "IPY_MODEL_bf8586cf1a9848069356df2cf823fa22",
      "value": 2500
     }
    },
    "939329662387418583253de21b065c3e": {
     "model_module": "@jupyter-widgets/controls",
     "model_name": "IntProgressModel",
     "state": {
      "_dom_classes": [],
      "_model_module": "@jupyter-widgets/controls",
      "_model_module_version": "1.5.0",
      "_model_name": "IntProgressModel",
      "_view_count": null,
      "_view_module": "@jupyter-widgets/controls",
      "_view_module_version": "1.5.0",
      "_view_name": "ProgressView",
      "bar_style": "success",
      "description": "",
      "description_tooltip": null,
      "layout": "IPY_MODEL_550d3574e3d049f5ba6e57dc74bda7a6",
      "max": 2500,
      "min": 0,
      "orientation": "horizontal",
      "style": "IPY_MODEL_7b05b15c2b8546ebbae032fb4c20174d",
      "value": 2500
     }
    },
    "985d951458584d888a9abcde8051387e": {
     "model_module": "@jupyter-widgets/controls",
     "model_name": "ProgressStyleModel",
     "state": {
      "_model_module": "@jupyter-widgets/controls",
      "_model_module_version": "1.5.0",
      "_model_name": "ProgressStyleModel",
      "_view_count": null,
      "_view_module": "@jupyter-widgets/base",
      "_view_module_version": "1.2.0",
      "_view_name": "StyleView",
      "bar_color": null,
      "description_width": ""
     }
    },
    "9bfecfd728bc4cc8b481dac0b3dd98fe": {
     "model_module": "@jupyter-widgets/controls",
     "model_name": "IntProgressModel",
     "state": {
      "_dom_classes": [],
      "_model_module": "@jupyter-widgets/controls",
      "_model_module_version": "1.5.0",
      "_model_name": "IntProgressModel",
      "_view_count": null,
      "_view_module": "@jupyter-widgets/controls",
      "_view_module_version": "1.5.0",
      "_view_name": "ProgressView",
      "bar_style": "success",
      "description": "",
      "description_tooltip": null,
      "layout": "IPY_MODEL_21dc3690869e4d0eae5ee2add7d2f064",
      "max": 1,
      "min": 0,
      "orientation": "horizontal",
      "style": "IPY_MODEL_a37aef3921b947258d7eb3726a2edb26",
      "value": 1
     }
    },
    "9d12dcfa6adf4adda86a3888a3afad8d": {
     "model_module": "@jupyter-widgets/controls",
     "model_name": "HTMLModel",
     "state": {
      "_dom_classes": [],
      "_model_module": "@jupyter-widgets/controls",
      "_model_module_version": "1.5.0",
      "_model_name": "HTMLModel",
      "_view_count": null,
      "_view_module": "@jupyter-widgets/controls",
      "_view_module_version": "1.5.0",
      "_view_name": "HTMLView",
      "description": "",
      "description_tooltip": null,
      "layout": "IPY_MODEL_cb902e57bf7b42c6ae0e8eeaa8d95b27",
      "placeholder": "​",
      "style": "IPY_MODEL_b5958a8629d34f10a7f191b768437d6e",
      "value": "100% 2500/2500 [01:37&lt;00:00, 25.47it/s]"
     }
    },
    "9d91a018c9b340e0818cc46c44424aed": {
     "model_module": "@jupyter-widgets/base",
     "model_name": "LayoutModel",
     "state": {
      "_model_module": "@jupyter-widgets/base",
      "_model_module_version": "1.2.0",
      "_model_name": "LayoutModel",
      "_view_count": null,
      "_view_module": "@jupyter-widgets/base",
      "_view_module_version": "1.2.0",
      "_view_name": "LayoutView",
      "align_content": null,
      "align_items": null,
      "align_self": null,
      "border": null,
      "bottom": null,
      "display": null,
      "flex": null,
      "flex_flow": null,
      "grid_area": null,
      "grid_auto_columns": null,
      "grid_auto_flow": null,
      "grid_auto_rows": null,
      "grid_column": null,
      "grid_gap": null,
      "grid_row": null,
      "grid_template_areas": null,
      "grid_template_columns": null,
      "grid_template_rows": null,
      "height": null,
      "justify_content": null,
      "justify_items": null,
      "left": null,
      "margin": null,
      "max_height": null,
      "max_width": null,
      "min_height": null,
      "min_width": null,
      "object_fit": null,
      "object_position": null,
      "order": null,
      "overflow": null,
      "overflow_x": null,
      "overflow_y": null,
      "padding": null,
      "right": null,
      "top": null,
      "visibility": null,
      "width": null
     }
    },
    "9e916600aa9b409ca40fa3d4782acb22": {
     "model_module": "@jupyter-widgets/controls",
     "model_name": "DescriptionStyleModel",
     "state": {
      "_model_module": "@jupyter-widgets/controls",
      "_model_module_version": "1.5.0",
      "_model_name": "DescriptionStyleModel",
      "_view_count": null,
      "_view_module": "@jupyter-widgets/base",
      "_view_module_version": "1.2.0",
      "_view_name": "StyleView",
      "description_width": ""
     }
    },
    "a075752f1cec4963b809ce7e50f62e15": {
     "model_module": "@jupyter-widgets/controls",
     "model_name": "HTMLModel",
     "state": {
      "_dom_classes": [],
      "_model_module": "@jupyter-widgets/controls",
      "_model_module_version": "1.5.0",
      "_model_name": "HTMLModel",
      "_view_count": null,
      "_view_module": "@jupyter-widgets/controls",
      "_view_module_version": "1.5.0",
      "_view_name": "HTMLView",
      "description": "",
      "description_tooltip": null,
      "layout": "IPY_MODEL_04ca9171a6194096994931889ee29ac6",
      "placeholder": "​",
      "style": "IPY_MODEL_9e916600aa9b409ca40fa3d4782acb22",
      "value": "100% 2500/2500 [01:37&lt;00:00, 25.61it/s]"
     }
    },
    "a37aef3921b947258d7eb3726a2edb26": {
     "model_module": "@jupyter-widgets/controls",
     "model_name": "ProgressStyleModel",
     "state": {
      "_model_module": "@jupyter-widgets/controls",
      "_model_module_version": "1.5.0",
      "_model_name": "ProgressStyleModel",
      "_view_count": null,
      "_view_module": "@jupyter-widgets/base",
      "_view_module_version": "1.2.0",
      "_view_name": "StyleView",
      "bar_color": null,
      "description_width": ""
     }
    },
    "a3b8ab7631a943a1907ab6f9c4bc43a6": {
     "model_module": "@jupyter-widgets/base",
     "model_name": "LayoutModel",
     "state": {
      "_model_module": "@jupyter-widgets/base",
      "_model_module_version": "1.2.0",
      "_model_name": "LayoutModel",
      "_view_count": null,
      "_view_module": "@jupyter-widgets/base",
      "_view_module_version": "1.2.0",
      "_view_name": "LayoutView",
      "align_content": null,
      "align_items": null,
      "align_self": null,
      "border": null,
      "bottom": null,
      "display": null,
      "flex": null,
      "flex_flow": null,
      "grid_area": null,
      "grid_auto_columns": null,
      "grid_auto_flow": null,
      "grid_auto_rows": null,
      "grid_column": null,
      "grid_gap": null,
      "grid_row": null,
      "grid_template_areas": null,
      "grid_template_columns": null,
      "grid_template_rows": null,
      "height": null,
      "justify_content": null,
      "justify_items": null,
      "left": null,
      "margin": null,
      "max_height": null,
      "max_width": null,
      "min_height": null,
      "min_width": null,
      "object_fit": null,
      "object_position": null,
      "order": null,
      "overflow": null,
      "overflow_x": null,
      "overflow_y": null,
      "padding": null,
      "right": null,
      "top": null,
      "visibility": null,
      "width": null
     }
    },
    "acdc2e3eb859419fb25bbc4387398d05": {
     "model_module": "@jupyter-widgets/controls",
     "model_name": "HBoxModel",
     "state": {
      "_dom_classes": [],
      "_model_module": "@jupyter-widgets/controls",
      "_model_module_version": "1.5.0",
      "_model_name": "HBoxModel",
      "_view_count": null,
      "_view_module": "@jupyter-widgets/controls",
      "_view_module_version": "1.5.0",
      "_view_name": "HBoxView",
      "box_style": "",
      "children": [
       "IPY_MODEL_824c662647dd4290af179cf2f26278ca",
       "IPY_MODEL_c5727cf908464501a100dce8e7bf5788"
      ],
      "layout": "IPY_MODEL_d706c96bec084d3b992b8b9830a4cb80"
     }
    },
    "ad53e9d86be440babcb0fd62fbcd9712": {
     "model_module": "@jupyter-widgets/base",
     "model_name": "LayoutModel",
     "state": {
      "_model_module": "@jupyter-widgets/base",
      "_model_module_version": "1.2.0",
      "_model_name": "LayoutModel",
      "_view_count": null,
      "_view_module": "@jupyter-widgets/base",
      "_view_module_version": "1.2.0",
      "_view_name": "LayoutView",
      "align_content": null,
      "align_items": null,
      "align_self": null,
      "border": null,
      "bottom": null,
      "display": null,
      "flex": null,
      "flex_flow": null,
      "grid_area": null,
      "grid_auto_columns": null,
      "grid_auto_flow": null,
      "grid_auto_rows": null,
      "grid_column": null,
      "grid_gap": null,
      "grid_row": null,
      "grid_template_areas": null,
      "grid_template_columns": null,
      "grid_template_rows": null,
      "height": null,
      "justify_content": null,
      "justify_items": null,
      "left": null,
      "margin": null,
      "max_height": null,
      "max_width": null,
      "min_height": null,
      "min_width": null,
      "object_fit": null,
      "object_position": null,
      "order": null,
      "overflow": null,
      "overflow_x": null,
      "overflow_y": null,
      "padding": null,
      "right": null,
      "top": null,
      "visibility": null,
      "width": null
     }
    },
    "b1e84a4ed445495da425c52939ee681c": {
     "model_module": "@jupyter-widgets/controls",
     "model_name": "HBoxModel",
     "state": {
      "_dom_classes": [],
      "_model_module": "@jupyter-widgets/controls",
      "_model_module_version": "1.5.0",
      "_model_name": "HBoxModel",
      "_view_count": null,
      "_view_module": "@jupyter-widgets/controls",
      "_view_module_version": "1.5.0",
      "_view_name": "HBoxView",
      "box_style": "",
      "children": [
       "IPY_MODEL_f958098522d94524963d8756f237d281",
       "IPY_MODEL_67fdc1fee84549d8bdfaef205f358418"
      ],
      "layout": "IPY_MODEL_3de5da14d23441d9bc3272804cf0fd3b"
     }
    },
    "b2c1550c19674528b667aa4dc432ec7f": {
     "model_module": "@jupyter-widgets/controls",
     "model_name": "HTMLModel",
     "state": {
      "_dom_classes": [],
      "_model_module": "@jupyter-widgets/controls",
      "_model_module_version": "1.5.0",
      "_model_name": "HTMLModel",
      "_view_count": null,
      "_view_module": "@jupyter-widgets/controls",
      "_view_module_version": "1.5.0",
      "_view_name": "HTMLView",
      "description": "",
      "description_tooltip": null,
      "layout": "IPY_MODEL_1f2ee98333be48058dedf32d463001f6",
      "placeholder": "​",
      "style": "IPY_MODEL_64368a2649dc468d85ee8cc99c2f9a62",
      "value": "3750it [09:46,  6.33it/s]"
     }
    },
    "b4d4b9818bca4842821dde03d3d277f0": {
     "model_module": "@jupyter-widgets/controls",
     "model_name": "HTMLModel",
     "state": {
      "_dom_classes": [],
      "_model_module": "@jupyter-widgets/controls",
      "_model_module_version": "1.5.0",
      "_model_name": "HTMLModel",
      "_view_count": null,
      "_view_module": "@jupyter-widgets/controls",
      "_view_module_version": "1.5.0",
      "_view_name": "HTMLView",
      "description": "",
      "description_tooltip": null,
      "layout": "IPY_MODEL_a3b8ab7631a943a1907ab6f9c4bc43a6",
      "placeholder": "​",
      "style": "IPY_MODEL_030f64defe864f229581ffcb53b42bd1",
      "value": "100% 2/2 [22:49&lt;00:00, 684.57s/it]"
     }
    },
    "b5958a8629d34f10a7f191b768437d6e": {
     "model_module": "@jupyter-widgets/controls",
     "model_name": "DescriptionStyleModel",
     "state": {
      "_model_module": "@jupyter-widgets/controls",
      "_model_module_version": "1.5.0",
      "_model_name": "DescriptionStyleModel",
      "_view_count": null,
      "_view_module": "@jupyter-widgets/base",
      "_view_module_version": "1.2.0",
      "_view_name": "StyleView",
      "description_width": ""
     }
    },
    "b6051929c8624198afbac7c8c3ca17d5": {
     "model_module": "@jupyter-widgets/base",
     "model_name": "LayoutModel",
     "state": {
      "_model_module": "@jupyter-widgets/base",
      "_model_module_version": "1.2.0",
      "_model_name": "LayoutModel",
      "_view_count": null,
      "_view_module": "@jupyter-widgets/base",
      "_view_module_version": "1.2.0",
      "_view_name": "LayoutView",
      "align_content": null,
      "align_items": null,
      "align_self": null,
      "border": null,
      "bottom": null,
      "display": null,
      "flex": null,
      "flex_flow": null,
      "grid_area": null,
      "grid_auto_columns": null,
      "grid_auto_flow": null,
      "grid_auto_rows": null,
      "grid_column": null,
      "grid_gap": null,
      "grid_row": null,
      "grid_template_areas": null,
      "grid_template_columns": null,
      "grid_template_rows": null,
      "height": null,
      "justify_content": null,
      "justify_items": null,
      "left": null,
      "margin": null,
      "max_height": null,
      "max_width": null,
      "min_height": null,
      "min_width": null,
      "object_fit": null,
      "object_position": null,
      "order": null,
      "overflow": null,
      "overflow_x": null,
      "overflow_y": null,
      "padding": null,
      "right": null,
      "top": null,
      "visibility": null,
      "width": null
     }
    },
    "bcf042085fa94c4d9dd0511ce5fa6c02": {
     "model_module": "@jupyter-widgets/base",
     "model_name": "LayoutModel",
     "state": {
      "_model_module": "@jupyter-widgets/base",
      "_model_module_version": "1.2.0",
      "_model_name": "LayoutModel",
      "_view_count": null,
      "_view_module": "@jupyter-widgets/base",
      "_view_module_version": "1.2.0",
      "_view_name": "LayoutView",
      "align_content": null,
      "align_items": null,
      "align_self": null,
      "border": null,
      "bottom": null,
      "display": null,
      "flex": null,
      "flex_flow": null,
      "grid_area": null,
      "grid_auto_columns": null,
      "grid_auto_flow": null,
      "grid_auto_rows": null,
      "grid_column": null,
      "grid_gap": null,
      "grid_row": null,
      "grid_template_areas": null,
      "grid_template_columns": null,
      "grid_template_rows": null,
      "height": null,
      "justify_content": null,
      "justify_items": null,
      "left": null,
      "margin": null,
      "max_height": null,
      "max_width": null,
      "min_height": null,
      "min_width": null,
      "object_fit": null,
      "object_position": null,
      "order": null,
      "overflow": null,
      "overflow_x": null,
      "overflow_y": null,
      "padding": null,
      "right": null,
      "top": null,
      "visibility": null,
      "width": null
     }
    },
    "bf8586cf1a9848069356df2cf823fa22": {
     "model_module": "@jupyter-widgets/controls",
     "model_name": "ProgressStyleModel",
     "state": {
      "_model_module": "@jupyter-widgets/controls",
      "_model_module_version": "1.5.0",
      "_model_name": "ProgressStyleModel",
      "_view_count": null,
      "_view_module": "@jupyter-widgets/base",
      "_view_module_version": "1.2.0",
      "_view_name": "StyleView",
      "bar_color": null,
      "description_width": ""
     }
    },
    "c17b510798844013a3a0bcc28c80839e": {
     "model_module": "@jupyter-widgets/controls",
     "model_name": "DescriptionStyleModel",
     "state": {
      "_model_module": "@jupyter-widgets/controls",
      "_model_module_version": "1.5.0",
      "_model_name": "DescriptionStyleModel",
      "_view_count": null,
      "_view_module": "@jupyter-widgets/base",
      "_view_module_version": "1.2.0",
      "_view_name": "StyleView",
      "description_width": ""
     }
    },
    "c324334e10e04fe98a07b5603e929d70": {
     "model_module": "@jupyter-widgets/controls",
     "model_name": "IntProgressModel",
     "state": {
      "_dom_classes": [],
      "_model_module": "@jupyter-widgets/controls",
      "_model_module_version": "1.5.0",
      "_model_name": "IntProgressModel",
      "_view_count": null,
      "_view_module": "@jupyter-widgets/controls",
      "_view_module_version": "1.5.0",
      "_view_name": "ProgressView",
      "bar_style": "success",
      "description": "",
      "description_tooltip": null,
      "layout": "IPY_MODEL_9d91a018c9b340e0818cc46c44424aed",
      "max": 2500,
      "min": 0,
      "orientation": "horizontal",
      "style": "IPY_MODEL_806bf28470f343a5b54b90585f1bc9d9",
      "value": 2500
     }
    },
    "c4687f411df04fa38109f0b6a524807d": {
     "model_module": "@jupyter-widgets/controls",
     "model_name": "HTMLModel",
     "state": {
      "_dom_classes": [],
      "_model_module": "@jupyter-widgets/controls",
      "_model_module_version": "1.5.0",
      "_model_name": "HTMLModel",
      "_view_count": null,
      "_view_module": "@jupyter-widgets/controls",
      "_view_module_version": "1.5.0",
      "_view_name": "HTMLView",
      "description": "",
      "description_tooltip": null,
      "layout": "IPY_MODEL_1f9f5e3a1fbf4ca0a939748efa7c275d",
      "placeholder": "​",
      "style": "IPY_MODEL_c17b510798844013a3a0bcc28c80839e",
      "value": "100% 3750/3750 [02:25&lt;00:00, 25.69it/s]"
     }
    },
    "c5727cf908464501a100dce8e7bf5788": {
     "model_module": "@jupyter-widgets/controls",
     "model_name": "HTMLModel",
     "state": {
      "_dom_classes": [],
      "_model_module": "@jupyter-widgets/controls",
      "_model_module_version": "1.5.0",
      "_model_name": "HTMLModel",
      "_view_count": null,
      "_view_module": "@jupyter-widgets/controls",
      "_view_module_version": "1.5.0",
      "_view_name": "HTMLView",
      "description": "",
      "description_tooltip": null,
      "layout": "IPY_MODEL_8106529b3b184e4f89f17cc67f20ad31",
      "placeholder": "​",
      "style": "IPY_MODEL_e31bc0b0cfbf4c99b9f378d3688ec94c",
      "value": "100% 2500/2500 [01:37&lt;00:00, 25.50it/s]"
     }
    },
    "c97e8b9659804fbf90544c9d0f02789a": {
     "model_module": "@jupyter-widgets/base",
     "model_name": "LayoutModel",
     "state": {
      "_model_module": "@jupyter-widgets/base",
      "_model_module_version": "1.2.0",
      "_model_name": "LayoutModel",
      "_view_count": null,
      "_view_module": "@jupyter-widgets/base",
      "_view_module_version": "1.2.0",
      "_view_name": "LayoutView",
      "align_content": null,
      "align_items": null,
      "align_self": null,
      "border": null,
      "bottom": null,
      "display": null,
      "flex": null,
      "flex_flow": null,
      "grid_area": null,
      "grid_auto_columns": null,
      "grid_auto_flow": null,
      "grid_auto_rows": null,
      "grid_column": null,
      "grid_gap": null,
      "grid_row": null,
      "grid_template_areas": null,
      "grid_template_columns": null,
      "grid_template_rows": null,
      "height": null,
      "justify_content": null,
      "justify_items": null,
      "left": null,
      "margin": null,
      "max_height": null,
      "max_width": null,
      "min_height": null,
      "min_width": null,
      "object_fit": null,
      "object_position": null,
      "order": null,
      "overflow": null,
      "overflow_x": null,
      "overflow_y": null,
      "padding": null,
      "right": null,
      "top": null,
      "visibility": null,
      "width": null
     }
    },
    "cb902e57bf7b42c6ae0e8eeaa8d95b27": {
     "model_module": "@jupyter-widgets/base",
     "model_name": "LayoutModel",
     "state": {
      "_model_module": "@jupyter-widgets/base",
      "_model_module_version": "1.2.0",
      "_model_name": "LayoutModel",
      "_view_count": null,
      "_view_module": "@jupyter-widgets/base",
      "_view_module_version": "1.2.0",
      "_view_name": "LayoutView",
      "align_content": null,
      "align_items": null,
      "align_self": null,
      "border": null,
      "bottom": null,
      "display": null,
      "flex": null,
      "flex_flow": null,
      "grid_area": null,
      "grid_auto_columns": null,
      "grid_auto_flow": null,
      "grid_auto_rows": null,
      "grid_column": null,
      "grid_gap": null,
      "grid_row": null,
      "grid_template_areas": null,
      "grid_template_columns": null,
      "grid_template_rows": null,
      "height": null,
      "justify_content": null,
      "justify_items": null,
      "left": null,
      "margin": null,
      "max_height": null,
      "max_width": null,
      "min_height": null,
      "min_width": null,
      "object_fit": null,
      "object_position": null,
      "order": null,
      "overflow": null,
      "overflow_x": null,
      "overflow_y": null,
      "padding": null,
      "right": null,
      "top": null,
      "visibility": null,
      "width": null
     }
    },
    "d706c96bec084d3b992b8b9830a4cb80": {
     "model_module": "@jupyter-widgets/base",
     "model_name": "LayoutModel",
     "state": {
      "_model_module": "@jupyter-widgets/base",
      "_model_module_version": "1.2.0",
      "_model_name": "LayoutModel",
      "_view_count": null,
      "_view_module": "@jupyter-widgets/base",
      "_view_module_version": "1.2.0",
      "_view_name": "LayoutView",
      "align_content": null,
      "align_items": null,
      "align_self": null,
      "border": null,
      "bottom": null,
      "display": null,
      "flex": null,
      "flex_flow": null,
      "grid_area": null,
      "grid_auto_columns": null,
      "grid_auto_flow": null,
      "grid_auto_rows": null,
      "grid_column": null,
      "grid_gap": null,
      "grid_row": null,
      "grid_template_areas": null,
      "grid_template_columns": null,
      "grid_template_rows": null,
      "height": null,
      "justify_content": null,
      "justify_items": null,
      "left": null,
      "margin": null,
      "max_height": null,
      "max_width": null,
      "min_height": null,
      "min_width": null,
      "object_fit": null,
      "object_position": null,
      "order": null,
      "overflow": null,
      "overflow_x": null,
      "overflow_y": null,
      "padding": null,
      "right": null,
      "top": null,
      "visibility": null,
      "width": null
     }
    },
    "d827521c863c457482cb0a16fc35ddd5": {
     "model_module": "@jupyter-widgets/controls",
     "model_name": "ProgressStyleModel",
     "state": {
      "_model_module": "@jupyter-widgets/controls",
      "_model_module_version": "1.5.0",
      "_model_name": "ProgressStyleModel",
      "_view_count": null,
      "_view_module": "@jupyter-widgets/base",
      "_view_module_version": "1.2.0",
      "_view_name": "StyleView",
      "bar_color": null,
      "description_width": ""
     }
    },
    "dcfe8892f7084ead88d79e016a0f73f6": {
     "model_module": "@jupyter-widgets/controls",
     "model_name": "HTMLModel",
     "state": {
      "_dom_classes": [],
      "_model_module": "@jupyter-widgets/controls",
      "_model_module_version": "1.5.0",
      "_model_name": "HTMLModel",
      "_view_count": null,
      "_view_module": "@jupyter-widgets/controls",
      "_view_module_version": "1.5.0",
      "_view_name": "HTMLView",
      "description": "",
      "description_tooltip": null,
      "layout": "IPY_MODEL_56ca670a1e8a4c7b936d56b8883a39cf",
      "placeholder": "​",
      "style": "IPY_MODEL_50ccaed0b5114801bbcbadb15b30add1",
      "value": "100% 500/500 [00:10&lt;00:00, 43.76it/s]"
     }
    },
    "e31bc0b0cfbf4c99b9f378d3688ec94c": {
     "model_module": "@jupyter-widgets/controls",
     "model_name": "DescriptionStyleModel",
     "state": {
      "_model_module": "@jupyter-widgets/controls",
      "_model_module_version": "1.5.0",
      "_model_name": "DescriptionStyleModel",
      "_view_count": null,
      "_view_module": "@jupyter-widgets/base",
      "_view_module_version": "1.2.0",
      "_view_name": "StyleView",
      "description_width": ""
     }
    },
    "e4518abc33c141f5af309d53f40191a3": {
     "model_module": "@jupyter-widgets/base",
     "model_name": "LayoutModel",
     "state": {
      "_model_module": "@jupyter-widgets/base",
      "_model_module_version": "1.2.0",
      "_model_name": "LayoutModel",
      "_view_count": null,
      "_view_module": "@jupyter-widgets/base",
      "_view_module_version": "1.2.0",
      "_view_name": "LayoutView",
      "align_content": null,
      "align_items": null,
      "align_self": null,
      "border": null,
      "bottom": null,
      "display": null,
      "flex": null,
      "flex_flow": null,
      "grid_area": null,
      "grid_auto_columns": null,
      "grid_auto_flow": null,
      "grid_auto_rows": null,
      "grid_column": null,
      "grid_gap": null,
      "grid_row": null,
      "grid_template_areas": null,
      "grid_template_columns": null,
      "grid_template_rows": null,
      "height": null,
      "justify_content": null,
      "justify_items": null,
      "left": null,
      "margin": null,
      "max_height": null,
      "max_width": null,
      "min_height": null,
      "min_width": null,
      "object_fit": null,
      "object_position": null,
      "order": null,
      "overflow": null,
      "overflow_x": null,
      "overflow_y": null,
      "padding": null,
      "right": null,
      "top": null,
      "visibility": null,
      "width": null
     }
    },
    "eaa1bfd4ebdc40599a1fa9208de5238c": {
     "model_module": "@jupyter-widgets/controls",
     "model_name": "ProgressStyleModel",
     "state": {
      "_model_module": "@jupyter-widgets/controls",
      "_model_module_version": "1.5.0",
      "_model_name": "ProgressStyleModel",
      "_view_count": null,
      "_view_module": "@jupyter-widgets/base",
      "_view_module_version": "1.2.0",
      "_view_name": "StyleView",
      "bar_color": null,
      "description_width": ""
     }
    },
    "f862366ffcf8423d98380103b565bca6": {
     "model_module": "@jupyter-widgets/base",
     "model_name": "LayoutModel",
     "state": {
      "_model_module": "@jupyter-widgets/base",
      "_model_module_version": "1.2.0",
      "_model_name": "LayoutModel",
      "_view_count": null,
      "_view_module": "@jupyter-widgets/base",
      "_view_module_version": "1.2.0",
      "_view_name": "LayoutView",
      "align_content": null,
      "align_items": null,
      "align_self": null,
      "border": null,
      "bottom": null,
      "display": null,
      "flex": null,
      "flex_flow": null,
      "grid_area": null,
      "grid_auto_columns": null,
      "grid_auto_flow": null,
      "grid_auto_rows": null,
      "grid_column": null,
      "grid_gap": null,
      "grid_row": null,
      "grid_template_areas": null,
      "grid_template_columns": null,
      "grid_template_rows": null,
      "height": null,
      "justify_content": null,
      "justify_items": null,
      "left": null,
      "margin": null,
      "max_height": null,
      "max_width": null,
      "min_height": null,
      "min_width": null,
      "object_fit": null,
      "object_position": null,
      "order": null,
      "overflow": null,
      "overflow_x": null,
      "overflow_y": null,
      "padding": null,
      "right": null,
      "top": null,
      "visibility": null,
      "width": null
     }
    },
    "f958098522d94524963d8756f237d281": {
     "model_module": "@jupyter-widgets/controls",
     "model_name": "IntProgressModel",
     "state": {
      "_dom_classes": [],
      "_model_module": "@jupyter-widgets/controls",
      "_model_module_version": "1.5.0",
      "_model_name": "IntProgressModel",
      "_view_count": null,
      "_view_module": "@jupyter-widgets/controls",
      "_view_module_version": "1.5.0",
      "_view_name": "ProgressView",
      "bar_style": "success",
      "description": "",
      "description_tooltip": null,
      "layout": "IPY_MODEL_c97e8b9659804fbf90544c9d0f02789a",
      "max": 1,
      "min": 0,
      "orientation": "horizontal",
      "style": "IPY_MODEL_6b6ee20c938b425ba221d2dc3e2fb19d",
      "value": 1
     }
    },
    "f99ea03008254fe5bbd3795c312101f7": {
     "model_module": "@jupyter-widgets/controls",
     "model_name": "IntProgressModel",
     "state": {
      "_dom_classes": [],
      "_model_module": "@jupyter-widgets/controls",
      "_model_module_version": "1.5.0",
      "_model_name": "IntProgressModel",
      "_view_count": null,
      "_view_module": "@jupyter-widgets/controls",
      "_view_module_version": "1.5.0",
      "_view_name": "ProgressView",
      "bar_style": "success",
      "description": "",
      "description_tooltip": null,
      "layout": "IPY_MODEL_54ac321377ea438c8044e0a6c220501c",
      "max": 2,
      "min": 0,
      "orientation": "horizontal",
      "style": "IPY_MODEL_d827521c863c457482cb0a16fc35ddd5",
      "value": 2
     }
    },
    "fd046b0ba2a44bafa6bd36eb96e957c1": {
     "model_module": "@jupyter-widgets/controls",
     "model_name": "HBoxModel",
     "state": {
      "_dom_classes": [],
      "_model_module": "@jupyter-widgets/controls",
      "_model_module_version": "1.5.0",
      "_model_name": "HBoxModel",
      "_view_count": null,
      "_view_module": "@jupyter-widgets/controls",
      "_view_module_version": "1.5.0",
      "_view_name": "HBoxView",
      "box_style": "",
      "children": [
       "IPY_MODEL_939329662387418583253de21b065c3e",
       "IPY_MODEL_a075752f1cec4963b809ce7e50f62e15"
      ],
      "layout": "IPY_MODEL_5b71058e25a847a1a6d539158168ebbf"
     }
    }
   }
  }
 },
 "nbformat": 4,
 "nbformat_minor": 1
}
