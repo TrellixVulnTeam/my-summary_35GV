{
 "cells": [
  {
   "cell_type": "markdown",
   "metadata": {
    "colab_type": "text",
    "id": "N7E7ieB_-bqh"
   },
   "source": [
    "# Assignment 4. Sentiment analysis using recurrent neural networks"
   ]
  },
  {
   "cell_type": "markdown",
   "metadata": {
    "colab_type": "text",
    "id": "GOwmMvQN-bqi"
   },
   "source": [
    "Full instructions on completion of this assignment can be found in Canvas. "
   ]
  },
  {
   "cell_type": "markdown",
   "metadata": {
    "colab_type": "text",
    "id": "nrMvCnk8-bqj"
   },
   "source": [
    "## 1. Theoretical part\n",
    "\n",
    "\n",
    "### 1.1 Vanishing gradient problem\n",
    "\n",
    "What is the vanishing / exploiding gradient problem in Elman recurrent neural networks? Write down update equations for Elman RNN and explain what is causing the vanishing / exploiding gradient issue."
   ]
  },
  {
   "cell_type": "markdown",
   "metadata": {
    "colab_type": "text",
    "id": "f2olnMU9gdza"
   },
   "source": [
    " - Gradients **vanish** (*explode*) exponentially across time steps when the recurrent connection is **<1** (*>1*)\n",
    " - Problem is connected to the fact that it is always the same connection weight. And on every step we multiply this matrix by itself => \n",
    " - In the same way a product of n real numbers can **shrink to zero ( vanishing  gradient)** or *explode to infinity (exploiding gradient)*, so does this product of matrices\n",
    "\n",
    " Simple recurrent networds (Elman quations)\n",
    " $$h_{t}=\\sigma_{h}\\left(W_{h} x_{t}+U_{h} h_{t-1}+b_{h}\\right) \\\\\n",
    "y_{t}=\\sigma_{y}\\left(W_{y} h_{t}+b_{y}\\right)$$\n",
    "\n",
    "let use one more notation for understanding:\n",
    "$$\n",
    "L=\\sum_{t} L_{t}(y_{t}), \\hat{x_{t}}=W_{h} x_{t}+U_{h} h_{t-1}+b_{h} \\text { and } \\varepsilon_{t}(\\hat{x_{t}})=L_{t}(\\sigma_{y}(W_{y} \\sigma_{h}(\\hat{x_{t}})+b_{y})) \\to L=\\sum_{t} L_{t}(y_{t}) = \\sum_{t} \\varepsilon_{t}(\\hat{x_{t}})\n",
    "$$\n",
    "\n",
    "\n",
    "let's consider gradients: [material](http://proceedings.mlr.press/v28/pascanu13.pdf)\n",
    "$$\n",
    "\\begin{array}{c}\n",
    "{\\frac{\\partial \\mathcal{E}}{\\partial \\theta}=\\sum_{1 \\leq t \\leq T} \\frac{\\partial \\mathcal{E}_{t}}{\\partial \\theta}} \\\\\n",
    "{\\frac{\\partial \\mathcal{E}_{t}}{\\partial \\theta}=\\sum_{1 \\leq k \\leq t}\\left(\\frac{\\partial \\mathcal{E}_{t}}{\\partial \\hat{x_{t}}} \\frac{\\partial \\hat{x_{t}}}{\\partial \\hat{x_{t}}} \\frac{\\partial^{+} \\hat{x_{t}}}{\\partial \\theta}\\right)}\n",
    "\\end{array}\n",
    "$$\n",
    "\n",
    "The next equation transport the error “in time“ from step t back to step k.\n",
    "$$\n",
    "\\frac{\\partial \\hat{x}_{t}}{\\partial \\hat{x}_{k}}=\\prod_{t \\geq i>k} \\frac{\\partial \\hat{x}_{i}}{\\partial \\hat{x}_{i-1}}=\\prod_{t \\geq i>k} \\mathbf{U}_{h}^{T} \\operatorname{diag}\\left(\\sigma_{h}^{\\prime}\\left(\\hat{x}_{i-1}\\right)\\right)\n",
    "$$\n",
    "\n",
    "this result for nonlinear functions $\\sigma$ where $|\\sigma^{\\prime}(\\hat{x})$| is bounded: $|\\operatorname{diag}\\left(\\sigma^{\\prime}\\left(\\mathbf{x}_{k}\\right)\\right)| \\leq \\gamma$\n",
    "\n",
    "it is sufficient for $\\lambda_1<\\frac{1}{γ}$ , where $\\lambda_1$ is the largest singular value of $U_{h}$, for the vanishing gradient problem to occur.\n",
    "\n",
    "Proof:\n",
    "$$\n",
    "\\forall k,\\left\\|\\frac{\\partial \\hat{x}_{k+1}}{\\partial \\hat{x}_{k}}\\right\\| \\leq\\left\\|\\mathbf{U}_{h}^{T}\\right\\|\\left\\|\\operatorname{diag}\\left(\\sigma^{\\prime}\\left(\\hat{x}_{k}\\right)\\right)\\right\\|<\\frac{1}{\\gamma} \\gamma<1 \\to\n",
    "\\left\\|\\frac{\\partial \\hat{x}_{k+1}}{\\partial \\hat{x}_{k}}\\right\\| \\leq \\mu < 1\n",
    "$$\n",
    "\n",
    "$$\n",
    "\\Rightarrow\\left\\|\\frac{\\partial \\varepsilon_{t}}{\\partial \\theta} \\frac{\\partial \\hat{x}_{t}}{\\partial \\hat{x}_{k}}\\right\\|=\\left\\|\\frac{\\partial \\varepsilon_{t}}{\\partial \\hat{x}_{t}} \\prod_{t \\geq i>k} \\frac{\\partial \\hat{x}_{i}}{\\partial \\hat{x}_{i-1}}\\right\\| \\leq\\left\\|\\frac{\\partial \\varepsilon_{t}}{\\partial \\hat{x}_{t}}\\right\\| \\mu^{t-k}\n",
    "$$\n",
    "Consequently, $t-k \\to \\infty$ and  $it \\to 0$"
   ]
  },
  {
   "cell_type": "markdown",
   "metadata": {
    "colab_type": "text",
    "id": "Ld-3AdQ0-bqn"
   },
   "source": [
    "How does LSTM help prevent the vanishing (and exploding) gradient problem in a recurrent neural network? Write down the equations of LSTM and explain how technically this schema is better than the Elman recurrent neural networks."
   ]
  },
  {
   "cell_type": "markdown",
   "metadata": {
    "colab_type": "text",
    "id": "hP6RiHdGHxi8"
   },
   "source": [
    "In theory, classic (or \"vanilla\") RNNs can keep track of arbitrary long-term dependencies in the input sequences. The problem of vanilla RNNs is computational (or practical) in nature: when training a vanilla RNN using back-propagation, the gradients which are back-propagated can \"vanish\" (that is they can tend to zero) or \"explode\" (that is, they can tend to infinity), because of the computations involved in the process, which use finite-precision numbers. RNNs using LSTM units partially solve the vanishing gradient problem, because LSTM units allow gradients to also flow unchanged. However, LSTM networks can still suffer from the exploding gradient problem. \n",
    "[material](https://en.wikipedia.org/wiki/Long_short-term_memory)"
   ]
  },
  {
   "cell_type": "markdown",
   "metadata": {
    "colab_type": "text",
    "id": "m_72oVuYIH7E"
   },
   "source": [
    "$$\n",
    "\\begin{array}{l}\n",
    "{f_{t}=\\sigma_{g}\\left(W_{f} x_{t}+U_{f} h_{t-1}+b_{f}\\right)} \\\\\n",
    "{i_{t}=\\sigma_{g}\\left(W_{i} x_{t}+U_{i} h_{t-1}+b_{i}\\right)} \\\\\n",
    "{o_{t}=\\sigma_{g}\\left(W_{o} x_{t}+U_{o} h_{t-1}+b_{o}\\right)} \\\\\n",
    "{c_{t}=f_{t} \\circ c_{t-1}+i_{t} \\circ \\sigma_{c}\\left(W_{c} x_{t}+U_{c} h_{t-1}+b_{c}\\right)} \\\\\n",
    "{h_{t}=o_{t} \\circ \\sigma_{h}\\left(c_{t}\\right)}\n",
    "\\end{array}\n",
    "$$\n",
    "where \n",
    "- $x_{t}$: input vector to the LSTM unit\n",
    "- $f_{t}$: forget gate's activation vector\n",
    "- $i_{t}$: input/update gate's activation vector\n",
    "- $o_{t}$: output gate's activation vector\n",
    "- $h_{t}$: hidden state vector also known as output vector of the LSTM unit\n",
    "- $c_{t}$: cell state vector\n",
    "- $W \\in R^{hxd}$, $U \\in R^{hxh}$and $b \\in R^{h}$: weight matrices and bias vector parameters which need to be learned during training\n",
    "\n",
    "$\\sigma _{g}$: sigmoid function.\n",
    "$\\sigma _{c}$ and $\\sigma _{h}$: hyperbolic tangent function.\n",
    "\n",
    "“**long short-term memory**”: standard NNs have\n",
    "- long-term memory in the weights\n",
    "- short-term memory in the activations\n",
    "- LSTM mixes both notions\n",
    "\n",
    "\n",
    "- **Gate**: pointwise multiplication regulates how much is passed through,\n",
    "based on inputs\n",
    "- Internal state serves as a memory\n",
    "- Recurrent connection of weight 1: error can flow across time steps\n",
    "without vanishing or exploding\n",
    "\n",
    "The LSTM architecture makes it easier for the RNN to preserve information over many timesteps\n",
    "- e.g. if the forget gate is set to remember everything on every timestep, then the info in the cell is preserved indefinitely \n",
    "- By contrast, it's harder for vanilla RNN to learn a recurrent weight matrix $\\mathrm{W}_{\\mathrm{h}}$ that preserves info in hidden state\n",
    "\n",
    "- LSTM doesn't guarantee that there is no vanishing/exploding gradient, but it does provide an easier way for the model to learn long-distance dependencies\n"
   ]
  },
  {
   "cell_type": "markdown",
   "metadata": {
    "colab_type": "text",
    "id": "WGjkM_j7-bqq"
   },
   "source": [
    "## 2. Practical part"
   ]
  },
  {
   "cell_type": "markdown",
   "metadata": {
    "colab_type": "text",
    "id": "vg955DLp-bqr"
   },
   "source": [
    "### 2.1 Use LSTM and word embeddings for text classification "
   ]
  },
  {
   "cell_type": "markdown",
   "metadata": {
    "colab_type": "text",
    "id": "4_f3uflo-bqs"
   },
   "source": [
    "Implement a text classifier based on Bi-LSTM network. Use hidden state(s) to represent an input text document."
   ]
  },
  {
   "cell_type": "markdown",
   "metadata": {
    "colab_type": "text",
    "id": "pWjkpCbb-bqs"
   },
   "source": [
    "If you use ``torch`` use the ``torch.nn.Embedding`` to load pre-trained word embeddings. Use the [GloVe](http://nlp.stanford.edu/data/wordvecs/glove.6B.zip) embeddings in the input layer of your network."
   ]
  },
  {
   "cell_type": "code",
   "execution_count": 0,
   "metadata": {
    "colab": {
     "base_uri": "https://localhost:8080/",
     "height": 173
    },
    "colab_type": "code",
    "executionInfo": {
     "elapsed": 25169,
     "status": "ok",
     "timestamp": 1577034954555,
     "user": {
      "displayName": "Andrei Vlasov",
      "photoUrl": "",
      "userId": "13337223921435011437"
     },
     "user_tz": -180
    },
    "id": "cABKr1n0-fUE",
    "outputId": "885bbccc-db55-4de3-bd7c-fcf5a6aedc8e"
   },
   "outputs": [
    {
     "name": "stdout",
     "output_type": "stream",
     "text": [
      "Go to this URL in a browser: https://accounts.google.com/o/oauth2/auth?client_id=947318989803-6bn6qk8qdgf4n4g3pfee6491hc0brc4i.apps.googleusercontent.com&redirect_uri=urn%3aietf%3awg%3aoauth%3a2.0%3aoob&response_type=code&scope=email%20https%3a%2f%2fwww.googleapis.com%2fauth%2fdocs.test%20https%3a%2f%2fwww.googleapis.com%2fauth%2fdrive%20https%3a%2f%2fwww.googleapis.com%2fauth%2fdrive.photos.readonly%20https%3a%2f%2fwww.googleapis.com%2fauth%2fpeopleapi.readonly\n",
      "\n",
      "Enter your authorization code:\n",
      "··········\n",
      "Mounted at /content/gdrive\n",
      "/content/gdrive/My Drive/Colab Notebooks\n",
      "/content/gdrive/My Drive/NLP\n",
      "/content/gdrive/My Drive/NLP/SkolTech/hw4\n"
     ]
    }
   ],
   "source": [
    "from google.colab import drive\n",
    "drive.mount('/content/gdrive')\n",
    "%matplotlib inline\n",
    "%cd /content/gdrive/My Drive/Colab Notebooks\n",
    "# %mkdir DL_project\n",
    "# %mkdir dataset\n",
    "\n",
    "%cd /content/gdrive/My Drive/NLP\n",
    "%cd SkolTech/hw4"
   ]
  },
  {
   "cell_type": "code",
   "execution_count": 0,
   "metadata": {
    "colab": {},
    "colab_type": "code",
    "id": "eCNWVXTW-fdZ"
   },
   "outputs": [],
   "source": [
    "import pandas as pd\n",
    "import numpy as np \n",
    "import re\n",
    "from tqdm import tqdm_notebook\n",
    "import string\n",
    "from scipy.sparse import csr_matrix, hstack, issparse, coo_matrix\n",
    "from IPython.display import clear_output\n",
    "import matplotlib.pyplot as plt\n",
    "import time"
   ]
  },
  {
   "cell_type": "code",
   "execution_count": 0,
   "metadata": {
    "colab": {},
    "colab_type": "code",
    "id": "y7DVUJNL-fg_"
   },
   "outputs": [],
   "source": [
    "def read_data(path):\n",
    "    data_path = '../FILIMDB/'\n",
    "    data_path += path\n",
    "    data= []\n",
    "    with open(data_path) as file:\n",
    "        for line in file:\n",
    "            data.append(line.strip())\n",
    "    return data"
   ]
  },
  {
   "cell_type": "code",
   "execution_count": 0,
   "metadata": {
    "colab": {},
    "colab_type": "code",
    "id": "9aTz7GrZBCE5"
   },
   "outputs": [],
   "source": [
    "train_texts, test_texts, dev_texts = read_data('train.texts'),read_data('test.texts'),read_data('dev.texts')\n",
    "dev_b_texts, test_b_texts = read_data('dev-b.texts'),read_data('test-b.texts')\n",
    "train_labels , dev_labels, dev_b_labels =  read_data('train.labels'), read_data('dev.labels'), read_data('dev-b.labels')\n"
   ]
  },
  {
   "cell_type": "code",
   "execution_count": 0,
   "metadata": {
    "colab": {},
    "colab_type": "code",
    "id": "1pPMTlXKBDnT"
   },
   "outputs": [],
   "source": [
    "stopwords_eng = set([\"them\", \"she\", \"wasn\", \"wasn't\", \"having\", \"ll\", \"hadn\", \"nor\", \"why\", \"these\", \"she's\", \"both\", \"you're\", \"an\", \"between\", \"myself\", \"because\", \"being\", \"ve\", \"while\", \"over\", \"whom\", \"isn\", \"shouldn\", \"wouldn't\", \"been\", \"d\", \"themselves\", \"does\", \"most\", \"below\", \"his\", \"you'll\", \"further\", \"there\", \"was\", \"ain\", \"doesn't\", \"each\", \"couldn\", \"which\", \"that'll\", \"down\", \"won't\", \"than\", \"y\", \"should've\", \"have\", \"until\", \"their\", \"through\", \"ma\", \"before\", \"is\", \"yours\", \"so\", \"up\", \"hasn\", \"doesn\", \"him\", \"very\", \"if\", \"mustn\", \"or\", \"it's\", \"too\", \"re\", \"mustn't\", \"as\", \"now\", \"isn't\", \"mightn't\", \"those\", \"other\", \"above\", \"who\", \"do\", \"the\", \"wouldn\", \"some\", \"this\", \"for\", \"don\", \"me\", \"any\", \"what\", \"theirs\", \"weren't\", \"mightn\", \"aren\", \"ours\", \"your\", \"didn't\", \"shan\", \"shouldn't\", \"off\", \"has\", \"just\", \"himself\", \"herself\", \"m\", \"we\", \"by\", \"aren't\", \"yourselves\", \"again\", \"after\", \"you've\", \"you\", \"how\", \"such\", \"can\", \"o\", \"were\", \"not\", \"they\", \"out\", \"few\", \"with\", \"i\", \"be\", \"haven't\", \"are\", \"s\", \"hadn't\", \"had\", \"our\", \"don't\", \"in\", \"needn't\", \"but\", \"during\", \"weren\", \"it\", \"will\", \"a\", \"did\", \"of\", \"shan't\", \"ourselves\", \"and\", \"no\", \"doing\", \"yourself\", \"at\", \"then\", \"you'd\", \"he\", \"once\", \"about\", \"where\", \"more\", \"only\", \"into\", \"same\", \"my\", \"hers\", \"t\", \"when\", \"its\", \"own\", \"here\", \"all\", \"won\", \"needn\", \"under\", \"br\", \"that\", \"couldn't\", \"from\", \"against\", \"itself\", \"am\", \"should\", \"her\", \"on\", \"to\", \"didn\", \"haven\", \"hasn't\",\"i\", \"me\", \"my\", \"myself\", \"we\", \"our\", \"ours\", \"ourselves\", \"you\", \"you're\", \"you've\", \"you'll\", \"you'd\", \"your\", \"yours\", \"yourself\", \"yourselves\", \"he\", \"him\", \"his\", \"himself\", \"she\", \"she's\", \"her\", \"hers\", \"herself\", \"it\", \"it's\", \"its\", \"itself\", \"they\", \"them\", \"their\", \"theirs\", \"themselves\", \"what\", \"which\", \"who\", \"whom\", \"this\", \"that\", \"that'll\", \"these\", \"those\", \"am\", \"is\", \"are\", \"was\", \"were\", \"be\", \"been\", \"being\", \"have\", \"has\", \"had\", \"having\", \"do\", \"does\", \"did\", \"doing\", \"a\", \"an\", \"the\", \"and\", \"but\", \"if\", \"or\", \"because\", \"as\", \"until\", \"while\", \"of\", \"at\", \"by\", \"for\", \"with\", \"about\", \"against\", \"between\", \"into\", \"through\", \"during\", \"before\", \"after\", \"above\", \"below\", \"to\", \"from\", \"up\", \"down\", \"in\", \"out\", \"on\", \"off\", \"over\", \"under\", \"again\", \"further\", \"then\", \"once\", \"here\", \"there\", \"when\", \"where\", \"why\", \"how\", \"all\", \"any\", \"both\", \"each\", \"few\", \"more\", \"most\", \"other\", \"some\", \"such\", \"no\", \"nor\", \"not\", \"only\", \"own\", \"same\", \"so\", \"than\", \"too\", \"very\", \"s\", \"t\", \"can\", \"will\", \"just\", \"don\", \"don't\", \"should\", \"should've\", \"now\", \"d\", \"ll\", \"m\", \"o\", \"re\", \"ve\", \"y\", \"ain\", \"aren\", \"aren't\", \"couldn\", \"couldn't\", \"didn\", \"didn't\", \"doesn\", \"doesn't\", \"hadn\", \"hadn't\", \"hasn\", \"hasn't\", \"haven\", \"haven't\", \"isn\", \"isn't\", \"ma\", \"mightn\", \"mightn't\", \"mustn\", \"mustn't\", \"needn\", \"needn't\", \"shan\", \"shan't\", \"shouldn\", \"shouldn't\", \"wasn\", \"wasn't\", \"weren\", \"weren't\", \"won\", \"won't\", \"wouldn\", \"wouldn't\", \"br\"])\n",
    "def preprocess(text,stop_words=False,punctuation=False, lower=True):\n",
    "    \"\"\"\n",
    "    Preprocess the data\n",
    "    \n",
    "    stop_words: flag to remove stopwords\n",
    "    punctuation: flag to remove punctuation\n",
    "    \"\"\"\n",
    "    new_text = []\n",
    "    for num,value in enumerate(text):\n",
    "        if lower:\n",
    "            value = value.lower()\n",
    "        \n",
    "        for char in set(string.punctuation):\n",
    "            value = value.replace(char,\" \"+char+\" \")\n",
    "\n",
    "        if stop_words:\n",
    "            pp = \" \".join([word for word in value.split() if word not in stopwords_eng])\n",
    "            if punctuation:\n",
    "                punctn = string.punctuation+'…–—‘“‚„«»'\n",
    "                pp = pp.translate(str.maketrans('', '',punctn ))\n",
    "                new_text.append(\" \".join(pp.split()))\n",
    "            else:\n",
    "                new_text.append(pp)\n",
    "        else:\n",
    "            new_text.append(\" \".join(value.split())) # remove multiple spaces\n",
    "             \n",
    "        \n",
    "    return new_text"
   ]
  },
  {
   "cell_type": "code",
   "execution_count": 0,
   "metadata": {
    "colab": {},
    "colab_type": "code",
    "id": "4liFbN69BGXo"
   },
   "outputs": [],
   "source": [
    "def ngrams(words, gram_range):\n",
    "    pp = []\n",
    "    for igram in range(gram_range[0],gram_range[1]+1):\n",
    "        for i in range(len(words)-igram+1):\n",
    "            pp.append(\" \".join(words[i:i+igram]))\n",
    "            \n",
    "    return pp"
   ]
  },
  {
   "cell_type": "code",
   "execution_count": 0,
   "metadata": {
    "colab": {},
    "colab_type": "code",
    "id": "Frrk1wQUBJiq"
   },
   "outputs": [],
   "source": [
    "def tokenization_gram(text,gram_range = (1,1)):\n",
    "    \n",
    "    return [ngrams(line.split(),gram_range=gram_range) for line in text]"
   ]
  },
  {
   "cell_type": "code",
   "execution_count": 0,
   "metadata": {
    "colab": {},
    "colab_type": "code",
    "id": "fqPTEpafBK_M"
   },
   "outputs": [],
   "source": [
    "train_texts = preprocess(train_texts, punctuation=True)\n",
    "test_texts = preprocess(test_texts, punctuation=True)\n",
    "dev_texts = preprocess(dev_texts, punctuation=True)\n",
    "\n",
    "dev_b_texts = preprocess(dev_b_texts, punctuation=True)\n",
    "test_b_texts = preprocess(test_b_texts, punctuation=True)\n",
    "\n",
    "train_texts_tok_all = tokenization_gram(train_texts,gram_range = (1,1))\n",
    "dev_texts_tok_all = tokenization_gram(dev_texts,gram_range = (1,1))\n",
    "dev_b_texts_tok_all = tokenization_gram(dev_b_texts,gram_range = (1,1))\n",
    "\n",
    "test_texts_tok_all = tokenization_gram(test_texts,gram_range = (1,1))\n",
    "test_b_texts_tok_all = tokenization_gram(test_b_texts,gram_range = (1,1))"
   ]
  },
  {
   "cell_type": "code",
   "execution_count": 0,
   "metadata": {
    "colab": {},
    "colab_type": "code",
    "id": "xi4eCY6JBLG9"
   },
   "outputs": [],
   "source": [
    "train_texts = preprocess(train_texts, stop_words=True,punctuation=True)\n",
    "test_texts = preprocess(test_texts, stop_words=True,punctuation=True)\n",
    "dev_texts = preprocess(dev_texts, stop_words=True,punctuation=True)\n",
    "\n",
    "dev_b_texts = preprocess(dev_b_texts, stop_words=True,punctuation=True)\n",
    "test_b_texts = preprocess(test_b_texts, stop_words=True,punctuation=True)\n",
    "\n",
    "train_texts_tok = tokenization_gram(train_texts,gram_range = (1,1))\n",
    "dev_texts_tok = tokenization_gram(dev_texts,gram_range = (1,1))\n",
    "dev_b_texts_tok = tokenization_gram(dev_b_texts,gram_range = (1,1))\n",
    "\n",
    "test_texts_tok = tokenization_gram(test_texts,gram_range = (1,1))\n",
    "test_b_texts_tok = tokenization_gram(test_b_texts,gram_range = (1,1))"
   ]
  },
  {
   "cell_type": "code",
   "execution_count": 0,
   "metadata": {
    "colab": {},
    "colab_type": "code",
    "id": "BRFhSPPEBLJz"
   },
   "outputs": [],
   "source": [
    "y_train = np.array([1 if label == 'pos' else 0 for label in train_labels ])\n",
    "y_dev = np.array([1 if label == 'pos' else 0 for label in dev_labels ])\n",
    "y_dev_b = np.array([1 if label == 'pos' else 0 for label in dev_b_labels ])"
   ]
  },
  {
   "cell_type": "code",
   "execution_count": 0,
   "metadata": {
    "colab": {},
    "colab_type": "code",
    "id": "2cTRc2yXBLMV"
   },
   "outputs": [],
   "source": [
    "from sklearn.preprocessing import OneHotEncoder\n",
    "\n",
    "encoder = OneHotEncoder(categories=[range(2)], sparse=False)\n",
    "y_enc_train = encoder.fit_transform(y_train.reshape(-1, 1))\n",
    "y_enc_dev = encoder.fit_transform(y_dev.reshape(-1, 1))\n",
    "y_enc_dev_b = encoder.fit_transform(y_dev_b.reshape(-1, 1))"
   ]
  },
  {
   "cell_type": "code",
   "execution_count": 0,
   "metadata": {
    "colab": {},
    "colab_type": "code",
    "id": "fqMmoDNjBLRf"
   },
   "outputs": [],
   "source": [
    "def make_vocab_ngram(text, mode='ber',gram_range=(1,1), min_cnt=0):\n",
    "    vocab = dict()\n",
    "    \n",
    "    if mode == 'ber':    \n",
    "        for line in text:\n",
    "            for word in set(ngrams(line,gram_range)):     \n",
    "                if word not in vocab:\n",
    "                    vocab[word] = 1\n",
    "                else:\n",
    "                    vocab[word] +=1\n",
    "    else:\n",
    "        for line in text:\n",
    "            for word in ngrams(line,gram_range):     \n",
    "                if word not in vocab:\n",
    "                    vocab[word] = 1\n",
    "                else:\n",
    "                    vocab[word] +=1\n",
    "                    \n",
    "    if min_cnt:\n",
    "        new_dict = dict()\n",
    "        for key,val in vocab.items():\n",
    "            if val > min_cnt:\n",
    "                new_dict[key] = val\n",
    "        vocab = new_dict\n",
    "    return vocab"
   ]
  },
  {
   "cell_type": "code",
   "execution_count": 0,
   "metadata": {
    "colab": {},
    "colab_type": "code",
    "id": "BZCi_whWDMmL"
   },
   "outputs": [],
   "source": [
    "dict_train = make_vocab_ngram(train_texts_tok,mode='any')\n",
    "dict_train_all = make_vocab_ngram(train_texts_tok_all,mode='any')"
   ]
  },
  {
   "cell_type": "code",
   "execution_count": 0,
   "metadata": {
    "colab": {},
    "colab_type": "code",
    "id": "QB4VJfHVD08v"
   },
   "outputs": [],
   "source": [
    "vocab_train = set(dict_train.keys())\n",
    "vocab_train_all = set(dict_train_all.keys())"
   ]
  },
  {
   "cell_type": "markdown",
   "metadata": {
    "colab_type": "text",
    "id": "ANsFcajuDxmy"
   },
   "source": [
    "Here we load the embeddings and transform the vocabulary so that it includes only words that occur in the data and for which embeddings exist:"
   ]
  },
  {
   "cell_type": "code",
   "execution_count": 0,
   "metadata": {
    "colab": {},
    "colab_type": "code",
    "id": "B2tXJypVDlh1"
   },
   "outputs": [],
   "source": [
    "# load the embeddings\n",
    "def load_embeddings(emb_path, vocab):\n",
    "    clf_embeddings = {}\n",
    "    emb_vocab = set()\n",
    "    for line in open(emb_path):\n",
    "        line = line.strip('\\n').split()\n",
    "        word, emb = line[0], line[1:]\n",
    "        emb = [float(e) for e in emb]\n",
    "        if word in vocab:\n",
    "            clf_embeddings[word] = emb\n",
    "    for w in vocab:\n",
    "        if w in clf_embeddings:\n",
    "            emb_vocab.add(w)\n",
    "    word2idx = {w: idx for (idx, w) in enumerate(emb_vocab)}\n",
    "    max_val = max(word2idx.values())\n",
    "    \n",
    "    word2idx['UNK'] = max_val + 1\n",
    "    word2idx['EOS'] = max_val + 2\n",
    "    emb_dim = len(list(clf_embeddings.values())[0])\n",
    "    clf_embeddings['UNK'] = [0.0 for i in range(emb_dim)]\n",
    "    clf_embeddings['EOS'] = [0.0 for i in range(emb_dim)]\n",
    "    \n",
    "    embeddings = [[] for i in range(len(word2idx))]\n",
    "    for w in word2idx:\n",
    "        embeddings[word2idx[w]] = clf_embeddings[w]\n",
    "    embeddings = torch.Tensor(embeddings)\n",
    "    return embeddings, word2idx"
   ]
  },
  {
   "cell_type": "code",
   "execution_count": 0,
   "metadata": {
    "colab": {},
    "colab_type": "code",
    "id": "9bWXpUGQElz4"
   },
   "outputs": [],
   "source": [
    "from torchtext.vocab import Vectors\n",
    "import torch\n",
    "import torch.nn as nn\n",
    "import torch.nn.functional as F\n",
    "import torch.optim as optim\n",
    "\n",
    "import matplotlib.pyplot as plt\n",
    "%matplotlib inline"
   ]
  },
  {
   "cell_type": "code",
   "execution_count": 0,
   "metadata": {
    "colab": {},
    "colab_type": "code",
    "id": "yzDIVc52EKum"
   },
   "outputs": [],
   "source": [
    "embeddings, vocab_train = load_embeddings('glove.6B.300d.txt', vocab_train)\n",
    "embeddings_all, vocab_train_all = load_embeddings('glove.6B.300d.txt', vocab_train_all)"
   ]
  },
  {
   "cell_type": "markdown",
   "metadata": {
    "colab_type": "text",
    "id": "Tl7RLx6_EytP"
   },
   "source": [
    "Let us check the lengths of sentences in the dataset:"
   ]
  },
  {
   "cell_type": "code",
   "execution_count": 0,
   "metadata": {
    "colab": {
     "base_uri": "https://localhost:8080/",
     "height": 296
    },
    "colab_type": "code",
    "executionInfo": {
     "elapsed": 70972,
     "status": "ok",
     "timestamp": 1577035057059,
     "user": {
      "displayName": "Andrei Vlasov",
      "photoUrl": "",
      "userId": "13337223921435011437"
     },
     "user_tz": -180
    },
    "id": "nlLCexfEEhPS",
    "outputId": "32481574-c894-475c-cdb5-5bb567642cd7"
   },
   "outputs": [
    {
     "name": "stdout",
     "output_type": "stream",
     "text": [
      "Average Train text length:  122.3508\n"
     ]
    },
    {
     "data": {
      "image/png": "[encoded data removed]",
      "text/plain": [
       "<Figure size 432x288 with 1 Axes>"
      ]
     },
     "metadata": {
      "tags": []
     },
     "output_type": "display_data"
    }
   ],
   "source": [
    "txt_lengths = [len(t) for t in train_texts_tok] \n",
    "print('Average Train text length: ', np.average(txt_lengths))\n",
    "p = plt.hist(txt_lengths, bins=30)\n",
    "l = plt.xlabel('# words per text')\n",
    "l = plt.ylabel('# texts')"
   ]
  },
  {
   "cell_type": "markdown",
   "metadata": {
    "colab_type": "text",
    "id": "Vnl3-tvjFlxe"
   },
   "source": [
    "We need to transform a list of lines of different lengths to a matrix which can be used as an input to a neural network.\n",
    "\n",
    "We pad the shorter lines with EOS symbol to match the length of the longest line in a batch:"
   ]
  },
  {
   "cell_type": "code",
   "execution_count": 0,
   "metadata": {
    "colab": {},
    "colab_type": "code",
    "id": "BLsootSSFb7h"
   },
   "outputs": [],
   "source": [
    "def to_matrix(lines, vocab, max_len=None, dtype='int32'):\n",
    "    \"\"\"Casts a list of lines into a matrix\"\"\"\n",
    "    pad = vocab['EOS']\n",
    "    max_len = max_len or max(map(len, lines))\n",
    "    lines_ix = np.zeros([len(lines), max_len], dtype) + pad\n",
    "    for i in range(len(lines)):\n",
    "        line_ix = [vocab.get(l, vocab['UNK']) for l in lines[i]]\n",
    "        lines_ix[i, :len(line_ix)] = line_ix\n",
    "    lines_ix = torch.LongTensor(lines_ix)\n",
    "    return lines_ix"
   ]
  },
  {
   "cell_type": "code",
   "execution_count": 0,
   "metadata": {
    "colab": {
     "base_uri": "https://localhost:8080/",
     "height": 85
    },
    "colab_type": "code",
    "executionInfo": {
     "elapsed": 70965,
     "status": "ok",
     "timestamp": 1577035057062,
     "user": {
      "displayName": "Andrei Vlasov",
      "photoUrl": "",
      "userId": "13337223921435011437"
     },
     "user_tz": -180
    },
    "id": "S3LGqyg7FcBB",
    "outputId": "3661c670-3cce-4871-c7e3-1d14775c1fbb"
   },
   "outputs": [
    {
     "name": "stdout",
     "output_type": "stream",
     "text": [
      "tensor([[43970, 52262, 52262],\n",
      "        [43970, 32754, 52262],\n",
      "        [ 4785,  7374, 25853],\n",
      "        [52261, 52261, 52262]])\n"
     ]
    }
   ],
   "source": [
    "dummy_lines = [\n",
    "    ['one'],\n",
    "    ['one', 'two'],\n",
    "    ['the', 'long', 'line'],\n",
    "    ['unkn0wn', 'w0rds']\n",
    "]\n",
    "print(to_matrix(dummy_lines, vocab_train_all))"
   ]
  },
  {
   "cell_type": "code",
   "execution_count": 57,
   "metadata": {
    "colab": {
     "base_uri": "https://localhost:8080/",
     "height": 85
    },
    "colab_type": "code",
    "executionInfo": {
     "elapsed": 641,
     "status": "ok",
     "timestamp": 1577038618718,
     "user": {
      "displayName": "Andrei Vlasov",
      "photoUrl": "",
      "userId": "13337223921435011437"
     },
     "user_tz": -180
    },
    "id": "yvIjQYg2H-an",
    "outputId": "d73d461f-7407-4180-f360-b08e004f43e2"
   },
   "outputs": [
    {
     "name": "stdout",
     "output_type": "stream",
     "text": [
      "tensor([[43824, 52085, 52085],\n",
      "        [43824, 32635, 52085],\n",
      "        [ 4763,  7345, 25758],\n",
      "        [52084, 52084, 52085]])\n"
     ]
    }
   ],
   "source": [
    "print(to_matrix(dummy_lines, vocab_train))"
   ]
  },
  {
   "cell_type": "markdown",
   "metadata": {
    "colab_type": "text",
    "id": "HQNyVIqOF9ng"
   },
   "source": [
    "Generate the train/validation/test partition:"
   ]
  },
  {
   "cell_type": "code",
   "execution_count": 0,
   "metadata": {
    "colab": {},
    "colab_type": "code",
    "id": "sRLgCz-JGMUG"
   },
   "outputs": [],
   "source": [
    "def generate_data(train_tok,vocab,label_enc=None,with_label=True):\n",
    "    data = []\n",
    "    if with_label:\n",
    "        for t, l in zip(train_tok,label_enc):\n",
    "            t = to_matrix([t], vocab)\n",
    "            l = torch.Tensor([l])\n",
    "            data.append((t, l))\n",
    "    else:\n",
    "        for t in train_tok:\n",
    "            t = to_matrix([t], vocab)\n",
    "            data.append(t)\n",
    "    return data"
   ]
  },
  {
   "cell_type": "code",
   "execution_count": 0,
   "metadata": {
    "colab": {},
    "colab_type": "code",
    "id": "BroP1LKKHiBv"
   },
   "outputs": [],
   "source": [
    "train_data = generate_data(train_texts_tok,label_enc=y_enc_train, vocab=vocab_train)\n",
    "dev_data = generate_data(dev_texts_tok,label_enc=y_enc_dev, vocab=vocab_train)\n",
    "dev_b_data = generate_data(dev_b_texts_tok,label_enc=y_enc_dev_b, vocab=vocab_train)\n",
    "# test_data = to_matrix()\n",
    "\n",
    "train_data_all = generate_data(train_texts_tok_all,label_enc=y_enc_train, vocab=vocab_train_all)\n",
    "dev_data_all = generate_data(dev_texts_tok_all,label_enc=y_enc_dev, vocab=vocab_train_all)\n",
    "dev_b_data_all = generate_data(dev_b_texts_tok_all,label_enc=y_enc_dev_b, vocab=vocab_train_all)\n",
    "# test_data_all = to_matrix()"
   ]
  },
  {
   "cell_type": "markdown",
   "metadata": {
    "colab_type": "text",
    "id": "I5FDQm4yMkfR"
   },
   "source": [
    "<a id='model_description'></a>\n",
    "### Model\n",
    "\n",
    "Let us now define our model. It will consist of:\n",
    "- an embedding layer which will use pre-trained GloVe embeddings with no fine-tuning\n",
    "- a layer of LSTM cells\n",
    "- a dense layer that will convert the LSTM output to scores of labels"
   ]
  },
  {
   "cell_type": "code",
   "execution_count": 0,
   "metadata": {
    "colab": {},
    "colab_type": "code",
    "id": "wfYIvL_NJKfU"
   },
   "outputs": [],
   "source": [
    "class BiLSTM(nn.Module):\n",
    "    def __init__(self, embeddings, hidden_dim=128, lstm_layer=1, output=2):\n",
    "        \n",
    "        super(BiLSTM, self).__init__()\n",
    "        self.hidden_dim = hidden_dim\n",
    "        \n",
    "        # load pre-trained embeddings\n",
    "        self.embedding = nn.Embedding.from_pretrained(embeddings)\n",
    "        # embeddings are not fine-tuned\n",
    "        self.embedding.weight.requires_grad = False\n",
    "        \n",
    "        # RNN layer with LSTM cells\n",
    "        self.lstm = nn.LSTM(input_size=self.embedding.embedding_dim,\n",
    "                            hidden_size=hidden_dim,\n",
    "                            num_layers=lstm_layer, \n",
    "                            bidirectional=True)\n",
    "        # dense layer\n",
    "        self.linear = nn.Linear(hidden_dim*2, hidden_dim)\n",
    "        self.output = nn.Linear(hidden_dim, output)\n",
    "\n",
    "    \n",
    "    def forward(self, sents):\n",
    "        x = self.embedding(sents)\n",
    "        \n",
    "        # the original dimensions of torch LSTM's output are: (seq_len, batch, num_directions * hidden_size)\n",
    "        lstm_out, _ = self.lstm(x)\n",
    "        \n",
    "        # reshape to get the tensor of dimensions (seq_len, batch, num_directions, hidden_size)\n",
    "        lstm_out = lstm_out.view(x.shape[0], -1, 2, self.hidden_dim)#.squeeze(1)\n",
    "        \n",
    "        # lstm_out[:, :, 0, :] -- output of the forward LSTM\n",
    "        # lstm_out[:, :, 1, :] -- output of the backward LSTM\n",
    "        # we take the last hidden state of the forward LSTM and the first hidden state of the backward LSTM\n",
    "        dense_input = torch.cat((lstm_out[-1, :, 0, :], lstm_out[0, :, 1, :]), dim=1)\n",
    "        \n",
    "        # y = self.output(dense_input).view([1, 2])\n",
    "\n",
    "        output = self.linear(dense_input)\n",
    "        y = self.output(output).view([1, 2])\n",
    "        return y"
   ]
  },
  {
   "cell_type": "markdown",
   "metadata": {
    "colab_type": "text",
    "id": "eILqfI_YM46N"
   },
   "source": [
    "Let us initialise the model, optimiser, and loss:"
   ]
  },
  {
   "cell_type": "code",
   "execution_count": 0,
   "metadata": {
    "colab": {},
    "colab_type": "code",
    "id": "7fAmV68SFcJD"
   },
   "outputs": [],
   "source": [
    "hidden_dim = 128\n",
    "layers = 1\n",
    "\n",
    "device = torch.device('cuda' if torch.cuda.is_available() else 'cpu')\n",
    "\n",
    "model = BiLSTM(embeddings, hidden_dim, lstm_layer=layers)\n",
    "optimizer = optim.Adam(model.parameters(), lr=1e-3)\n",
    "criterion = nn.BCEWithLogitsLoss()\n",
    "\n",
    "\n",
    "model = model.to(device)\n",
    "criterion = criterion.to(device)"
   ]
  },
  {
   "cell_type": "markdown",
   "metadata": {
    "colab_type": "text",
    "id": "qP-ldzXOM8Mi"
   },
   "source": [
    "Check the number of trainable parameters in the model:"
   ]
  },
  {
   "cell_type": "code",
   "execution_count": 0,
   "metadata": {
    "colab": {
     "base_uri": "https://localhost:8080/",
     "height": 34
    },
    "colab_type": "code",
    "executionInfo": {
     "elapsed": 735,
     "status": "ok",
     "timestamp": 1577036988175,
     "user": {
      "displayName": "Andrei Vlasov",
      "photoUrl": "",
      "userId": "13337223921435011437"
     },
     "user_tz": -180
    },
    "id": "Kz_kZwusFcNl",
    "outputId": "ef381143-8175-431d-804f-40d5bf7c224f"
   },
   "outputs": [
    {
     "name": "stdout",
     "output_type": "stream",
     "text": [
      "The model has 473,474 trainable parameters\n"
     ]
    }
   ],
   "source": [
    "def count_parameters(model):\n",
    "    return sum(p.numel() for p in model.parameters() if p.requires_grad)\n",
    "\n",
    "print(f'The model has {count_parameters(model):,} trainable parameters')"
   ]
  },
  {
   "cell_type": "markdown",
   "metadata": {
    "colab_type": "text",
    "id": "G5sEbWUBNHss"
   },
   "source": [
    "Besides loss, we also need a metric which is interpretable by humans. We will use accuracy:"
   ]
  },
  {
   "cell_type": "code",
   "execution_count": 0,
   "metadata": {
    "colab": {},
    "colab_type": "code",
    "id": "tt9Xjl5FM-ey"
   },
   "outputs": [],
   "source": [
    "def binary_accuracy(preds, y):\n",
    "    # y is either [0, 1] or [1, 0]\n",
    "    # get the class (0 or 1)\n",
    "    y = torch.argmax(y, dim=1)\n",
    "    \n",
    "    # get the predicted class\n",
    "    preds = torch.argmax(torch.sigmoid(preds), dim=1)\n",
    "    \n",
    "    correct = (preds == y).float() \n",
    "    acc = correct.sum() / len(correct)\n",
    "    return acc"
   ]
  },
  {
   "cell_type": "markdown",
   "metadata": {
    "colab_type": "text",
    "id": "k_kdpxbeNKQv"
   },
   "source": [
    "<a id='model_training'></a>\n",
    "### Training of a model\n",
    "\n",
    "The procedure to perform one epoch of training:"
   ]
  },
  {
   "cell_type": "code",
   "execution_count": 0,
   "metadata": {
    "colab": {},
    "colab_type": "code",
    "id": "XzemxLmfNNZP"
   },
   "outputs": [],
   "source": [
    "def train(model, train_data, optimizer, criterion):\n",
    "    \n",
    "    epoch_loss = 0\n",
    "    epoch_acc = 0\n",
    "    \n",
    "    # set the model to the training mode\n",
    "    model.train(mode=True)\n",
    "    \n",
    "    for t, l in train_data:\n",
    "        # reshape the data to n_words x batch_size (here batch_size=1)\n",
    "        t = t.view((-1, 1))\n",
    "        # transfer the data to GPU to make it accessible for the model and the loss\n",
    "        t = t.to(device)\n",
    "        l = l.to(device)\n",
    "        \n",
    "        # set all gradients to zero\n",
    "        optimizer.zero_grad()\n",
    "        \n",
    "        # forward pass of training\n",
    "        # compute predictions with current parameters\n",
    "        predictions = model(t)\n",
    "        # compute the loss\n",
    "        loss = criterion(predictions, l)\n",
    "        # compute the accuracy (this is only for report)\n",
    "        acc = binary_accuracy(predictions, l)\n",
    "        \n",
    "        # backward pass (fully handled by pytorch)\n",
    "        loss.backward()\n",
    "        # update all parameters according to their gradients\n",
    "        optimizer.step()\n",
    "        \n",
    "        # data for report\n",
    "        epoch_loss += loss.item()\n",
    "        epoch_acc += acc.item()\n",
    "        \n",
    "    return epoch_loss / len(train_data), epoch_acc / len(train_data)"
   ]
  },
  {
   "cell_type": "markdown",
   "metadata": {
    "colab_type": "text",
    "id": "hPdun168NQlY"
   },
   "source": [
    "The evaluation procedure computes loss and accuracy, but does not update gradients:"
   ]
  },
  {
   "cell_type": "code",
   "execution_count": 0,
   "metadata": {
    "colab": {},
    "colab_type": "code",
    "id": "hoh2qiWpNNb6"
   },
   "outputs": [],
   "source": [
    "def evaluate(model, test_data, criterion):\n",
    "    \n",
    "    epoch_loss = 0\n",
    "    epoch_acc = 0\n",
    "    \n",
    "    model.eval()\n",
    "    \n",
    "    with torch.no_grad():\n",
    "    \n",
    "        for t, l in test_data:\n",
    "            t = t.view((-1, 1))\n",
    "            t = t.to(device)\n",
    "            l = l.to(device)\n",
    "            predictions = model(t)\n",
    "            \n",
    "            loss = criterion(predictions, l)\n",
    "            acc = binary_accuracy(predictions, l)\n",
    "\n",
    "            epoch_loss += loss.item()\n",
    "            epoch_acc += acc.item()\n",
    "        \n",
    "    return epoch_loss / len(test_data), epoch_acc / len(test_data)"
   ]
  },
  {
   "cell_type": "code",
   "execution_count": 0,
   "metadata": {
    "colab": {},
    "colab_type": "code",
    "id": "XKiC0yF541GX"
   },
   "outputs": [],
   "source": [
    "def predict(model, test_data):\n",
    "    model.eval()\n",
    "\n",
    "    y_pred_all = np.array([])\n",
    "\n",
    "    for t in test_data:\n",
    "        t = t.view((-1, 1))\n",
    "        t = t.to(device)\n",
    "\n",
    "        predictions = model(t)\n",
    "\n",
    "        y_pred_all =  np.append(y_pred_all,np.argmax(predictions.cpu().detach().numpy(),axis=1))\n",
    "    \n",
    "    return y_pred_all"
   ]
  },
  {
   "cell_type": "markdown",
   "metadata": {
    "colab_type": "text",
    "id": "GNlQrglFNUYh"
   },
   "source": [
    "Procedure to compute the time between *start_time* and *end_time* points (we'll use it to note the time during training):"
   ]
  },
  {
   "cell_type": "code",
   "execution_count": 0,
   "metadata": {
    "colab": {},
    "colab_type": "code",
    "id": "4NOcTroQNNfY"
   },
   "outputs": [],
   "source": [
    "def epoch_time(start_time, end_time):\n",
    "    elapsed_time = end_time - start_time\n",
    "    elapsed_mins = int(elapsed_time / 60)\n",
    "    elapsed_secs = int(elapsed_time - (elapsed_mins * 60))\n",
    "    return elapsed_mins, elapsed_secs"
   ]
  },
  {
   "cell_type": "markdown",
   "metadata": {
    "colab_type": "text",
    "id": "zRvJ_5LZNV4j"
   },
   "source": [
    "Run training and evaluation for several epochs:"
   ]
  },
  {
   "cell_type": "code",
   "execution_count": 0,
   "metadata": {
    "colab": {},
    "colab_type": "code",
    "id": "eWPLY6wTOEt2"
   },
   "outputs": [],
   "source": [
    "hidden_dim = 128\n",
    "\n",
    "device = torch.device('cuda' if torch.cuda.is_available() else 'cpu')\n",
    "\n",
    "model = BiLSTM(embeddings, hidden_dim, lstm_layer=1)\n",
    "optimizer = optim.Adam(model.parameters(), lr=1e-4)\n",
    "criterion = nn.BCEWithLogitsLoss()\n",
    "\n",
    "\n",
    "model = model.to(device)\n",
    "criterion = criterion.to(device)"
   ]
  },
  {
   "cell_type": "code",
   "execution_count": 0,
   "metadata": {
    "colab": {
     "base_uri": "https://localhost:8080/",
     "height": 493
    },
    "colab_type": "code",
    "executionInfo": {
     "elapsed": 16,
     "status": "ok",
     "timestamp": 1577038404758,
     "user": {
      "displayName": "Andrei Vlasov",
      "photoUrl": "",
      "userId": "13337223921435011437"
     },
     "user_tz": -180
    },
    "id": "hkpOIdd41jKX",
    "outputId": "ab73fe44-a0a1-46f2-9f36-4a410b6b8871"
   },
   "outputs": [
    {
     "data": {
      "image/png": "[encoded data removed]",
      "text/plain": [
       "<Figure size 1008x504 with 2 Axes>"
      ]
     },
     "metadata": {
      "tags": []
     },
     "output_type": "display_data"
    },
    {
     "name": "stdout",
     "output_type": "stream",
     "text": [
      "Epoch: 05 | Epoch Time: 2m 45s\n",
      "\tTrain Loss: 0.217 | Train Acc: 91.18%\n",
      "\t Val. Loss: 0.392 |  Val. Acc: 85.18%\n"
     ]
    }
   ],
   "source": [
    "N_EPOCHS = 5\n",
    "\n",
    "best_valid_loss = float('inf')\n",
    "\n",
    "train_loss_history = []\n",
    "valid_loss_history = []\n",
    "\n",
    "train_acc_history = []\n",
    "valid_acc_history = []\n",
    "\n",
    "for epoch in range(N_EPOCHS):\n",
    "\n",
    "    start_time = time.time()\n",
    "    \n",
    "    train_loss, train_acc = train(model, train_data, optimizer, criterion)\n",
    "    valid_loss, valid_acc = evaluate(model, dev_data, criterion)\n",
    "    \n",
    "    train_loss_history.append(train_loss)\n",
    "    train_acc_history.append(train_acc)\n",
    "    valid_loss_history.append(valid_loss)\n",
    "    valid_acc_history.append(valid_acc)\n",
    "    end_time = time.time()\n",
    "\n",
    "    epoch_mins, epoch_secs = epoch_time(start_time, end_time)\n",
    "    \n",
    "    if valid_loss < best_valid_loss:\n",
    "        best_valid_loss = valid_loss\n",
    "        torch.save(model.state_dict(), 'bilstm-model.pt')\n",
    "\n",
    "    clear_output(True)\n",
    "    plt.figure(figsize=(14, 7))\n",
    "    plt.subplot(121)\n",
    "    plt.plot(np.arange(len(train_loss_history)) + 1, train_loss_history, label='loss on training')\n",
    "    plt.plot(np.arange(len(valid_loss_history)) + 1, valid_loss_history, label='loss on validation')\n",
    "    plt.ylabel('loss')\n",
    "    plt.xlabel('epoch number')\n",
    "    plt.legend()\n",
    "    plt.grid()\n",
    "\n",
    "    plt.subplot(122)\n",
    "    plt.plot(np.arange(len(train_acc_history)) + 1, train_acc_history, label='accuracy on training')\n",
    "    plt.plot(np.arange(len(valid_acc_history)) + 1, valid_acc_history, label='accuracy on validation')\n",
    "    plt.ylabel('accuracy')\n",
    "    plt.xlabel('epoch number')\n",
    "    plt.legend()\n",
    "    plt.grid()\n",
    "    plt.show()\n",
    "\n",
    "    print(f'Epoch: {epoch+1:02} | Epoch Time: {epoch_mins}m {epoch_secs}s')\n",
    "    print(f'\\tTrain Loss: {train_loss:.3f} | Train Acc: {train_acc*100:.2f}%')\n",
    "    print(f'\\t Val. Loss: {valid_loss:.3f} |  Val. Acc: {valid_acc*100:.2f}%')"
   ]
  },
  {
   "cell_type": "markdown",
   "metadata": {
    "colab_type": "text",
    "id": "kN4NBr2G-bqt"
   },
   "source": [
    "### 2.2 Use LSTM and ELMo for text classification"
   ]
  },
  {
   "cell_type": "markdown",
   "metadata": {
    "colab_type": "text",
    "id": "1CozPAu_-bqu"
   },
   "source": [
    "Use ``allennlp`` and the model ``elmo_2x2048_256_2048cnn_1xhighway_weights`` which is the model used in week5 seminar to build a text classification system. The only difference from the previous point is the use of ELMo contextualized word embeddings. Do not use any additional dependencies or versions of the ELMo model. Make sure that the model is located in the same directory with the classification Python script."
   ]
  },
  {
   "cell_type": "code",
   "execution_count": 58,
   "metadata": {
    "colab": {
     "base_uri": "https://localhost:8080/",
     "height": 1000
    },
    "colab_type": "code",
    "executionInfo": {
     "elapsed": 54910,
     "status": "ok",
     "timestamp": 1577038694113,
     "user": {
      "displayName": "Andrei Vlasov",
      "photoUrl": "",
      "userId": "13337223921435011437"
     },
     "user_tz": -180
    },
    "id": "AXHQipZJl1YH",
    "outputId": "181b61d1-1c44-488f-e660-a2439ca9c497"
   },
   "outputs": [
    {
     "name": "stdout",
     "output_type": "stream",
     "text": [
      "Collecting allennlp\n",
      "\u001b[?25l  Downloading https://files.pythonhosted.org/packages/bb/bb/041115d8bad1447080e5d1e30097c95e4b66e36074277afce8620a61cee3/allennlp-0.9.0-py3-none-any.whl (7.6MB)\n",
      "\u001b[K     |████████████████████████████████| 7.6MB 44.9MB/s \n",
      "\u001b[?25hCollecting overrides\n",
      "  Downloading https://files.pythonhosted.org/packages/86/7a/532fc167366797f66c732549490dcf13243077f15446115f3c0ad17e56b8/overrides-2.6.tar.gz\n",
      "Requirement already satisfied: pytz>=2017.3 in /usr/local/lib/python3.6/dist-packages (from allennlp) (2018.9)\n",
      "Collecting flaky\n",
      "  Downloading https://files.pythonhosted.org/packages/fe/12/0f169abf1aa07c7edef4855cca53703d2e6b7ecbded7829588ac7e7e3424/flaky-3.6.1-py2.py3-none-any.whl\n",
      "Collecting jsonpickle\n",
      "  Downloading https://files.pythonhosted.org/packages/07/07/c157520a3ebd166c8c24c6ae0ecae7c3968eb4653ff0e5af369bb82f004d/jsonpickle-1.2-py2.py3-none-any.whl\n",
      "Collecting numpydoc>=0.8.0\n",
      "  Downloading https://files.pythonhosted.org/packages/6a/f3/7cfe4c616e4b9fe05540256cc9c6661c052c8a4cec2915732793b36e1843/numpydoc-0.9.1.tar.gz\n",
      "Collecting pytorch-pretrained-bert>=0.6.0\n",
      "\u001b[?25l  Downloading https://files.pythonhosted.org/packages/d7/e0/c08d5553b89973d9a240605b9c12404bcf8227590de62bae27acbcfe076b/pytorch_pretrained_bert-0.6.2-py3-none-any.whl (123kB)\n",
      "\u001b[K     |████████████████████████████████| 133kB 45.4MB/s \n",
      "\u001b[?25hCollecting word2number>=1.1\n",
      "  Downloading https://files.pythonhosted.org/packages/4a/29/a31940c848521f0725f0df6b25dca8917f13a2025b0e8fcbe5d0457e45e6/word2number-1.1.zip\n",
      "Collecting conllu==1.3.1\n",
      "  Downloading https://files.pythonhosted.org/packages/ae/54/b0ae1199f3d01666821b028cd967f7c0ac527ab162af433d3da69242cea2/conllu-1.3.1-py2.py3-none-any.whl\n",
      "Requirement already satisfied: h5py in /usr/local/lib/python3.6/dist-packages (from allennlp) (2.8.0)\n",
      "Collecting jsonnet>=0.10.0; sys_platform != \"win32\"\n",
      "\u001b[?25l  Downloading https://files.pythonhosted.org/packages/fe/a6/e69e38f1f259fcf8532d8bd2c4bc88764f42d7b35a41423a7f4b035cc5ce/jsonnet-0.14.0.tar.gz (253kB)\n",
      "\u001b[K     |████████████████████████████████| 256kB 58.6MB/s \n",
      "\u001b[?25hCollecting responses>=0.7\n",
      "  Downloading https://files.pythonhosted.org/packages/3e/0c/940781dd49710f4b1f0650c450c9fd8491db0e1bffd99ebc36355607f96d/responses-0.10.9-py2.py3-none-any.whl\n",
      "Requirement already satisfied: flask>=1.0.2 in /usr/local/lib/python3.6/dist-packages (from allennlp) (1.1.1)\n",
      "Requirement already satisfied: matplotlib>=2.2.3 in /usr/local/lib/python3.6/dist-packages (from allennlp) (3.1.2)\n",
      "Requirement already satisfied: nltk in /usr/local/lib/python3.6/dist-packages (from allennlp) (3.2.5)\n",
      "Requirement already satisfied: spacy<2.2,>=2.1.0 in /usr/local/lib/python3.6/dist-packages (from allennlp) (2.1.9)\n",
      "Requirement already satisfied: gevent>=1.3.6 in /usr/local/lib/python3.6/dist-packages (from allennlp) (1.4.0)\n",
      "Collecting ftfy\n",
      "\u001b[?25l  Downloading https://files.pythonhosted.org/packages/75/ca/2d9a5030eaf1bcd925dab392762b9709a7ad4bd486a90599d93cd79cb188/ftfy-5.6.tar.gz (58kB)\n",
      "\u001b[K     |████████████████████████████████| 61kB 10.7MB/s \n",
      "\u001b[?25hCollecting unidecode\n",
      "\u001b[?25l  Downloading https://files.pythonhosted.org/packages/d0/42/d9edfed04228bacea2d824904cae367ee9efd05e6cce7ceaaedd0b0ad964/Unidecode-1.1.1-py2.py3-none-any.whl (238kB)\n",
      "\u001b[K     |████████████████████████████████| 245kB 58.6MB/s \n",
      "\u001b[?25hRequirement already satisfied: boto3 in /usr/local/lib/python3.6/dist-packages (from allennlp) (1.10.40)\n",
      "Requirement already satisfied: sqlparse>=0.2.4 in /usr/local/lib/python3.6/dist-packages (from allennlp) (0.3.0)\n",
      "Requirement already satisfied: tqdm>=4.19 in /usr/local/lib/python3.6/dist-packages (from allennlp) (4.28.1)\n",
      "Collecting flask-cors>=3.0.7\n",
      "  Downloading https://files.pythonhosted.org/packages/78/38/e68b11daa5d613e3a91e4bf3da76c94ac9ee0d9cd515af9c1ab80d36f709/Flask_Cors-3.0.8-py2.py3-none-any.whl\n",
      "Requirement already satisfied: pytest in /usr/local/lib/python3.6/dist-packages (from allennlp) (3.6.4)\n",
      "Collecting pytorch-transformers==1.1.0\n",
      "\u001b[?25l  Downloading https://files.pythonhosted.org/packages/50/89/ad0d6bb932d0a51793eaabcf1617a36ff530dc9ab9e38f765a35dc293306/pytorch_transformers-1.1.0-py3-none-any.whl (158kB)\n",
      "\u001b[K     |████████████████████████████████| 163kB 25.2MB/s \n",
      "\u001b[?25hRequirement already satisfied: scikit-learn in /usr/local/lib/python3.6/dist-packages (from allennlp) (0.21.3)\n",
      "Requirement already satisfied: numpy in /usr/local/lib/python3.6/dist-packages (from allennlp) (1.17.4)\n",
      "Collecting parsimonious>=0.8.0\n",
      "\u001b[?25l  Downloading https://files.pythonhosted.org/packages/02/fc/067a3f89869a41009e1a7cdfb14725f8ddd246f30f63c645e8ef8a1c56f4/parsimonious-0.8.1.tar.gz (45kB)\n",
      "\u001b[K     |████████████████████████████████| 51kB 9.9MB/s \n",
      "\u001b[?25hRequirement already satisfied: editdistance in /usr/local/lib/python3.6/dist-packages (from allennlp) (0.5.3)\n",
      "Requirement already satisfied: torch>=1.2.0 in /usr/local/lib/python3.6/dist-packages (from allennlp) (1.3.1)\n",
      "Requirement already satisfied: requests>=2.18 in /usr/local/lib/python3.6/dist-packages (from allennlp) (2.21.0)\n",
      "Requirement already satisfied: scipy in /usr/local/lib/python3.6/dist-packages (from allennlp) (1.3.3)\n",
      "Collecting tensorboardX>=1.2\n",
      "\u001b[?25l  Downloading https://files.pythonhosted.org/packages/a6/5c/e918d9f190baab8d55bad52840d8091dd5114cc99f03eaa6d72d404503cc/tensorboardX-1.9-py2.py3-none-any.whl (190kB)\n",
      "\u001b[K     |████████████████████████████████| 194kB 45.9MB/s \n",
      "\u001b[?25hRequirement already satisfied: sphinx>=1.6.5 in /usr/local/lib/python3.6/dist-packages (from numpydoc>=0.8.0->allennlp) (1.8.5)\n",
      "Requirement already satisfied: Jinja2>=2.3 in /usr/local/lib/python3.6/dist-packages (from numpydoc>=0.8.0->allennlp) (2.10.3)\n",
      "Requirement already satisfied: regex in /usr/local/lib/python3.6/dist-packages (from pytorch-pretrained-bert>=0.6.0->allennlp) (2019.12.9)\n",
      "Requirement already satisfied: six in /usr/local/lib/python3.6/dist-packages (from h5py->allennlp) (1.12.0)\n",
      "Requirement already satisfied: click>=5.1 in /usr/local/lib/python3.6/dist-packages (from flask>=1.0.2->allennlp) (7.0)\n",
      "Requirement already satisfied: itsdangerous>=0.24 in /usr/local/lib/python3.6/dist-packages (from flask>=1.0.2->allennlp) (1.1.0)\n",
      "Requirement already satisfied: Werkzeug>=0.15 in /usr/local/lib/python3.6/dist-packages (from flask>=1.0.2->allennlp) (0.16.0)\n",
      "Requirement already satisfied: kiwisolver>=1.0.1 in /usr/local/lib/python3.6/dist-packages (from matplotlib>=2.2.3->allennlp) (1.1.0)\n",
      "Requirement already satisfied: pyparsing!=2.0.4,!=2.1.2,!=2.1.6,>=2.0.1 in /usr/local/lib/python3.6/dist-packages (from matplotlib>=2.2.3->allennlp) (2.4.5)\n",
      "Requirement already satisfied: cycler>=0.10 in /usr/local/lib/python3.6/dist-packages (from matplotlib>=2.2.3->allennlp) (0.10.0)\n",
      "Requirement already satisfied: python-dateutil>=2.1 in /usr/local/lib/python3.6/dist-packages (from matplotlib>=2.2.3->allennlp) (2.6.1)\n",
      "Requirement already satisfied: thinc<7.1.0,>=7.0.8 in /usr/local/lib/python3.6/dist-packages (from spacy<2.2,>=2.1.0->allennlp) (7.0.8)\n",
      "Requirement already satisfied: wasabi<1.1.0,>=0.2.0 in /usr/local/lib/python3.6/dist-packages (from spacy<2.2,>=2.1.0->allennlp) (0.4.2)\n",
      "Requirement already satisfied: murmurhash<1.1.0,>=0.28.0 in /usr/local/lib/python3.6/dist-packages (from spacy<2.2,>=2.1.0->allennlp) (1.0.2)\n",
      "Requirement already satisfied: blis<0.3.0,>=0.2.2 in /usr/local/lib/python3.6/dist-packages (from spacy<2.2,>=2.1.0->allennlp) (0.2.4)\n",
      "Requirement already satisfied: cymem<2.1.0,>=2.0.2 in /usr/local/lib/python3.6/dist-packages (from spacy<2.2,>=2.1.0->allennlp) (2.0.3)\n",
      "Requirement already satisfied: preshed<2.1.0,>=2.0.1 in /usr/local/lib/python3.6/dist-packages (from spacy<2.2,>=2.1.0->allennlp) (2.0.1)\n",
      "Requirement already satisfied: plac<1.0.0,>=0.9.6 in /usr/local/lib/python3.6/dist-packages (from spacy<2.2,>=2.1.0->allennlp) (0.9.6)\n",
      "Requirement already satisfied: srsly<1.1.0,>=0.0.6 in /usr/local/lib/python3.6/dist-packages (from spacy<2.2,>=2.1.0->allennlp) (0.2.0)\n",
      "Requirement already satisfied: greenlet>=0.4.14; platform_python_implementation == \"CPython\" in /usr/local/lib/python3.6/dist-packages (from gevent>=1.3.6->allennlp) (0.4.15)\n",
      "Requirement already satisfied: wcwidth in /usr/local/lib/python3.6/dist-packages (from ftfy->allennlp) (0.1.7)\n",
      "Requirement already satisfied: botocore<1.14.0,>=1.13.40 in /usr/local/lib/python3.6/dist-packages (from boto3->allennlp) (1.13.40)\n",
      "Requirement already satisfied: jmespath<1.0.0,>=0.7.1 in /usr/local/lib/python3.6/dist-packages (from boto3->allennlp) (0.9.4)\n",
      "Requirement already satisfied: s3transfer<0.3.0,>=0.2.0 in /usr/local/lib/python3.6/dist-packages (from boto3->allennlp) (0.2.1)\n",
      "Requirement already satisfied: py>=1.5.0 in /usr/local/lib/python3.6/dist-packages (from pytest->allennlp) (1.8.0)\n",
      "Requirement already satisfied: setuptools in /usr/local/lib/python3.6/dist-packages (from pytest->allennlp) (42.0.2)\n",
      "Requirement already satisfied: more-itertools>=4.0.0 in /usr/local/lib/python3.6/dist-packages (from pytest->allennlp) (8.0.2)\n",
      "Requirement already satisfied: pluggy<0.8,>=0.5 in /usr/local/lib/python3.6/dist-packages (from pytest->allennlp) (0.7.1)\n",
      "Requirement already satisfied: atomicwrites>=1.0 in /usr/local/lib/python3.6/dist-packages (from pytest->allennlp) (1.3.0)\n",
      "Requirement already satisfied: attrs>=17.4.0 in /usr/local/lib/python3.6/dist-packages (from pytest->allennlp) (19.3.0)\n",
      "Collecting sentencepiece\n",
      "\u001b[?25l  Downloading https://files.pythonhosted.org/packages/74/f4/2d5214cbf13d06e7cb2c20d84115ca25b53ea76fa1f0ade0e3c9749de214/sentencepiece-0.1.85-cp36-cp36m-manylinux1_x86_64.whl (1.0MB)\n",
      "\u001b[K     |████████████████████████████████| 1.0MB 51.1MB/s \n",
      "\u001b[?25hRequirement already satisfied: joblib>=0.11 in /usr/local/lib/python3.6/dist-packages (from scikit-learn->allennlp) (0.14.1)\n",
      "Requirement already satisfied: idna<2.9,>=2.5 in /usr/local/lib/python3.6/dist-packages (from requests>=2.18->allennlp) (2.8)\n",
      "Requirement already satisfied: certifi>=2017.4.17 in /usr/local/lib/python3.6/dist-packages (from requests>=2.18->allennlp) (2019.11.28)\n",
      "Requirement already satisfied: chardet<3.1.0,>=3.0.2 in /usr/local/lib/python3.6/dist-packages (from requests>=2.18->allennlp) (3.0.4)\n",
      "Requirement already satisfied: urllib3<1.25,>=1.21.1 in /usr/local/lib/python3.6/dist-packages (from requests>=2.18->allennlp) (1.24.3)\n",
      "Requirement already satisfied: protobuf>=3.8.0 in /usr/local/lib/python3.6/dist-packages (from tensorboardX>=1.2->allennlp) (3.10.0)\n",
      "Requirement already satisfied: Pygments>=2.0 in /usr/local/lib/python3.6/dist-packages (from sphinx>=1.6.5->numpydoc>=0.8.0->allennlp) (2.1.3)\n",
      "Requirement already satisfied: imagesize in /usr/local/lib/python3.6/dist-packages (from sphinx>=1.6.5->numpydoc>=0.8.0->allennlp) (1.1.0)\n",
      "Requirement already satisfied: alabaster<0.8,>=0.7 in /usr/local/lib/python3.6/dist-packages (from sphinx>=1.6.5->numpydoc>=0.8.0->allennlp) (0.7.12)\n",
      "Requirement already satisfied: packaging in /usr/local/lib/python3.6/dist-packages (from sphinx>=1.6.5->numpydoc>=0.8.0->allennlp) (19.2)\n",
      "Requirement already satisfied: babel!=2.0,>=1.3 in /usr/local/lib/python3.6/dist-packages (from sphinx>=1.6.5->numpydoc>=0.8.0->allennlp) (2.7.0)\n",
      "Requirement already satisfied: snowballstemmer>=1.1 in /usr/local/lib/python3.6/dist-packages (from sphinx>=1.6.5->numpydoc>=0.8.0->allennlp) (2.0.0)\n",
      "Requirement already satisfied: sphinxcontrib-websupport in /usr/local/lib/python3.6/dist-packages (from sphinx>=1.6.5->numpydoc>=0.8.0->allennlp) (1.1.2)\n",
      "Requirement already satisfied: docutils>=0.11 in /usr/local/lib/python3.6/dist-packages (from sphinx>=1.6.5->numpydoc>=0.8.0->allennlp) (0.15.2)\n",
      "Requirement already satisfied: MarkupSafe>=0.23 in /usr/local/lib/python3.6/dist-packages (from Jinja2>=2.3->numpydoc>=0.8.0->allennlp) (1.1.1)\n",
      "Building wheels for collected packages: overrides, numpydoc, word2number, jsonnet, ftfy, parsimonious\n",
      "  Building wheel for overrides (setup.py) ... \u001b[?25l\u001b[?25hdone\n",
      "  Created wheel for overrides: filename=overrides-2.6-cp36-none-any.whl size=5523 sha256=fc64c8d82dff71e214e45be0c0422b4a141291401e5e79660f258a9be9228965\n",
      "  Stored in directory: /root/.cache/pip/wheels/08/86/49/c413319bcff638bdc13462c063c84d68e294d84514170c3744\n",
      "  Building wheel for numpydoc (setup.py) ... \u001b[?25l\u001b[?25hdone\n",
      "  Created wheel for numpydoc: filename=numpydoc-0.9.1-cp36-none-any.whl size=31872 sha256=1dd64f2117e06b227347549d77627c3d87d856cb811fa547226c424668a34ad0\n",
      "  Stored in directory: /root/.cache/pip/wheels/51/30/d1/92a39ba40f21cb70e53f8af96eb98f002a781843c065406500\n",
      "  Building wheel for word2number (setup.py) ... \u001b[?25l\u001b[?25hdone\n",
      "  Created wheel for word2number: filename=word2number-1.1-cp36-none-any.whl size=5588 sha256=276eb6607cb6ba627a59f2fbac2d78fb98720c394b6c008eac231e791418df65\n",
      "  Stored in directory: /root/.cache/pip/wheels/46/2f/53/5f5c1d275492f2fce1cdab9a9bb12d49286dead829a4078e0e\n",
      "  Building wheel for jsonnet (setup.py) ... \u001b[?25l\u001b[?25hdone\n",
      "  Created wheel for jsonnet: filename=jsonnet-0.14.0-cp36-cp36m-linux_x86_64.whl size=3320349 sha256=2c3f9a618eecd3755e381b96bfeee202989452de367f1c480f6bb5b7263525b0\n",
      "  Stored in directory: /root/.cache/pip/wheels/5b/b7/83/985f0f758fbb34f14989a0fab86d18890d1cc5ae12f26967bc\n",
      "  Building wheel for ftfy (setup.py) ... \u001b[?25l\u001b[?25hdone\n",
      "  Created wheel for ftfy: filename=ftfy-5.6-cp36-none-any.whl size=44553 sha256=9f0925dc9708bdceb04607e76f0b093b0afacb9620d143df95592f3467f74df0\n",
      "  Stored in directory: /root/.cache/pip/wheels/43/34/ce/cbb38d71543c408de56f3c5e26ce8ba495a0fa5a28eaaf1046\n",
      "  Building wheel for parsimonious (setup.py) ... \u001b[?25l\u001b[?25hdone\n",
      "  Created wheel for parsimonious: filename=parsimonious-0.8.1-cp36-none-any.whl size=42709 sha256=e2668561f486e5b9621fe2f8762360e85b7802f137e4bb0ef00a6126547ed7e8\n",
      "  Stored in directory: /root/.cache/pip/wheels/b7/8d/e7/a0e74217da5caeb3c1c7689639b6d28ddbf9985b840bc96a9a\n",
      "Successfully built overrides numpydoc word2number jsonnet ftfy parsimonious\n",
      "Installing collected packages: overrides, flaky, jsonpickle, numpydoc, pytorch-pretrained-bert, word2number, conllu, jsonnet, responses, ftfy, unidecode, flask-cors, sentencepiece, pytorch-transformers, parsimonious, tensorboardX, allennlp\n",
      "Successfully installed allennlp-0.9.0 conllu-1.3.1 flaky-3.6.1 flask-cors-3.0.8 ftfy-5.6 jsonnet-0.14.0 jsonpickle-1.2 numpydoc-0.9.1 overrides-2.6 parsimonious-0.8.1 pytorch-pretrained-bert-0.6.2 pytorch-transformers-1.1.0 responses-0.10.9 sentencepiece-0.1.85 tensorboardX-1.9 unidecode-1.1.1 word2number-1.1\n"
     ]
    }
   ],
   "source": [
    "!pip install allennlp"
   ]
  },
  {
   "cell_type": "code",
   "execution_count": 0,
   "metadata": {
    "colab": {},
    "colab_type": "code",
    "id": "rwfCASP2LTTu"
   },
   "outputs": [],
   "source": [
    "ELMO_OPTIONS = \"models/elmo_2x2048_256_2048cnn_1xhighway_options.json\"\n",
    "ELMO_WEIGHT = \"models/elmo_2x2048_256_2048cnn_1xhighway_weights.hdf5\""
   ]
  },
  {
   "cell_type": "code",
   "execution_count": 0,
   "metadata": {
    "colab": {},
    "colab_type": "code",
    "id": "GdrcChzVULhl"
   },
   "outputs": [],
   "source": [
    "from allennlp.modules.elmo import Elmo, batch_to_ids"
   ]
  },
  {
   "cell_type": "code",
   "execution_count": 61,
   "metadata": {
    "colab": {
     "base_uri": "https://localhost:8080/",
     "height": 850
    },
    "colab_type": "code",
    "executionInfo": {
     "elapsed": 63510,
     "status": "ok",
     "timestamp": 1577038706729,
     "user": {
      "displayName": "Andrei Vlasov",
      "photoUrl": "",
      "userId": "13337223921435011437"
     },
     "user_tz": -180
    },
    "id": "nhI_zmxPUMTB",
    "outputId": "29319146-3bf6-4c6a-e810-3937f283577b"
   },
   "outputs": [
    {
     "data": {
      "text/plain": [
       "Elmo(\n",
       "  (_elmo_lstm): _ElmoBiLm(\n",
       "    (_token_embedder): _ElmoCharacterEncoder(\n",
       "      (char_conv_0): Conv1d(16, 32, kernel_size=(1,), stride=(1,))\n",
       "      (char_conv_1): Conv1d(16, 32, kernel_size=(2,), stride=(1,))\n",
       "      (char_conv_2): Conv1d(16, 64, kernel_size=(3,), stride=(1,))\n",
       "      (char_conv_3): Conv1d(16, 128, kernel_size=(4,), stride=(1,))\n",
       "      (char_conv_4): Conv1d(16, 256, kernel_size=(5,), stride=(1,))\n",
       "      (char_conv_5): Conv1d(16, 512, kernel_size=(6,), stride=(1,))\n",
       "      (char_conv_6): Conv1d(16, 1024, kernel_size=(7,), stride=(1,))\n",
       "      (_highways): Highway(\n",
       "        (_layers): ModuleList(\n",
       "          (0): Linear(in_features=2048, out_features=4096, bias=True)\n",
       "        )\n",
       "      )\n",
       "      (_projection): Linear(in_features=2048, out_features=256, bias=True)\n",
       "    )\n",
       "    (_elmo_lstm): ElmoLstm(\n",
       "      (forward_layer_0): LstmCellWithProjection(\n",
       "        (input_linearity): Linear(in_features=256, out_features=8192, bias=False)\n",
       "        (state_linearity): Linear(in_features=256, out_features=8192, bias=True)\n",
       "        (state_projection): Linear(in_features=2048, out_features=256, bias=False)\n",
       "      )\n",
       "      (backward_layer_0): LstmCellWithProjection(\n",
       "        (input_linearity): Linear(in_features=256, out_features=8192, bias=False)\n",
       "        (state_linearity): Linear(in_features=256, out_features=8192, bias=True)\n",
       "        (state_projection): Linear(in_features=2048, out_features=256, bias=False)\n",
       "      )\n",
       "      (forward_layer_1): LstmCellWithProjection(\n",
       "        (input_linearity): Linear(in_features=256, out_features=8192, bias=False)\n",
       "        (state_linearity): Linear(in_features=256, out_features=8192, bias=True)\n",
       "        (state_projection): Linear(in_features=2048, out_features=256, bias=False)\n",
       "      )\n",
       "      (backward_layer_1): LstmCellWithProjection(\n",
       "        (input_linearity): Linear(in_features=256, out_features=8192, bias=False)\n",
       "        (state_linearity): Linear(in_features=256, out_features=8192, bias=True)\n",
       "        (state_projection): Linear(in_features=2048, out_features=256, bias=False)\n",
       "      )\n",
       "    )\n",
       "  )\n",
       "  (_dropout): Dropout(p=0.5, inplace=False)\n",
       "  (scalar_mix_0): ScalarMix(\n",
       "    (scalar_parameters): ParameterList(\n",
       "        (0): Parameter containing: [torch.cuda.FloatTensor of size 1 (GPU 0)]\n",
       "        (1): Parameter containing: [torch.cuda.FloatTensor of size 1 (GPU 0)]\n",
       "        (2): Parameter containing: [torch.cuda.FloatTensor of size 1 (GPU 0)]\n",
       "    )\n",
       "  )\n",
       ")"
      ]
     },
     "execution_count": 61,
     "metadata": {
      "tags": []
     },
     "output_type": "execute_result"
    }
   ],
   "source": [
    "elmo = Elmo(ELMO_OPTIONS, ELMO_WEIGHT, num_output_representations = 1)\n",
    "elmo.to('cuda')"
   ]
  },
  {
   "cell_type": "code",
   "execution_count": 0,
   "metadata": {
    "colab": {},
    "colab_type": "code",
    "id": "4A9c3RTzo9nW"
   },
   "outputs": [],
   "source": [
    "class BiLSTMTagger(nn.Module):\n",
    "    def __init__(self, emb_dim, hidden_dim=128, lstm_layer=1, output=1):\n",
    "        \n",
    "        super(BiLSTMTagger, self).__init__()\n",
    "        self.hidden_dim = hidden_dim\n",
    "        \n",
    "        # RNN layer with LSTM cells\n",
    "        self.lstm = nn.LSTM(input_size=emb_dim,\n",
    "                            hidden_size=hidden_dim,\n",
    "                            num_layers=lstm_layer, \n",
    "                            bidirectional=True)\n",
    "        # dense layer\n",
    "        self.linear = nn.Linear(hidden_dim*2, hidden_dim//2)\n",
    "        self.output = nn.Linear(hidden_dim//2, output)\n",
    "\n",
    "    \n",
    "    def forward(self, sents):\n",
    "\n",
    "        # the original dimensions of torch LSTM's output are: (seq_len, batch, num_directions * hidden_size)\n",
    "        lstm_out, _ = self.lstm(sents)\n",
    "        \n",
    "        # reshape to get the tensor of dimensions (seq_len, batch, num_directions, hidden_size)\n",
    "        lstm_out = lstm_out.view(sents.shape[1], -1, 2, self.hidden_dim)#.squeeze(1)#sents.shape[0]\n",
    "        \n",
    "        dense_input = torch.cat((lstm_out[:,-1,0,:], lstm_out[:,0,1,:]), dim=1)\n",
    "\n",
    "        output = self.linear(dense_input)\n",
    "        y = self.output(output)\n",
    "        return y"
   ]
  },
  {
   "cell_type": "code",
   "execution_count": 0,
   "metadata": {
    "colab": {},
    "colab_type": "code",
    "id": "yHJCKmTfUPX1"
   },
   "outputs": [],
   "source": [
    "model = BiLSTMTagger(emb_dim=512).to(device)\n",
    "optimizer = optim.Adam(model.parameters(), lr=1e-3)\n",
    "criterion = nn.BCEWithLogitsLoss().to(device)\n",
    "\n",
    "from torch.utils.data import DataLoader\n",
    "import torch.utils.data as data_utils\n",
    "from sklearn.metrics import accuracy_score"
   ]
  },
  {
   "cell_type": "code",
   "execution_count": 0,
   "metadata": {
    "colab": {},
    "colab_type": "code",
    "id": "RiL2LRjMqUEb"
   },
   "outputs": [],
   "source": [
    "train_data=[[text, torch.Tensor([y])] for (text, y) in zip(train_texts_tok, y_train)]\n",
    "\n",
    "train_dataloader=DataLoader(train_data,batch_size=256,shuffle=False)"
   ]
  },
  {
   "cell_type": "code",
   "execution_count": 0,
   "metadata": {
    "colab": {},
    "colab_type": "code",
    "id": "o9CSiVmoMdgA"
   },
   "outputs": [],
   "source": [
    "def train(model,elmo, train_data, optimizer, criterion,epoch_acc=[],epoch_loss=[]):\n",
    "    \n",
    "    # set the model to the training mode\n",
    "    model.train(mode=True)\n",
    "    \n",
    "    for t, l in train_dataloader:\n",
    "        # reshape the data to n_words x batch_size (here batch_size=1)\n",
    "        t = batch_to_ids(t).to(device)\n",
    "        t_elmo = elmo(t)['elmo_representations'][0]\n",
    "        l = l.to(device)\n",
    "        \n",
    "        # set all gradients to zero\n",
    "        optimizer.zero_grad()\n",
    "        \n",
    "        # forward pass of training\n",
    "        # compute predictions with current parameters\n",
    "        predictions = model(t_elmo)\n",
    "\n",
    "        # compute the loss\n",
    "        loss = criterion(predictions, l)\n",
    "        # compute the accuracy (this is only for report)\n",
    "        y_pred=torch.sigmoid(predictions).detach().cpu().numpy().round()\n",
    "        acc = accuracy_score(y_pred,l.detach().cpu().numpy())\n",
    "        # print('y_pred,l,acc ',y_pred,l, acc)\n",
    "        # backward pass (fully handled by pytorch)\n",
    "        loss.backward()\n",
    "        # update all parameters according to their gradients\n",
    "        optimizer.step()\n",
    "        \n",
    "        # data for report\n",
    "        epoch_loss.append(loss.item())\n",
    "        epoch_acc.append(acc.item())\n",
    "        \n",
    "    return epoch_loss, epoch_acc "
   ]
  },
  {
   "cell_type": "code",
   "execution_count": 0,
   "metadata": {
    "colab": {},
    "colab_type": "code",
    "id": "mfbyhsIQquWY"
   },
   "outputs": [],
   "source": [
    "def evaluate(model, elmo, test_data, criterion,epoch_acc=[],epoch_loss=[]):\n",
    "    \n",
    "    model.eval()\n",
    "    \n",
    "    with torch.no_grad():\n",
    "        for t, l in train_dataloader:\n",
    "            # reshape the data to n_words x batch_size (here batch_size=1)\n",
    "            # t = t.view((-1, 1))\n",
    "            # transfer the data to GPU to make it accessible for the model and the loss\n",
    "            t = batch_to_ids(t).to(device)\n",
    "            t_elmo = elmo(t)['elmo_representations'][0]\n",
    "            l = l.to(device)\n",
    "            \n",
    "            # forward pass of training\n",
    "            # compute predictions with current parameters\n",
    "            predictions = model(t_elmo)\n",
    "            # compute the accuracy (this is only for report)\n",
    "            loss = criterion(predictions, l)\n",
    "            y_pred=torch.sigmoid(predictions).detach().cpu().numpy().round()\n",
    "            # print('y_pred,l ',y_pred,l)\n",
    "            acc = accuracy_score(y_pred,l.detach().cpu().numpy())\n",
    "\n",
    "            # data for report\n",
    "            epoch_loss.append(loss.item())\n",
    "            epoch_acc.append(acc.item())\n",
    "        \n",
    "    return epoch_loss, epoch_acc"
   ]
  },
  {
   "cell_type": "code",
   "execution_count": 0,
   "metadata": {
    "colab": {},
    "colab_type": "code",
    "id": "cruTVJdCsmVm"
   },
   "outputs": [],
   "source": [
    "def predict(model, elmo, test_data):\n",
    "    \n",
    "    epoch_acc=[]\n",
    "    epoch_loss=[]\n",
    "    \n",
    "    model.eval()\n",
    "    all_outputs = np.array([])\n",
    "\n",
    "    with torch.no_grad():\n",
    "        for t in test_data:\n",
    "\n",
    "            # transfer the data to GPU to make it accessible for the model and the loss\n",
    "            t = batch_to_ids(t).to(device)\n",
    "            t_elmo = elmo(t)['elmo_representations'][0]\n",
    "            \n",
    "            # forward pass of training\n",
    "            # compute predictions with current parameters\n",
    "            predictions = model(t_elmo)\n",
    "\n",
    "            preds=torch.sigmoid(predictions).detach().cpu().numpy().round()\n",
    "\n",
    "            all_outputs = np.append(all_outputs,preds)\n",
    "        \n",
    "    return all_outputs"
   ]
  },
  {
   "cell_type": "code",
   "execution_count": 185,
   "metadata": {
    "colab": {
     "base_uri": "https://localhost:8080/",
     "height": 493
    },
    "colab_type": "code",
    "executionInfo": {
     "elapsed": 485,
     "status": "ok",
     "timestamp": 1577045204043,
     "user": {
      "displayName": "Andrei Vlasov",
      "photoUrl": "",
      "userId": "13337223921435011437"
     },
     "user_tz": -180
    },
    "id": "hjLZlAZWs_KJ",
    "outputId": "dcce8aec-bb4a-4b3f-bab5-f18222355b14"
   },
   "outputs": [
    {
     "data": {
      "image/png": "[encoded data removed]",
      "text/plain": [
       "<Figure size 1008x504 with 2 Axes>"
      ]
     },
     "metadata": {
      "tags": []
     },
     "output_type": "display_data"
    },
    {
     "name": "stdout",
     "output_type": "stream",
     "text": [
      "Epoch: 10 | Epoch Time: 1m 6s\n",
      "\tTrain Loss: 0.673 | Train Acc: 56.72%\n",
      "\t Val. Loss: 0.661 |  Val. Acc: 59.27%\n"
     ]
    }
   ],
   "source": [
    "N_EPOCHS = 10\n",
    "\n",
    "best_valid_loss = float('inf')\n",
    "\n",
    "train_loss_history = []\n",
    "valid_loss_history = []\n",
    "\n",
    "train_acc_history = []\n",
    "valid_acc_history = []\n",
    "\n",
    "for epoch in range(N_EPOCHS):\n",
    "\n",
    "    start_time = time.time()\n",
    "    \n",
    "    train_loss, train_acc = train(model,elmo, train_data, optimizer, criterion)\n",
    "    valid_loss, valid_acc = evaluate(model,elmo, dev_data, criterion)\n",
    "    \n",
    "    train_loss_history.append(np.mean(train_loss))\n",
    "    train_acc_history.append(np.mean(train_acc))\n",
    "    valid_loss_history.append(np.mean(valid_loss))\n",
    "    valid_acc_history.append(np.mean(valid_acc))\n",
    "    end_time = time.time()\n",
    "\n",
    "    epoch_mins, epoch_secs = epoch_time(start_time, end_time)\n",
    "    \n",
    "    if valid_loss[-1] < best_valid_loss:\n",
    "        best_valid_loss = valid_loss[-1]\n",
    "        torch.save(model.state_dict(), 'bilstm-model.pt')\n",
    "\n",
    "    clear_output(True)\n",
    "    plt.figure(figsize=(14, 7))\n",
    "    plt.subplot(121)\n",
    "    plt.plot(np.arange(len(train_loss_history)) + 1, train_loss_history, label='loss on training')\n",
    "    plt.plot(np.arange(len(valid_loss_history)) + 1, valid_loss_history, label='loss on validation')\n",
    "    plt.ylabel('loss')\n",
    "    plt.xlabel('epoch number')\n",
    "    plt.legend()\n",
    "    plt.grid()\n",
    "\n",
    "    plt.subplot(122)\n",
    "    plt.plot(np.arange(len(train_acc_history)) + 1, train_acc_history, label='accuracy on training')\n",
    "    plt.plot(np.arange(len(valid_acc_history)) + 1, valid_acc_history, label='accuracy on validation')\n",
    "    plt.ylabel('accuracy')\n",
    "    plt.xlabel('epoch number')\n",
    "    plt.legend()\n",
    "    plt.grid()\n",
    "    plt.show()\n",
    "\n",
    "    print(f'Epoch: {epoch+1:02} | Epoch Time: {epoch_mins}m {epoch_secs}s')\n",
    "    print(f'\\tTrain Loss: {np.mean(train_loss):.3f} | Train Acc: {np.mean(train_acc)*100:.2f}%')\n",
    "    print(f'\\t Val. Loss: {np.mean(valid_loss):.3f} |  Val. Acc: {np.mean(valid_acc)*100:.2f}%')"
   ]
  },
  {
   "cell_type": "code",
   "execution_count": 0,
   "metadata": {
    "colab": {},
    "colab_type": "code",
    "id": "xuhPKf7LPo2W"
   },
   "outputs": [],
   "source": [
    "test_dataloader=DataLoader(test_texts_tok,batch_size=256,shuffle=False)\n",
    "train_dataloader_pred =DataLoader(train_texts_tok,batch_size=256,shuffle=False)\n",
    "dev_dataloader=DataLoader(dev_texts_tok,batch_size=256,shuffle=False)\n",
    "dev_b_dataloader=DataLoader(dev_b_texts_tok,batch_size=256,shuffle=False)"
   ]
  },
  {
   "cell_type": "code",
   "execution_count": 0,
   "metadata": {
    "colab": {},
    "colab_type": "code",
    "id": "mMdNFPIbPJNd"
   },
   "outputs": [],
   "source": [
    "preds_train = predict(model,elmo,train_dataloader_pred)\n",
    "preds_dev = predict(model,elmo,dev_dataloader)\n",
    "preds_dev_b = predict(model,elmo,dev_b_dataloader)"
   ]
  },
  {
   "cell_type": "code",
   "execution_count": 212,
   "metadata": {
    "colab": {
     "base_uri": "https://localhost:8080/",
     "height": 34
    },
    "colab_type": "code",
    "executionInfo": {
     "elapsed": 58501,
     "status": "ok",
     "timestamp": 1577046304011,
     "user": {
      "displayName": "Andrei Vlasov",
      "photoUrl": "",
      "userId": "13337223921435011437"
     },
     "user_tz": -180
    },
    "id": "W-08J0VtRWuB",
    "outputId": "ebc4f7cd-17eb-4989-945c-8660b04dc794"
   },
   "outputs": [
    {
     "data": {
      "text/plain": [
       "0.6777333333333333"
      ]
     },
     "execution_count": 212,
     "metadata": {
      "tags": []
     },
     "output_type": "execute_result"
    }
   ],
   "source": [
    "accuracy_score(y_train,preds_train)"
   ]
  },
  {
   "cell_type": "code",
   "execution_count": 213,
   "metadata": {
    "colab": {
     "base_uri": "https://localhost:8080/",
     "height": 34
    },
    "colab_type": "code",
    "executionInfo": {
     "elapsed": 58158,
     "status": "ok",
     "timestamp": 1577046304011,
     "user": {
      "displayName": "Andrei Vlasov",
      "photoUrl": "",
      "userId": "13337223921435011437"
     },
     "user_tz": -180
    },
    "id": "qbc-H7-5RaYK",
    "outputId": "3714d333-ac68-48ea-a6ce-201f16cf0960"
   },
   "outputs": [
    {
     "data": {
      "text/plain": [
       "0.4994"
      ]
     },
     "execution_count": 213,
     "metadata": {
      "tags": []
     },
     "output_type": "execute_result"
    }
   ],
   "source": [
    "accuracy_score(y_dev,preds_dev)"
   ]
  },
  {
   "cell_type": "code",
   "execution_count": 214,
   "metadata": {
    "colab": {
     "base_uri": "https://localhost:8080/",
     "height": 34
    },
    "colab_type": "code",
    "executionInfo": {
     "elapsed": 57851,
     "status": "ok",
     "timestamp": 1577046304012,
     "user": {
      "displayName": "Andrei Vlasov",
      "photoUrl": "",
      "userId": "13337223921435011437"
     },
     "user_tz": -180
    },
    "id": "HpqKHqvARcKr",
    "outputId": "bb69dc4f-804e-488e-a2fc-e8be632d4526"
   },
   "outputs": [
    {
     "data": {
      "text/plain": [
       "0.5025"
      ]
     },
     "execution_count": 214,
     "metadata": {
      "tags": []
     },
     "output_type": "execute_result"
    }
   ],
   "source": [
    "accuracy_score(y_dev_b,preds_dev_b)"
   ]
  },
  {
   "cell_type": "markdown",
   "metadata": {
    "colab_type": "text",
    "id": "uhfuhmqcMyRb"
   },
   "source": [
    "## **I don't have enough time for it because I don't train more epoches. That's why I set more epoches in file.py.**"
   ]
  }
 ],
 "metadata": {
  "accelerator": "GPU",
  "colab": {
   "collapsed_sections": [
    "B2yMayOa-bqw"
   ],
   "name": "assignment4.ipynb",
   "provenance": []
  },
  "kernelspec": {
   "display_name": "Python 3",
   "language": "python",
   "name": "python3"
  },
  "language_info": {
   "codemirror_mode": {
    "name": "ipython",
    "version": 3
   },
   "file_extension": ".py",
   "mimetype": "text/x-python",
   "name": "python",
   "nbconvert_exporter": "python",
   "pygments_lexer": "ipython3",
   "version": "3.7.1"
  }
 },
 "nbformat": 4,
 "nbformat_minor": 1
}
