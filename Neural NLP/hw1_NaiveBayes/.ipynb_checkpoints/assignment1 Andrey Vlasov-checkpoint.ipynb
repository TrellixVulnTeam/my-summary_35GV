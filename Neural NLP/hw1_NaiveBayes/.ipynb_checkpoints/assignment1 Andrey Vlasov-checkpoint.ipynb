{
 "cells": [
  {
   "cell_type": "markdown",
   "metadata": {},
   "source": [
    "# Assignment 1. Sentiment analysis using Naive Bayes classifier"
   ]
  },
  {
   "cell_type": "markdown",
   "metadata": {},
   "source": [
    "Full instructions on completion of this assignment can be found in Canvas."
   ]
  },
  {
   "cell_type": "markdown",
   "metadata": {},
   "source": [
    "## 1. Theoretical part"
   ]
  },
  {
   "cell_type": "markdown",
   "metadata": {},
   "source": [
    "### Naive Bayes Classifier, the Bernoulli model\n",
    "\n",
    "Let $V$ be a set of words $\\{v_1 ,v_2 ,...,v_{|V|} \\}$ (dictionary). In the Bernoulli model for each class $c_j$ we look at random $|V|$-dimentional variable ($\\beta_{1j}, \\beta_{2j}, ..., \\beta_{|V|j}$) with independent components. Component $\\beta_i$ corresponds to $v_i$ word in the dictionary and has Bernoulli distribution with success probability $s_{ij}$. In other words, for each class $c_j$ we have our own set of $|V|$ asymmetrical coins.\n",
    "\n",
    "In order to generate a document (words collection) we need to flip all these coins and choose those words from the dictionary that appeared with \"heads\". \n",
    "\n",
    "Documents that differ only with the word order or/and frequencies should be considered equal.\n",
    "\n",
    "In each of the following questions write the formula in the **general form** first, then its **estimation on the train set** using **additive smoothing** (Laplace smoothing).\n",
    "\n",
    "a) Find $P(v_i \\in d | c_j)$ -- probability to see the word $v_i$ from the dictionary $V$ in a random document of $c_j$ class\n",
    "\n",
    "$$P(v_i \\in d | c_j) = \\frac{\\sum_{k=1}^{|D|} \\beta_{ki} P(c_j |d_k) }{\\sum_{k=1}^{|D|}P(c_j |d_k) }~,~where~~P(c_j |d_k) = (0,1) $$ \n",
    "<center>With additive smoothing (Laplace smoothing). <center\\>\n",
    "$$P(v_i \\in d | c_j) = \\frac{\\sum_{k=1}^{|D|} \\beta_{ki} P(c_j |d_k)+1 }{\\sum_{k=1}^{|D|}P(c_j |d_k)+|C| } = \\frac{\\sum_{k=1}^{|D|} \\beta_{ki} P(c_j |d_k)+1 }{\\sum_{k=1}^{|D|}P(c_j |d_k) + 2 }~,~where~~P(c_j |d_k) = (0,1) $$ \n",
    "\n",
    "b) Find $P(d=(k_1,k_2,...,k_{|V|}) | c_j)$ – probability of document $d$ from class $c_j$ to comprise $k_1, k_2, ..., k_{|V|}$ entries of words $v_1, v_2, ..., v_{|V|}$. Use the naive assumption that the features are independent.\n",
    "$$P(d=(k_1,k_2,...,k_{|V|}) | c_j) = \\prod_{i=1}^{|V|}P(v_i | c_j)^{\\beta_{ki}}(1-P(v_i | c_j))^{(1-\\beta_{ki})} = \\prod_{i=1}^{|V|} \\beta_{ki} P(v_i | c_j)+(1-\\beta_{ki})(1-P(v_i | c_j))$$\n",
    "\n",
    "\n",
    "c) Find $P(c_j|d)$ -- probability that document $d$ belongs to class $c_j$. Use Bayes’ rule.\n",
    "$$P(c_j|d_i) = \\frac{P(d_i|c_j)P(c_j)}{P(d_i)} = \\text{As denominator is same for every class} = P(d_i|c_j)P(c_j)$$\n",
    "\n",
    "d) Which class $c_j$ will be assigned to document $d$, given the $P(c_j)$ and $P(d|c_j)$? How to evaluate the error probability?\n",
    "\n",
    "$$c = \\operatorname{argmax}_{c \\in C}P(c|d) =\\operatorname{argmax}_{c \\in C} \\frac{P(d|c_j)P(c_j)}{P(d)} = \\operatorname{argmax}_{c \\in C} P(d|c_j)P(c_j)$$"
   ]
  },
  {
   "cell_type": "markdown",
   "metadata": {},
   "source": [
    "### Multinomial Naive Bayes classifier\n",
    "For each class $c_j$ we consider a random variable $W$ with multinominal distribution $Mult(r_{1j} ,..., r_{|V|j})$ (a dice with $|V|$ faces, probability of $i^{th}$ face is $r_{ij}$) and a random variable $N$ with the $P(N)$ distribution, $N \\in [1, \\infty)$.\n",
    "\n",
    "For each document we first sample its length $n\\sim P(N)$ than we sample $n$ times each word $w\\sim Mutl(r_{1j},..., r_{|V|j} )$: $n$ times we roll the unsymmetrical dice with $V$ faces. \n",
    "\n",
    "\n",
    "We assume that document length does not depend on class: \n",
    "$$\n",
    "P(N|c_j )=P(N)\n",
    "$$\n",
    "\n",
    "In this case we may ignore the length as well as the document probability $P(d)$. Documents that differ only with the word order are considered equal\n",
    "\n",
    "a) Find $P(v_i \\in d | c_j)$ -- probability to see the word $v_i$ from the dictionary $V$ in a random document of $c_j$ class\n",
    "\n",
    "$$P(v_i \\in d | c_j) = \\frac{\\sum_{k=1}^{|D|} r_{ki} P(c_j |d_k) }{\\sum_{k=1}^{|D|}P(c_j |d_k) }~,~where~~P(c_j |d_k) = (0,1) $$ \n",
    "\n",
    "<center>With additive smoothing (Laplace smoothing). <center\\>\n",
    "    \n",
    "$$P(v_i \\in d | c_j) = \\frac{\\sum_{k=1}^{|D|} r_{ki} P(c_j |d_k)+1 }{\\sum_{i=1}^{|V|}\\sum_{k=1}^{|D|}r_{ki}P(c_j |d_k) + |V| }~,~where~~P(c_j |d_k) = (0,1) $$ \n",
    "\n",
    "b) Find $P(d=(k_1,k_2,...,k_{|V|}) | c_j)$ – probability of document $d$ from class $c_j$ to comprise $k_1, k_2, ..., k_{|V|}$ entries of words $v_1, v_2, ..., v_{|V|}$. Use the naive assumption that the features are independent.\n",
    "\n",
    "$$P(d=(k_1,k_2,...,k_{|V|}) | c_j) = (\\sum_{i=1}^{|V|}r_{ki})!\\prod_{i=1}^{|V|}\\frac{P(v_i | c_j)^{r_{ki}}}{r_{ki}!}  = |N|!\\prod_{i=1}^{|V|}\\frac{P(v_i | c_j)^{r_{ki}}}{r_{ki}!}$$\n",
    "\n",
    "\n",
    "c) Find $P(c_j|d)$ -- probability that document $d$ belongs to class $c_j$. Use Bayes’ rule.\n",
    "$$P(c_j|d_i) = \\frac{P(d_i|c_j)P(c_j)}{P(d_i)} = \\text{As denominator is same for every class} = P(d_i|c_j)P(c_j) \\Rightarrow \\text{let's go to logarithm representation}\\Rightarrow$$\n",
    "$$P(c_j|d_i) = \\log P(c_j) + \\sum_{i=1}^{|V|}r_{ki}\\log P(v_i | c_j)$$\n",
    "\n",
    "d) Which class $c_j$ will be assigned to document $d$, given the $P(c_j)$ and $P(d|c_j)$? How to evaluate the error probability?\n",
    "\n",
    "$$c = \\operatorname{argmax}_{c \\in C}P(c|d) =\\operatorname{argmax}_{c \\in C} \\frac{P(d|c_j)P(c_j)}{P(d)} = \\operatorname{argmax}_{c \\in C} P(d|c_j)P(c_j)$$"
   ]
  },
  {
   "cell_type": "markdown",
   "metadata": {},
   "source": [
    "## 2. Practical part"
   ]
  },
  {
   "cell_type": "markdown",
   "metadata": {},
   "source": [
    "_**NB**: Classifiers should be **compatible with python 3.7** and **independent of third-party (non-standard) libraries**. We recommend to install Anaconda and to create an environment, containing python 3.7 only:_"
   ]
  },
  {
   "cell_type": "code",
   "execution_count": null,
   "metadata": {},
   "outputs": [],
   "source": [
    "!conda create -n a1 python=3.7 --yes"
   ]
  },
  {
   "cell_type": "code",
   "execution_count": 1,
   "metadata": {},
   "outputs": [
    {
     "name": "stdout",
     "output_type": "stream",
     "text": [
      "\r\n",
      "CommandNotFoundError: Your shell has not been properly configured to use 'conda activate'.\r\n",
      "If your shell is Bash or a Bourne variant, enable conda for the current user with\r\n",
      "\r\n",
      "    $ echo \". /home/andrey/anaconda3/etc/profile.d/conda.sh\" >> ~/.bashrc\r\n",
      "\r\n",
      "or, for all users, enable conda with\r\n",
      "\r\n",
      "    $ sudo ln -s /home/andrey/anaconda3/etc/profile.d/conda.sh /etc/profile.d/conda.sh\r\n",
      "\r\n",
      "The options above will permanently enable the 'conda' command, but they do NOT\r\n",
      "put conda's base (root) environment on PATH.  To do so, run\r\n",
      "\r\n",
      "    $ conda activate\r\n",
      "\r\n",
      "in your terminal, or to put the base environment on PATH permanently, run\r\n",
      "\r\n",
      "    $ echo \"conda activate\" >> ~/.bashrc\r\n",
      "\r\n",
      "Previous to conda 4.4, the recommended way to activate conda was to modify PATH in\r\n",
      "your ~/.bashrc file.  You should manually remove the line that looks like\r\n",
      "\r\n",
      "    export PATH=\"/home/andrey/anaconda3/bin:$PATH\"\r\n",
      "\r\n",
      "^^^ The above line should NO LONGER be in your ~/.bashrc file! ^^^\r\n",
      "\r\n",
      "\r\n"
     ]
    }
   ],
   "source": [
    "!conda activate a1 "
   ]
  },
  {
   "cell_type": "code",
   "execution_count": 1,
   "metadata": {},
   "outputs": [],
   "source": [
    "import pandas as pd\n",
    "import numpy as np \n",
    "import re"
   ]
  },
  {
   "cell_type": "markdown",
   "metadata": {},
   "source": [
    "Implement Bernoulli Naive Bayes and Multinomial Naive Bayes classifiers. Evaluate them on FILIMDB Dataset ([http://github.com/slangtech/filimdb_evaluation](http://github.com/slangtech/filimdb\\_evaluation)). Use accuracy to compare their performance on train / dev / test sets."
   ]
  },
  {
   "cell_type": "markdown",
   "metadata": {},
   "source": [
    "1. Split train data into two lists: positives and negative reviews. What is the min/max/avg/median length of negative reviews?"
   ]
  },
  {
   "cell_type": "code",
   "execution_count": 2,
   "metadata": {},
   "outputs": [],
   "source": [
    "def read_data(path):\n",
    "    data_path = '../FILIMDB/'\n",
    "    data_path += path\n",
    "    data= []\n",
    "    with open(data_path) as file:\n",
    "        for line in file:\n",
    "            data.append(line.strip())\n",
    "    return data"
   ]
  },
  {
   "cell_type": "code",
   "execution_count": 3,
   "metadata": {},
   "outputs": [],
   "source": [
    "train_texts, test_texts, dev_texts = read_data('train.texts'),read_data('test.texts'),read_data('dev.texts')\n",
    "dev_b_texts, test_b_texts = read_data('dev-b.texts'),read_data('test-b.texts')\n",
    "train_labels , dev_labels, dev_b_labels =  read_data('train.labels'), read_data('dev.labels'), read_data('dev-b.labels')\n"
   ]
  },
  {
   "cell_type": "code",
   "execution_count": 4,
   "metadata": {},
   "outputs": [
    {
     "data": {
      "text/plain": [
       "pos    7520\n",
       "neg    7480\n",
       "dtype: int64"
      ]
     },
     "execution_count": 4,
     "metadata": {},
     "output_type": "execute_result"
    }
   ],
   "source": [
    "pd.Series(train_labels).value_counts()"
   ]
  },
  {
   "cell_type": "code",
   "execution_count": 5,
   "metadata": {},
   "outputs": [],
   "source": [
    "def pos_neg_reviews(sentiment,train_texts,train_labels):\n",
    "    tr_labl= np.array(train_labels)\n",
    "    tr_text= np.array(train_texts)\n",
    "    return list(tr_text[np.where(tr_labl == sentiment)[0]])"
   ]
  },
  {
   "cell_type": "code",
   "execution_count": 6,
   "metadata": {},
   "outputs": [],
   "source": [
    "train_texts_pos = pos_neg_reviews('pos',train_texts,train_labels)\n",
    "train_texts_neg = pos_neg_reviews('neg',train_texts,train_labels)"
   ]
  },
  {
   "cell_type": "code",
   "execution_count": 7,
   "metadata": {},
   "outputs": [
    {
     "data": {
      "text/plain": [
       "(7520, 7480)"
      ]
     },
     "execution_count": 7,
     "metadata": {},
     "output_type": "execute_result"
    }
   ],
   "source": [
    "len(train_texts_pos),len(train_texts_neg)"
   ]
  },
  {
   "cell_type": "code",
   "execution_count": 8,
   "metadata": {},
   "outputs": [],
   "source": [
    "train_texts_neg_len = [len(line) for line in train_texts_neg]"
   ]
  },
  {
   "cell_type": "code",
   "execution_count": 9,
   "metadata": {},
   "outputs": [
    {
     "name": "stdout",
     "output_type": "stream",
     "text": [
      "length of negative reviews\n",
      " min = 52 max = 8969\n",
      "avg = 1316.356550802139 median = 981.0\n"
     ]
    }
   ],
   "source": [
    "print('length of negative reviews\\n','min =',np.min(train_texts_neg_len),'max =',np.max(train_texts_neg_len),)\n",
    "print('avg =',np.mean(train_texts_neg_len),'median =',np.median(train_texts_neg_len))"
   ]
  },
  {
   "cell_type": "markdown",
   "metadata": {},
   "source": [
    "2. Preprocess the data. Convert texts to lowercase, surround non-alphanumeric symbols with spaces. \n",
    "\n",
    "_(Be careful: you may come across non-latin characters, e.g. **é** in the word \"cliché\". However, keeping this word is quite beneficial: word \"cliché\" serves as a good feature for negative reviews)._"
   ]
  },
  {
   "cell_type": "code",
   "execution_count": 10,
   "metadata": {},
   "outputs": [],
   "source": [
    "import string"
   ]
  },
  {
   "cell_type": "code",
   "execution_count": 11,
   "metadata": {},
   "outputs": [],
   "source": [
    "stopwords_eng = set([\"them\", \"she\", \"wasn\", \"wasn't\", \"having\", \"ll\", \"hadn\", \"nor\", \"why\", \"these\", \"she's\", \"both\", \"you're\", \"an\", \"between\", \"myself\", \"because\", \"being\", \"ve\", \"while\", \"over\", \"whom\", \"isn\", \"shouldn\", \"wouldn't\", \"been\", \"d\", \"themselves\", \"does\", \"most\", \"below\", \"his\", \"you'll\", \"further\", \"there\", \"was\", \"ain\", \"doesn't\", \"each\", \"couldn\", \"which\", \"that'll\", \"down\", \"won't\", \"than\", \"y\", \"should've\", \"have\", \"until\", \"their\", \"through\", \"ma\", \"before\", \"is\", \"yours\", \"so\", \"up\", \"hasn\", \"doesn\", \"him\", \"very\", \"if\", \"mustn\", \"or\", \"it's\", \"too\", \"re\", \"mustn't\", \"as\", \"now\", \"isn't\", \"mightn't\", \"those\", \"other\", \"above\", \"who\", \"do\", \"the\", \"wouldn\", \"some\", \"this\", \"for\", \"don\", \"me\", \"any\", \"what\", \"theirs\", \"weren't\", \"mightn\", \"aren\", \"ours\", \"your\", \"didn't\", \"shan\", \"shouldn't\", \"off\", \"has\", \"just\", \"himself\", \"herself\", \"m\", \"we\", \"by\", \"aren't\", \"yourselves\", \"again\", \"after\", \"you've\", \"you\", \"how\", \"such\", \"can\", \"o\", \"were\", \"not\", \"they\", \"out\", \"few\", \"with\", \"i\", \"be\", \"haven't\", \"are\", \"s\", \"hadn't\", \"had\", \"our\", \"don't\", \"in\", \"needn't\", \"but\", \"during\", \"weren\", \"it\", \"will\", \"a\", \"did\", \"of\", \"shan't\", \"ourselves\", \"and\", \"no\", \"doing\", \"yourself\", \"at\", \"then\", \"you'd\", \"he\", \"once\", \"about\", \"where\", \"more\", \"only\", \"into\", \"same\", \"my\", \"hers\", \"t\", \"when\", \"its\", \"own\", \"here\", \"all\", \"won\", \"needn\", \"under\", \"br\", \"that\", \"couldn't\", \"from\", \"against\", \"itself\", \"am\", \"should\", \"her\", \"on\", \"to\", \"didn\", \"haven\", \"hasn't\",\"i\", \"me\", \"my\", \"myself\", \"we\", \"our\", \"ours\", \"ourselves\", \"you\", \"you're\", \"you've\", \"you'll\", \"you'd\", \"your\", \"yours\", \"yourself\", \"yourselves\", \"he\", \"him\", \"his\", \"himself\", \"she\", \"she's\", \"her\", \"hers\", \"herself\", \"it\", \"it's\", \"its\", \"itself\", \"they\", \"them\", \"their\", \"theirs\", \"themselves\", \"what\", \"which\", \"who\", \"whom\", \"this\", \"that\", \"that'll\", \"these\", \"those\", \"am\", \"is\", \"are\", \"was\", \"were\", \"be\", \"been\", \"being\", \"have\", \"has\", \"had\", \"having\", \"do\", \"does\", \"did\", \"doing\", \"a\", \"an\", \"the\", \"and\", \"but\", \"if\", \"or\", \"because\", \"as\", \"until\", \"while\", \"of\", \"at\", \"by\", \"for\", \"with\", \"about\", \"against\", \"between\", \"into\", \"through\", \"during\", \"before\", \"after\", \"above\", \"below\", \"to\", \"from\", \"up\", \"down\", \"in\", \"out\", \"on\", \"off\", \"over\", \"under\", \"again\", \"further\", \"then\", \"once\", \"here\", \"there\", \"when\", \"where\", \"why\", \"how\", \"all\", \"any\", \"both\", \"each\", \"few\", \"more\", \"most\", \"other\", \"some\", \"such\", \"no\", \"nor\", \"not\", \"only\", \"own\", \"same\", \"so\", \"than\", \"too\", \"very\", \"s\", \"t\", \"can\", \"will\", \"just\", \"don\", \"don't\", \"should\", \"should've\", \"now\", \"d\", \"ll\", \"m\", \"o\", \"re\", \"ve\", \"y\", \"ain\", \"aren\", \"aren't\", \"couldn\", \"couldn't\", \"didn\", \"didn't\", \"doesn\", \"doesn't\", \"hadn\", \"hadn't\", \"hasn\", \"hasn't\", \"haven\", \"haven't\", \"isn\", \"isn't\", \"ma\", \"mightn\", \"mightn't\", \"mustn\", \"mustn't\", \"needn\", \"needn't\", \"shan\", \"shan't\", \"shouldn\", \"shouldn't\", \"wasn\", \"wasn't\", \"weren\", \"weren't\", \"won\", \"won't\", \"wouldn\", \"wouldn't\", \"br\"])"
   ]
  },
  {
   "cell_type": "code",
   "execution_count": 12,
   "metadata": {},
   "outputs": [],
   "source": [
    "def preprocess(text,stop_words=False,punctuation=False):\n",
    "    \"\"\"\n",
    "    Preprocess the data\n",
    "    \n",
    "    stop_words: flag to remove stopwords\n",
    "    punctuation: flag to remove punctuation\n",
    "    \"\"\"\n",
    "    new_text = []\n",
    "    for num,value in enumerate(text):\n",
    "        value = value.lower()\n",
    "        \n",
    "        for char in set(string.punctuation):\n",
    "            value = value.replace(char,\" \"+char+\" \")\n",
    "\n",
    "        if stop_words:\n",
    "            pp = \" \".join([word for word in value.split() if word not in stopwords_eng])\n",
    "            if punctuation:\n",
    "                punctn = string.punctuation+'…–—‘“‚„«»'\n",
    "                pp = pp.translate(str.maketrans('', '',punctn ))\n",
    "                new_text.append(\" \".join(pp.split()))\n",
    "            else:\n",
    "                new_text.append(pp)\n",
    "        else:\n",
    "            new_text.append(\" \".join(value.split())) # remove multiple spaces\n",
    "             \n",
    "        \n",
    "    return new_text"
   ]
  },
  {
   "cell_type": "code",
   "execution_count": 13,
   "metadata": {},
   "outputs": [],
   "source": [
    "train_texts = preprocess(train_texts, stop_words=True)\n",
    "test_texts = preprocess(test_texts, stop_words=True,punctuation=True)\n",
    "dev_texts = preprocess(dev_texts, stop_words=True,punctuation=True)\n",
    "\n",
    "dev_b_texts = preprocess(dev_b_texts, stop_words=True,punctuation=True)\n",
    "test_b_texts = preprocess(test_b_texts, stop_words=True,punctuation=True)"
   ]
  },
  {
   "cell_type": "code",
   "execution_count": 14,
   "metadata": {},
   "outputs": [],
   "source": [
    "train_texts_stop_punc = preprocess(train_texts, stop_words=True,punctuation=True)"
   ]
  },
  {
   "cell_type": "code",
   "execution_count": 15,
   "metadata": {},
   "outputs": [
    {
     "data": {
      "text/plain": [
       "'myth regarding broken mirrors would accurate , everybody involved production would face approximately 170 years bad luck , lot mirrors falling little pieces . script shattering glass , \" broken \" would brilliant film . \\' sadly overlong , derivative dull movie handful remarkable ideas memorable sequences . sean ellis made stylish elegantly photographed movie , story lackluster total absence logic explanation really frustrating . got discussion friend regarding basic concept \" meaning \" film . thinks ellis found inspiration old legend claiming spotting doppelganger foreboding \\' going die . interesting theory , \\' familiar legend \\' find anything internet , neither . personally , think \" broken \" yet another umpteenth variation theme \" invasion body snatchers \" without alien interference . \" broken \" centers american mcvey family living london , particularly gina . mirror spontaneously breaks birthday celebration , triggers whole series mysterious seemingly supernatural events . gina spots driving car follows mirror image apartment building . whilst driving home state mental confusion , causes terrible car accident ends hospital . dismissed , gina feels like whole surrounding changing . \\' recognize boyfriend anymore uncanny fragments accident keep flashing eyes . suffer mental traumas invoked accident really supernatural conspiracy happening around ? writer / director sean ellis definitely invokes feelings curiosity suspense script , unfortunately fails properly elaborate . \" broken \" truly atmospheric stylish effort , half hour film , come painful conclusion shall remain beautiful empty package . \\' frustratingly high amount \" fake \" suspense film . means building tension , ominous music eerie camera angels , absolutely nothing even happened far . time actually mysteriousness kicks , tricks \\' scary effect anymore . fellow reviewers around compare film particularly sean ellis \\' style repertoires david lynch , stanley kubrick even alfred hitchcock , way , way way much honor . ps : alternate spelling ; one scandinavian \" ø \"'"
      ]
     },
     "execution_count": 15,
     "metadata": {},
     "output_type": "execute_result"
    }
   ],
   "source": [
    "train_texts[0]"
   ]
  },
  {
   "cell_type": "code",
   "execution_count": 16,
   "metadata": {
    "scrolled": true
   },
   "outputs": [
    {
     "data": {
      "text/plain": [
       "'myth regarding broken mirrors would accurate everybody involved production would face approximately 170 years bad luck lot mirrors falling little pieces script shattering glass broken would brilliant film sadly overlong derivative dull movie handful remarkable ideas memorable sequences sean ellis made stylish elegantly photographed movie story lackluster total absence logic explanation really frustrating got discussion friend regarding basic concept meaning film thinks ellis found inspiration old legend claiming spotting doppelganger foreboding going die interesting theory familiar legend find anything internet neither personally think broken yet another umpteenth variation theme invasion body snatchers without alien interference broken centers american mcvey family living london particularly gina mirror spontaneously breaks birthday celebration triggers whole series mysterious seemingly supernatural events gina spots driving car follows mirror image apartment building whilst driving home state mental confusion causes terrible car accident ends hospital dismissed gina feels like whole surrounding changing recognize boyfriend anymore uncanny fragments accident keep flashing eyes suffer mental traumas invoked accident really supernatural conspiracy happening around writer director sean ellis definitely invokes feelings curiosity suspense script unfortunately fails properly elaborate broken truly atmospheric stylish effort half hour film come painful conclusion shall remain beautiful empty package frustratingly high amount fake suspense film means building tension ominous music eerie camera angels absolutely nothing even happened far time actually mysteriousness kicks tricks scary effect anymore fellow reviewers around compare film particularly sean ellis style repertoires david lynch stanley kubrick even alfred hitchcock way way way much honor ps alternate spelling one scandinavian ø'"
      ]
     },
     "execution_count": 16,
     "metadata": {},
     "output_type": "execute_result"
    }
   ],
   "source": [
    "train_texts_stop_punc[0]"
   ]
  },
  {
   "cell_type": "markdown",
   "metadata": {},
   "source": [
    "3. Tokenization step: reviews should be stored as lists of tokens ( tokens = words, numbers, punctuation). \n",
    "\n",
    "_NB: if tokenization is performed correctly, punctuation won't be adjacent to previous words. Moreover, place tokenization and preprocessing steps into separate functions (to be reused for test data preprocessing). Why is it important to preprocess both train and test data equally?_"
   ]
  },
  {
   "cell_type": "code",
   "execution_count": 17,
   "metadata": {},
   "outputs": [],
   "source": [
    "def tokenization(text):\n",
    "    return [line.split() for line in text]"
   ]
  },
  {
   "cell_type": "code",
   "execution_count": 18,
   "metadata": {},
   "outputs": [],
   "source": [
    "train_texts_tok = tokenization(train_texts)\n",
    "train_texts_stop_punc_tok = tokenization(train_texts_stop_punc)"
   ]
  },
  {
   "cell_type": "code",
   "execution_count": 19,
   "metadata": {},
   "outputs": [],
   "source": [
    "dev_texts_tok = tokenization(dev_texts)\n",
    "dev_b_texts_tok = tokenization(dev_b_texts)"
   ]
  },
  {
   "cell_type": "markdown",
   "metadata": {},
   "source": [
    "4. Create two python dictionaries (words to frequencies) for positive and negative reviews, print their 15 most common words. \n",
    "\n",
    "Find 15 words with max and min Bayes weigths. Print both words and weights. Naive Bayes weight is equal to \n",
    "$$\n",
    "log (\\frac{P(w|pos)}{P(w|neg)}).$$\n"
   ]
  },
  {
   "cell_type": "code",
   "execution_count": 20,
   "metadata": {},
   "outputs": [],
   "source": [
    "flag = True\n",
    "train_texts_stop_punc_pos = preprocess(train_texts_pos,stop_words=flag,punctuation=flag)\n",
    "train_texts_stop_punc_neg = preprocess(train_texts_neg,stop_words=flag,punctuation=flag)"
   ]
  },
  {
   "cell_type": "code",
   "execution_count": 21,
   "metadata": {},
   "outputs": [],
   "source": [
    "train_texts_stop_punc_pos_tok = tokenization(train_texts_stop_punc_pos)\n",
    "train_texts_stop_punc_neg_tok = tokenization(train_texts_stop_punc_neg)"
   ]
  },
  {
   "cell_type": "code",
   "execution_count": 22,
   "metadata": {},
   "outputs": [],
   "source": [
    "def make_vocab(text, mode='ber'):\n",
    "    vocab = dict()\n",
    "    \n",
    "    if mode == 'ber':    \n",
    "        for line in text:\n",
    "            for word in set(line):     \n",
    "                if word not in vocab:\n",
    "                    vocab[word] = 1\n",
    "                else:\n",
    "                    vocab[word] +=1\n",
    "    else:\n",
    "        for line in text:\n",
    "            for word in line:     \n",
    "                if word not in vocab:\n",
    "                    vocab[word] = 1\n",
    "                else:\n",
    "                    vocab[word] +=1\n",
    "    return vocab"
   ]
  },
  {
   "cell_type": "code",
   "execution_count": 23,
   "metadata": {},
   "outputs": [],
   "source": [
    "dict_stop_punc = make_vocab(train_texts_stop_punc_tok)"
   ]
  },
  {
   "cell_type": "code",
   "execution_count": 24,
   "metadata": {},
   "outputs": [],
   "source": [
    "dict_stop_punc_pos = make_vocab(train_texts_stop_punc_pos_tok)\n",
    "dict_stop_punc_neg = make_vocab(train_texts_stop_punc_neg_tok)"
   ]
  },
  {
   "cell_type": "markdown",
   "metadata": {},
   "source": [
    "### 15 most common words. without stopwords &  punctuation"
   ]
  },
  {
   "cell_type": "code",
   "execution_count": 25,
   "metadata": {},
   "outputs": [
    {
     "data": {
      "text/plain": [
       "[('movie', 4297),\n",
       " ('one', 4280),\n",
       " ('film', 4245),\n",
       " ('like', 3241),\n",
       " ('good', 2866),\n",
       " ('well', 2661),\n",
       " ('time', 2622),\n",
       " ('great', 2551),\n",
       " ('story', 2544),\n",
       " ('see', 2535),\n",
       " ('also', 2262),\n",
       " ('would', 2227),\n",
       " ('really', 2169),\n",
       " ('even', 2128),\n",
       " ('first', 2018)]"
      ]
     },
     "execution_count": 25,
     "metadata": {},
     "output_type": "execute_result"
    }
   ],
   "source": [
    "[(k, dict_stop_punc_pos[k]) for k in sorted(dict_stop_punc_pos, key=dict_stop_punc_pos.get, reverse=True)][:15]"
   ]
  },
  {
   "cell_type": "code",
   "execution_count": 26,
   "metadata": {},
   "outputs": [
    {
     "data": {
      "text/plain": [
       "[('movie', 4971),\n",
       " ('one', 4240),\n",
       " ('film', 4125),\n",
       " ('like', 3833),\n",
       " ('even', 2936),\n",
       " ('good', 2914),\n",
       " ('would', 2714),\n",
       " ('bad', 2653),\n",
       " ('time', 2645),\n",
       " ('really', 2411),\n",
       " ('see', 2335),\n",
       " ('much', 2248),\n",
       " ('get', 2166),\n",
       " ('make', 2142),\n",
       " ('could', 2085)]"
      ]
     },
     "execution_count": 26,
     "metadata": {},
     "output_type": "execute_result"
    }
   ],
   "source": [
    "[(k, dict_stop_punc_neg[k]) for k in sorted(dict_stop_punc_neg, key=dict_stop_punc_neg.get, reverse=True)][:15]"
   ]
  },
  {
   "cell_type": "code",
   "execution_count": 27,
   "metadata": {},
   "outputs": [],
   "source": [
    "train_pos_all,train_neg_all = len(train_texts_stop_punc_pos_tok),len(train_texts_stop_punc_neg_tok)\n",
    "train_all = train_pos_all+train_neg_all "
   ]
  },
  {
   "cell_type": "code",
   "execution_count": 28,
   "metadata": {},
   "outputs": [],
   "source": [
    "p_c_pos = train_pos_all/(train_pos_all+train_neg_all)\n",
    "p_c_neg = train_neg_all/(train_pos_all+train_neg_all)"
   ]
  },
  {
   "cell_type": "code",
   "execution_count": 29,
   "metadata": {},
   "outputs": [],
   "source": [
    "df  = pd.DataFrame({'pos_cnt':pd.Series(dict_stop_punc_pos),'neg_cnt':pd.Series(dict_stop_punc_neg)})\n",
    "df['pos_probs'] = (df['pos_cnt'].fillna(0)+1) /(train_pos_all+2)\n",
    "df['neg_probs'] = (df['neg_cnt'].fillna(0)+1) /(train_neg_all+2)\n",
    "df.fillna(1.0,inplace=True)\n",
    "df['NB_weight'] = np.log(df['pos_probs']/df['neg_probs'])"
   ]
  },
  {
   "cell_type": "code",
   "execution_count": 30,
   "metadata": {},
   "outputs": [
    {
     "data": {
      "text/html": [
       "<div>\n",
       "<style scoped>\n",
       "    .dataframe tbody tr th:only-of-type {\n",
       "        vertical-align: middle;\n",
       "    }\n",
       "\n",
       "    .dataframe tbody tr th {\n",
       "        vertical-align: top;\n",
       "    }\n",
       "\n",
       "    .dataframe thead th {\n",
       "        text-align: right;\n",
       "    }\n",
       "</style>\n",
       "<table border=\"1\" class=\"dataframe\">\n",
       "  <thead>\n",
       "    <tr style=\"text-align: right;\">\n",
       "      <th></th>\n",
       "      <th>pos_cnt</th>\n",
       "      <th>neg_cnt</th>\n",
       "      <th>pos_probs</th>\n",
       "      <th>neg_probs</th>\n",
       "      <th>NB_weight</th>\n",
       "    </tr>\n",
       "  </thead>\n",
       "  <tbody>\n",
       "    <tr>\n",
       "      <th>edie</th>\n",
       "      <td>26.0</td>\n",
       "      <td>1.0</td>\n",
       "      <td>0.003589</td>\n",
       "      <td>0.000134</td>\n",
       "      <td>3.290505</td>\n",
       "    </tr>\n",
       "    <tr>\n",
       "      <th>rea</th>\n",
       "      <td>22.0</td>\n",
       "      <td>1.0</td>\n",
       "      <td>0.003058</td>\n",
       "      <td>0.000134</td>\n",
       "      <td>3.130162</td>\n",
       "    </tr>\n",
       "    <tr>\n",
       "      <th>paulie</th>\n",
       "      <td>21.0</td>\n",
       "      <td>1.0</td>\n",
       "      <td>0.002925</td>\n",
       "      <td>0.000134</td>\n",
       "      <td>3.085711</td>\n",
       "    </tr>\n",
       "    <tr>\n",
       "      <th>antwone</th>\n",
       "      <td>20.0</td>\n",
       "      <td>1.0</td>\n",
       "      <td>0.002792</td>\n",
       "      <td>0.000134</td>\n",
       "      <td>3.039191</td>\n",
       "    </tr>\n",
       "    <tr>\n",
       "      <th>mildred</th>\n",
       "      <td>19.0</td>\n",
       "      <td>1.0</td>\n",
       "      <td>0.002659</td>\n",
       "      <td>0.000134</td>\n",
       "      <td>2.990400</td>\n",
       "    </tr>\n",
       "    <tr>\n",
       "      <th>visconti</th>\n",
       "      <td>17.0</td>\n",
       "      <td>1.0</td>\n",
       "      <td>0.002393</td>\n",
       "      <td>0.000134</td>\n",
       "      <td>2.885040</td>\n",
       "    </tr>\n",
       "    <tr>\n",
       "      <th>venoms</th>\n",
       "      <td>16.0</td>\n",
       "      <td>1.0</td>\n",
       "      <td>0.002260</td>\n",
       "      <td>0.000134</td>\n",
       "      <td>2.827881</td>\n",
       "    </tr>\n",
       "    <tr>\n",
       "      <th>joss</th>\n",
       "      <td>16.0</td>\n",
       "      <td>1.0</td>\n",
       "      <td>0.002260</td>\n",
       "      <td>0.000134</td>\n",
       "      <td>2.827881</td>\n",
       "    </tr>\n",
       "    <tr>\n",
       "      <th>tsui</th>\n",
       "      <td>15.0</td>\n",
       "      <td>1.0</td>\n",
       "      <td>0.002127</td>\n",
       "      <td>0.000134</td>\n",
       "      <td>2.767257</td>\n",
       "    </tr>\n",
       "    <tr>\n",
       "      <th>magnificently</th>\n",
       "      <td>15.0</td>\n",
       "      <td>1.0</td>\n",
       "      <td>0.002127</td>\n",
       "      <td>0.000134</td>\n",
       "      <td>2.767257</td>\n",
       "    </tr>\n",
       "    <tr>\n",
       "      <th>daisies</th>\n",
       "      <td>15.0</td>\n",
       "      <td>1.0</td>\n",
       "      <td>0.002127</td>\n",
       "      <td>0.000134</td>\n",
       "      <td>2.767257</td>\n",
       "    </tr>\n",
       "    <tr>\n",
       "      <th>deathtrap</th>\n",
       "      <td>14.0</td>\n",
       "      <td>1.0</td>\n",
       "      <td>0.001994</td>\n",
       "      <td>0.000134</td>\n",
       "      <td>2.702718</td>\n",
       "    </tr>\n",
       "    <tr>\n",
       "      <th>panahi</th>\n",
       "      <td>14.0</td>\n",
       "      <td>1.0</td>\n",
       "      <td>0.001994</td>\n",
       "      <td>0.000134</td>\n",
       "      <td>2.702718</td>\n",
       "    </tr>\n",
       "    <tr>\n",
       "      <th>mcintire</th>\n",
       "      <td>14.0</td>\n",
       "      <td>1.0</td>\n",
       "      <td>0.001994</td>\n",
       "      <td>0.000134</td>\n",
       "      <td>2.702718</td>\n",
       "    </tr>\n",
       "    <tr>\n",
       "      <th>gyllenhaal</th>\n",
       "      <td>14.0</td>\n",
       "      <td>1.0</td>\n",
       "      <td>0.001994</td>\n",
       "      <td>0.000134</td>\n",
       "      <td>2.702718</td>\n",
       "    </tr>\n",
       "  </tbody>\n",
       "</table>\n",
       "</div>"
      ],
      "text/plain": [
       "               pos_cnt  neg_cnt  pos_probs  neg_probs  NB_weight\n",
       "edie              26.0      1.0   0.003589   0.000134   3.290505\n",
       "rea               22.0      1.0   0.003058   0.000134   3.130162\n",
       "paulie            21.0      1.0   0.002925   0.000134   3.085711\n",
       "antwone           20.0      1.0   0.002792   0.000134   3.039191\n",
       "mildred           19.0      1.0   0.002659   0.000134   2.990400\n",
       "visconti          17.0      1.0   0.002393   0.000134   2.885040\n",
       "venoms            16.0      1.0   0.002260   0.000134   2.827881\n",
       "joss              16.0      1.0   0.002260   0.000134   2.827881\n",
       "tsui              15.0      1.0   0.002127   0.000134   2.767257\n",
       "magnificently     15.0      1.0   0.002127   0.000134   2.767257\n",
       "daisies           15.0      1.0   0.002127   0.000134   2.767257\n",
       "deathtrap         14.0      1.0   0.001994   0.000134   2.702718\n",
       "panahi            14.0      1.0   0.001994   0.000134   2.702718\n",
       "mcintire          14.0      1.0   0.001994   0.000134   2.702718\n",
       "gyllenhaal        14.0      1.0   0.001994   0.000134   2.702718"
      ]
     },
     "execution_count": 30,
     "metadata": {},
     "output_type": "execute_result"
    }
   ],
   "source": [
    "df.sort_values('NB_weight',ascending=False).head(15)"
   ]
  },
  {
   "cell_type": "code",
   "execution_count": 31,
   "metadata": {},
   "outputs": [
    {
     "data": {
      "text/html": [
       "<div>\n",
       "<style scoped>\n",
       "    .dataframe tbody tr th:only-of-type {\n",
       "        vertical-align: middle;\n",
       "    }\n",
       "\n",
       "    .dataframe tbody tr th {\n",
       "        vertical-align: top;\n",
       "    }\n",
       "\n",
       "    .dataframe thead th {\n",
       "        text-align: right;\n",
       "    }\n",
       "</style>\n",
       "<table border=\"1\" class=\"dataframe\">\n",
       "  <thead>\n",
       "    <tr style=\"text-align: right;\">\n",
       "      <th></th>\n",
       "      <th>pos_cnt</th>\n",
       "      <th>neg_cnt</th>\n",
       "      <th>pos_probs</th>\n",
       "      <th>neg_probs</th>\n",
       "      <th>NB_weight</th>\n",
       "    </tr>\n",
       "  </thead>\n",
       "  <tbody>\n",
       "    <tr>\n",
       "      <th>tedium</th>\n",
       "      <td>1.0</td>\n",
       "      <td>25.0</td>\n",
       "      <td>0.000133</td>\n",
       "      <td>0.003475</td>\n",
       "      <td>-3.263428</td>\n",
       "    </tr>\n",
       "    <tr>\n",
       "      <th>dreck</th>\n",
       "      <td>1.0</td>\n",
       "      <td>44.0</td>\n",
       "      <td>0.000266</td>\n",
       "      <td>0.006014</td>\n",
       "      <td>-3.118847</td>\n",
       "    </tr>\n",
       "    <tr>\n",
       "      <th>unwatchable</th>\n",
       "      <td>2.0</td>\n",
       "      <td>65.0</td>\n",
       "      <td>0.000399</td>\n",
       "      <td>0.008821</td>\n",
       "      <td>-3.096374</td>\n",
       "    </tr>\n",
       "    <tr>\n",
       "      <th>stinker</th>\n",
       "      <td>2.0</td>\n",
       "      <td>64.0</td>\n",
       "      <td>0.000399</td>\n",
       "      <td>0.008688</td>\n",
       "      <td>-3.081107</td>\n",
       "    </tr>\n",
       "    <tr>\n",
       "      <th>steaming</th>\n",
       "      <td>1.0</td>\n",
       "      <td>19.0</td>\n",
       "      <td>0.000133</td>\n",
       "      <td>0.002673</td>\n",
       "      <td>-3.001064</td>\n",
       "    </tr>\n",
       "    <tr>\n",
       "      <th>manos</th>\n",
       "      <td>1.0</td>\n",
       "      <td>18.0</td>\n",
       "      <td>0.000133</td>\n",
       "      <td>0.002539</td>\n",
       "      <td>-2.949771</td>\n",
       "    </tr>\n",
       "    <tr>\n",
       "      <th>ajay</th>\n",
       "      <td>1.0</td>\n",
       "      <td>18.0</td>\n",
       "      <td>0.000133</td>\n",
       "      <td>0.002539</td>\n",
       "      <td>-2.949771</td>\n",
       "    </tr>\n",
       "    <tr>\n",
       "      <th>atrocious</th>\n",
       "      <td>5.0</td>\n",
       "      <td>106.0</td>\n",
       "      <td>0.000798</td>\n",
       "      <td>0.014301</td>\n",
       "      <td>-2.886401</td>\n",
       "    </tr>\n",
       "    <tr>\n",
       "      <th>boll</th>\n",
       "      <td>1.0</td>\n",
       "      <td>34.0</td>\n",
       "      <td>0.000266</td>\n",
       "      <td>0.004678</td>\n",
       "      <td>-2.867533</td>\n",
       "    </tr>\n",
       "    <tr>\n",
       "      <th>uwe</th>\n",
       "      <td>1.0</td>\n",
       "      <td>33.0</td>\n",
       "      <td>0.000266</td>\n",
       "      <td>0.004544</td>\n",
       "      <td>-2.838545</td>\n",
       "    </tr>\n",
       "    <tr>\n",
       "      <th>appallingly</th>\n",
       "      <td>1.0</td>\n",
       "      <td>16.0</td>\n",
       "      <td>0.000133</td>\n",
       "      <td>0.002272</td>\n",
       "      <td>-2.838545</td>\n",
       "    </tr>\n",
       "    <tr>\n",
       "      <th>haphazard</th>\n",
       "      <td>1.0</td>\n",
       "      <td>15.0</td>\n",
       "      <td>0.000133</td>\n",
       "      <td>0.002138</td>\n",
       "      <td>-2.777921</td>\n",
       "    </tr>\n",
       "    <tr>\n",
       "      <th>hobgoblins</th>\n",
       "      <td>1.0</td>\n",
       "      <td>15.0</td>\n",
       "      <td>0.000133</td>\n",
       "      <td>0.002138</td>\n",
       "      <td>-2.777921</td>\n",
       "    </tr>\n",
       "    <tr>\n",
       "      <th>embarrassingly</th>\n",
       "      <td>1.0</td>\n",
       "      <td>31.0</td>\n",
       "      <td>0.000266</td>\n",
       "      <td>0.004277</td>\n",
       "      <td>-2.777921</td>\n",
       "    </tr>\n",
       "    <tr>\n",
       "      <th>incoherent</th>\n",
       "      <td>4.0</td>\n",
       "      <td>77.0</td>\n",
       "      <td>0.000665</td>\n",
       "      <td>0.010425</td>\n",
       "      <td>-2.752603</td>\n",
       "    </tr>\n",
       "  </tbody>\n",
       "</table>\n",
       "</div>"
      ],
      "text/plain": [
       "                pos_cnt  neg_cnt  pos_probs  neg_probs  NB_weight\n",
       "tedium              1.0     25.0   0.000133   0.003475  -3.263428\n",
       "dreck               1.0     44.0   0.000266   0.006014  -3.118847\n",
       "unwatchable         2.0     65.0   0.000399   0.008821  -3.096374\n",
       "stinker             2.0     64.0   0.000399   0.008688  -3.081107\n",
       "steaming            1.0     19.0   0.000133   0.002673  -3.001064\n",
       "manos               1.0     18.0   0.000133   0.002539  -2.949771\n",
       "ajay                1.0     18.0   0.000133   0.002539  -2.949771\n",
       "atrocious           5.0    106.0   0.000798   0.014301  -2.886401\n",
       "boll                1.0     34.0   0.000266   0.004678  -2.867533\n",
       "uwe                 1.0     33.0   0.000266   0.004544  -2.838545\n",
       "appallingly         1.0     16.0   0.000133   0.002272  -2.838545\n",
       "haphazard           1.0     15.0   0.000133   0.002138  -2.777921\n",
       "hobgoblins          1.0     15.0   0.000133   0.002138  -2.777921\n",
       "embarrassingly      1.0     31.0   0.000266   0.004277  -2.777921\n",
       "incoherent          4.0     77.0   0.000665   0.010425  -2.752603"
      ]
     },
     "execution_count": 31,
     "metadata": {},
     "output_type": "execute_result"
    }
   ],
   "source": [
    "df.sort_values('NB_weight',ascending=True).head(15)"
   ]
  },
  {
   "cell_type": "code",
   "execution_count": 32,
   "metadata": {},
   "outputs": [],
   "source": [
    "def fit(train,train_pos,train_neg,mode='ber'):\n",
    "    \n",
    "    dict_all = make_vocab(train,mode=mode)\n",
    "    dict_pos = make_vocab(train_pos,mode=mode)\n",
    "    dict_neg = make_vocab(train_neg,mode=mode)\n",
    "    \n",
    "    train_pos_all,train_neg_all = len(train_pos),len(train_neg)\n",
    "    train_all = train_pos_all+train_neg_all \n",
    "    \n",
    "    p_c_pos = train_pos_all/(train_pos_all+train_neg_all)\n",
    "    p_c_neg = train_neg_all/(train_pos_all+train_neg_all)\n",
    "    \n",
    "    alpha = 1\n",
    "    \n",
    "    if mode == 'ber':\n",
    "        df  = pd.DataFrame({'pos_cnt':pd.Series(dict_pos),'neg_cnt':pd.Series(dict_neg)})\n",
    "        df['pos_probs'] = (df['pos_cnt'].fillna(0)+alpha) /(train_pos_all+2)\n",
    "        df['neg_probs'] = (df['neg_cnt'].fillna(0)+alpha) /(train_neg_all+2)\n",
    "        df.fillna(1.0,inplace=True)\n",
    "        df['NB_weight'] = np.log(df['pos_probs']/df['neg_probs'])\n",
    "    \n",
    "    else:\n",
    "        \n",
    "        df  = pd.DataFrame({'pos_cnt':pd.Series(dict_pos),'neg_cnt':pd.Series(dict_neg)})\n",
    "        all_pos_mul,all_neg_mul = np.sum(list(dict_pos.values())),np.sum(list(dict_neg.values()))\n",
    "\n",
    "        df['pos_probs'] = (df['pos_cnt'].fillna(0)+alpha) /(all_pos_mul)\n",
    "        df['neg_probs'] = (df['neg_cnt'].fillna(0)+alpha) /(all_neg_mul)\n",
    "        df.fillna(1.0,inplace=True)\n",
    "        df['NB_weight'] = np.log(df['pos_probs']/df['neg_probs'])\n",
    "        \n",
    "    vocab = set(dict_all.keys())\n",
    "    vocab_pos = set(dict_pos.keys())\n",
    "    vocab_neg = set(dict_neg.keys())\n",
    "    \n",
    "    return df, vocab, vocab_pos, vocab_neg\n",
    "    \n",
    "    "
   ]
  },
  {
   "cell_type": "code",
   "execution_count": 33,
   "metadata": {},
   "outputs": [],
   "source": [
    "df, vocab, vocab_pos, vocab_neg = fit(train_texts_stop_punc_tok,train_texts_stop_punc_pos_tok,train_texts_stop_punc_neg_tok)"
   ]
  },
  {
   "cell_type": "code",
   "execution_count": 34,
   "metadata": {},
   "outputs": [
    {
     "data": {
      "text/html": [
       "<div>\n",
       "<style scoped>\n",
       "    .dataframe tbody tr th:only-of-type {\n",
       "        vertical-align: middle;\n",
       "    }\n",
       "\n",
       "    .dataframe tbody tr th {\n",
       "        vertical-align: top;\n",
       "    }\n",
       "\n",
       "    .dataframe thead th {\n",
       "        text-align: right;\n",
       "    }\n",
       "</style>\n",
       "<table border=\"1\" class=\"dataframe\">\n",
       "  <thead>\n",
       "    <tr style=\"text-align: right;\">\n",
       "      <th></th>\n",
       "      <th>pos_cnt</th>\n",
       "      <th>neg_cnt</th>\n",
       "      <th>pos_probs</th>\n",
       "      <th>neg_probs</th>\n",
       "      <th>NB_weight</th>\n",
       "    </tr>\n",
       "  </thead>\n",
       "  <tbody>\n",
       "    <tr>\n",
       "      <th>edie</th>\n",
       "      <td>26.0</td>\n",
       "      <td>1.0</td>\n",
       "      <td>0.003589</td>\n",
       "      <td>0.000134</td>\n",
       "      <td>3.290505</td>\n",
       "    </tr>\n",
       "    <tr>\n",
       "      <th>rea</th>\n",
       "      <td>22.0</td>\n",
       "      <td>1.0</td>\n",
       "      <td>0.003058</td>\n",
       "      <td>0.000134</td>\n",
       "      <td>3.130162</td>\n",
       "    </tr>\n",
       "    <tr>\n",
       "      <th>paulie</th>\n",
       "      <td>21.0</td>\n",
       "      <td>1.0</td>\n",
       "      <td>0.002925</td>\n",
       "      <td>0.000134</td>\n",
       "      <td>3.085711</td>\n",
       "    </tr>\n",
       "    <tr>\n",
       "      <th>antwone</th>\n",
       "      <td>20.0</td>\n",
       "      <td>1.0</td>\n",
       "      <td>0.002792</td>\n",
       "      <td>0.000134</td>\n",
       "      <td>3.039191</td>\n",
       "    </tr>\n",
       "    <tr>\n",
       "      <th>mildred</th>\n",
       "      <td>19.0</td>\n",
       "      <td>1.0</td>\n",
       "      <td>0.002659</td>\n",
       "      <td>0.000134</td>\n",
       "      <td>2.990400</td>\n",
       "    </tr>\n",
       "    <tr>\n",
       "      <th>visconti</th>\n",
       "      <td>17.0</td>\n",
       "      <td>1.0</td>\n",
       "      <td>0.002393</td>\n",
       "      <td>0.000134</td>\n",
       "      <td>2.885040</td>\n",
       "    </tr>\n",
       "    <tr>\n",
       "      <th>venoms</th>\n",
       "      <td>16.0</td>\n",
       "      <td>1.0</td>\n",
       "      <td>0.002260</td>\n",
       "      <td>0.000134</td>\n",
       "      <td>2.827881</td>\n",
       "    </tr>\n",
       "    <tr>\n",
       "      <th>joss</th>\n",
       "      <td>16.0</td>\n",
       "      <td>1.0</td>\n",
       "      <td>0.002260</td>\n",
       "      <td>0.000134</td>\n",
       "      <td>2.827881</td>\n",
       "    </tr>\n",
       "    <tr>\n",
       "      <th>tsui</th>\n",
       "      <td>15.0</td>\n",
       "      <td>1.0</td>\n",
       "      <td>0.002127</td>\n",
       "      <td>0.000134</td>\n",
       "      <td>2.767257</td>\n",
       "    </tr>\n",
       "    <tr>\n",
       "      <th>magnificently</th>\n",
       "      <td>15.0</td>\n",
       "      <td>1.0</td>\n",
       "      <td>0.002127</td>\n",
       "      <td>0.000134</td>\n",
       "      <td>2.767257</td>\n",
       "    </tr>\n",
       "    <tr>\n",
       "      <th>daisies</th>\n",
       "      <td>15.0</td>\n",
       "      <td>1.0</td>\n",
       "      <td>0.002127</td>\n",
       "      <td>0.000134</td>\n",
       "      <td>2.767257</td>\n",
       "    </tr>\n",
       "    <tr>\n",
       "      <th>deathtrap</th>\n",
       "      <td>14.0</td>\n",
       "      <td>1.0</td>\n",
       "      <td>0.001994</td>\n",
       "      <td>0.000134</td>\n",
       "      <td>2.702718</td>\n",
       "    </tr>\n",
       "    <tr>\n",
       "      <th>panahi</th>\n",
       "      <td>14.0</td>\n",
       "      <td>1.0</td>\n",
       "      <td>0.001994</td>\n",
       "      <td>0.000134</td>\n",
       "      <td>2.702718</td>\n",
       "    </tr>\n",
       "    <tr>\n",
       "      <th>mcintire</th>\n",
       "      <td>14.0</td>\n",
       "      <td>1.0</td>\n",
       "      <td>0.001994</td>\n",
       "      <td>0.000134</td>\n",
       "      <td>2.702718</td>\n",
       "    </tr>\n",
       "    <tr>\n",
       "      <th>gyllenhaal</th>\n",
       "      <td>14.0</td>\n",
       "      <td>1.0</td>\n",
       "      <td>0.001994</td>\n",
       "      <td>0.000134</td>\n",
       "      <td>2.702718</td>\n",
       "    </tr>\n",
       "  </tbody>\n",
       "</table>\n",
       "</div>"
      ],
      "text/plain": [
       "               pos_cnt  neg_cnt  pos_probs  neg_probs  NB_weight\n",
       "edie              26.0      1.0   0.003589   0.000134   3.290505\n",
       "rea               22.0      1.0   0.003058   0.000134   3.130162\n",
       "paulie            21.0      1.0   0.002925   0.000134   3.085711\n",
       "antwone           20.0      1.0   0.002792   0.000134   3.039191\n",
       "mildred           19.0      1.0   0.002659   0.000134   2.990400\n",
       "visconti          17.0      1.0   0.002393   0.000134   2.885040\n",
       "venoms            16.0      1.0   0.002260   0.000134   2.827881\n",
       "joss              16.0      1.0   0.002260   0.000134   2.827881\n",
       "tsui              15.0      1.0   0.002127   0.000134   2.767257\n",
       "magnificently     15.0      1.0   0.002127   0.000134   2.767257\n",
       "daisies           15.0      1.0   0.002127   0.000134   2.767257\n",
       "deathtrap         14.0      1.0   0.001994   0.000134   2.702718\n",
       "panahi            14.0      1.0   0.001994   0.000134   2.702718\n",
       "mcintire          14.0      1.0   0.001994   0.000134   2.702718\n",
       "gyllenhaal        14.0      1.0   0.001994   0.000134   2.702718"
      ]
     },
     "execution_count": 34,
     "metadata": {},
     "output_type": "execute_result"
    }
   ],
   "source": [
    "df.sort_values('NB_weight',ascending=False).head(15)"
   ]
  },
  {
   "cell_type": "code",
   "execution_count": 35,
   "metadata": {},
   "outputs": [
    {
     "data": {
      "text/html": [
       "<div>\n",
       "<style scoped>\n",
       "    .dataframe tbody tr th:only-of-type {\n",
       "        vertical-align: middle;\n",
       "    }\n",
       "\n",
       "    .dataframe tbody tr th {\n",
       "        vertical-align: top;\n",
       "    }\n",
       "\n",
       "    .dataframe thead th {\n",
       "        text-align: right;\n",
       "    }\n",
       "</style>\n",
       "<table border=\"1\" class=\"dataframe\">\n",
       "  <thead>\n",
       "    <tr style=\"text-align: right;\">\n",
       "      <th></th>\n",
       "      <th>pos_cnt</th>\n",
       "      <th>neg_cnt</th>\n",
       "      <th>pos_probs</th>\n",
       "      <th>neg_probs</th>\n",
       "      <th>NB_weight</th>\n",
       "    </tr>\n",
       "  </thead>\n",
       "  <tbody>\n",
       "    <tr>\n",
       "      <th>tedium</th>\n",
       "      <td>1.0</td>\n",
       "      <td>25.0</td>\n",
       "      <td>0.000133</td>\n",
       "      <td>0.003475</td>\n",
       "      <td>-3.263428</td>\n",
       "    </tr>\n",
       "    <tr>\n",
       "      <th>dreck</th>\n",
       "      <td>1.0</td>\n",
       "      <td>44.0</td>\n",
       "      <td>0.000266</td>\n",
       "      <td>0.006014</td>\n",
       "      <td>-3.118847</td>\n",
       "    </tr>\n",
       "    <tr>\n",
       "      <th>unwatchable</th>\n",
       "      <td>2.0</td>\n",
       "      <td>65.0</td>\n",
       "      <td>0.000399</td>\n",
       "      <td>0.008821</td>\n",
       "      <td>-3.096374</td>\n",
       "    </tr>\n",
       "    <tr>\n",
       "      <th>stinker</th>\n",
       "      <td>2.0</td>\n",
       "      <td>64.0</td>\n",
       "      <td>0.000399</td>\n",
       "      <td>0.008688</td>\n",
       "      <td>-3.081107</td>\n",
       "    </tr>\n",
       "    <tr>\n",
       "      <th>steaming</th>\n",
       "      <td>1.0</td>\n",
       "      <td>19.0</td>\n",
       "      <td>0.000133</td>\n",
       "      <td>0.002673</td>\n",
       "      <td>-3.001064</td>\n",
       "    </tr>\n",
       "    <tr>\n",
       "      <th>manos</th>\n",
       "      <td>1.0</td>\n",
       "      <td>18.0</td>\n",
       "      <td>0.000133</td>\n",
       "      <td>0.002539</td>\n",
       "      <td>-2.949771</td>\n",
       "    </tr>\n",
       "    <tr>\n",
       "      <th>ajay</th>\n",
       "      <td>1.0</td>\n",
       "      <td>18.0</td>\n",
       "      <td>0.000133</td>\n",
       "      <td>0.002539</td>\n",
       "      <td>-2.949771</td>\n",
       "    </tr>\n",
       "    <tr>\n",
       "      <th>atrocious</th>\n",
       "      <td>5.0</td>\n",
       "      <td>106.0</td>\n",
       "      <td>0.000798</td>\n",
       "      <td>0.014301</td>\n",
       "      <td>-2.886401</td>\n",
       "    </tr>\n",
       "    <tr>\n",
       "      <th>boll</th>\n",
       "      <td>1.0</td>\n",
       "      <td>34.0</td>\n",
       "      <td>0.000266</td>\n",
       "      <td>0.004678</td>\n",
       "      <td>-2.867533</td>\n",
       "    </tr>\n",
       "    <tr>\n",
       "      <th>uwe</th>\n",
       "      <td>1.0</td>\n",
       "      <td>33.0</td>\n",
       "      <td>0.000266</td>\n",
       "      <td>0.004544</td>\n",
       "      <td>-2.838545</td>\n",
       "    </tr>\n",
       "    <tr>\n",
       "      <th>appallingly</th>\n",
       "      <td>1.0</td>\n",
       "      <td>16.0</td>\n",
       "      <td>0.000133</td>\n",
       "      <td>0.002272</td>\n",
       "      <td>-2.838545</td>\n",
       "    </tr>\n",
       "    <tr>\n",
       "      <th>haphazard</th>\n",
       "      <td>1.0</td>\n",
       "      <td>15.0</td>\n",
       "      <td>0.000133</td>\n",
       "      <td>0.002138</td>\n",
       "      <td>-2.777921</td>\n",
       "    </tr>\n",
       "    <tr>\n",
       "      <th>hobgoblins</th>\n",
       "      <td>1.0</td>\n",
       "      <td>15.0</td>\n",
       "      <td>0.000133</td>\n",
       "      <td>0.002138</td>\n",
       "      <td>-2.777921</td>\n",
       "    </tr>\n",
       "    <tr>\n",
       "      <th>embarrassingly</th>\n",
       "      <td>1.0</td>\n",
       "      <td>31.0</td>\n",
       "      <td>0.000266</td>\n",
       "      <td>0.004277</td>\n",
       "      <td>-2.777921</td>\n",
       "    </tr>\n",
       "    <tr>\n",
       "      <th>incoherent</th>\n",
       "      <td>4.0</td>\n",
       "      <td>77.0</td>\n",
       "      <td>0.000665</td>\n",
       "      <td>0.010425</td>\n",
       "      <td>-2.752603</td>\n",
       "    </tr>\n",
       "  </tbody>\n",
       "</table>\n",
       "</div>"
      ],
      "text/plain": [
       "                pos_cnt  neg_cnt  pos_probs  neg_probs  NB_weight\n",
       "tedium              1.0     25.0   0.000133   0.003475  -3.263428\n",
       "dreck               1.0     44.0   0.000266   0.006014  -3.118847\n",
       "unwatchable         2.0     65.0   0.000399   0.008821  -3.096374\n",
       "stinker             2.0     64.0   0.000399   0.008688  -3.081107\n",
       "steaming            1.0     19.0   0.000133   0.002673  -3.001064\n",
       "manos               1.0     18.0   0.000133   0.002539  -2.949771\n",
       "ajay                1.0     18.0   0.000133   0.002539  -2.949771\n",
       "atrocious           5.0    106.0   0.000798   0.014301  -2.886401\n",
       "boll                1.0     34.0   0.000266   0.004678  -2.867533\n",
       "uwe                 1.0     33.0   0.000266   0.004544  -2.838545\n",
       "appallingly         1.0     16.0   0.000133   0.002272  -2.838545\n",
       "haphazard           1.0     15.0   0.000133   0.002138  -2.777921\n",
       "hobgoblins          1.0     15.0   0.000133   0.002138  -2.777921\n",
       "embarrassingly      1.0     31.0   0.000266   0.004277  -2.777921\n",
       "incoherent          4.0     77.0   0.000665   0.010425  -2.752603"
      ]
     },
     "execution_count": 35,
     "metadata": {},
     "output_type": "execute_result"
    }
   ],
   "source": [
    "df.sort_values('NB_weight',ascending=True).head(15)"
   ]
  },
  {
   "cell_type": "markdown",
   "metadata": {},
   "source": [
    "\n",
    "5. Using formulas from Part 1, implement both Bayes classifiers. Fit the train set and predict label for the reviews from test set. How much time does it take to train classifiers and to make predictions for the test data? \n",
    "Compare the results on train, dev and test sets. Why do we have different accuracy values on different parts of the dataset (train and dev, dev and test)? \n"
   ]
  },
  {
   "cell_type": "markdown",
   "metadata": {},
   "source": [
    "### Bernoulli "
   ]
  },
  {
   "cell_type": "code",
   "execution_count": null,
   "metadata": {},
   "outputs": [],
   "source": [
    "from tqdm import tqdm_notebook"
   ]
  },
  {
   "cell_type": "code",
   "execution_count": 37,
   "metadata": {},
   "outputs": [],
   "source": [
    "def predict_rigth(texts,vocab=vocab,df=df):\n",
    "    tokens = tokenization(texts)\n",
    "    probs = []\n",
    "    pos_probs = df['pos_probs']\n",
    "    neg_probs = df['neg_probs']\n",
    "    \n",
    "    p_c_pos = np.log(train_pos_all/train_all)\n",
    "    p_c_neg = np.log(train_neg_all/train_all)\n",
    "\n",
    "    for line in tqdm_notebook(tokens):\n",
    "        pos_prob = p_c_pos\n",
    "        neg_prob = p_c_neg\n",
    "        line = set(line)\n",
    "        for word in line:\n",
    "            flag_pos = 0\n",
    "            flag_neg = 0\n",
    "            if word in vocab:\n",
    "                if word in vocab_pos:\n",
    "                    flag_pos = 1\n",
    "                if word in vocab_neg:\n",
    "                    flag_neg = 1\n",
    "                p_prob,n_prob = pos_probs[word],neg_probs[word]\n",
    "                pos_prob += np.log(flag_pos*p_prob+(1-flag_pos)*(1-p_prob))\n",
    "                neg_prob += np.log(flag_neg*n_prob+(1-flag_neg)*(1-n_prob))\n",
    "        if pos_prob > neg_prob:\n",
    "            probs.append('pos')\n",
    "        else:\n",
    "            probs.append('neg')\n",
    "    return probs"
   ]
  },
  {
   "cell_type": "code",
   "execution_count": 38,
   "metadata": {},
   "outputs": [],
   "source": [
    "def predict(texts,vocab=vocab,df=df):\n",
    "    tokens = tokenization(texts)\n",
    "    probs = []\n",
    "    p_c_pos = np.log(train_pos_all/(train_pos_all+train_neg_all))\n",
    "    p_c_neg = np.log(train_neg_all/(train_pos_all+train_neg_all))\n",
    "    pos_probs = df['pos_probs']\n",
    "    neg_probs = df['neg_probs']\n",
    "    for line in tqdm_notebook(tokens):\n",
    "        pos_prob = p_c_pos\n",
    "        neg_prob = p_c_neg\n",
    "        line = set(line)\n",
    "        for word in line:\n",
    "            flag_pos = 0\n",
    "            flag_neg = 0\n",
    "            if word in vocab:\n",
    "                if word in vocab_pos:\n",
    "                    flag_pos = 1\n",
    "                if word in vocab_neg:\n",
    "                    flag_neg = 1\n",
    "                p_prob,n_prob = pos_probs[word],neg_probs[word]\n",
    "                pos_prob += np.log(flag_pos*p_prob+(1-flag_pos)*(p_prob))\n",
    "                neg_prob += np.log(flag_neg*n_prob+(1-flag_neg)*(n_prob))\n",
    "        if pos_prob > neg_prob:\n",
    "            probs.append('pos')\n",
    "        else:\n",
    "            probs.append('neg')\n",
    "    return probs"
   ]
  },
  {
   "cell_type": "code",
   "execution_count": 39,
   "metadata": {},
   "outputs": [],
   "source": [
    "def predict_not_ber(texts,vocab=vocab,df=df):\n",
    "    tokens = tokenization(texts)\n",
    "    probs = []\n",
    "    pos_probs = df['pos_probs']\n",
    "    neg_probs = df['neg_probs']\n",
    "    \n",
    "    p_c_pos = np.log(train_pos_all/train_all)\n",
    "    p_c_neg = np.log(train_neg_all/train_all)\n",
    "\n",
    "    for line in tqdm_notebook(tokens):\n",
    "        pos_prob = p_c_pos\n",
    "        neg_prob = p_c_neg\n",
    "        line = set(line)\n",
    "        for word in line:\n",
    "            if word in vocab:\n",
    "                p_prob,n_prob = pos_probs[word],neg_probs[word]\n",
    "                pos_prob += np.log(p_prob)-np.log(1-p_prob)\n",
    "                neg_prob += np.log(n_prob)-np.log(1-n_prob)\n",
    "        if pos_prob > neg_prob:\n",
    "            probs.append('pos')\n",
    "        else:\n",
    "            probs.append('neg')\n",
    "    return probs"
   ]
  },
  {
   "cell_type": "code",
   "execution_count": 40,
   "metadata": {},
   "outputs": [],
   "source": [
    "def evaluate(pred,y_true):\n",
    "    return len(np.where(np.array(y_true) == np.array(pred))[0])/len(y_true)"
   ]
  },
  {
   "cell_type": "code",
   "execution_count": 41,
   "metadata": {},
   "outputs": [
    {
     "data": {
      "application/vnd.jupyter.widget-view+json": {
       "model_id": "d6a3de89842a4ad08d70ec0308c85cc8",
       "version_major": 2,
       "version_minor": 0
      },
      "text/plain": [
       "HBox(children=(IntProgress(value=0, max=10000), HTML(value='')))"
      ]
     },
     "metadata": {},
     "output_type": "display_data"
    },
    {
     "name": "stdout",
     "output_type": "stream",
     "text": [
      "\n"
     ]
    },
    {
     "data": {
      "application/vnd.jupyter.widget-view+json": {
       "model_id": "d16a0c899a674e138eb8dd5c79b35dfd",
       "version_major": 2,
       "version_minor": 0
      },
      "text/plain": [
       "HBox(children=(IntProgress(value=0, max=15000), HTML(value='')))"
      ]
     },
     "metadata": {},
     "output_type": "display_data"
    },
    {
     "name": "stdout",
     "output_type": "stream",
     "text": [
      "\n"
     ]
    },
    {
     "data": {
      "application/vnd.jupyter.widget-view+json": {
       "model_id": "61c64c09bc164c1ca2984e2bd3833253",
       "version_major": 2,
       "version_minor": 0
      },
      "text/plain": [
       "HBox(children=(IntProgress(value=0, max=25000), HTML(value='')))"
      ]
     },
     "metadata": {},
     "output_type": "display_data"
    },
    {
     "name": "stdout",
     "output_type": "stream",
     "text": [
      "\n"
     ]
    },
    {
     "data": {
      "application/vnd.jupyter.widget-view+json": {
       "model_id": "d39f9e692e244d48953b17e59697cada",
       "version_major": 2,
       "version_minor": 0
      },
      "text/plain": [
       "HBox(children=(IntProgress(value=0, max=2000), HTML(value='')))"
      ]
     },
     "metadata": {},
     "output_type": "display_data"
    },
    {
     "name": "stdout",
     "output_type": "stream",
     "text": [
      "\n"
     ]
    },
    {
     "data": {
      "application/vnd.jupyter.widget-view+json": {
       "model_id": "b4e983de9c224f92b7db113886edd359",
       "version_major": 2,
       "version_minor": 0
      },
      "text/plain": [
       "HBox(children=(IntProgress(value=0, max=8599), HTML(value='')))"
      ]
     },
     "metadata": {},
     "output_type": "display_data"
    },
    {
     "name": "stdout",
     "output_type": "stream",
     "text": [
      "\n"
     ]
    }
   ],
   "source": [
    "dev_probs = predict(dev_texts)\n",
    "train_probs = predict(train_texts_stop_punc)\n",
    "test_probs = predict(test_texts)\n",
    "dev_b_probs = predict(dev_b_texts)\n",
    "test_b_probs = predict(test_b_texts)"
   ]
  },
  {
   "cell_type": "code",
   "execution_count": 42,
   "metadata": {},
   "outputs": [
    {
     "name": "stdout",
     "output_type": "stream",
     "text": [
      "dev = 0.8597 dev_b = 0.722 train = 0.9356666666666666\n"
     ]
    }
   ],
   "source": [
    "print('dev =',evaluate(dev_probs,dev_labels),'dev_b =',evaluate(dev_b_probs,dev_b_labels),'train =',evaluate(train_probs,train_labels))"
   ]
  },
  {
   "cell_type": "code",
   "execution_count": 43,
   "metadata": {
    "scrolled": true
   },
   "outputs": [
    {
     "data": {
      "application/vnd.jupyter.widget-view+json": {
       "model_id": "febf67cfff2049a88120963e84061e0c",
       "version_major": 2,
       "version_minor": 0
      },
      "text/plain": [
       "HBox(children=(IntProgress(value=0, max=10000), HTML(value='')))"
      ]
     },
     "metadata": {},
     "output_type": "display_data"
    },
    {
     "name": "stdout",
     "output_type": "stream",
     "text": [
      "\n"
     ]
    },
    {
     "data": {
      "application/vnd.jupyter.widget-view+json": {
       "model_id": "761c630d58534fafaae54d6d5ae1e801",
       "version_major": 2,
       "version_minor": 0
      },
      "text/plain": [
       "HBox(children=(IntProgress(value=0, max=15000), HTML(value='')))"
      ]
     },
     "metadata": {},
     "output_type": "display_data"
    },
    {
     "name": "stdout",
     "output_type": "stream",
     "text": [
      "\n"
     ]
    }
   ],
   "source": [
    "dev_probs_r = predict_rigth(dev_texts)\n",
    "train_probs_r = predict_rigth(train_texts_stop_punc)"
   ]
  },
  {
   "cell_type": "code",
   "execution_count": 44,
   "metadata": {},
   "outputs": [
    {
     "data": {
      "application/vnd.jupyter.widget-view+json": {
       "model_id": "7e0243f306824167a41d37310f7733ca",
       "version_major": 2,
       "version_minor": 0
      },
      "text/plain": [
       "HBox(children=(IntProgress(value=0, max=25000), HTML(value='')))"
      ]
     },
     "metadata": {},
     "output_type": "display_data"
    },
    {
     "name": "stdout",
     "output_type": "stream",
     "text": [
      "\n"
     ]
    }
   ],
   "source": [
    "test_probs_r = predict_rigth(test_texts)"
   ]
  },
  {
   "cell_type": "code",
   "execution_count": 45,
   "metadata": {},
   "outputs": [
    {
     "data": {
      "application/vnd.jupyter.widget-view+json": {
       "model_id": "65b4a1d639ff433d90ce7875e22b568e",
       "version_major": 2,
       "version_minor": 0
      },
      "text/plain": [
       "HBox(children=(IntProgress(value=0, max=2000), HTML(value='')))"
      ]
     },
     "metadata": {},
     "output_type": "display_data"
    },
    {
     "name": "stdout",
     "output_type": "stream",
     "text": [
      "\n"
     ]
    },
    {
     "data": {
      "application/vnd.jupyter.widget-view+json": {
       "model_id": "2a4d28a51f514ffba93299c316c7f06b",
       "version_major": 2,
       "version_minor": 0
      },
      "text/plain": [
       "HBox(children=(IntProgress(value=0, max=8599), HTML(value='')))"
      ]
     },
     "metadata": {},
     "output_type": "display_data"
    },
    {
     "name": "stdout",
     "output_type": "stream",
     "text": [
      "\n"
     ]
    }
   ],
   "source": [
    "dev_b_probs_r = predict_rigth(dev_b_texts)\n",
    "test_b_probs_r = predict_rigth(test_b_texts)"
   ]
  },
  {
   "cell_type": "code",
   "execution_count": 46,
   "metadata": {},
   "outputs": [
    {
     "name": "stdout",
     "output_type": "stream",
     "text": [
      "dev = 0.6731 dev_b = 0.6415 train = 0.3728666666666667\n"
     ]
    }
   ],
   "source": [
    "print('dev =',evaluate(dev_probs_r,dev_labels),'dev_b =',evaluate(dev_b_probs_r,dev_b_labels),'train =',evaluate(train_probs_r,train_labels))"
   ]
  },
  {
   "cell_type": "markdown",
   "metadata": {},
   "source": [
    "From this result I will use rigth formula function in the future"
   ]
  },
  {
   "cell_type": "code",
   "execution_count": 47,
   "metadata": {
    "scrolled": true
   },
   "outputs": [
    {
     "data": {
      "application/vnd.jupyter.widget-view+json": {
       "model_id": "9a1f79f89aa2428b8672aef2934d484d",
       "version_major": 2,
       "version_minor": 0
      },
      "text/plain": [
       "HBox(children=(IntProgress(value=0, max=10000), HTML(value='')))"
      ]
     },
     "metadata": {},
     "output_type": "display_data"
    },
    {
     "name": "stdout",
     "output_type": "stream",
     "text": [
      "\n"
     ]
    },
    {
     "data": {
      "application/vnd.jupyter.widget-view+json": {
       "model_id": "0ba6820e95d9486991f96ffd4c14f2ac",
       "version_major": 2,
       "version_minor": 0
      },
      "text/plain": [
       "HBox(children=(IntProgress(value=0, max=15000), HTML(value='')))"
      ]
     },
     "metadata": {},
     "output_type": "display_data"
    },
    {
     "name": "stdout",
     "output_type": "stream",
     "text": [
      "\n"
     ]
    }
   ],
   "source": [
    "dev_probs_n = predict_not_ber(dev_texts)\n",
    "train_probs_n = predict_not_ber(train_texts_stop_punc)"
   ]
  },
  {
   "cell_type": "code",
   "execution_count": 48,
   "metadata": {},
   "outputs": [
    {
     "data": {
      "application/vnd.jupyter.widget-view+json": {
       "model_id": "baf9bb2587534fadb42edba4fb39483e",
       "version_major": 2,
       "version_minor": 0
      },
      "text/plain": [
       "HBox(children=(IntProgress(value=0, max=2000), HTML(value='')))"
      ]
     },
     "metadata": {},
     "output_type": "display_data"
    },
    {
     "name": "stdout",
     "output_type": "stream",
     "text": [
      "\n"
     ]
    }
   ],
   "source": [
    "dev_b_probs_n = predict_not_ber(dev_b_texts)"
   ]
  },
  {
   "cell_type": "code",
   "execution_count": 49,
   "metadata": {},
   "outputs": [
    {
     "data": {
      "application/vnd.jupyter.widget-view+json": {
       "model_id": "efbb0bbe759f4404a3d89ea302d6aacb",
       "version_major": 2,
       "version_minor": 0
      },
      "text/plain": [
       "HBox(children=(IntProgress(value=0, max=25000), HTML(value='')))"
      ]
     },
     "metadata": {},
     "output_type": "display_data"
    },
    {
     "name": "stdout",
     "output_type": "stream",
     "text": [
      "\n"
     ]
    },
    {
     "data": {
      "application/vnd.jupyter.widget-view+json": {
       "model_id": "fd09ce082a184c7eac15f17716bfc3d4",
       "version_major": 2,
       "version_minor": 0
      },
      "text/plain": [
       "HBox(children=(IntProgress(value=0, max=8599), HTML(value='')))"
      ]
     },
     "metadata": {},
     "output_type": "display_data"
    },
    {
     "name": "stdout",
     "output_type": "stream",
     "text": [
      "\n"
     ]
    }
   ],
   "source": [
    "test_probs_n = predict_not_ber(test_texts)\n",
    "test_b_probs_n = predict_not_ber(test_b_texts)"
   ]
  },
  {
   "cell_type": "code",
   "execution_count": 50,
   "metadata": {},
   "outputs": [
    {
     "name": "stdout",
     "output_type": "stream",
     "text": [
      "dev = 0.8607 dev_b = 0.727 train = 0.9334\n"
     ]
    }
   ],
   "source": [
    "print('dev =',evaluate(dev_probs_n,dev_labels),'dev_b =',evaluate(dev_b_probs_n,dev_b_labels),'train =',evaluate(train_probs_n,train_labels))"
   ]
  },
  {
   "cell_type": "code",
   "execution_count": 52,
   "metadata": {},
   "outputs": [],
   "source": [
    "final = pd.Series(train_probs+dev_probs+test_probs+dev_b_probs+test_b_probs)"
   ]
  },
  {
   "cell_type": "code",
   "execution_count": 53,
   "metadata": {},
   "outputs": [],
   "source": [
    "ind_train = [ 'train/'+str(i) for i in range(0,len(train_probs))]\n",
    "ind_dev = [ 'dev/'+str(i) for i in range(0,len(dev_probs))]\n",
    "ind_test = [ 'test/'+str(i) for i in range(0,len(test_probs))]\n",
    "ind_devb = [ 'dev-b/'+str(i) for i in range(0,len(dev_b_probs))]\n",
    "ind_testb = [ 'test-b/'+str(i) for i in range(0,len(test_b_probs))]\n",
    "inds = ind_train+ind_dev +ind_test +ind_devb +ind_testb"
   ]
  },
  {
   "cell_type": "code",
   "execution_count": 54,
   "metadata": {},
   "outputs": [],
   "source": [
    "final.index = inds"
   ]
  },
  {
   "cell_type": "code",
   "execution_count": 55,
   "metadata": {},
   "outputs": [],
   "source": [
    "final_r = pd.Series(train_probs_r+dev_probs_r+test_probs_r+dev_b_probs_r+test_b_probs_r)"
   ]
  },
  {
   "cell_type": "code",
   "execution_count": 56,
   "metadata": {},
   "outputs": [],
   "source": [
    "final_r.index = inds"
   ]
  },
  {
   "cell_type": "code",
   "execution_count": 57,
   "metadata": {},
   "outputs": [],
   "source": [
    "final_n = pd.Series(train_probs_n+dev_probs_n+test_probs_n+dev_b_probs_n+test_b_probs_n)"
   ]
  },
  {
   "cell_type": "code",
   "execution_count": 58,
   "metadata": {},
   "outputs": [],
   "source": [
    "final_n.index = inds"
   ]
  },
  {
   "cell_type": "code",
   "execution_count": 65,
   "metadata": {},
   "outputs": [],
   "source": [
    "final.to_csv('preds_ber_new.tsv',sep='\\t',header=False)"
   ]
  },
  {
   "cell_type": "markdown",
   "metadata": {},
   "source": [
    "### MultiNomial"
   ]
  },
  {
   "cell_type": "code",
   "execution_count": 59,
   "metadata": {},
   "outputs": [],
   "source": [
    "df_mul, vocab_mul, vocab_mul_pos, vocab_mul_neg = fit(train_texts_stop_punc_tok,train_texts_stop_punc_pos_tok,train_texts_stop_punc_neg_tok,mode='mul')"
   ]
  },
  {
   "cell_type": "code",
   "execution_count": 60,
   "metadata": {},
   "outputs": [
    {
     "data": {
      "text/html": [
       "<div>\n",
       "<style scoped>\n",
       "    .dataframe tbody tr th:only-of-type {\n",
       "        vertical-align: middle;\n",
       "    }\n",
       "\n",
       "    .dataframe tbody tr th {\n",
       "        vertical-align: top;\n",
       "    }\n",
       "\n",
       "    .dataframe thead th {\n",
       "        text-align: right;\n",
       "    }\n",
       "</style>\n",
       "<table border=\"1\" class=\"dataframe\">\n",
       "  <thead>\n",
       "    <tr style=\"text-align: right;\">\n",
       "      <th></th>\n",
       "      <th>pos_cnt</th>\n",
       "      <th>neg_cnt</th>\n",
       "      <th>pos_probs</th>\n",
       "      <th>neg_probs</th>\n",
       "      <th>NB_weight</th>\n",
       "    </tr>\n",
       "  </thead>\n",
       "  <tbody>\n",
       "    <tr>\n",
       "      <th>antwone</th>\n",
       "      <td>78.0</td>\n",
       "      <td>1.0</td>\n",
       "      <td>0.000084</td>\n",
       "      <td>0.000001</td>\n",
       "      <td>4.323984</td>\n",
       "    </tr>\n",
       "    <tr>\n",
       "      <th>edie</th>\n",
       "      <td>77.0</td>\n",
       "      <td>1.0</td>\n",
       "      <td>0.000083</td>\n",
       "      <td>0.000001</td>\n",
       "      <td>4.311245</td>\n",
       "    </tr>\n",
       "    <tr>\n",
       "      <th>paulie</th>\n",
       "      <td>72.0</td>\n",
       "      <td>1.0</td>\n",
       "      <td>0.000078</td>\n",
       "      <td>0.000001</td>\n",
       "      <td>4.244995</td>\n",
       "    </tr>\n",
       "    <tr>\n",
       "      <th>mildred</th>\n",
       "      <td>65.0</td>\n",
       "      <td>1.0</td>\n",
       "      <td>0.000070</td>\n",
       "      <td>0.000001</td>\n",
       "      <td>4.144191</td>\n",
       "    </tr>\n",
       "    <tr>\n",
       "      <th>gundam</th>\n",
       "      <td>62.0</td>\n",
       "      <td>1.0</td>\n",
       "      <td>0.000067</td>\n",
       "      <td>0.000001</td>\n",
       "      <td>4.097671</td>\n",
       "    </tr>\n",
       "    <tr>\n",
       "      <th>biko</th>\n",
       "      <td>45.0</td>\n",
       "      <td>1.0</td>\n",
       "      <td>0.000049</td>\n",
       "      <td>0.000001</td>\n",
       "      <td>3.783177</td>\n",
       "    </tr>\n",
       "    <tr>\n",
       "      <th>din</th>\n",
       "      <td>43.0</td>\n",
       "      <td>1.0</td>\n",
       "      <td>0.000047</td>\n",
       "      <td>0.000001</td>\n",
       "      <td>3.738726</td>\n",
       "    </tr>\n",
       "    <tr>\n",
       "      <th>flavia</th>\n",
       "      <td>43.0</td>\n",
       "      <td>1.0</td>\n",
       "      <td>0.000047</td>\n",
       "      <td>0.000001</td>\n",
       "      <td>3.738726</td>\n",
       "    </tr>\n",
       "    <tr>\n",
       "      <th>visconti</th>\n",
       "      <td>41.0</td>\n",
       "      <td>1.0</td>\n",
       "      <td>0.000045</td>\n",
       "      <td>0.000001</td>\n",
       "      <td>3.692206</td>\n",
       "    </tr>\n",
       "    <tr>\n",
       "      <th>khouri</th>\n",
       "      <td>36.0</td>\n",
       "      <td>1.0</td>\n",
       "      <td>0.000039</td>\n",
       "      <td>0.000001</td>\n",
       "      <td>3.565454</td>\n",
       "    </tr>\n",
       "    <tr>\n",
       "      <th>deathtrap</th>\n",
       "      <td>35.0</td>\n",
       "      <td>1.0</td>\n",
       "      <td>0.000038</td>\n",
       "      <td>0.000001</td>\n",
       "      <td>3.538055</td>\n",
       "    </tr>\n",
       "    <tr>\n",
       "      <th>brashear</th>\n",
       "      <td>33.0</td>\n",
       "      <td>1.0</td>\n",
       "      <td>0.000036</td>\n",
       "      <td>0.000001</td>\n",
       "      <td>3.480897</td>\n",
       "    </tr>\n",
       "    <tr>\n",
       "      <th>creasy</th>\n",
       "      <td>33.0</td>\n",
       "      <td>1.0</td>\n",
       "      <td>0.000036</td>\n",
       "      <td>0.000001</td>\n",
       "      <td>3.480897</td>\n",
       "    </tr>\n",
       "    <tr>\n",
       "      <th>panahi</th>\n",
       "      <td>32.0</td>\n",
       "      <td>1.0</td>\n",
       "      <td>0.000035</td>\n",
       "      <td>0.000001</td>\n",
       "      <td>3.451044</td>\n",
       "    </tr>\n",
       "    <tr>\n",
       "      <th>ossessione</th>\n",
       "      <td>32.0</td>\n",
       "      <td>1.0</td>\n",
       "      <td>0.000035</td>\n",
       "      <td>0.000001</td>\n",
       "      <td>3.451044</td>\n",
       "    </tr>\n",
       "  </tbody>\n",
       "</table>\n",
       "</div>"
      ],
      "text/plain": [
       "            pos_cnt  neg_cnt  pos_probs  neg_probs  NB_weight\n",
       "antwone        78.0      1.0   0.000084   0.000001   4.323984\n",
       "edie           77.0      1.0   0.000083   0.000001   4.311245\n",
       "paulie         72.0      1.0   0.000078   0.000001   4.244995\n",
       "mildred        65.0      1.0   0.000070   0.000001   4.144191\n",
       "gundam         62.0      1.0   0.000067   0.000001   4.097671\n",
       "biko           45.0      1.0   0.000049   0.000001   3.783177\n",
       "din            43.0      1.0   0.000047   0.000001   3.738726\n",
       "flavia         43.0      1.0   0.000047   0.000001   3.738726\n",
       "visconti       41.0      1.0   0.000045   0.000001   3.692206\n",
       "khouri         36.0      1.0   0.000039   0.000001   3.565454\n",
       "deathtrap      35.0      1.0   0.000038   0.000001   3.538055\n",
       "brashear       33.0      1.0   0.000036   0.000001   3.480897\n",
       "creasy         33.0      1.0   0.000036   0.000001   3.480897\n",
       "panahi         32.0      1.0   0.000035   0.000001   3.451044\n",
       "ossessione     32.0      1.0   0.000035   0.000001   3.451044"
      ]
     },
     "execution_count": 60,
     "metadata": {},
     "output_type": "execute_result"
    }
   ],
   "source": [
    "df_mul.sort_values('NB_weight',ascending=False).head(15)"
   ]
  },
  {
   "cell_type": "code",
   "execution_count": 61,
   "metadata": {},
   "outputs": [
    {
     "data": {
      "text/html": [
       "<div>\n",
       "<style scoped>\n",
       "    .dataframe tbody tr th:only-of-type {\n",
       "        vertical-align: middle;\n",
       "    }\n",
       "\n",
       "    .dataframe tbody tr th {\n",
       "        vertical-align: top;\n",
       "    }\n",
       "\n",
       "    .dataframe thead th {\n",
       "        text-align: right;\n",
       "    }\n",
       "</style>\n",
       "<table border=\"1\" class=\"dataframe\">\n",
       "  <thead>\n",
       "    <tr style=\"text-align: right;\">\n",
       "      <th></th>\n",
       "      <th>pos_cnt</th>\n",
       "      <th>neg_cnt</th>\n",
       "      <th>pos_probs</th>\n",
       "      <th>neg_probs</th>\n",
       "      <th>NB_weight</th>\n",
       "    </tr>\n",
       "  </thead>\n",
       "  <tbody>\n",
       "    <tr>\n",
       "      <th>thunderbirds</th>\n",
       "      <td>1.0</td>\n",
       "      <td>43.0</td>\n",
       "      <td>0.000001</td>\n",
       "      <td>0.000049</td>\n",
       "      <td>-3.829654</td>\n",
       "    </tr>\n",
       "    <tr>\n",
       "      <th>boll</th>\n",
       "      <td>1.0</td>\n",
       "      <td>83.0</td>\n",
       "      <td>0.000002</td>\n",
       "      <td>0.000094</td>\n",
       "      <td>-3.783134</td>\n",
       "    </tr>\n",
       "    <tr>\n",
       "      <th>dahmer</th>\n",
       "      <td>1.0</td>\n",
       "      <td>41.0</td>\n",
       "      <td>0.000001</td>\n",
       "      <td>0.000047</td>\n",
       "      <td>-3.783134</td>\n",
       "    </tr>\n",
       "    <tr>\n",
       "      <th>beowulf</th>\n",
       "      <td>1.0</td>\n",
       "      <td>33.0</td>\n",
       "      <td>0.000001</td>\n",
       "      <td>0.000038</td>\n",
       "      <td>-3.571825</td>\n",
       "    </tr>\n",
       "    <tr>\n",
       "      <th>grendel</th>\n",
       "      <td>1.0</td>\n",
       "      <td>29.0</td>\n",
       "      <td>0.000001</td>\n",
       "      <td>0.000033</td>\n",
       "      <td>-3.446661</td>\n",
       "    </tr>\n",
       "    <tr>\n",
       "      <th>ajay</th>\n",
       "      <td>1.0</td>\n",
       "      <td>29.0</td>\n",
       "      <td>0.000001</td>\n",
       "      <td>0.000033</td>\n",
       "      <td>-3.446661</td>\n",
       "    </tr>\n",
       "    <tr>\n",
       "      <th>deathstalker</th>\n",
       "      <td>1.0</td>\n",
       "      <td>29.0</td>\n",
       "      <td>0.000001</td>\n",
       "      <td>0.000033</td>\n",
       "      <td>-3.446661</td>\n",
       "    </tr>\n",
       "    <tr>\n",
       "      <th>uwe</th>\n",
       "      <td>1.0</td>\n",
       "      <td>57.0</td>\n",
       "      <td>0.000002</td>\n",
       "      <td>0.000065</td>\n",
       "      <td>-3.412760</td>\n",
       "    </tr>\n",
       "    <tr>\n",
       "      <th>seagal</th>\n",
       "      <td>2.0</td>\n",
       "      <td>81.0</td>\n",
       "      <td>0.000003</td>\n",
       "      <td>0.000091</td>\n",
       "      <td>-3.353571</td>\n",
       "    </tr>\n",
       "    <tr>\n",
       "      <th>tedium</th>\n",
       "      <td>1.0</td>\n",
       "      <td>26.0</td>\n",
       "      <td>0.000001</td>\n",
       "      <td>0.000030</td>\n",
       "      <td>-3.341301</td>\n",
       "    </tr>\n",
       "    <tr>\n",
       "      <th>kareena</th>\n",
       "      <td>1.0</td>\n",
       "      <td>26.0</td>\n",
       "      <td>0.000001</td>\n",
       "      <td>0.000030</td>\n",
       "      <td>-3.341301</td>\n",
       "    </tr>\n",
       "    <tr>\n",
       "      <th>slater</th>\n",
       "      <td>1.0</td>\n",
       "      <td>25.0</td>\n",
       "      <td>0.000001</td>\n",
       "      <td>0.000029</td>\n",
       "      <td>-3.303561</td>\n",
       "    </tr>\n",
       "    <tr>\n",
       "      <th>palermo</th>\n",
       "      <td>1.0</td>\n",
       "      <td>25.0</td>\n",
       "      <td>0.000001</td>\n",
       "      <td>0.000029</td>\n",
       "      <td>-3.303561</td>\n",
       "    </tr>\n",
       "    <tr>\n",
       "      <th>gram</th>\n",
       "      <td>1.0</td>\n",
       "      <td>24.0</td>\n",
       "      <td>0.000001</td>\n",
       "      <td>0.000028</td>\n",
       "      <td>-3.264340</td>\n",
       "    </tr>\n",
       "    <tr>\n",
       "      <th>hobgoblins</th>\n",
       "      <td>1.0</td>\n",
       "      <td>24.0</td>\n",
       "      <td>0.000001</td>\n",
       "      <td>0.000028</td>\n",
       "      <td>-3.264340</td>\n",
       "    </tr>\n",
       "  </tbody>\n",
       "</table>\n",
       "</div>"
      ],
      "text/plain": [
       "              pos_cnt  neg_cnt  pos_probs  neg_probs  NB_weight\n",
       "thunderbirds      1.0     43.0   0.000001   0.000049  -3.829654\n",
       "boll              1.0     83.0   0.000002   0.000094  -3.783134\n",
       "dahmer            1.0     41.0   0.000001   0.000047  -3.783134\n",
       "beowulf           1.0     33.0   0.000001   0.000038  -3.571825\n",
       "grendel           1.0     29.0   0.000001   0.000033  -3.446661\n",
       "ajay              1.0     29.0   0.000001   0.000033  -3.446661\n",
       "deathstalker      1.0     29.0   0.000001   0.000033  -3.446661\n",
       "uwe               1.0     57.0   0.000002   0.000065  -3.412760\n",
       "seagal            2.0     81.0   0.000003   0.000091  -3.353571\n",
       "tedium            1.0     26.0   0.000001   0.000030  -3.341301\n",
       "kareena           1.0     26.0   0.000001   0.000030  -3.341301\n",
       "slater            1.0     25.0   0.000001   0.000029  -3.303561\n",
       "palermo           1.0     25.0   0.000001   0.000029  -3.303561\n",
       "gram              1.0     24.0   0.000001   0.000028  -3.264340\n",
       "hobgoblins        1.0     24.0   0.000001   0.000028  -3.264340"
      ]
     },
     "execution_count": 61,
     "metadata": {},
     "output_type": "execute_result"
    }
   ],
   "source": [
    "df_mul.sort_values('NB_weight',ascending=True).head(15)"
   ]
  },
  {
   "cell_type": "code",
   "execution_count": 62,
   "metadata": {},
   "outputs": [],
   "source": [
    "def predict_mul(texts):\n",
    "    tokens = tokenization(texts)\n",
    "    probs = []\n",
    "    pos_probs = df_mul['pos_probs']\n",
    "    neg_probs = df_mul['neg_probs']\n",
    "    \n",
    "    p_c_pos = np.log(train_pos_all/train_all)\n",
    "    p_c_neg = np.log(train_neg_all/train_all)\n",
    "\n",
    "    for line in tqdm_notebook(tokens):\n",
    "        pos_prob = p_c_pos\n",
    "        neg_prob = p_c_neg\n",
    "        for word in line:\n",
    "            if word in vocab_mul:\n",
    "                p_prob,n_prob = pos_probs[word],neg_probs[word]\n",
    "                pos_prob += np.log(p_prob)\n",
    "                neg_prob += np.log(n_prob)\n",
    "        if pos_prob > neg_prob:\n",
    "            probs.append('pos')\n",
    "        else:\n",
    "            probs.append('neg')\n",
    "    return probs"
   ]
  },
  {
   "cell_type": "code",
   "execution_count": 63,
   "metadata": {},
   "outputs": [
    {
     "data": {
      "application/vnd.jupyter.widget-view+json": {
       "model_id": "e059d53be13340fead402e2a52853ac6",
       "version_major": 2,
       "version_minor": 0
      },
      "text/plain": [
       "HBox(children=(IntProgress(value=0, max=10000), HTML(value='')))"
      ]
     },
     "metadata": {},
     "output_type": "display_data"
    },
    {
     "name": "stdout",
     "output_type": "stream",
     "text": [
      "\n"
     ]
    },
    {
     "data": {
      "application/vnd.jupyter.widget-view+json": {
       "model_id": "234f6aa9130b41e8afbb5da4c5c90f33",
       "version_major": 2,
       "version_minor": 0
      },
      "text/plain": [
       "HBox(children=(IntProgress(value=0, max=15000), HTML(value='')))"
      ]
     },
     "metadata": {},
     "output_type": "display_data"
    },
    {
     "name": "stdout",
     "output_type": "stream",
     "text": [
      "\n"
     ]
    }
   ],
   "source": [
    "dev_probs_mul = predict_mul(dev_texts)\n",
    "train_probs_mul = predict_mul(train_texts_stop_punc)"
   ]
  },
  {
   "cell_type": "code",
   "execution_count": 64,
   "metadata": {},
   "outputs": [
    {
     "data": {
      "application/vnd.jupyter.widget-view+json": {
       "model_id": "85db565288634ff3885b27470019c162",
       "version_major": 2,
       "version_minor": 0
      },
      "text/plain": [
       "HBox(children=(IntProgress(value=0, max=2000), HTML(value='')))"
      ]
     },
     "metadata": {},
     "output_type": "display_data"
    },
    {
     "name": "stdout",
     "output_type": "stream",
     "text": [
      "\n"
     ]
    },
    {
     "data": {
      "application/vnd.jupyter.widget-view+json": {
       "model_id": "17fee35f9c7f4595b1134a14bafa9d13",
       "version_major": 2,
       "version_minor": 0
      },
      "text/plain": [
       "HBox(children=(IntProgress(value=0, max=8599), HTML(value='')))"
      ]
     },
     "metadata": {},
     "output_type": "display_data"
    },
    {
     "name": "stdout",
     "output_type": "stream",
     "text": [
      "\n"
     ]
    }
   ],
   "source": [
    "dev_b_probs_mul = predict_mul(dev_b_texts)\n",
    "test_b_probs_mul = predict_mul(test_b_texts)"
   ]
  },
  {
   "cell_type": "code",
   "execution_count": 65,
   "metadata": {},
   "outputs": [
    {
     "data": {
      "application/vnd.jupyter.widget-view+json": {
       "model_id": "5099043b27d04d83a124980313beb850",
       "version_major": 2,
       "version_minor": 0
      },
      "text/plain": [
       "HBox(children=(IntProgress(value=0, max=25000), HTML(value='')))"
      ]
     },
     "metadata": {},
     "output_type": "display_data"
    },
    {
     "name": "stdout",
     "output_type": "stream",
     "text": [
      "\n"
     ]
    }
   ],
   "source": [
    "test_probs_mul = predict_mul(test_texts)"
   ]
  },
  {
   "cell_type": "code",
   "execution_count": 66,
   "metadata": {},
   "outputs": [
    {
     "name": "stdout",
     "output_type": "stream",
     "text": [
      "dev = 0.8593 dev_b = 0.7325 train = 0.928\n"
     ]
    }
   ],
   "source": [
    "print('dev =',evaluate(dev_probs_mul,dev_labels),'dev_b =',evaluate(dev_b_probs_mul,dev_b_labels),'train =',evaluate(train_probs_mul,train_labels))"
   ]
  },
  {
   "cell_type": "code",
   "execution_count": 67,
   "metadata": {},
   "outputs": [],
   "source": [
    "final_mul = pd.Series(train_probs_mul+dev_probs_mul+test_probs_mul+dev_b_probs_mul+test_b_probs_mul)"
   ]
  },
  {
   "cell_type": "code",
   "execution_count": 68,
   "metadata": {},
   "outputs": [],
   "source": [
    "final_mul.index = inds"
   ]
  },
  {
   "cell_type": "code",
   "execution_count": 80,
   "metadata": {},
   "outputs": [],
   "source": [
    "final_mul.to_csv('preds_mul_new.tsv',sep='\\t',header=False)"
   ]
  },
  {
   "cell_type": "markdown",
   "metadata": {},
   "source": [
    "#### Train and Test time you can see with help tqdm_notebook"
   ]
  },
  {
   "cell_type": "markdown",
   "metadata": {},
   "source": [
    "#### Why do we have different accuracy values on different parts of the dataset (train and dev, dev and test)? Because they include different information. Their structure can be different"
   ]
  },
  {
   "cell_type": "markdown",
   "metadata": {},
   "source": [
    "6. Dictionaries may also contain not only unigrams (words) but also $N$-grams. Add bigrams to dictionaries: does it improve the results (calculate the difference)? Are trigrams helpful? $N$-grams with $n > 3$? Is it worth including $N$-grams (bi-, tri- or n- grams) to dictionaries at all? "
   ]
  },
  {
   "cell_type": "code",
   "execution_count": 69,
   "metadata": {},
   "outputs": [],
   "source": [
    "def ngrams(words, gram_range):\n",
    "    pp = []\n",
    "    for igram in range(gram_range[0],gram_range[1]+1):\n",
    "        for i in range(len(words)-igram+1):\n",
    "            pp.append(\" \".join(words[i:i+igram]))\n",
    "            \n",
    "    return pp"
   ]
  },
  {
   "cell_type": "code",
   "execution_count": 84,
   "metadata": {},
   "outputs": [],
   "source": [
    "def make_vocab_ngram(text, mode='ber',gram_range=(1,1), min_cnt=0):\n",
    "    vocab = dict()\n",
    "    \n",
    "    if mode == 'ber':    \n",
    "        for line in text:\n",
    "            for word in set(ngrams(line,gram_range)):     \n",
    "                if word not in vocab:\n",
    "                    vocab[word] = 1\n",
    "                else:\n",
    "                    vocab[word] +=1\n",
    "    else:\n",
    "        for line in text:\n",
    "            for word in ngrams(line,gram_range):     \n",
    "                if word not in vocab:\n",
    "                    vocab[word] = 1\n",
    "                else:\n",
    "                    vocab[word] +=1\n",
    "                    \n",
    "    if min_cnt:\n",
    "        new_dict = dict()\n",
    "        for key,val in vocab.items():\n",
    "            if val > min_cnt:\n",
    "                new_dict[key] = val\n",
    "        vocab = new_dict\n",
    "    return vocab"
   ]
  },
  {
   "cell_type": "code",
   "execution_count": 75,
   "metadata": {},
   "outputs": [],
   "source": [
    "dict_bigr = make_vocab_ngram(train_texts_stop_punc_tok,gram_range=(1,2))\n",
    "dict_bigr_pos = make_vocab_ngram(train_texts_stop_punc_pos_tok,gram_range=(1,2))\n",
    "dict_bigr_neg = make_vocab_ngram(train_texts_stop_punc_neg_tok,gram_range=(1,2))"
   ]
  },
  {
   "cell_type": "code",
   "execution_count": 76,
   "metadata": {},
   "outputs": [
    {
     "data": {
      "text/plain": [
       "(1241551, 707400, 664166)"
      ]
     },
     "execution_count": 76,
     "metadata": {},
     "output_type": "execute_result"
    }
   ],
   "source": [
    "len(dict_bigr),len(dict_bigr_pos),len(dict_bigr_neg)"
   ]
  },
  {
   "cell_type": "code",
   "execution_count": 77,
   "metadata": {},
   "outputs": [],
   "source": [
    "dict_bigr_mul = make_vocab_ngram(train_texts_stop_punc_tok,mode='mul',gram_range=(2,2))\n",
    "dict_bigr_mul_pos = make_vocab_ngram(train_texts_stop_punc_pos_tok,mode='mul',gram_range=(2,2))\n",
    "dict_bigr_mul_neg = make_vocab_ngram(train_texts_stop_punc_neg_tok,mode='mul',gram_range=(2,2))"
   ]
  },
  {
   "cell_type": "code",
   "execution_count": 78,
   "metadata": {},
   "outputs": [],
   "source": [
    "vocab_bigr = set(dict_bigr.keys())\n",
    "vocab_bigr_pos = set(dict_bigr_pos.keys())\n",
    "vocab_bigr_neg = set(dict_bigr_neg.keys())"
   ]
  },
  {
   "cell_type": "code",
   "execution_count": 109,
   "metadata": {},
   "outputs": [],
   "source": [
    "def fit_ngram(train,train_pos,train_neg,mode='ber',gram_range=(1,1), alpha = 1,min_cnt=0):\n",
    "    \n",
    "    dict_all = make_vocab_ngram(train,mode=mode,gram_range=gram_range,min_cnt=min_cnt)\n",
    "    dict_pos = make_vocab_ngram(train_pos,mode=mode,gram_range=gram_range,min_cnt=min_cnt)\n",
    "    dict_neg = make_vocab_ngram(train_neg,mode=mode,gram_range=gram_range,min_cnt=min_cnt)\n",
    "    \n",
    "    train_pos_all,train_neg_all = len(train_pos),len(train_neg)   \n",
    "\n",
    "    \n",
    "    if mode == 'ber':\n",
    "        df  = pd.DataFrame({'pos_cnt':pd.Series(dict_pos),'neg_cnt':pd.Series(dict_neg)})\n",
    "        df['pos_probs'] = (df['pos_cnt'].fillna(0)+alpha) /(train_pos_all+2)\n",
    "        df['neg_probs'] = (df['neg_cnt'].fillna(0)+alpha) /(train_neg_all+2)\n",
    "        df.fillna(1.0,inplace=True)\n",
    "        df['NB_weight'] = np.log(df['pos_probs']/df['neg_probs'])\n",
    "    \n",
    "    else:\n",
    "        \n",
    "        df  = pd.DataFrame({'pos_cnt':pd.Series(dict_pos),'neg_cnt':pd.Series(dict_neg)})\n",
    "        all_pos_mul,all_neg_mul = np.sum(list(dict_pos.values())),np.sum(list(dict_neg.values()))\n",
    "\n",
    "        df['pos_probs'] = (df['pos_cnt'].fillna(0)+alpha) /(all_pos_mul)\n",
    "        df['neg_probs'] = (df['neg_cnt'].fillna(0)+alpha) /(all_neg_mul)\n",
    "        df.fillna(1.0,inplace=True)\n",
    "        df['NB_weight'] = np.log(df['pos_probs']/df['neg_probs'])\n",
    "        \n",
    "    vocab = set(dict_all.keys())\n",
    "    vocab_pos = set(dict_pos.keys())\n",
    "    vocab_neg = set(dict_neg.keys())\n",
    "    \n",
    "    return df, vocab, vocab_pos, vocab_neg\n",
    "    \n",
    "    "
   ]
  },
  {
   "cell_type": "code",
   "execution_count": 86,
   "metadata": {},
   "outputs": [],
   "source": [
    "df_bigr_ber, vocab_bigr_ber, vocab_bigr_ber_pos, vocab_bigr_ber_neg = fit_ngram(train_texts_stop_punc_tok, train_texts_stop_punc_pos_tok, train_texts_stop_punc_neg_tok, mode='ber',gram_range=(1,2))"
   ]
  },
  {
   "cell_type": "code",
   "execution_count": 87,
   "metadata": {},
   "outputs": [
    {
     "data": {
      "text/plain": [
       "(1241551, 5)"
      ]
     },
     "execution_count": 87,
     "metadata": {},
     "output_type": "execute_result"
    }
   ],
   "source": [
    "df_bigr_ber.shape"
   ]
  },
  {
   "cell_type": "code",
   "execution_count": 88,
   "metadata": {},
   "outputs": [],
   "source": [
    "def tokenization_gram(text,gram_range = (1,1)):\n",
    "    \n",
    "    return [ngrams(line.split(),gram_range=gram_range) for line in text]"
   ]
  },
  {
   "cell_type": "code",
   "execution_count": 145,
   "metadata": {},
   "outputs": [],
   "source": [
    "def predict_ber(texts,vocab=vocab,vocab_pos=vocab_pos,vocab_neg=vocab_neg,df=df,gram_range=(1,1)):\n",
    "    tokens = tokenization_gram(texts,gram_range=gram_range)\n",
    "    probs = []\n",
    "    p_c_pos = np.log(train_pos_all/(train_pos_all+train_neg_all))\n",
    "    p_c_neg = np.log(train_neg_all/(train_pos_all+train_neg_all))\n",
    "    pos_probs = df['pos_probs']\n",
    "    neg_probs = df['neg_probs']\n",
    "    for line in tqdm_notebook(tokens):\n",
    "        pos_prob = p_c_pos\n",
    "        neg_prob = p_c_neg\n",
    "        line = set(line)\n",
    "        for word in line: # for accelerating I change loop words in vocab -> loop  words in tokens w\n",
    "            flag_pos = 0\n",
    "            flag_neg = 0\n",
    "            if word in vocab:\n",
    "                if word in vocab_pos:\n",
    "                    flag_pos = 1\n",
    "                if word in vocab_neg:\n",
    "                    flag_neg = 1\n",
    "                    \n",
    "                p_prob,n_prob = pos_probs[word],neg_probs[word]\n",
    "                pos_prob += np.log(flag_pos*p_prob+(1-flag_pos)*(p_prob))\n",
    "                neg_prob += np.log(flag_neg*n_prob+(1-flag_neg)*(n_prob))\n",
    "            \n",
    "        if pos_prob > neg_prob:\n",
    "            probs.append('pos')\n",
    "        else:\n",
    "            probs.append('neg')\n",
    "    return probs"
   ]
  },
  {
   "cell_type": "code",
   "execution_count": 95,
   "metadata": {},
   "outputs": [],
   "source": [
    "def predict_not_ber(texts,vocab=vocab,vocab_pos=vocab_pos,vocab_neg=vocab_neg,df=df,gram_range=(1,1)):\n",
    "    tokens = tokenization_gram(texts,gram_range=gram_range)\n",
    "    probs = []\n",
    "    p_c_pos = np.log(train_pos_all/train_all)\n",
    "    p_c_neg = np.log(train_neg_all/train_all)\n",
    "    pos_probs = df['pos_probs']\n",
    "    neg_probs = df['neg_probs']\n",
    "    for line in tqdm_notebook(tokens):\n",
    "        pos_prob = p_c_pos\n",
    "        neg_prob = p_c_neg\n",
    "        line = set(line)\n",
    "        for word in line: # for accelerating I change loop words in vocab -> loop  words in tokens w\n",
    "            if word in vocab:\n",
    "                p_prob,n_prob = pos_probs[word],neg_probs[word]\n",
    "                pos_prob += np.log(p_prob)-np.log(1-p_prob)\n",
    "                neg_prob += np.log(n_prob)-np.log(1-n_prob)\n",
    "        if pos_prob > neg_prob:\n",
    "            probs.append('pos')\n",
    "        else:\n",
    "            probs.append('neg')\n",
    "    return probs"
   ]
  },
  {
   "cell_type": "code",
   "execution_count": 91,
   "metadata": {},
   "outputs": [],
   "source": [
    "def predict_mul(texts,vocab=vocab,df=df,gram_range=(1,1)):\n",
    "    tokens = tokenization_gram(texts,gram_range=gram_range)\n",
    "    probs = []\n",
    "    p_c_pos = np.log(train_pos_all/(train_pos_all+train_neg_all))\n",
    "    p_c_neg = np.log(train_neg_all/(train_pos_all+train_neg_all))\n",
    "    pos_probs = df['pos_probs']\n",
    "    neg_probs = df['neg_probs']\n",
    "    for line in tqdm_notebook(tokens):\n",
    "        pos_prob = p_c_pos\n",
    "        neg_prob = p_c_neg\n",
    "        line = set(line)\n",
    "        for word in line: # for accelerating I change loop words in vocab -> loop  words in tokens w\n",
    "            if word in vocab:\n",
    "                p_prob,n_prob = pos_probs[word],neg_probs[word]\n",
    "                pos_prob += np.log(p_prob)\n",
    "                neg_prob += np.log(n_prob)\n",
    "        if pos_prob > neg_prob:\n",
    "            probs.append('pos')\n",
    "        else:\n",
    "            probs.append('neg')\n",
    "    return probs"
   ]
  },
  {
   "cell_type": "code",
   "execution_count": 98,
   "metadata": {},
   "outputs": [
    {
     "data": {
      "application/vnd.jupyter.widget-view+json": {
       "model_id": "3b633ae0230d4d97b85b399c7d7f991f",
       "version_major": 2,
       "version_minor": 0
      },
      "text/plain": [
       "HBox(children=(IntProgress(value=0, max=10000), HTML(value='')))"
      ]
     },
     "metadata": {},
     "output_type": "display_data"
    },
    {
     "name": "stdout",
     "output_type": "stream",
     "text": [
      "\n"
     ]
    },
    {
     "data": {
      "application/vnd.jupyter.widget-view+json": {
       "model_id": "46e4796e0f8a48fe8fec7197bc4a62ba",
       "version_major": 2,
       "version_minor": 0
      },
      "text/plain": [
       "HBox(children=(IntProgress(value=0, max=15000), HTML(value='')))"
      ]
     },
     "metadata": {},
     "output_type": "display_data"
    },
    {
     "name": "stdout",
     "output_type": "stream",
     "text": [
      "\n"
     ]
    },
    {
     "data": {
      "application/vnd.jupyter.widget-view+json": {
       "model_id": "33f8d096f33a482d9c49bff5dc89a65a",
       "version_major": 2,
       "version_minor": 0
      },
      "text/plain": [
       "HBox(children=(IntProgress(value=0, max=2000), HTML(value='')))"
      ]
     },
     "metadata": {},
     "output_type": "display_data"
    },
    {
     "name": "stdout",
     "output_type": "stream",
     "text": [
      "\n"
     ]
    }
   ],
   "source": [
    "df_bigr_ber, vocab_bigr_ber, vocab_bigr_ber_pos, vocab_bigr_ber_neg = fit_ngram(train_texts_stop_punc_tok, train_texts_stop_punc_pos_tok, train_texts_stop_punc_neg_tok, mode='ber',gram_range=(1,3))\n",
    "# vocab_bigr_ber=set(df_bigr_ber.index)\n",
    "dev_probs_bigr = predict_not_ber(dev_texts, vocab=vocab_bigr_ber,vocab_pos=vocab_bigr_ber_pos, vocab_neg=vocab_bigr_ber_neg ,df=df_bigr_ber,gram_range=(1,3))\n",
    "train_probs_bigr = predict_not_ber(train_texts_stop_punc, vocab=vocab_bigr_ber, df=df_bigr_ber,gram_range=(1,3))\n",
    "\n",
    "dev_b_probs_bigr = predict_not_ber(dev_b_texts, vocab=vocab_bigr_ber, df=df_bigr_ber,gram_range=(1,3))"
   ]
  },
  {
   "cell_type": "code",
   "execution_count": 99,
   "metadata": {
    "scrolled": true
   },
   "outputs": [
    {
     "data": {
      "application/vnd.jupyter.widget-view+json": {
       "model_id": "690ce25ee07748efacb16c60f47bac93",
       "version_major": 2,
       "version_minor": 0
      },
      "text/plain": [
       "HBox(children=(IntProgress(value=0, max=25000), HTML(value='')))"
      ]
     },
     "metadata": {},
     "output_type": "display_data"
    },
    {
     "name": "stdout",
     "output_type": "stream",
     "text": [
      "\n"
     ]
    },
    {
     "data": {
      "application/vnd.jupyter.widget-view+json": {
       "model_id": "b4b4d1b3a38940799c101697ffa49997",
       "version_major": 2,
       "version_minor": 0
      },
      "text/plain": [
       "HBox(children=(IntProgress(value=0, max=8599), HTML(value='')))"
      ]
     },
     "metadata": {},
     "output_type": "display_data"
    },
    {
     "name": "stdout",
     "output_type": "stream",
     "text": [
      "\n"
     ]
    }
   ],
   "source": [
    "dev_probs_bigr = predict_not_ber(dev_texts, vocab=vocab_bigr_ber, df=df_bigr_ber,gram_range=(1,3))\n",
    "dev_b_probs_bigr = predict_not_ber(dev_b_texts, vocab=vocab_bigr_ber, df=df_bigr_ber,gram_range=(1,3))"
   ]
  },
  {
   "cell_type": "code",
   "execution_count": 100,
   "metadata": {},
   "outputs": [
    {
     "name": "stdout",
     "output_type": "stream",
     "text": [
      "dev = 0.8853 dev_b = 0.7325 train = 0.9999333333333333\n"
     ]
    }
   ],
   "source": [
    "print('dev =',evaluate(dev_probs_bigr,dev_labels),'dev_b =',evaluate(dev_b_probs_bigr,dev_b_labels),'train =',evaluate(train_probs_bigr,train_labels))"
   ]
  },
  {
   "cell_type": "code",
   "execution_count": 96,
   "metadata": {},
   "outputs": [
    {
     "data": {
      "application/vnd.jupyter.widget-view+json": {
       "model_id": "47c33b7695c54997b883401fe7400617",
       "version_major": 2,
       "version_minor": 0
      },
      "text/plain": [
       "HBox(children=(IntProgress(value=0, max=10000), HTML(value='')))"
      ]
     },
     "metadata": {},
     "output_type": "display_data"
    },
    {
     "name": "stdout",
     "output_type": "stream",
     "text": [
      "\n"
     ]
    },
    {
     "data": {
      "application/vnd.jupyter.widget-view+json": {
       "model_id": "364fcb75c2f64d71b3d22eadbf3eb202",
       "version_major": 2,
       "version_minor": 0
      },
      "text/plain": [
       "HBox(children=(IntProgress(value=0, max=15000), HTML(value='')))"
      ]
     },
     "metadata": {},
     "output_type": "display_data"
    },
    {
     "name": "stdout",
     "output_type": "stream",
     "text": [
      "\n"
     ]
    },
    {
     "data": {
      "application/vnd.jupyter.widget-view+json": {
       "model_id": "2015d6dcb4aa4f69ae8f2084e0800652",
       "version_major": 2,
       "version_minor": 0
      },
      "text/plain": [
       "HBox(children=(IntProgress(value=0, max=2000), HTML(value='')))"
      ]
     },
     "metadata": {},
     "output_type": "display_data"
    },
    {
     "name": "stdout",
     "output_type": "stream",
     "text": [
      "\n"
     ]
    }
   ],
   "source": [
    "df_bigr_ber, vocab_bigr_ber, vocab_bigr_ber_pos, vocab_bigr_ber_neg = fit_ngram(train_texts_stop_punc_tok, train_texts_stop_punc_pos_tok, train_texts_stop_punc_neg_tok, mode='ber',gram_range=(1,4))\n",
    "dev_probs_bigr = predict_ber(dev_texts, vocab=vocab_bigr_ber,vocab_pos=vocab_bigr_ber_pos, vocab_neg=vocab_bigr_ber_neg ,df=df_bigr_ber,gram_range=(1,4))\n",
    "train_probs_bigr = predict_ber(train_texts_stop_punc, vocab=vocab_bigr_ber, df=df_bigr_ber,gram_range=(1,4))\n",
    "\n",
    "dev_b_probs_bigr = predict_ber(dev_b_texts, vocab=vocab_bigr_ber, df=df_bigr_ber,gram_range=(1,4))"
   ]
  },
  {
   "cell_type": "code",
   "execution_count": null,
   "metadata": {},
   "outputs": [],
   "source": [
    "test_probs_bigr = predict_ber(test_texts, vocab=vocab_bigr_ber,vocab_pos=vocab_bigr_ber_pos, vocab_neg=vocab_bigr_ber_neg , df=df_bigr_ber,gram_range=(1,4))\n",
    "test_b_probs_bigr = predict_ber(test_b_texts, vocab=vocab_bigr_ber, df=df_bigr_ber,gram_range=(1,4))"
   ]
  },
  {
   "cell_type": "code",
   "execution_count": 97,
   "metadata": {},
   "outputs": [
    {
     "name": "stdout",
     "output_type": "stream",
     "text": [
      "dev = 0.885 dev_b = 0.7265 train = 1.0\n"
     ]
    }
   ],
   "source": [
    "print('dev =',evaluate(dev_probs_bigr,dev_labels),'dev_b =',evaluate(dev_b_probs_bigr,dev_b_labels),'train =',evaluate(train_probs_bigr,train_labels))"
   ]
  },
  {
   "cell_type": "code",
   "execution_count": 307,
   "metadata": {},
   "outputs": [],
   "source": [
    "final_n_b_bigr = pd.Series(train_probs_bigr+dev_probs_bigr+test_probs_bigr+dev_b_probs_bigr+test_b_probs_bigr)\n",
    "final_n_b_bigr.index = inds\n",
    "final_n_b_bigr.to_csv('preds_n_b_1_4.tsv',sep='\\t',header=False)"
   ]
  },
  {
   "cell_type": "code",
   "execution_count": 284,
   "metadata": {},
   "outputs": [],
   "source": [
    "grams_range = [(1,1),(1,2),(1,3),(1,4),(2,2),(2,3),(2,4),(3,3),(3,4),(4,4)]"
   ]
  },
  {
   "cell_type": "markdown",
   "metadata": {},
   "source": [
    "Let's take the best ngram vocabluary"
   ]
  },
  {
   "cell_type": "code",
   "execution_count": 193,
   "metadata": {},
   "outputs": [
    {
     "name": "stdout",
     "output_type": "stream",
     "text": [
      "(1, 1)\n"
     ]
    },
    {
     "data": {
      "application/vnd.jupyter.widget-view+json": {
       "model_id": "c4ba09357a25428c8cd93d624b9cbabd",
       "version_major": 2,
       "version_minor": 0
      },
      "text/plain": [
       "HBox(children=(IntProgress(value=0, max=15000), HTML(value='')))"
      ]
     },
     "metadata": {},
     "output_type": "display_data"
    },
    {
     "data": {
      "application/vnd.jupyter.widget-view+json": {
       "model_id": "c7e8c4ac341a498095e63ec287eaa981",
       "version_major": 2,
       "version_minor": 0
      },
      "text/plain": [
       "HBox(children=(IntProgress(value=0, max=10000), HTML(value='')))"
      ]
     },
     "metadata": {},
     "output_type": "display_data"
    },
    {
     "data": {
      "application/vnd.jupyter.widget-view+json": {
       "model_id": "00dbbab6dde549d7ab4dd0fba26471de",
       "version_major": 2,
       "version_minor": 0
      },
      "text/plain": [
       "HBox(children=(IntProgress(value=0, max=2000), HTML(value='')))"
      ]
     },
     "metadata": {},
     "output_type": "display_data"
    },
    {
     "data": {
      "application/vnd.jupyter.widget-view+json": {
       "model_id": "25b1aa45a216413ba51d86cf9775b400",
       "version_major": 2,
       "version_minor": 0
      },
      "text/plain": [
       "HBox(children=(IntProgress(value=0, max=25000), HTML(value='')))"
      ]
     },
     "metadata": {},
     "output_type": "display_data"
    },
    {
     "data": {
      "application/vnd.jupyter.widget-view+json": {
       "model_id": "8950aaa486ce457cb696bf0978267f8b",
       "version_major": 2,
       "version_minor": 0
      },
      "text/plain": [
       "HBox(children=(IntProgress(value=0, max=8599), HTML(value='')))"
      ]
     },
     "metadata": {},
     "output_type": "display_data"
    },
    {
     "name": "stdout",
     "output_type": "stream",
     "text": [
      "(1, 1)\n",
      "dev = 0.8597 dev_b = 0.722 train = 0.9356666666666666\n",
      "(1, 2)\n"
     ]
    },
    {
     "data": {
      "application/vnd.jupyter.widget-view+json": {
       "model_id": "11ef562817a6428f8df0013b3d8bf933",
       "version_major": 2,
       "version_minor": 0
      },
      "text/plain": [
       "HBox(children=(IntProgress(value=0, max=15000), HTML(value='')))"
      ]
     },
     "metadata": {},
     "output_type": "display_data"
    },
    {
     "data": {
      "application/vnd.jupyter.widget-view+json": {
       "model_id": "0f9ac4ca2dd1475e9cafe3721d97539f",
       "version_major": 2,
       "version_minor": 0
      },
      "text/plain": [
       "HBox(children=(IntProgress(value=0, max=10000), HTML(value='')))"
      ]
     },
     "metadata": {},
     "output_type": "display_data"
    },
    {
     "data": {
      "application/vnd.jupyter.widget-view+json": {
       "model_id": "cc05f5d5b50a474f80c68100a51e3512",
       "version_major": 2,
       "version_minor": 0
      },
      "text/plain": [
       "HBox(children=(IntProgress(value=0, max=2000), HTML(value='')))"
      ]
     },
     "metadata": {},
     "output_type": "display_data"
    },
    {
     "data": {
      "application/vnd.jupyter.widget-view+json": {
       "model_id": "b27e29ff67424d258219325026847de4",
       "version_major": 2,
       "version_minor": 0
      },
      "text/plain": [
       "HBox(children=(IntProgress(value=0, max=25000), HTML(value='')))"
      ]
     },
     "metadata": {},
     "output_type": "display_data"
    },
    {
     "data": {
      "application/vnd.jupyter.widget-view+json": {
       "model_id": "3afe2d54e7f24d46bf9b50e15246629e",
       "version_major": 2,
       "version_minor": 0
      },
      "text/plain": [
       "HBox(children=(IntProgress(value=0, max=8599), HTML(value='')))"
      ]
     },
     "metadata": {},
     "output_type": "display_data"
    },
    {
     "name": "stdout",
     "output_type": "stream",
     "text": [
      "(1, 2)\n",
      "dev = 0.883 dev_b = 0.731 train = 0.9994666666666666\n",
      "(1, 3)\n"
     ]
    },
    {
     "data": {
      "application/vnd.jupyter.widget-view+json": {
       "model_id": "a9fd401bf89c497f88d6dda5c4f928ed",
       "version_major": 2,
       "version_minor": 0
      },
      "text/plain": [
       "HBox(children=(IntProgress(value=0, max=15000), HTML(value='')))"
      ]
     },
     "metadata": {},
     "output_type": "display_data"
    },
    {
     "data": {
      "application/vnd.jupyter.widget-view+json": {
       "model_id": "a41c9a0c60d7484ab8d76c09094e54f0",
       "version_major": 2,
       "version_minor": 0
      },
      "text/plain": [
       "HBox(children=(IntProgress(value=0, max=10000), HTML(value='')))"
      ]
     },
     "metadata": {},
     "output_type": "display_data"
    },
    {
     "data": {
      "application/vnd.jupyter.widget-view+json": {
       "model_id": "da49451e5d3e461a901407b44170c822",
       "version_major": 2,
       "version_minor": 0
      },
      "text/plain": [
       "HBox(children=(IntProgress(value=0, max=2000), HTML(value='')))"
      ]
     },
     "metadata": {},
     "output_type": "display_data"
    },
    {
     "data": {
      "application/vnd.jupyter.widget-view+json": {
       "model_id": "c3dbffa63f014fab9376173aa75dfde1",
       "version_major": 2,
       "version_minor": 0
      },
      "text/plain": [
       "HBox(children=(IntProgress(value=0, max=25000), HTML(value='')))"
      ]
     },
     "metadata": {},
     "output_type": "display_data"
    },
    {
     "data": {
      "application/vnd.jupyter.widget-view+json": {
       "model_id": "e8b67bc75b1241b0828c6fadf61b4494",
       "version_major": 2,
       "version_minor": 0
      },
      "text/plain": [
       "HBox(children=(IntProgress(value=0, max=8599), HTML(value='')))"
      ]
     },
     "metadata": {},
     "output_type": "display_data"
    },
    {
     "name": "stdout",
     "output_type": "stream",
     "text": [
      "(1, 3)\n",
      "dev = 0.8846 dev_b = 0.728 train = 1.0\n",
      "(1, 4)\n"
     ]
    },
    {
     "data": {
      "application/vnd.jupyter.widget-view+json": {
       "model_id": "201bdadb7d8046cca9f4ea65fa67d015",
       "version_major": 2,
       "version_minor": 0
      },
      "text/plain": [
       "HBox(children=(IntProgress(value=0, max=15000), HTML(value='')))"
      ]
     },
     "metadata": {},
     "output_type": "display_data"
    },
    {
     "data": {
      "application/vnd.jupyter.widget-view+json": {
       "model_id": "5d7f0830a90349fd88b020511cad4a02",
       "version_major": 2,
       "version_minor": 0
      },
      "text/plain": [
       "HBox(children=(IntProgress(value=0, max=10000), HTML(value='')))"
      ]
     },
     "metadata": {},
     "output_type": "display_data"
    },
    {
     "data": {
      "application/vnd.jupyter.widget-view+json": {
       "model_id": "fb6c4711154b4083bc1a04330e8d482c",
       "version_major": 2,
       "version_minor": 0
      },
      "text/plain": [
       "HBox(children=(IntProgress(value=0, max=2000), HTML(value='')))"
      ]
     },
     "metadata": {},
     "output_type": "display_data"
    },
    {
     "data": {
      "application/vnd.jupyter.widget-view+json": {
       "model_id": "730ab03e496d4e09872bfce553b31733",
       "version_major": 2,
       "version_minor": 0
      },
      "text/plain": [
       "HBox(children=(IntProgress(value=0, max=25000), HTML(value='')))"
      ]
     },
     "metadata": {},
     "output_type": "display_data"
    },
    {
     "data": {
      "application/vnd.jupyter.widget-view+json": {
       "model_id": "b8c75915bb1c41478b6eb5341c2c42c6",
       "version_major": 2,
       "version_minor": 0
      },
      "text/plain": [
       "HBox(children=(IntProgress(value=0, max=8599), HTML(value='')))"
      ]
     },
     "metadata": {},
     "output_type": "display_data"
    },
    {
     "name": "stdout",
     "output_type": "stream",
     "text": [
      "(1, 4)\n",
      "dev = 0.885 dev_b = 0.7265 train = 1.0\n",
      "(2, 2)\n"
     ]
    },
    {
     "data": {
      "application/vnd.jupyter.widget-view+json": {
       "model_id": "6f067e1d7ad24792bcdb077fe8300dce",
       "version_major": 2,
       "version_minor": 0
      },
      "text/plain": [
       "HBox(children=(IntProgress(value=0, max=15000), HTML(value='')))"
      ]
     },
     "metadata": {},
     "output_type": "display_data"
    },
    {
     "data": {
      "application/vnd.jupyter.widget-view+json": {
       "model_id": "e41e9e14d2e54c1db1c14572557b4038",
       "version_major": 2,
       "version_minor": 0
      },
      "text/plain": [
       "HBox(children=(IntProgress(value=0, max=10000), HTML(value='')))"
      ]
     },
     "metadata": {},
     "output_type": "display_data"
    },
    {
     "data": {
      "application/vnd.jupyter.widget-view+json": {
       "model_id": "9bbd6e845a254be291d396a2bd8b77d6",
       "version_major": 2,
       "version_minor": 0
      },
      "text/plain": [
       "HBox(children=(IntProgress(value=0, max=2000), HTML(value='')))"
      ]
     },
     "metadata": {},
     "output_type": "display_data"
    },
    {
     "data": {
      "application/vnd.jupyter.widget-view+json": {
       "model_id": "cb3ea49cc9114eb1a90fef121fe31dd0",
       "version_major": 2,
       "version_minor": 0
      },
      "text/plain": [
       "HBox(children=(IntProgress(value=0, max=25000), HTML(value='')))"
      ]
     },
     "metadata": {},
     "output_type": "display_data"
    },
    {
     "data": {
      "application/vnd.jupyter.widget-view+json": {
       "model_id": "6e8f6f40fa7440c5ad35428b1f1b87a2",
       "version_major": 2,
       "version_minor": 0
      },
      "text/plain": [
       "HBox(children=(IntProgress(value=0, max=8599), HTML(value='')))"
      ]
     },
     "metadata": {},
     "output_type": "display_data"
    },
    {
     "name": "stdout",
     "output_type": "stream",
     "text": [
      "(2, 2)\n",
      "dev = 0.8743 dev_b = 0.6385 train = 0.9998666666666667\n",
      "(2, 3)\n"
     ]
    },
    {
     "data": {
      "application/vnd.jupyter.widget-view+json": {
       "model_id": "3f600f9849d244c5b0b057d4d9cca09e",
       "version_major": 2,
       "version_minor": 0
      },
      "text/plain": [
       "HBox(children=(IntProgress(value=0, max=15000), HTML(value='')))"
      ]
     },
     "metadata": {},
     "output_type": "display_data"
    },
    {
     "data": {
      "application/vnd.jupyter.widget-view+json": {
       "model_id": "0a2995762ed5461e8bc7ac2683641624",
       "version_major": 2,
       "version_minor": 0
      },
      "text/plain": [
       "HBox(children=(IntProgress(value=0, max=10000), HTML(value='')))"
      ]
     },
     "metadata": {},
     "output_type": "display_data"
    },
    {
     "data": {
      "application/vnd.jupyter.widget-view+json": {
       "model_id": "a79e49c9baa44361bc1db930302d5e3c",
       "version_major": 2,
       "version_minor": 0
      },
      "text/plain": [
       "HBox(children=(IntProgress(value=0, max=2000), HTML(value='')))"
      ]
     },
     "metadata": {},
     "output_type": "display_data"
    },
    {
     "data": {
      "application/vnd.jupyter.widget-view+json": {
       "model_id": "9f91d373faf0429190dba02bc39b976f",
       "version_major": 2,
       "version_minor": 0
      },
      "text/plain": [
       "HBox(children=(IntProgress(value=0, max=25000), HTML(value='')))"
      ]
     },
     "metadata": {},
     "output_type": "display_data"
    },
    {
     "data": {
      "application/vnd.jupyter.widget-view+json": {
       "model_id": "18f43c777e164071b1832fa66e62cda5",
       "version_major": 2,
       "version_minor": 0
      },
      "text/plain": [
       "HBox(children=(IntProgress(value=0, max=8599), HTML(value='')))"
      ]
     },
     "metadata": {},
     "output_type": "display_data"
    },
    {
     "name": "stdout",
     "output_type": "stream",
     "text": [
      "(2, 3)\n",
      "dev = 0.8767 dev_b = 0.635 train = 1.0\n",
      "(2, 4)\n"
     ]
    },
    {
     "data": {
      "application/vnd.jupyter.widget-view+json": {
       "model_id": "cb1201fc7b3c4872a2222fe7a935f02d",
       "version_major": 2,
       "version_minor": 0
      },
      "text/plain": [
       "HBox(children=(IntProgress(value=0, max=15000), HTML(value='')))"
      ]
     },
     "metadata": {},
     "output_type": "display_data"
    },
    {
     "data": {
      "application/vnd.jupyter.widget-view+json": {
       "model_id": "855f51f643744cd79efcabcc22b9d39c",
       "version_major": 2,
       "version_minor": 0
      },
      "text/plain": [
       "HBox(children=(IntProgress(value=0, max=10000), HTML(value='')))"
      ]
     },
     "metadata": {},
     "output_type": "display_data"
    },
    {
     "data": {
      "application/vnd.jupyter.widget-view+json": {
       "model_id": "ab4cff6330514ec2b64d591de975c8de",
       "version_major": 2,
       "version_minor": 0
      },
      "text/plain": [
       "HBox(children=(IntProgress(value=0, max=2000), HTML(value='')))"
      ]
     },
     "metadata": {},
     "output_type": "display_data"
    },
    {
     "data": {
      "application/vnd.jupyter.widget-view+json": {
       "model_id": "3f2c5aaaac34490b89c3caf811d88b30",
       "version_major": 2,
       "version_minor": 0
      },
      "text/plain": [
       "HBox(children=(IntProgress(value=0, max=25000), HTML(value='')))"
      ]
     },
     "metadata": {},
     "output_type": "display_data"
    },
    {
     "data": {
      "application/vnd.jupyter.widget-view+json": {
       "model_id": "2112335a245049d2884acf0606584443",
       "version_major": 2,
       "version_minor": 0
      },
      "text/plain": [
       "HBox(children=(IntProgress(value=0, max=8599), HTML(value='')))"
      ]
     },
     "metadata": {},
     "output_type": "display_data"
    },
    {
     "name": "stdout",
     "output_type": "stream",
     "text": [
      "(2, 4)\n",
      "dev = 0.8765 dev_b = 0.6355 train = 1.0\n",
      "(3, 3)\n"
     ]
    },
    {
     "data": {
      "application/vnd.jupyter.widget-view+json": {
       "model_id": "01731ff7d5e8496d918a2af75d9ef909",
       "version_major": 2,
       "version_minor": 0
      },
      "text/plain": [
       "HBox(children=(IntProgress(value=0, max=15000), HTML(value='')))"
      ]
     },
     "metadata": {},
     "output_type": "display_data"
    },
    {
     "data": {
      "application/vnd.jupyter.widget-view+json": {
       "model_id": "68412e4e0af84d4bbdef4e61790248d8",
       "version_major": 2,
       "version_minor": 0
      },
      "text/plain": [
       "HBox(children=(IntProgress(value=0, max=10000), HTML(value='')))"
      ]
     },
     "metadata": {},
     "output_type": "display_data"
    },
    {
     "data": {
      "application/vnd.jupyter.widget-view+json": {
       "model_id": "af9d4d98c9c243f9be0be70e01f52382",
       "version_major": 2,
       "version_minor": 0
      },
      "text/plain": [
       "HBox(children=(IntProgress(value=0, max=2000), HTML(value='')))"
      ]
     },
     "metadata": {},
     "output_type": "display_data"
    },
    {
     "data": {
      "application/vnd.jupyter.widget-view+json": {
       "model_id": "19f3080d846840608ae08474c3d5608b",
       "version_major": 2,
       "version_minor": 0
      },
      "text/plain": [
       "HBox(children=(IntProgress(value=0, max=25000), HTML(value='')))"
      ]
     },
     "metadata": {},
     "output_type": "display_data"
    },
    {
     "data": {
      "application/vnd.jupyter.widget-view+json": {
       "model_id": "cc9411c75486456a9731f8da48dd1114",
       "version_major": 2,
       "version_minor": 0
      },
      "text/plain": [
       "HBox(children=(IntProgress(value=0, max=8599), HTML(value='')))"
      ]
     },
     "metadata": {},
     "output_type": "display_data"
    },
    {
     "name": "stdout",
     "output_type": "stream",
     "text": [
      "(3, 3)\n",
      "dev = 0.7593 dev_b = 0.538 train = 1.0\n",
      "(3, 4)\n"
     ]
    },
    {
     "data": {
      "application/vnd.jupyter.widget-view+json": {
       "model_id": "29284c8ca3364e3f842952f43fd33c8b",
       "version_major": 2,
       "version_minor": 0
      },
      "text/plain": [
       "HBox(children=(IntProgress(value=0, max=15000), HTML(value='')))"
      ]
     },
     "metadata": {},
     "output_type": "display_data"
    },
    {
     "data": {
      "application/vnd.jupyter.widget-view+json": {
       "model_id": "ef42caa1fba14a9993528c9574a41f81",
       "version_major": 2,
       "version_minor": 0
      },
      "text/plain": [
       "HBox(children=(IntProgress(value=0, max=10000), HTML(value='')))"
      ]
     },
     "metadata": {},
     "output_type": "display_data"
    },
    {
     "data": {
      "application/vnd.jupyter.widget-view+json": {
       "model_id": "651a17c44ca54bb6a45adb8cb0dce2b6",
       "version_major": 2,
       "version_minor": 0
      },
      "text/plain": [
       "HBox(children=(IntProgress(value=0, max=2000), HTML(value='')))"
      ]
     },
     "metadata": {},
     "output_type": "display_data"
    },
    {
     "data": {
      "application/vnd.jupyter.widget-view+json": {
       "model_id": "fbaba586188f42479b4830eb943ccf66",
       "version_major": 2,
       "version_minor": 0
      },
      "text/plain": [
       "HBox(children=(IntProgress(value=0, max=25000), HTML(value='')))"
      ]
     },
     "metadata": {},
     "output_type": "display_data"
    },
    {
     "data": {
      "application/vnd.jupyter.widget-view+json": {
       "model_id": "7e09c4dc48ec4aca8587b5d43573f3ed",
       "version_major": 2,
       "version_minor": 0
      },
      "text/plain": [
       "HBox(children=(IntProgress(value=0, max=8599), HTML(value='')))"
      ]
     },
     "metadata": {},
     "output_type": "display_data"
    },
    {
     "name": "stdout",
     "output_type": "stream",
     "text": [
      "(3, 4)\n",
      "dev = 0.7592 dev_b = 0.538 train = 1.0\n",
      "(4, 4)\n"
     ]
    },
    {
     "data": {
      "application/vnd.jupyter.widget-view+json": {
       "model_id": "d5082a2874a34993b11bb03fc23c0752",
       "version_major": 2,
       "version_minor": 0
      },
      "text/plain": [
       "HBox(children=(IntProgress(value=0, max=15000), HTML(value='')))"
      ]
     },
     "metadata": {},
     "output_type": "display_data"
    },
    {
     "data": {
      "application/vnd.jupyter.widget-view+json": {
       "model_id": "57e57afc16bd4b4e951c906dfa45bcb4",
       "version_major": 2,
       "version_minor": 0
      },
      "text/plain": [
       "HBox(children=(IntProgress(value=0, max=10000), HTML(value='')))"
      ]
     },
     "metadata": {},
     "output_type": "display_data"
    },
    {
     "data": {
      "application/vnd.jupyter.widget-view+json": {
       "model_id": "2ccb93c101704a7098cf9d68ac547e8d",
       "version_major": 2,
       "version_minor": 0
      },
      "text/plain": [
       "HBox(children=(IntProgress(value=0, max=2000), HTML(value='')))"
      ]
     },
     "metadata": {},
     "output_type": "display_data"
    },
    {
     "data": {
      "application/vnd.jupyter.widget-view+json": {
       "model_id": "c9d9e8b8be604135b3c85219496c0ca1",
       "version_major": 2,
       "version_minor": 0
      },
      "text/plain": [
       "HBox(children=(IntProgress(value=0, max=25000), HTML(value='')))"
      ]
     },
     "metadata": {},
     "output_type": "display_data"
    },
    {
     "data": {
      "application/vnd.jupyter.widget-view+json": {
       "model_id": "8890a362a827424aac1c6fd2e171adf2",
       "version_major": 2,
       "version_minor": 0
      },
      "text/plain": [
       "HBox(children=(IntProgress(value=0, max=8599), HTML(value='')))"
      ]
     },
     "metadata": {},
     "output_type": "display_data"
    },
    {
     "name": "stdout",
     "output_type": "stream",
     "text": [
      "(4, 4)\n",
      "dev = 0.5978 dev_b = 0.5015 train = 1.0\n"
     ]
    }
   ],
   "source": [
    "dev_probs_ngram_ber = dict()\n",
    "train_probs_ngram_ber = dict()\n",
    "dev_b_probs_ngram_ber = dict()\n",
    "test_probs_ngram_ber = dict()\n",
    "test_b_probs_ngram_ber = dict()\n",
    "\n",
    "result_ber = []\n",
    "for grm_rng in grams_range:\n",
    "    print(grm_rng)\n",
    "    df_bigr_ber, vocab_bigr_ber, vocab_bigr_ber_pos, vocab_bigr_ber_neg = fit_ngram(train_texts_stop_punc_tok, train_texts_stop_punc_pos_tok, train_texts_stop_punc_neg_tok, mode='ber',gram_range=grm_rng)\n",
    "    train_probs_ngram_ber[grm_rng] = predict_ber(train_texts_stop_punc, vocab=vocab_bigr_ber, df=df_bigr_ber,gram_range=grm_rng)    \n",
    "    dev_probs_ngram_ber[grm_rng] = predict_ber(dev_texts, vocab=vocab_bigr_ber, df=df_bigr_ber,gram_range=grm_rng)\n",
    "    dev_b_probs_ngram_ber[grm_rng] = predict_ber(dev_b_texts, vocab=vocab_bigr_ber, df=df_bigr_ber,gram_range=grm_rng)\n",
    "    test_probs_ngram_ber[grm_rng] = predict_ber(test_texts, vocab=vocab_bigr_ber, df=df_bigr_ber,gram_range=grm_rng)\n",
    "    test_b_probs_ngram_ber[grm_rng] = predict_ber(test_b_texts, vocab=vocab_bigr_ber, df=df_bigr_ber,gram_range=grm_rng)\n",
    "    res = [evaluate(dev_probs_ngram_ber[grm_rng],dev_labels),evaluate(dev_b_probs_ngram_ber[grm_rng],dev_b_labels),evaluate(train_probs_ngram_ber[grm_rng],train_labels)]\n",
    "    print(grm_rng)\n",
    "    print('dev =',res[0],'dev_b =',res[1],'train =',res[2])\n",
    "    result_ber.append(res)\n",
    "    "
   ]
  },
  {
   "cell_type": "code",
   "execution_count": 195,
   "metadata": {
    "scrolled": true
   },
   "outputs": [
    {
     "name": "stdout",
     "output_type": "stream",
     "text": [
      "(1, 1)\n"
     ]
    },
    {
     "data": {
      "application/vnd.jupyter.widget-view+json": {
       "model_id": "3b88715a63954851b396370751892834",
       "version_major": 2,
       "version_minor": 0
      },
      "text/plain": [
       "HBox(children=(IntProgress(value=0, max=15000), HTML(value='')))"
      ]
     },
     "metadata": {},
     "output_type": "display_data"
    },
    {
     "data": {
      "application/vnd.jupyter.widget-view+json": {
       "model_id": "abadc046d97444efaf6c4706ecb96af9",
       "version_major": 2,
       "version_minor": 0
      },
      "text/plain": [
       "HBox(children=(IntProgress(value=0, max=10000), HTML(value='')))"
      ]
     },
     "metadata": {},
     "output_type": "display_data"
    },
    {
     "data": {
      "application/vnd.jupyter.widget-view+json": {
       "model_id": "44cca13c62214025bfa54f4947ebaa40",
       "version_major": 2,
       "version_minor": 0
      },
      "text/plain": [
       "HBox(children=(IntProgress(value=0, max=2000), HTML(value='')))"
      ]
     },
     "metadata": {},
     "output_type": "display_data"
    },
    {
     "data": {
      "application/vnd.jupyter.widget-view+json": {
       "model_id": "c6b90ee15a7e4d5ca38b07ad4b153ac9",
       "version_major": 2,
       "version_minor": 0
      },
      "text/plain": [
       "HBox(children=(IntProgress(value=0, max=25000), HTML(value='')))"
      ]
     },
     "metadata": {},
     "output_type": "display_data"
    },
    {
     "data": {
      "application/vnd.jupyter.widget-view+json": {
       "model_id": "c5bd9fa3692e4fba83e4fd1f09c4d3c7",
       "version_major": 2,
       "version_minor": 0
      },
      "text/plain": [
       "HBox(children=(IntProgress(value=0, max=8599), HTML(value='')))"
      ]
     },
     "metadata": {},
     "output_type": "display_data"
    },
    {
     "name": "stdout",
     "output_type": "stream",
     "text": [
      "(1, 1)\n",
      "dev = 0.8591 dev_b = 0.7325 train = 0.9304\n",
      "(1, 2)\n"
     ]
    },
    {
     "data": {
      "application/vnd.jupyter.widget-view+json": {
       "model_id": "2d863c57a31b49e9bc4f698c363fb745",
       "version_major": 2,
       "version_minor": 0
      },
      "text/plain": [
       "HBox(children=(IntProgress(value=0, max=15000), HTML(value='')))"
      ]
     },
     "metadata": {},
     "output_type": "display_data"
    },
    {
     "data": {
      "application/vnd.jupyter.widget-view+json": {
       "model_id": "801cc1176b6e4632a947db434a8736ad",
       "version_major": 2,
       "version_minor": 0
      },
      "text/plain": [
       "HBox(children=(IntProgress(value=0, max=10000), HTML(value='')))"
      ]
     },
     "metadata": {},
     "output_type": "display_data"
    },
    {
     "data": {
      "application/vnd.jupyter.widget-view+json": {
       "model_id": "0415fc34f0dc4f65ad7410a70ac3767e",
       "version_major": 2,
       "version_minor": 0
      },
      "text/plain": [
       "HBox(children=(IntProgress(value=0, max=2000), HTML(value='')))"
      ]
     },
     "metadata": {},
     "output_type": "display_data"
    },
    {
     "data": {
      "application/vnd.jupyter.widget-view+json": {
       "model_id": "391060a866b946c08febd4212894d866",
       "version_major": 2,
       "version_minor": 0
      },
      "text/plain": [
       "HBox(children=(IntProgress(value=0, max=25000), HTML(value='')))"
      ]
     },
     "metadata": {},
     "output_type": "display_data"
    },
    {
     "data": {
      "application/vnd.jupyter.widget-view+json": {
       "model_id": "8ce0e57a835f488297fede76fffdf247",
       "version_major": 2,
       "version_minor": 0
      },
      "text/plain": [
       "HBox(children=(IntProgress(value=0, max=8599), HTML(value='')))"
      ]
     },
     "metadata": {},
     "output_type": "display_data"
    },
    {
     "name": "stdout",
     "output_type": "stream",
     "text": [
      "(1, 2)\n",
      "dev = 0.882 dev_b = 0.7405 train = 0.9988\n",
      "(1, 3)\n"
     ]
    },
    {
     "data": {
      "application/vnd.jupyter.widget-view+json": {
       "model_id": "d6904755d5e4446a9acc8c124648bec1",
       "version_major": 2,
       "version_minor": 0
      },
      "text/plain": [
       "HBox(children=(IntProgress(value=0, max=15000), HTML(value='')))"
      ]
     },
     "metadata": {},
     "output_type": "display_data"
    },
    {
     "data": {
      "application/vnd.jupyter.widget-view+json": {
       "model_id": "b9e55585488a45e18cb2983a1b118548",
       "version_major": 2,
       "version_minor": 0
      },
      "text/plain": [
       "HBox(children=(IntProgress(value=0, max=10000), HTML(value='')))"
      ]
     },
     "metadata": {},
     "output_type": "display_data"
    },
    {
     "data": {
      "application/vnd.jupyter.widget-view+json": {
       "model_id": "191fe30539f24da88e36700b2ac979e5",
       "version_major": 2,
       "version_minor": 0
      },
      "text/plain": [
       "HBox(children=(IntProgress(value=0, max=2000), HTML(value='')))"
      ]
     },
     "metadata": {},
     "output_type": "display_data"
    },
    {
     "data": {
      "application/vnd.jupyter.widget-view+json": {
       "model_id": "584a75ad06b04529bcd2280d499171cb",
       "version_major": 2,
       "version_minor": 0
      },
      "text/plain": [
       "HBox(children=(IntProgress(value=0, max=25000), HTML(value='')))"
      ]
     },
     "metadata": {},
     "output_type": "display_data"
    },
    {
     "data": {
      "application/vnd.jupyter.widget-view+json": {
       "model_id": "1828a1f7883e4755aa93e438963f6952",
       "version_major": 2,
       "version_minor": 0
      },
      "text/plain": [
       "HBox(children=(IntProgress(value=0, max=8599), HTML(value='')))"
      ]
     },
     "metadata": {},
     "output_type": "display_data"
    },
    {
     "name": "stdout",
     "output_type": "stream",
     "text": [
      "(1, 3)\n",
      "dev = 0.8852 dev_b = 0.739 train = 0.9999333333333333\n",
      "(1, 4)\n"
     ]
    },
    {
     "data": {
      "application/vnd.jupyter.widget-view+json": {
       "model_id": "acd1a991727349a8a78ae1c2a5e5bafd",
       "version_major": 2,
       "version_minor": 0
      },
      "text/plain": [
       "HBox(children=(IntProgress(value=0, max=15000), HTML(value='')))"
      ]
     },
     "metadata": {},
     "output_type": "display_data"
    },
    {
     "data": {
      "application/vnd.jupyter.widget-view+json": {
       "model_id": "0bc508716f8b4604a8400ed95d752951",
       "version_major": 2,
       "version_minor": 0
      },
      "text/plain": [
       "HBox(children=(IntProgress(value=0, max=10000), HTML(value='')))"
      ]
     },
     "metadata": {},
     "output_type": "display_data"
    },
    {
     "data": {
      "application/vnd.jupyter.widget-view+json": {
       "model_id": "082c5987615741949962326ff686dd47",
       "version_major": 2,
       "version_minor": 0
      },
      "text/plain": [
       "HBox(children=(IntProgress(value=0, max=2000), HTML(value='')))"
      ]
     },
     "metadata": {},
     "output_type": "display_data"
    },
    {
     "data": {
      "application/vnd.jupyter.widget-view+json": {
       "model_id": "95059eff06f24c5d8b1ddd3dd579e811",
       "version_major": 2,
       "version_minor": 0
      },
      "text/plain": [
       "HBox(children=(IntProgress(value=0, max=25000), HTML(value='')))"
      ]
     },
     "metadata": {},
     "output_type": "display_data"
    },
    {
     "data": {
      "application/vnd.jupyter.widget-view+json": {
       "model_id": "bf0fa97bcf454119af82f45133047cb6",
       "version_major": 2,
       "version_minor": 0
      },
      "text/plain": [
       "HBox(children=(IntProgress(value=0, max=8599), HTML(value='')))"
      ]
     },
     "metadata": {},
     "output_type": "display_data"
    },
    {
     "name": "stdout",
     "output_type": "stream",
     "text": [
      "(1, 4)\n",
      "dev = 0.8856 dev_b = 0.7375 train = 1.0\n",
      "(2, 2)\n"
     ]
    },
    {
     "data": {
      "application/vnd.jupyter.widget-view+json": {
       "model_id": "bc8d3781200947448cc72f2f5429ae78",
       "version_major": 2,
       "version_minor": 0
      },
      "text/plain": [
       "HBox(children=(IntProgress(value=0, max=15000), HTML(value='')))"
      ]
     },
     "metadata": {},
     "output_type": "display_data"
    },
    {
     "data": {
      "application/vnd.jupyter.widget-view+json": {
       "model_id": "eb302caea4f74700b30c35817662e44a",
       "version_major": 2,
       "version_minor": 0
      },
      "text/plain": [
       "HBox(children=(IntProgress(value=0, max=10000), HTML(value='')))"
      ]
     },
     "metadata": {},
     "output_type": "display_data"
    },
    {
     "data": {
      "application/vnd.jupyter.widget-view+json": {
       "model_id": "ab85cdaf23ee419595b6498b828a3147",
       "version_major": 2,
       "version_minor": 0
      },
      "text/plain": [
       "HBox(children=(IntProgress(value=0, max=2000), HTML(value='')))"
      ]
     },
     "metadata": {},
     "output_type": "display_data"
    },
    {
     "data": {
      "application/vnd.jupyter.widget-view+json": {
       "model_id": "4c4487a312584c10809047d46a3d10d2",
       "version_major": 2,
       "version_minor": 0
      },
      "text/plain": [
       "HBox(children=(IntProgress(value=0, max=25000), HTML(value='')))"
      ]
     },
     "metadata": {},
     "output_type": "display_data"
    },
    {
     "data": {
      "application/vnd.jupyter.widget-view+json": {
       "model_id": "4c9652df0dbc456b8c9b782a42241221",
       "version_major": 2,
       "version_minor": 0
      },
      "text/plain": [
       "HBox(children=(IntProgress(value=0, max=8599), HTML(value='')))"
      ]
     },
     "metadata": {},
     "output_type": "display_data"
    },
    {
     "name": "stdout",
     "output_type": "stream",
     "text": [
      "(2, 2)\n",
      "dev = 0.8697 dev_b = 0.633 train = 0.9998\n",
      "(2, 3)\n"
     ]
    },
    {
     "data": {
      "application/vnd.jupyter.widget-view+json": {
       "model_id": "93ab6c711dd94bdeb32cadeaf6be1080",
       "version_major": 2,
       "version_minor": 0
      },
      "text/plain": [
       "HBox(children=(IntProgress(value=0, max=15000), HTML(value='')))"
      ]
     },
     "metadata": {},
     "output_type": "display_data"
    },
    {
     "data": {
      "application/vnd.jupyter.widget-view+json": {
       "model_id": "bf5864f471a149d297be9c16123348ea",
       "version_major": 2,
       "version_minor": 0
      },
      "text/plain": [
       "HBox(children=(IntProgress(value=0, max=10000), HTML(value='')))"
      ]
     },
     "metadata": {},
     "output_type": "display_data"
    },
    {
     "data": {
      "application/vnd.jupyter.widget-view+json": {
       "model_id": "cf9b7b5deb7249448e1a4fae31747d7d",
       "version_major": 2,
       "version_minor": 0
      },
      "text/plain": [
       "HBox(children=(IntProgress(value=0, max=2000), HTML(value='')))"
      ]
     },
     "metadata": {},
     "output_type": "display_data"
    },
    {
     "data": {
      "application/vnd.jupyter.widget-view+json": {
       "model_id": "6adef16bb0fe435483ff7e8e6e02d16e",
       "version_major": 2,
       "version_minor": 0
      },
      "text/plain": [
       "HBox(children=(IntProgress(value=0, max=25000), HTML(value='')))"
      ]
     },
     "metadata": {},
     "output_type": "display_data"
    },
    {
     "data": {
      "application/vnd.jupyter.widget-view+json": {
       "model_id": "e31df84186e14d898c240f40eb631613",
       "version_major": 2,
       "version_minor": 0
      },
      "text/plain": [
       "HBox(children=(IntProgress(value=0, max=8599), HTML(value='')))"
      ]
     },
     "metadata": {},
     "output_type": "display_data"
    },
    {
     "name": "stdout",
     "output_type": "stream",
     "text": [
      "(2, 3)\n",
      "dev = 0.8716 dev_b = 0.6305 train = 1.0\n",
      "(2, 4)\n"
     ]
    },
    {
     "data": {
      "application/vnd.jupyter.widget-view+json": {
       "model_id": "6aff74953f04464990556135bccf6aed",
       "version_major": 2,
       "version_minor": 0
      },
      "text/plain": [
       "HBox(children=(IntProgress(value=0, max=15000), HTML(value='')))"
      ]
     },
     "metadata": {},
     "output_type": "display_data"
    },
    {
     "data": {
      "application/vnd.jupyter.widget-view+json": {
       "model_id": "0da2eacd5241402eb68bc504d9b21a89",
       "version_major": 2,
       "version_minor": 0
      },
      "text/plain": [
       "HBox(children=(IntProgress(value=0, max=10000), HTML(value='')))"
      ]
     },
     "metadata": {},
     "output_type": "display_data"
    },
    {
     "data": {
      "application/vnd.jupyter.widget-view+json": {
       "model_id": "41fe30fef2e94041a061a573bf648155",
       "version_major": 2,
       "version_minor": 0
      },
      "text/plain": [
       "HBox(children=(IntProgress(value=0, max=2000), HTML(value='')))"
      ]
     },
     "metadata": {},
     "output_type": "display_data"
    },
    {
     "data": {
      "application/vnd.jupyter.widget-view+json": {
       "model_id": "8e90327eee8a424ca02199fe9d34f6ea",
       "version_major": 2,
       "version_minor": 0
      },
      "text/plain": [
       "HBox(children=(IntProgress(value=0, max=25000), HTML(value='')))"
      ]
     },
     "metadata": {},
     "output_type": "display_data"
    },
    {
     "data": {
      "application/vnd.jupyter.widget-view+json": {
       "model_id": "62916b1ad3f64a03bb417337d0140b16",
       "version_major": 2,
       "version_minor": 0
      },
      "text/plain": [
       "HBox(children=(IntProgress(value=0, max=8599), HTML(value='')))"
      ]
     },
     "metadata": {},
     "output_type": "display_data"
    },
    {
     "name": "stdout",
     "output_type": "stream",
     "text": [
      "(2, 4)\n",
      "dev = 0.8718 dev_b = 0.6305 train = 1.0\n",
      "(3, 3)\n"
     ]
    },
    {
     "data": {
      "application/vnd.jupyter.widget-view+json": {
       "model_id": "66fdedc3d1a54556b7a8d05887c2392c",
       "version_major": 2,
       "version_minor": 0
      },
      "text/plain": [
       "HBox(children=(IntProgress(value=0, max=15000), HTML(value='')))"
      ]
     },
     "metadata": {},
     "output_type": "display_data"
    },
    {
     "data": {
      "application/vnd.jupyter.widget-view+json": {
       "model_id": "95ab50594c6d4822a9d3cfa8decbd742",
       "version_major": 2,
       "version_minor": 0
      },
      "text/plain": [
       "HBox(children=(IntProgress(value=0, max=10000), HTML(value='')))"
      ]
     },
     "metadata": {},
     "output_type": "display_data"
    },
    {
     "data": {
      "application/vnd.jupyter.widget-view+json": {
       "model_id": "3c8f6274641940668dfbb66ce1c9129b",
       "version_major": 2,
       "version_minor": 0
      },
      "text/plain": [
       "HBox(children=(IntProgress(value=0, max=2000), HTML(value='')))"
      ]
     },
     "metadata": {},
     "output_type": "display_data"
    },
    {
     "data": {
      "application/vnd.jupyter.widget-view+json": {
       "model_id": "d7049ddb19e2413cb1f63c60e710ce1f",
       "version_major": 2,
       "version_minor": 0
      },
      "text/plain": [
       "HBox(children=(IntProgress(value=0, max=25000), HTML(value='')))"
      ]
     },
     "metadata": {},
     "output_type": "display_data"
    },
    {
     "data": {
      "application/vnd.jupyter.widget-view+json": {
       "model_id": "923fa8ba126142608e8fa1221db5b333",
       "version_major": 2,
       "version_minor": 0
      },
      "text/plain": [
       "HBox(children=(IntProgress(value=0, max=8599), HTML(value='')))"
      ]
     },
     "metadata": {},
     "output_type": "display_data"
    },
    {
     "name": "stdout",
     "output_type": "stream",
     "text": [
      "(3, 3)\n",
      "dev = 0.7581 dev_b = 0.542 train = 1.0\n",
      "(3, 4)\n"
     ]
    },
    {
     "data": {
      "application/vnd.jupyter.widget-view+json": {
       "model_id": "548da47a38464716b876fa4045b06246",
       "version_major": 2,
       "version_minor": 0
      },
      "text/plain": [
       "HBox(children=(IntProgress(value=0, max=15000), HTML(value='')))"
      ]
     },
     "metadata": {},
     "output_type": "display_data"
    },
    {
     "data": {
      "application/vnd.jupyter.widget-view+json": {
       "model_id": "9ebeaa37895447d19bf0685880154ea6",
       "version_major": 2,
       "version_minor": 0
      },
      "text/plain": [
       "HBox(children=(IntProgress(value=0, max=10000), HTML(value='')))"
      ]
     },
     "metadata": {},
     "output_type": "display_data"
    },
    {
     "data": {
      "application/vnd.jupyter.widget-view+json": {
       "model_id": "261f721dc9654774b698b1c8835b80d5",
       "version_major": 2,
       "version_minor": 0
      },
      "text/plain": [
       "HBox(children=(IntProgress(value=0, max=2000), HTML(value='')))"
      ]
     },
     "metadata": {},
     "output_type": "display_data"
    },
    {
     "data": {
      "application/vnd.jupyter.widget-view+json": {
       "model_id": "6358e0284d394bfba157658f08b895dc",
       "version_major": 2,
       "version_minor": 0
      },
      "text/plain": [
       "HBox(children=(IntProgress(value=0, max=25000), HTML(value='')))"
      ]
     },
     "metadata": {},
     "output_type": "display_data"
    },
    {
     "data": {
      "application/vnd.jupyter.widget-view+json": {
       "model_id": "68aad8222752478187771825b39073f5",
       "version_major": 2,
       "version_minor": 0
      },
      "text/plain": [
       "HBox(children=(IntProgress(value=0, max=8599), HTML(value='')))"
      ]
     },
     "metadata": {},
     "output_type": "display_data"
    },
    {
     "name": "stdout",
     "output_type": "stream",
     "text": [
      "(3, 4)\n",
      "dev = 0.756 dev_b = 0.5425 train = 1.0\n",
      "(4, 4)\n"
     ]
    },
    {
     "data": {
      "application/vnd.jupyter.widget-view+json": {
       "model_id": "3ea1dcd19262453ebf558ba002d1b550",
       "version_major": 2,
       "version_minor": 0
      },
      "text/plain": [
       "HBox(children=(IntProgress(value=0, max=15000), HTML(value='')))"
      ]
     },
     "metadata": {},
     "output_type": "display_data"
    },
    {
     "data": {
      "application/vnd.jupyter.widget-view+json": {
       "model_id": "d509ba7e432441259ceb03b14f33027c",
       "version_major": 2,
       "version_minor": 0
      },
      "text/plain": [
       "HBox(children=(IntProgress(value=0, max=10000), HTML(value='')))"
      ]
     },
     "metadata": {},
     "output_type": "display_data"
    },
    {
     "data": {
      "application/vnd.jupyter.widget-view+json": {
       "model_id": "0861196817284be7aa482bf80d0985e1",
       "version_major": 2,
       "version_minor": 0
      },
      "text/plain": [
       "HBox(children=(IntProgress(value=0, max=2000), HTML(value='')))"
      ]
     },
     "metadata": {},
     "output_type": "display_data"
    },
    {
     "data": {
      "application/vnd.jupyter.widget-view+json": {
       "model_id": "3b6c5e62520c4d0385942f6217908d2e",
       "version_major": 2,
       "version_minor": 0
      },
      "text/plain": [
       "HBox(children=(IntProgress(value=0, max=25000), HTML(value='')))"
      ]
     },
     "metadata": {},
     "output_type": "display_data"
    },
    {
     "data": {
      "application/vnd.jupyter.widget-view+json": {
       "model_id": "8f0fb87bb8c147129d54f7c8b8fc0ee1",
       "version_major": 2,
       "version_minor": 0
      },
      "text/plain": [
       "HBox(children=(IntProgress(value=0, max=8599), HTML(value='')))"
      ]
     },
     "metadata": {},
     "output_type": "display_data"
    },
    {
     "name": "stdout",
     "output_type": "stream",
     "text": [
      "(4, 4)\n",
      "dev = 0.5984 dev_b = 0.501 train = 1.0\n"
     ]
    }
   ],
   "source": [
    "dev_probs_ngram_mul = dict()\n",
    "train_probs_ngram_mul = dict()\n",
    "dev_b_probs_ngram_mul = dict()\n",
    "test_probs_ngram_mul = dict()\n",
    "test_b_probs_ngram_mul = dict()\n",
    "\n",
    "result_mul = []\n",
    "for grm_rng in grams_range:\n",
    "    print(grm_rng)\n",
    "    df_bigr_mul, vocab_bigr_mul, vocab_bigr_mul_pos, vocab_bigr_mul_neg = fit_ngram(train_texts_stop_punc_tok, train_texts_stop_punc_pos_tok, train_texts_stop_punc_neg_tok, mode='mul',gram_range=grm_rng)\n",
    "    train_probs_ngram_mul[grm_rng] = predict_mul(train_texts_stop_punc, vocab=vocab_bigr_mul, df=df_bigr_mul,gram_range=grm_rng)    \n",
    "    dev_probs_ngram_mul[grm_rng] = predict_mul(dev_texts, vocab=vocab_bigr_mul, df=df_bigr_mul,gram_range=grm_rng)\n",
    "    dev_b_probs_ngram_mul[grm_rng] = predict_mul(dev_b_texts, vocab=vocab_bigr_mul, df=df_bigr_mul,gram_range=grm_rng)\n",
    "    test_probs_ngram_mul[grm_rng] = predict_mul(test_texts, vocab=vocab_bigr_mul, df=df_bigr_mul,gram_range=grm_rng)\n",
    "    test_b_probs_ngram_mul[grm_rng] = predict_mul(test_b_texts, vocab=vocab_bigr_mul, df=df_bigr_mul,gram_range=grm_rng)\n",
    "    res = [evaluate(dev_probs_ngram_mul[grm_rng],dev_labels),evaluate(dev_b_probs_ngram_mul[grm_rng],dev_b_labels),evaluate(train_probs_ngram_mul[grm_rng],train_labels)]\n",
    "    print(grm_rng)\n",
    "    print('dev =',res[0],'dev_b =',res[1],'train =',res[2])\n",
    "    result_mul.append(res)\n",
    "    "
   ]
  },
  {
   "cell_type": "code",
   "execution_count": 89,
   "metadata": {},
   "outputs": [],
   "source": [
    "import matplotlib.pyplot as plt"
   ]
  },
  {
   "cell_type": "code",
   "execution_count": 234,
   "metadata": {},
   "outputs": [
    {
     "data": {
      "image/png": "[encoded data removed]",
      "text/plain": [
       "<Figure size 1080x432 with 2 Axes>"
      ]
     },
     "metadata": {
      "needs_background": "light"
     },
     "output_type": "display_data"
    },
    {
     "data": {
      "image/png": "[encoded data removed]",
      "text/plain": [
       "<Figure size 1080x432 with 1 Axes>"
      ]
     },
     "metadata": {
      "needs_background": "light"
     },
     "output_type": "display_data"
    }
   ],
   "source": [
    "\n",
    "plt.figure(figsize=(15,6))\n",
    "\n",
    "plt.subplot(121)\n",
    "plt.plot([str(gram) for gram in grams_range],[res[2] for res in result_ber],label='Ber')\n",
    "plt.plot([str(gram) for gram in grams_range],[res[2] for res in result_mul],label='Mul')\n",
    "plt.xlabel('gram range')\n",
    "plt.ylabel('accuracy')\n",
    "plt.title('train')\n",
    "plt.legend()\n",
    "plt.grid()\n",
    "\n",
    "plt.subplot(122)\n",
    "plt.plot([str(gram) for gram in grams_range],[res[0] for res in result_ber],label='Ber')\n",
    "plt.plot([str(gram) for gram in grams_range],[res[0] for res in result_mul],label='Mul')\n",
    "plt.xlabel('gram range')\n",
    "plt.ylabel('accuracy')\n",
    "plt.title('dev')\n",
    "plt.legend()\n",
    "plt.grid()\n",
    "\n",
    "plt.figure(figsize=(15,6))\n",
    "plt.plot([str(gram) for gram in grams_range],[res[1] for res in result_ber],label='Ber')\n",
    "plt.plot([str(gram) for gram in grams_range],[res[1] for res in result_mul],label='Mul')\n",
    "plt.xlabel('gram range')\n",
    "plt.ylabel('accuracy')\n",
    "plt.title('dev-b')\n",
    "plt.legend()\n",
    "plt.grid()"
   ]
  },
  {
   "cell_type": "markdown",
   "metadata": {},
   "source": [
    "As we can see the the best accuracy on private and public dev achieved when vocabluary has Unigrams & Bigrams, also adding Trigramms it is better than Unigram. \n",
    "\n",
    "When we use only trigramms and more grams, it give us bad result, but using oly bigrams increase the results for public dev dataset. It means that we have overfitting when we use only trigrams and more.\n",
    "\n"
   ]
  },
  {
   "cell_type": "code",
   "execution_count": 131,
   "metadata": {},
   "outputs": [],
   "source": [
    "def save_submission(train,dev,test,dev_b,test_b,gram_range=(1,1),name='preds_res',inplace=False):\n",
    "    ind_train = [ 'train/'+str(i) for i in range(0,len(train[gram_range]))]\n",
    "    ind_dev = [ 'dev/'+str(i) for i in range(0,len(dev[gram_range]))]\n",
    "    ind_test = [ 'test/'+str(i) for i in range(0,len(test[gram_range]))]\n",
    "    ind_devb = [ 'dev-b/'+str(i) for i in range(0,len(dev_b[gram_range]))]\n",
    "    ind_testb = [ 'test-b/'+str(i) for i in range(0,len(test_b[gram_range]))]\n",
    "    inds = ind_train+ind_dev +ind_test +ind_devb +ind_testb\n",
    "    \n",
    "    sub = pd.Series(train[gram_range]+dev[gram_range]+test[gram_range]+dev_b[gram_range]+test_b[gram_range])\n",
    "    sub.index = inds\n",
    "    \n",
    "    \n",
    "    if inplace:\n",
    "        name = name+'_'+str(gram_range[0])+'_'+str(gram_range[1])+'.tsv'\n",
    "        sub.to_csv(name,sep='\\t',header=False)\n",
    "    else:\n",
    "        return sub\n",
    "    "
   ]
  },
  {
   "cell_type": "code",
   "execution_count": 277,
   "metadata": {},
   "outputs": [],
   "source": [
    "save_submission(train_probs_ngram_mul,dev_probs_ngram_mul,test_probs_ngram_mul,dev_b_probs_ngram_mul,test_b_probs_ngram_mul,gram_range=(1,4),name='preds_mul', inplace=True)"
   ]
  },
  {
   "cell_type": "code",
   "execution_count": 295,
   "metadata": {},
   "outputs": [
    {
     "data": {
      "image/png": "[encoded data removed]",
      "text/plain": [
       "<Figure size 1080x432 with 2 Axes>"
      ]
     },
     "metadata": {
      "needs_background": "light"
     },
     "output_type": "display_data"
    },
    {
     "data": {
      "image/png": "[encoded data removed]",
      "text/plain": [
       "<Figure size 1080x432 with 1 Axes>"
      ]
     },
     "metadata": {
      "needs_background": "light"
     },
     "output_type": "display_data"
    }
   ],
   "source": [
    "plt.figure(figsize=(15,6))\n",
    "\n",
    "plt.subplot(121)\n",
    "plt.plot([str(gram) for gram in grams_range],[res[2] for res in result_ber],label='Ber')\n",
    "plt.plot([str(gram) for gram in grams_range],[res[2] for res in result_mul],label='Mul')\n",
    "plt.xlabel('gram range')\n",
    "plt.ylabel('accuracy')\n",
    "plt.title('train')\n",
    "plt.legend()\n",
    "plt.grid()\n",
    "\n",
    "plt.subplot(122)\n",
    "plt.plot([str(gram) for gram in grams_range],[res[0] for res in result_ber],label='Ber')\n",
    "plt.plot([str(gram) for gram in grams_range],[res[0] for res in result_mul],label='Mul')\n",
    "plt.xlabel('gram range')\n",
    "plt.ylabel('accuracy')\n",
    "plt.title('dev')\n",
    "plt.legend()\n",
    "plt.grid()\n",
    "\n",
    "plt.figure(figsize=(15,6))\n",
    "plt.plot([str(gram) for gram in grams_range],[res[1] for res in result_ber],label='Ber')\n",
    "plt.plot([str(gram) for gram in grams_range],[res[1] for res in result_mul],label='Mul')\n",
    "plt.xlabel('gram range')\n",
    "plt.ylabel('accuracy')\n",
    "plt.title('dev-b')\n",
    "plt.legend()\n",
    "plt.grid()"
   ]
  },
  {
   "cell_type": "markdown",
   "metadata": {},
   "source": [
    "## Let's fit on train and dev"
   ]
  },
  {
   "cell_type": "code",
   "execution_count": 123,
   "metadata": {},
   "outputs": [],
   "source": [
    "dev_pos = pos_neg_reviews('pos',dev_texts, dev_labels)\n",
    "dev_neg = pos_neg_reviews('neg',dev_texts,dev_labels)"
   ]
  },
  {
   "cell_type": "code",
   "execution_count": 124,
   "metadata": {},
   "outputs": [],
   "source": [
    "dev_pos = preprocess(dev_pos,stop_words=True,punctuation=True)\n",
    "dev_neg = preprocess(dev_neg,stop_words=True,punctuation=True)"
   ]
  },
  {
   "cell_type": "code",
   "execution_count": 125,
   "metadata": {},
   "outputs": [],
   "source": [
    "dev_pos_tok = tokenization(dev_pos)\n",
    "dev_neg_tok = tokenization(dev_neg)"
   ]
  },
  {
   "cell_type": "code",
   "execution_count": 126,
   "metadata": {},
   "outputs": [],
   "source": [
    "all_ = train_texts_stop_punc_tok +dev_texts_tok\n",
    "all_pos = train_texts_stop_punc_pos_tok+dev_pos_tok\n",
    "all_neg = train_texts_stop_punc_neg_tok+dev_neg_tok"
   ]
  },
  {
   "cell_type": "code",
   "execution_count": 127,
   "metadata": {},
   "outputs": [
    {
     "name": "stdout",
     "output_type": "stream",
     "text": [
      "7520 4980 12500\n"
     ]
    },
    {
     "data": {
      "text/plain": [
       "(7480, 5020, 12500)"
      ]
     },
     "execution_count": 127,
     "metadata": {},
     "output_type": "execute_result"
    }
   ],
   "source": [
    "print(len(train_texts_stop_punc_pos_tok),len(dev_pos_tok),len(all_pos))\n",
    "len(train_texts_stop_punc_neg_tok),len(dev_neg_tok),len(all_neg)"
   ]
  },
  {
   "cell_type": "code",
   "execution_count": 86,
   "metadata": {},
   "outputs": [],
   "source": [
    "grams_range = [(1,2),(1,3),(1,4),(1,5),(2,2),(2,4)]"
   ]
  },
  {
   "cell_type": "code",
   "execution_count": 87,
   "metadata": {},
   "outputs": [
    {
     "name": "stdout",
     "output_type": "stream",
     "text": [
      "(1, 2)\n"
     ]
    },
    {
     "data": {
      "application/vnd.jupyter.widget-view+json": {
       "model_id": "12eec09722f44be1a50ba2adee622d25",
       "version_major": 2,
       "version_minor": 0
      },
      "text/plain": [
       "HBox(children=(IntProgress(value=0, max=15000), HTML(value='')))"
      ]
     },
     "metadata": {},
     "output_type": "display_data"
    },
    {
     "name": "stdout",
     "output_type": "stream",
     "text": [
      "\n"
     ]
    },
    {
     "data": {
      "application/vnd.jupyter.widget-view+json": {
       "model_id": "570dcabb8ae944f0993809b7aa713d7a",
       "version_major": 2,
       "version_minor": 0
      },
      "text/plain": [
       "HBox(children=(IntProgress(value=0, max=10000), HTML(value='')))"
      ]
     },
     "metadata": {},
     "output_type": "display_data"
    },
    {
     "name": "stdout",
     "output_type": "stream",
     "text": [
      "\n"
     ]
    },
    {
     "data": {
      "application/vnd.jupyter.widget-view+json": {
       "model_id": "8808c642f91748caab5df20d5d236c60",
       "version_major": 2,
       "version_minor": 0
      },
      "text/plain": [
       "HBox(children=(IntProgress(value=0, max=2000), HTML(value='')))"
      ]
     },
     "metadata": {},
     "output_type": "display_data"
    },
    {
     "name": "stdout",
     "output_type": "stream",
     "text": [
      "\n"
     ]
    },
    {
     "data": {
      "application/vnd.jupyter.widget-view+json": {
       "model_id": "278c20f1118b4ae4b649a975e261dac4",
       "version_major": 2,
       "version_minor": 0
      },
      "text/plain": [
       "HBox(children=(IntProgress(value=0, max=25000), HTML(value='')))"
      ]
     },
     "metadata": {},
     "output_type": "display_data"
    },
    {
     "name": "stdout",
     "output_type": "stream",
     "text": [
      "\n"
     ]
    },
    {
     "data": {
      "application/vnd.jupyter.widget-view+json": {
       "model_id": "56d07fc192974be18e15ea7ec6093335",
       "version_major": 2,
       "version_minor": 0
      },
      "text/plain": [
       "HBox(children=(IntProgress(value=0, max=8599), HTML(value='')))"
      ]
     },
     "metadata": {},
     "output_type": "display_data"
    },
    {
     "name": "stdout",
     "output_type": "stream",
     "text": [
      "\n",
      "(1, 2)\n",
      "dev = 0.999 dev_b = 0.7415 train = 0.999\n",
      "(1, 3)\n"
     ]
    },
    {
     "data": {
      "application/vnd.jupyter.widget-view+json": {
       "model_id": "fe0a780677ce4b248b42a52e8ccec13d",
       "version_major": 2,
       "version_minor": 0
      },
      "text/plain": [
       "HBox(children=(IntProgress(value=0, max=15000), HTML(value='')))"
      ]
     },
     "metadata": {},
     "output_type": "display_data"
    },
    {
     "name": "stdout",
     "output_type": "stream",
     "text": [
      "\n"
     ]
    },
    {
     "data": {
      "application/vnd.jupyter.widget-view+json": {
       "model_id": "8c81b9cad88a473db44af1cc5a2c4150",
       "version_major": 2,
       "version_minor": 0
      },
      "text/plain": [
       "HBox(children=(IntProgress(value=0, max=10000), HTML(value='')))"
      ]
     },
     "metadata": {},
     "output_type": "display_data"
    },
    {
     "name": "stdout",
     "output_type": "stream",
     "text": [
      "\n"
     ]
    },
    {
     "data": {
      "application/vnd.jupyter.widget-view+json": {
       "model_id": "0ccd835b1d64475f80e51484394b97d7",
       "version_major": 2,
       "version_minor": 0
      },
      "text/plain": [
       "HBox(children=(IntProgress(value=0, max=2000), HTML(value='')))"
      ]
     },
     "metadata": {},
     "output_type": "display_data"
    },
    {
     "name": "stdout",
     "output_type": "stream",
     "text": [
      "\n"
     ]
    },
    {
     "data": {
      "application/vnd.jupyter.widget-view+json": {
       "model_id": "eda845fc289646039501204d75dd6f31",
       "version_major": 2,
       "version_minor": 0
      },
      "text/plain": [
       "HBox(children=(IntProgress(value=0, max=25000), HTML(value='')))"
      ]
     },
     "metadata": {},
     "output_type": "display_data"
    },
    {
     "name": "stdout",
     "output_type": "stream",
     "text": [
      "\n"
     ]
    },
    {
     "data": {
      "application/vnd.jupyter.widget-view+json": {
       "model_id": "9711cf6d77134ecea5228204cf1a5747",
       "version_major": 2,
       "version_minor": 0
      },
      "text/plain": [
       "HBox(children=(IntProgress(value=0, max=8599), HTML(value='')))"
      ]
     },
     "metadata": {},
     "output_type": "display_data"
    },
    {
     "name": "stdout",
     "output_type": "stream",
     "text": [
      "\n",
      "(1, 3)\n",
      "dev = 0.9999 dev_b = 0.741 train = 0.9999333333333333\n",
      "(1, 4)\n"
     ]
    },
    {
     "data": {
      "application/vnd.jupyter.widget-view+json": {
       "model_id": "d717f6ea1510419c87938ce69d492270",
       "version_major": 2,
       "version_minor": 0
      },
      "text/plain": [
       "HBox(children=(IntProgress(value=0, max=15000), HTML(value='')))"
      ]
     },
     "metadata": {},
     "output_type": "display_data"
    },
    {
     "name": "stdout",
     "output_type": "stream",
     "text": [
      "\n"
     ]
    },
    {
     "data": {
      "application/vnd.jupyter.widget-view+json": {
       "model_id": "582e5d8c8fc94a7fa79cc92b18f190a0",
       "version_major": 2,
       "version_minor": 0
      },
      "text/plain": [
       "HBox(children=(IntProgress(value=0, max=10000), HTML(value='')))"
      ]
     },
     "metadata": {},
     "output_type": "display_data"
    },
    {
     "name": "stdout",
     "output_type": "stream",
     "text": [
      "\n"
     ]
    },
    {
     "data": {
      "application/vnd.jupyter.widget-view+json": {
       "model_id": "8f545e160134429db3f9ba217c0651b4",
       "version_major": 2,
       "version_minor": 0
      },
      "text/plain": [
       "HBox(children=(IntProgress(value=0, max=2000), HTML(value='')))"
      ]
     },
     "metadata": {},
     "output_type": "display_data"
    },
    {
     "name": "stdout",
     "output_type": "stream",
     "text": [
      "\n"
     ]
    },
    {
     "data": {
      "application/vnd.jupyter.widget-view+json": {
       "model_id": "782e0979a803476783e596a834380c2d",
       "version_major": 2,
       "version_minor": 0
      },
      "text/plain": [
       "HBox(children=(IntProgress(value=0, max=25000), HTML(value='')))"
      ]
     },
     "metadata": {},
     "output_type": "display_data"
    },
    {
     "name": "stdout",
     "output_type": "stream",
     "text": [
      "\n"
     ]
    },
    {
     "data": {
      "application/vnd.jupyter.widget-view+json": {
       "model_id": "c3241a89414c439dba048c75637f62bc",
       "version_major": 2,
       "version_minor": 0
      },
      "text/plain": [
       "HBox(children=(IntProgress(value=0, max=8599), HTML(value='')))"
      ]
     },
     "metadata": {},
     "output_type": "display_data"
    },
    {
     "name": "stdout",
     "output_type": "stream",
     "text": [
      "\n",
      "(1, 4)\n",
      "dev = 1.0 dev_b = 0.741 train = 1.0\n",
      "(1, 5)\n"
     ]
    },
    {
     "data": {
      "application/vnd.jupyter.widget-view+json": {
       "model_id": "b6605b0e162148a9b2a41de340da7bb8",
       "version_major": 2,
       "version_minor": 0
      },
      "text/plain": [
       "HBox(children=(IntProgress(value=0, max=15000), HTML(value='')))"
      ]
     },
     "metadata": {},
     "output_type": "display_data"
    },
    {
     "name": "stdout",
     "output_type": "stream",
     "text": [
      "\n"
     ]
    },
    {
     "data": {
      "application/vnd.jupyter.widget-view+json": {
       "model_id": "5af107a372ec4bcda816debe0df835e4",
       "version_major": 2,
       "version_minor": 0
      },
      "text/plain": [
       "HBox(children=(IntProgress(value=0, max=10000), HTML(value='')))"
      ]
     },
     "metadata": {},
     "output_type": "display_data"
    },
    {
     "name": "stdout",
     "output_type": "stream",
     "text": [
      "\n"
     ]
    },
    {
     "data": {
      "application/vnd.jupyter.widget-view+json": {
       "model_id": "fa0a375f557c44688120c6d979b1bba7",
       "version_major": 2,
       "version_minor": 0
      },
      "text/plain": [
       "HBox(children=(IntProgress(value=0, max=2000), HTML(value='')))"
      ]
     },
     "metadata": {},
     "output_type": "display_data"
    },
    {
     "name": "stdout",
     "output_type": "stream",
     "text": [
      "\n"
     ]
    },
    {
     "data": {
      "application/vnd.jupyter.widget-view+json": {
       "model_id": "1990cd8536d64670a34cae2b16145a85",
       "version_major": 2,
       "version_minor": 0
      },
      "text/plain": [
       "HBox(children=(IntProgress(value=0, max=25000), HTML(value='')))"
      ]
     },
     "metadata": {},
     "output_type": "display_data"
    },
    {
     "name": "stdout",
     "output_type": "stream",
     "text": [
      "\n"
     ]
    },
    {
     "data": {
      "application/vnd.jupyter.widget-view+json": {
       "model_id": "f4ad2326cbf54c8aba8e3ff25fc4e739",
       "version_major": 2,
       "version_minor": 0
      },
      "text/plain": [
       "HBox(children=(IntProgress(value=0, max=8599), HTML(value='')))"
      ]
     },
     "metadata": {},
     "output_type": "display_data"
    },
    {
     "name": "stdout",
     "output_type": "stream",
     "text": [
      "\n",
      "(1, 5)\n",
      "dev = 1.0 dev_b = 0.741 train = 1.0\n",
      "(2, 2)\n"
     ]
    },
    {
     "data": {
      "application/vnd.jupyter.widget-view+json": {
       "model_id": "b467268bfa2a448fbda4d441dca0c969",
       "version_major": 2,
       "version_minor": 0
      },
      "text/plain": [
       "HBox(children=(IntProgress(value=0, max=15000), HTML(value='')))"
      ]
     },
     "metadata": {},
     "output_type": "display_data"
    },
    {
     "name": "stdout",
     "output_type": "stream",
     "text": [
      "\n"
     ]
    },
    {
     "data": {
      "application/vnd.jupyter.widget-view+json": {
       "model_id": "13309f42601b445da60cf542c796a244",
       "version_major": 2,
       "version_minor": 0
      },
      "text/plain": [
       "HBox(children=(IntProgress(value=0, max=10000), HTML(value='')))"
      ]
     },
     "metadata": {},
     "output_type": "display_data"
    },
    {
     "name": "stdout",
     "output_type": "stream",
     "text": [
      "\n"
     ]
    },
    {
     "data": {
      "application/vnd.jupyter.widget-view+json": {
       "model_id": "98e28291220f44d4b06ae3eca580ccf1",
       "version_major": 2,
       "version_minor": 0
      },
      "text/plain": [
       "HBox(children=(IntProgress(value=0, max=2000), HTML(value='')))"
      ]
     },
     "metadata": {},
     "output_type": "display_data"
    },
    {
     "name": "stdout",
     "output_type": "stream",
     "text": [
      "\n"
     ]
    },
    {
     "data": {
      "application/vnd.jupyter.widget-view+json": {
       "model_id": "b90aac8eb965444ea4b181c799bb7452",
       "version_major": 2,
       "version_minor": 0
      },
      "text/plain": [
       "HBox(children=(IntProgress(value=0, max=25000), HTML(value='')))"
      ]
     },
     "metadata": {},
     "output_type": "display_data"
    },
    {
     "name": "stdout",
     "output_type": "stream",
     "text": [
      "\n"
     ]
    },
    {
     "data": {
      "application/vnd.jupyter.widget-view+json": {
       "model_id": "7c8ad7bae3de4ee7bec500af8e3536e9",
       "version_major": 2,
       "version_minor": 0
      },
      "text/plain": [
       "HBox(children=(IntProgress(value=0, max=8599), HTML(value='')))"
      ]
     },
     "metadata": {},
     "output_type": "display_data"
    },
    {
     "name": "stdout",
     "output_type": "stream",
     "text": [
      "\n",
      "(2, 2)\n",
      "dev = 0.9997 dev_b = 0.659 train = 0.9996666666666667\n",
      "(2, 4)\n"
     ]
    },
    {
     "data": {
      "application/vnd.jupyter.widget-view+json": {
       "model_id": "53058f8f5632448299e28f508d56125b",
       "version_major": 2,
       "version_minor": 0
      },
      "text/plain": [
       "HBox(children=(IntProgress(value=0, max=15000), HTML(value='')))"
      ]
     },
     "metadata": {},
     "output_type": "display_data"
    },
    {
     "name": "stdout",
     "output_type": "stream",
     "text": [
      "\n"
     ]
    },
    {
     "data": {
      "application/vnd.jupyter.widget-view+json": {
       "model_id": "2026d52c6f804f188caf827128570db5",
       "version_major": 2,
       "version_minor": 0
      },
      "text/plain": [
       "HBox(children=(IntProgress(value=0, max=10000), HTML(value='')))"
      ]
     },
     "metadata": {},
     "output_type": "display_data"
    },
    {
     "name": "stdout",
     "output_type": "stream",
     "text": [
      "\n"
     ]
    },
    {
     "data": {
      "application/vnd.jupyter.widget-view+json": {
       "model_id": "a4d051de922747a28b33f2845245c831",
       "version_major": 2,
       "version_minor": 0
      },
      "text/plain": [
       "HBox(children=(IntProgress(value=0, max=2000), HTML(value='')))"
      ]
     },
     "metadata": {},
     "output_type": "display_data"
    },
    {
     "name": "stdout",
     "output_type": "stream",
     "text": [
      "\n"
     ]
    },
    {
     "data": {
      "application/vnd.jupyter.widget-view+json": {
       "model_id": "4bce60319fc0492688d983bc0516e1c7",
       "version_major": 2,
       "version_minor": 0
      },
      "text/plain": [
       "HBox(children=(IntProgress(value=0, max=25000), HTML(value='')))"
      ]
     },
     "metadata": {},
     "output_type": "display_data"
    },
    {
     "name": "stdout",
     "output_type": "stream",
     "text": [
      "\n"
     ]
    },
    {
     "data": {
      "application/vnd.jupyter.widget-view+json": {
       "model_id": "24381d0053874ae68cb447b211499307",
       "version_major": 2,
       "version_minor": 0
      },
      "text/plain": [
       "HBox(children=(IntProgress(value=0, max=8599), HTML(value='')))"
      ]
     },
     "metadata": {},
     "output_type": "display_data"
    },
    {
     "name": "stdout",
     "output_type": "stream",
     "text": [
      "\n",
      "(2, 4)\n",
      "dev = 1.0 dev_b = 0.6565 train = 1.0\n"
     ]
    }
   ],
   "source": [
    "dev_probs_ngram_ber_all = dict()\n",
    "train_probs_ngram_ber_all = dict()\n",
    "dev_b_probs_ngram_ber_all = dict()\n",
    "test_probs_ngram_ber_all = dict()\n",
    "test_b_probs_ngram_ber_all = dict()\n",
    "\n",
    "result_ber_all = []\n",
    "for grm_rng in grams_range:\n",
    "    print(grm_rng)\n",
    "    df_bigr_ber_all, vocab_bigr_ber_all, vocab_bigr_ber_all_pos, vocab_bigr_ber_all_neg = fit_ngram(all_, all_pos, all_neg, mode='ber',gram_range=grm_rng)\n",
    "    vocab_bigr_ber_all = set(df_bigr_ber_all.index)\n",
    "    train_probs_ngram_ber_all[grm_rng] = predict_ber(train_texts_stop_punc, vocab=vocab_bigr_ber_all,  vocab_pos=vocab_bigr_ber_all_pos,vocab_neg=vocab_bigr_ber_all_neg, df=df_bigr_ber_all,gram_range=grm_rng)    \n",
    "    dev_probs_ngram_ber_all[grm_rng] = predict_ber(dev_texts, vocab=vocab_bigr_ber_all,  vocab_pos=vocab_bigr_ber_all_pos,vocab_neg=vocab_bigr_ber_all_neg, df=df_bigr_ber_all,gram_range=grm_rng)\n",
    "    dev_b_probs_ngram_ber_all[grm_rng] = predict_ber(dev_b_texts, vocab=vocab_bigr_ber_all,  vocab_pos=vocab_bigr_ber_all_pos,vocab_neg=vocab_bigr_ber_all_neg, df=df_bigr_ber_all,gram_range=grm_rng)\n",
    "    test_probs_ngram_ber_all[grm_rng] = predict_ber(test_texts, vocab=vocab_bigr_ber_all,   vocab_pos=vocab_bigr_ber_all_pos,vocab_neg=vocab_bigr_ber_all_neg, df=df_bigr_ber_all,gram_range=grm_rng)\n",
    "    test_b_probs_ngram_ber_all[grm_rng] = predict_ber(test_b_texts, vocab=vocab_bigr_ber_all, vocab_pos=vocab_bigr_ber_all_pos,vocab_neg=vocab_bigr_ber_all_neg, df=df_bigr_ber_all,gram_range=grm_rng)\n",
    "    res = [evaluate(dev_probs_ngram_ber_all[grm_rng],dev_labels),evaluate(dev_b_probs_ngram_ber_all[grm_rng],dev_b_labels),evaluate(train_probs_ngram_ber_all[grm_rng],train_labels)]\n",
    "    print(grm_rng)\n",
    "    print('dev =',res[0],'dev_b =',res[1],'train =',res[2])\n",
    "    result_ber_all.append(res)\n",
    "    "
   ]
  },
  {
   "cell_type": "code",
   "execution_count": 93,
   "metadata": {},
   "outputs": [
    {
     "data": {
      "application/vnd.jupyter.widget-view+json": {
       "model_id": "415c4e9a93514ce2b7fc4bb8bde24413",
       "version_major": 2,
       "version_minor": 0
      },
      "text/plain": [
       "HBox(children=(IntProgress(value=0, max=10000), HTML(value='')))"
      ]
     },
     "metadata": {},
     "output_type": "display_data"
    },
    {
     "name": "stdout",
     "output_type": "stream",
     "text": [
      "\n"
     ]
    },
    {
     "data": {
      "application/vnd.jupyter.widget-view+json": {
       "model_id": "86c0e1d642cf49758d7d4c2fcc00f340",
       "version_major": 2,
       "version_minor": 0
      },
      "text/plain": [
       "HBox(children=(IntProgress(value=0, max=15000), HTML(value='')))"
      ]
     },
     "metadata": {},
     "output_type": "display_data"
    },
    {
     "name": "stdout",
     "output_type": "stream",
     "text": [
      "\n"
     ]
    },
    {
     "data": {
      "application/vnd.jupyter.widget-view+json": {
       "model_id": "c037b11632b4427999716714e29942ec",
       "version_major": 2,
       "version_minor": 0
      },
      "text/plain": [
       "HBox(children=(IntProgress(value=0, max=2000), HTML(value='')))"
      ]
     },
     "metadata": {},
     "output_type": "display_data"
    },
    {
     "name": "stdout",
     "output_type": "stream",
     "text": [
      "\n"
     ]
    },
    {
     "data": {
      "application/vnd.jupyter.widget-view+json": {
       "model_id": "e9bfea0396d243e19727bde08aa4a409",
       "version_major": 2,
       "version_minor": 0
      },
      "text/plain": [
       "HBox(children=(IntProgress(value=0, max=25000), HTML(value='')))"
      ]
     },
     "metadata": {},
     "output_type": "display_data"
    },
    {
     "name": "stdout",
     "output_type": "stream",
     "text": [
      "\n"
     ]
    },
    {
     "data": {
      "application/vnd.jupyter.widget-view+json": {
       "model_id": "1524f59976c748ada84575914e50ebc7",
       "version_major": 2,
       "version_minor": 0
      },
      "text/plain": [
       "HBox(children=(IntProgress(value=0, max=8599), HTML(value='')))"
      ]
     },
     "metadata": {},
     "output_type": "display_data"
    },
    {
     "name": "stdout",
     "output_type": "stream",
     "text": [
      "\n",
      "dev = 0.8846 dev_b = 0.728 train = 1.0\n"
     ]
    }
   ],
   "source": [
    "df_bigr_mul_all, vocab_bigr_mul_all, vocab_bigr_mul_all_pos, vocab_bigr_mul_all_neg = fit_ngram(train_texts_stop_punc_tok, train_texts_stop_punc_pos_tok, train_texts_stop_punc_neg_tok, mode='ber',gram_range=(1,3))\n",
    "vocab_bigr_mul_all = set(df_bigr_mul_all.index)\n",
    "dev_probs_mul_all = predict_mul(dev_texts, vocab=vocab_bigr_mul_all,  df=df_bigr_mul_all,gram_range=(1,3))\n",
    "train_probs_mul_all = predict_mul(train_texts_stop_punc, vocab=vocab_bigr_mul_all, df=df_bigr_mul_all,gram_range=(1,3))\n",
    "\n",
    "dev_b_probs_mul_all = predict_mul(dev_b_texts, vocab=vocab_bigr_mul_all, df=df_bigr_mul_all,gram_range=(1,3))\n",
    "\n",
    "test_probs_mul_all = predict_mul(test_texts, vocab=vocab_bigr_mul_all, df=df_bigr_mul_all,gram_range=(1,3))\n",
    "test_b_probs_mul_all = predict_mul(test_b_texts, vocab=vocab_bigr_mul_all, df=df_bigr_mul_all,gram_range=(1,3))\n",
    "print('dev =',evaluate(dev_probs_mul_all,dev_labels),'dev_b =',evaluate(dev_b_probs_mul_all,dev_b_labels),'train =',evaluate(train_probs_mul_all,train_labels))"
   ]
  },
  {
   "cell_type": "code",
   "execution_count": 91,
   "metadata": {},
   "outputs": [
    {
     "data": {
      "image/png": "[encoded data removed]",
      "text/plain": [
       "<Figure size 1080x432 with 2 Axes>"
      ]
     },
     "metadata": {
      "needs_background": "light"
     },
     "output_type": "display_data"
    },
    {
     "data": {
      "image/png": "[encoded data removed]",
      "text/plain": [
       "<Figure size 1080x432 with 1 Axes>"
      ]
     },
     "metadata": {
      "needs_background": "light"
     },
     "output_type": "display_data"
    }
   ],
   "source": [
    "plt.figure(figsize=(15,6))\n",
    "\n",
    "plt.subplot(121)\n",
    "plt.plot([str(gram) for gram in grams_range],[res[2] for res in result_ber_all],label='Ber')\n",
    "plt.xlabel('gram range')\n",
    "plt.ylabel('accuracy')\n",
    "plt.title('train')\n",
    "plt.legend()\n",
    "plt.grid()\n",
    "\n",
    "plt.subplot(122)\n",
    "plt.plot([str(gram) for gram in grams_range],[res[0] for res in result_ber_all],label='Ber')\n",
    "plt.xlabel('gram range')\n",
    "plt.ylabel('accuracy')\n",
    "plt.title('dev')\n",
    "plt.legend()\n",
    "plt.grid()\n",
    "\n",
    "plt.figure(figsize=(15,6))\n",
    "plt.plot([str(gram) for gram in grams_range],[res[1] for res in result_ber_all],label='Ber')\n",
    "plt.xlabel('gram range')\n",
    "plt.ylabel('accuracy')\n",
    "plt.title('dev-b')\n",
    "plt.legend()\n",
    "plt.grid()"
   ]
  },
  {
   "cell_type": "code",
   "execution_count": 96,
   "metadata": {},
   "outputs": [],
   "source": [
    "save_submission(train_probs_ngram_ber_all,dev_probs_ngram_ber_all,test_probs_ngram_ber_all,dev_b_probs_ngram_ber_all,test_b_probs_ngram_ber_all,gram_range=(1,4),name='preds_ber_all', inplace=True)"
   ]
  },
  {
   "cell_type": "markdown",
   "metadata": {},
   "source": [
    "### as we can see it is really improve the results but it is not like a silver bullet"
   ]
  },
  {
   "cell_type": "markdown",
   "metadata": {},
   "source": [
    "## 3. Research part"
   ]
  },
  {
   "cell_type": "markdown",
   "metadata": {},
   "source": [
    "1. $P(w|c_j )$ estimations are unreliable for words with low frequencies. For example, it may be just a coincidence that a word occurred only 2 times and in positive texts only. On the contrary, if it occurs 1000 times and in positive texts only: this is highly likely to be a regularity, a consistent pattern. \n",
    "\n",
    "Try to delete words from the dictionaries that occur at least several times (set some $min\\_cnt$ value). Does it help to improve the results for the unigram model? Bigram model? Which $min\\_cnt$ value is more suitable for each model?\n",
    "\n",
    "\n",
    "Compare the thresholds for document frequency and term frequency: draw dependence plots on accuraсy versus vocabulary size. Find the threshold to get equal vocabulary sizes for each option."
   ]
  },
  {
   "cell_type": "code",
   "execution_count": 110,
   "metadata": {},
   "outputs": [],
   "source": [
    "def make_vocab_ngram(text, mode='ber',gram_range=(1,1), min_cnt=0):\n",
    "    vocab = dict()\n",
    "    \n",
    "    if mode == 'ber':    \n",
    "        for line in text:\n",
    "            for word in set(ngrams(line,gram_range)):     \n",
    "                if word not in vocab:\n",
    "                    vocab[word] = 1\n",
    "                else:\n",
    "                    vocab[word] +=1\n",
    "    else:\n",
    "        for line in text:\n",
    "            for word in ngrams(line,gram_range):     \n",
    "                if word not in vocab:\n",
    "                    vocab[word] = 1\n",
    "                else:\n",
    "                    vocab[word] +=1\n",
    "                    \n",
    "    if min_cnt:\n",
    "        new_dict = dict()\n",
    "        for key,val in vocab.items():\n",
    "            if val > min_cnt:\n",
    "                new_dict[key] = val\n",
    "        vocab = new_dict\n",
    "    return vocab"
   ]
  },
  {
   "cell_type": "code",
   "execution_count": 120,
   "metadata": {
    "scrolled": true
   },
   "outputs": [
    {
     "data": {
      "application/vnd.jupyter.widget-view+json": {
       "model_id": "3f7f91b78ac14ac7ba7f7dc6c9c7b0e1",
       "version_major": 2,
       "version_minor": 0
      },
      "text/plain": [
       "HBox(children=(IntProgress(value=0, max=15000), HTML(value='')))"
      ]
     },
     "metadata": {},
     "output_type": "display_data"
    },
    {
     "data": {
      "application/vnd.jupyter.widget-view+json": {
       "model_id": "7a9ea96d63e04ae5a675ec7947924278",
       "version_major": 2,
       "version_minor": 0
      },
      "text/plain": [
       "HBox(children=(IntProgress(value=0, max=10000), HTML(value='')))"
      ]
     },
     "metadata": {},
     "output_type": "display_data"
    },
    {
     "data": {
      "application/vnd.jupyter.widget-view+json": {
       "model_id": "9463f92b5579408991f7fa2e3843595d",
       "version_major": 2,
       "version_minor": 0
      },
      "text/plain": [
       "HBox(children=(IntProgress(value=0, max=2000), HTML(value='')))"
      ]
     },
     "metadata": {},
     "output_type": "display_data"
    },
    {
     "data": {
      "application/vnd.jupyter.widget-view+json": {
       "model_id": "e3fa2a0070e64027970870a5211a8a70",
       "version_major": 2,
       "version_minor": 0
      },
      "text/plain": [
       "HBox(children=(IntProgress(value=0, max=25000), HTML(value='')))"
      ]
     },
     "metadata": {},
     "output_type": "display_data"
    },
    {
     "data": {
      "application/vnd.jupyter.widget-view+json": {
       "model_id": "b5529465535d46f9a0ec268671934069",
       "version_major": 2,
       "version_minor": 0
      },
      "text/plain": [
       "HBox(children=(IntProgress(value=0, max=8599), HTML(value='')))"
      ]
     },
     "metadata": {},
     "output_type": "display_data"
    },
    {
     "name": "stdout",
     "output_type": "stream",
     "text": [
      "(1, 3) 1\n",
      "dev = 0.88 dev_b = 0.718 train = 0.9869333333333333\n"
     ]
    },
    {
     "data": {
      "application/vnd.jupyter.widget-view+json": {
       "model_id": "7c8df2f427a140b89fe964b10308935e",
       "version_major": 2,
       "version_minor": 0
      },
      "text/plain": [
       "HBox(children=(IntProgress(value=0, max=15000), HTML(value='')))"
      ]
     },
     "metadata": {},
     "output_type": "display_data"
    },
    {
     "data": {
      "application/vnd.jupyter.widget-view+json": {
       "model_id": "1a6811fcec9b4c31b38faa442c3e6057",
       "version_major": 2,
       "version_minor": 0
      },
      "text/plain": [
       "HBox(children=(IntProgress(value=0, max=10000), HTML(value='')))"
      ]
     },
     "metadata": {},
     "output_type": "display_data"
    },
    {
     "data": {
      "application/vnd.jupyter.widget-view+json": {
       "model_id": "28bca302117841af91d37c74da9d57f1",
       "version_major": 2,
       "version_minor": 0
      },
      "text/plain": [
       "HBox(children=(IntProgress(value=0, max=2000), HTML(value='')))"
      ]
     },
     "metadata": {},
     "output_type": "display_data"
    },
    {
     "data": {
      "application/vnd.jupyter.widget-view+json": {
       "model_id": "08f020866e3146d6b0e3f38e777f98ab",
       "version_major": 2,
       "version_minor": 0
      },
      "text/plain": [
       "HBox(children=(IntProgress(value=0, max=25000), HTML(value='')))"
      ]
     },
     "metadata": {},
     "output_type": "display_data"
    },
    {
     "data": {
      "application/vnd.jupyter.widget-view+json": {
       "model_id": "cca33da8fb7642389c1484246a3c1f1b",
       "version_major": 2,
       "version_minor": 0
      },
      "text/plain": [
       "HBox(children=(IntProgress(value=0, max=8599), HTML(value='')))"
      ]
     },
     "metadata": {},
     "output_type": "display_data"
    },
    {
     "name": "stdout",
     "output_type": "stream",
     "text": [
      "(1, 3) 2\n",
      "dev = 0.8751 dev_b = 0.722 train = 0.9677333333333333\n"
     ]
    },
    {
     "data": {
      "application/vnd.jupyter.widget-view+json": {
       "model_id": "e3a5963876a7409291a8c7d74b2a20cb",
       "version_major": 2,
       "version_minor": 0
      },
      "text/plain": [
       "HBox(children=(IntProgress(value=0, max=15000), HTML(value='')))"
      ]
     },
     "metadata": {},
     "output_type": "display_data"
    },
    {
     "data": {
      "application/vnd.jupyter.widget-view+json": {
       "model_id": "7a24db827b88433cb6881f328a5270f9",
       "version_major": 2,
       "version_minor": 0
      },
      "text/plain": [
       "HBox(children=(IntProgress(value=0, max=10000), HTML(value='')))"
      ]
     },
     "metadata": {},
     "output_type": "display_data"
    },
    {
     "data": {
      "application/vnd.jupyter.widget-view+json": {
       "model_id": "439823fe653a4ca2bf33edf4fb6a3663",
       "version_major": 2,
       "version_minor": 0
      },
      "text/plain": [
       "HBox(children=(IntProgress(value=0, max=2000), HTML(value='')))"
      ]
     },
     "metadata": {},
     "output_type": "display_data"
    },
    {
     "data": {
      "application/vnd.jupyter.widget-view+json": {
       "model_id": "ed9a119dfb01442ca4c8de0084a0e112",
       "version_major": 2,
       "version_minor": 0
      },
      "text/plain": [
       "HBox(children=(IntProgress(value=0, max=25000), HTML(value='')))"
      ]
     },
     "metadata": {},
     "output_type": "display_data"
    },
    {
     "data": {
      "application/vnd.jupyter.widget-view+json": {
       "model_id": "a788625cfc3b4cb399348ab70e312b49",
       "version_major": 2,
       "version_minor": 0
      },
      "text/plain": [
       "HBox(children=(IntProgress(value=0, max=8599), HTML(value='')))"
      ]
     },
     "metadata": {},
     "output_type": "display_data"
    },
    {
     "name": "stdout",
     "output_type": "stream",
     "text": [
      "(1, 3) 3\n",
      "dev = 0.8756 dev_b = 0.7205 train = 0.9534666666666667\n"
     ]
    },
    {
     "data": {
      "application/vnd.jupyter.widget-view+json": {
       "model_id": "4da024c3dff4435c94143c3d59f6643c",
       "version_major": 2,
       "version_minor": 0
      },
      "text/plain": [
       "HBox(children=(IntProgress(value=0, max=15000), HTML(value='')))"
      ]
     },
     "metadata": {},
     "output_type": "display_data"
    },
    {
     "data": {
      "application/vnd.jupyter.widget-view+json": {
       "model_id": "9c6caff246764bf3915b3300822a64dd",
       "version_major": 2,
       "version_minor": 0
      },
      "text/plain": [
       "HBox(children=(IntProgress(value=0, max=10000), HTML(value='')))"
      ]
     },
     "metadata": {},
     "output_type": "display_data"
    },
    {
     "data": {
      "application/vnd.jupyter.widget-view+json": {
       "model_id": "a398386344f64f9fa274bb6155aa3209",
       "version_major": 2,
       "version_minor": 0
      },
      "text/plain": [
       "HBox(children=(IntProgress(value=0, max=2000), HTML(value='')))"
      ]
     },
     "metadata": {},
     "output_type": "display_data"
    },
    {
     "data": {
      "application/vnd.jupyter.widget-view+json": {
       "model_id": "36cfbf0a083b46b080b946a277cbd431",
       "version_major": 2,
       "version_minor": 0
      },
      "text/plain": [
       "HBox(children=(IntProgress(value=0, max=25000), HTML(value='')))"
      ]
     },
     "metadata": {},
     "output_type": "display_data"
    },
    {
     "data": {
      "application/vnd.jupyter.widget-view+json": {
       "model_id": "2baf887f65c54a02a69f871ab7448a66",
       "version_major": 2,
       "version_minor": 0
      },
      "text/plain": [
       "HBox(children=(IntProgress(value=0, max=8599), HTML(value='')))"
      ]
     },
     "metadata": {},
     "output_type": "display_data"
    },
    {
     "name": "stdout",
     "output_type": "stream",
     "text": [
      "(1, 3) 5\n",
      "dev = 0.8693 dev_b = 0.7225 train = 0.9326666666666666\n"
     ]
    },
    {
     "data": {
      "application/vnd.jupyter.widget-view+json": {
       "model_id": "c39ae9f3163f44b68bf6af708e553adb",
       "version_major": 2,
       "version_minor": 0
      },
      "text/plain": [
       "HBox(children=(IntProgress(value=0, max=15000), HTML(value='')))"
      ]
     },
     "metadata": {},
     "output_type": "display_data"
    },
    {
     "data": {
      "application/vnd.jupyter.widget-view+json": {
       "model_id": "a57a6dcee4ad446298723544c5679de6",
       "version_major": 2,
       "version_minor": 0
      },
      "text/plain": [
       "HBox(children=(IntProgress(value=0, max=10000), HTML(value='')))"
      ]
     },
     "metadata": {},
     "output_type": "display_data"
    },
    {
     "data": {
      "application/vnd.jupyter.widget-view+json": {
       "model_id": "1ef1e8847bae47d5a32d78631dbfd8b6",
       "version_major": 2,
       "version_minor": 0
      },
      "text/plain": [
       "HBox(children=(IntProgress(value=0, max=2000), HTML(value='')))"
      ]
     },
     "metadata": {},
     "output_type": "display_data"
    },
    {
     "data": {
      "application/vnd.jupyter.widget-view+json": {
       "model_id": "d6e3dbc7fbca438ca29a07a32863ac1f",
       "version_major": 2,
       "version_minor": 0
      },
      "text/plain": [
       "HBox(children=(IntProgress(value=0, max=25000), HTML(value='')))"
      ]
     },
     "metadata": {},
     "output_type": "display_data"
    },
    {
     "data": {
      "application/vnd.jupyter.widget-view+json": {
       "model_id": "4c17c6184c3547f6be91364bb117f748",
       "version_major": 2,
       "version_minor": 0
      },
      "text/plain": [
       "HBox(children=(IntProgress(value=0, max=8599), HTML(value='')))"
      ]
     },
     "metadata": {},
     "output_type": "display_data"
    },
    {
     "name": "stdout",
     "output_type": "stream",
     "text": [
      "(1, 4) 1\n",
      "dev = 0.8803 dev_b = 0.718 train = 0.987\n"
     ]
    },
    {
     "data": {
      "application/vnd.jupyter.widget-view+json": {
       "model_id": "1e0d3854b95a4d60a6dfc2b04c1dfe18",
       "version_major": 2,
       "version_minor": 0
      },
      "text/plain": [
       "HBox(children=(IntProgress(value=0, max=15000), HTML(value='')))"
      ]
     },
     "metadata": {},
     "output_type": "display_data"
    },
    {
     "data": {
      "application/vnd.jupyter.widget-view+json": {
       "model_id": "c6e8638fd1b9456cac0c22672d125bb5",
       "version_major": 2,
       "version_minor": 0
      },
      "text/plain": [
       "HBox(children=(IntProgress(value=0, max=10000), HTML(value='')))"
      ]
     },
     "metadata": {},
     "output_type": "display_data"
    },
    {
     "data": {
      "application/vnd.jupyter.widget-view+json": {
       "model_id": "b239f9b630f7403daa4b3776af7be4eb",
       "version_major": 2,
       "version_minor": 0
      },
      "text/plain": [
       "HBox(children=(IntProgress(value=0, max=2000), HTML(value='')))"
      ]
     },
     "metadata": {},
     "output_type": "display_data"
    },
    {
     "data": {
      "application/vnd.jupyter.widget-view+json": {
       "model_id": "4d1cca24cb8846f8b6191109fa241946",
       "version_major": 2,
       "version_minor": 0
      },
      "text/plain": [
       "HBox(children=(IntProgress(value=0, max=25000), HTML(value='')))"
      ]
     },
     "metadata": {},
     "output_type": "display_data"
    },
    {
     "data": {
      "application/vnd.jupyter.widget-view+json": {
       "model_id": "096aff68627d4ff3b4403dc2abd27945",
       "version_major": 2,
       "version_minor": 0
      },
      "text/plain": [
       "HBox(children=(IntProgress(value=0, max=8599), HTML(value='')))"
      ]
     },
     "metadata": {},
     "output_type": "display_data"
    },
    {
     "name": "stdout",
     "output_type": "stream",
     "text": [
      "(1, 4) 2\n",
      "dev = 0.8748 dev_b = 0.722 train = 0.9678\n"
     ]
    },
    {
     "data": {
      "application/vnd.jupyter.widget-view+json": {
       "model_id": "529ee498a5e9408499a5d6ee73459bed",
       "version_major": 2,
       "version_minor": 0
      },
      "text/plain": [
       "HBox(children=(IntProgress(value=0, max=15000), HTML(value='')))"
      ]
     },
     "metadata": {},
     "output_type": "display_data"
    },
    {
     "data": {
      "application/vnd.jupyter.widget-view+json": {
       "model_id": "f7cb7190be9f4490b5911e4bfd8b6306",
       "version_major": 2,
       "version_minor": 0
      },
      "text/plain": [
       "HBox(children=(IntProgress(value=0, max=10000), HTML(value='')))"
      ]
     },
     "metadata": {},
     "output_type": "display_data"
    },
    {
     "data": {
      "application/vnd.jupyter.widget-view+json": {
       "model_id": "2301dff4e44846d396a5c27aa8b0eb3b",
       "version_major": 2,
       "version_minor": 0
      },
      "text/plain": [
       "HBox(children=(IntProgress(value=0, max=2000), HTML(value='')))"
      ]
     },
     "metadata": {},
     "output_type": "display_data"
    },
    {
     "data": {
      "application/vnd.jupyter.widget-view+json": {
       "model_id": "a67499365e744c7d879533fa90df3a5c",
       "version_major": 2,
       "version_minor": 0
      },
      "text/plain": [
       "HBox(children=(IntProgress(value=0, max=25000), HTML(value='')))"
      ]
     },
     "metadata": {},
     "output_type": "display_data"
    },
    {
     "data": {
      "application/vnd.jupyter.widget-view+json": {
       "model_id": "f8ea7bb016c141779891f799f2940ec9",
       "version_major": 2,
       "version_minor": 0
      },
      "text/plain": [
       "HBox(children=(IntProgress(value=0, max=8599), HTML(value='')))"
      ]
     },
     "metadata": {},
     "output_type": "display_data"
    },
    {
     "name": "stdout",
     "output_type": "stream",
     "text": [
      "(1, 4) 3\n",
      "dev = 0.8753 dev_b = 0.7205 train = 0.9533333333333334\n"
     ]
    },
    {
     "data": {
      "application/vnd.jupyter.widget-view+json": {
       "model_id": "75d2f503adcc4da884678c9edd62b75c",
       "version_major": 2,
       "version_minor": 0
      },
      "text/plain": [
       "HBox(children=(IntProgress(value=0, max=15000), HTML(value='')))"
      ]
     },
     "metadata": {},
     "output_type": "display_data"
    },
    {
     "data": {
      "application/vnd.jupyter.widget-view+json": {
       "model_id": "03e2e2e2c583437fa9754672f95e07f9",
       "version_major": 2,
       "version_minor": 0
      },
      "text/plain": [
       "HBox(children=(IntProgress(value=0, max=10000), HTML(value='')))"
      ]
     },
     "metadata": {},
     "output_type": "display_data"
    },
    {
     "data": {
      "application/vnd.jupyter.widget-view+json": {
       "model_id": "58198ca9389a461782a45047987b64d8",
       "version_major": 2,
       "version_minor": 0
      },
      "text/plain": [
       "HBox(children=(IntProgress(value=0, max=2000), HTML(value='')))"
      ]
     },
     "metadata": {},
     "output_type": "display_data"
    },
    {
     "data": {
      "application/vnd.jupyter.widget-view+json": {
       "model_id": "bb043f6818df4f4791303623cb01eafc",
       "version_major": 2,
       "version_minor": 0
      },
      "text/plain": [
       "HBox(children=(IntProgress(value=0, max=25000), HTML(value='')))"
      ]
     },
     "metadata": {},
     "output_type": "display_data"
    },
    {
     "data": {
      "application/vnd.jupyter.widget-view+json": {
       "model_id": "00fda905f0f44dccaf2824b9995b165a",
       "version_major": 2,
       "version_minor": 0
      },
      "text/plain": [
       "HBox(children=(IntProgress(value=0, max=8599), HTML(value='')))"
      ]
     },
     "metadata": {},
     "output_type": "display_data"
    },
    {
     "name": "stdout",
     "output_type": "stream",
     "text": [
      "(1, 4) 5\n",
      "dev = 0.8693 dev_b = 0.7225 train = 0.9327333333333333\n"
     ]
    }
   ],
   "source": [
    "dev_probs_cnt = dict()\n",
    "train_probs_cnt = dict()\n",
    "dev_b_probs_cnt = dict()\n",
    "test_probs_cnt = dict()\n",
    "test_b_probs_cnt = dict()\n",
    "\n",
    "grams_range = [(1,3),(1,4)]\n",
    "min_cnts = [1,2,3,5]\n",
    "result_cnt = []\n",
    "for grm_rng in grams_range:\n",
    "    for min_cnt in min_cnts:\n",
    "        df_bigrcnt, vocab_bigrcnt, vocab_bigrcnt_pos, vocab_bigrcnt_neg = fit_ngram(train_texts_stop_punc_tok, train_texts_stop_punc_pos_tok, train_texts_stop_punc_neg_tok, mode='ber',gram_range=grm_rng,min_cnt=min_cnt)\n",
    "        vocab_bigrcnt = set(df_bigrcnt.index)\n",
    "        train_probs_cnt[(grm_rng,min_cnt)] = predict_ber(train_texts_stop_punc, vocab=vocab_bigrcnt, df=df_bigrcnt,gram_range=grm_rng)    \n",
    "        dev_probs_cnt[(grm_rng,min_cnt)] = predict_ber(dev_texts, vocab=vocab_bigrcnt, df=df_bigrcnt,gram_range=grm_rng)\n",
    "        dev_b_probs_cnt[(grm_rng,min_cnt)] = predict_ber(dev_b_texts, vocab=vocab_bigrcnt, df=df_bigrcnt,gram_range=grm_rng)\n",
    "        test_probs_cnt[(grm_rng,min_cnt)] = predict_ber(test_texts, vocab=vocab_bigrcnt, df=df_bigrcnt,gram_range=grm_rng)\n",
    "        test_b_probs_cnt[(grm_rng,min_cnt)] = predict_ber(test_b_texts, vocab=vocab_bigrcnt, df=df_bigrcnt,gram_range=grm_rng)\n",
    "        res = [evaluate(dev_probs_cnt[(grm_rng,min_cnt)],dev_labels),evaluate(dev_b_probs_cnt[(grm_rng,min_cnt)],dev_b_labels),evaluate(train_probs_cnt[(grm_rng,min_cnt)],train_labels)]\n",
    "    \n",
    "        print(grm_rng,min_cnt)\n",
    "        print('dev =',res[0],'dev_b =',res[1],'train =',res[2])\n",
    "        result_cnt.append(res)"
   ]
  },
  {
   "cell_type": "code",
   "execution_count": 129,
   "metadata": {},
   "outputs": [
    {
     "data": {
      "application/vnd.jupyter.widget-view+json": {
       "model_id": "9cad78c2323441059b0b845872905c97",
       "version_major": 2,
       "version_minor": 0
      },
      "text/plain": [
       "HBox(children=(IntProgress(value=0, max=15000), HTML(value='')))"
      ]
     },
     "metadata": {},
     "output_type": "display_data"
    },
    {
     "data": {
      "application/vnd.jupyter.widget-view+json": {
       "model_id": "e1c6a96bf4d04e488c224985befe9d2e",
       "version_major": 2,
       "version_minor": 0
      },
      "text/plain": [
       "HBox(children=(IntProgress(value=0, max=10000), HTML(value='')))"
      ]
     },
     "metadata": {},
     "output_type": "display_data"
    },
    {
     "data": {
      "application/vnd.jupyter.widget-view+json": {
       "model_id": "1da177ae727e482f840b23c5604b1107",
       "version_major": 2,
       "version_minor": 0
      },
      "text/plain": [
       "HBox(children=(IntProgress(value=0, max=2000), HTML(value='')))"
      ]
     },
     "metadata": {},
     "output_type": "display_data"
    },
    {
     "data": {
      "application/vnd.jupyter.widget-view+json": {
       "model_id": "d2bde4e6b66b475893cf827f31d4896e",
       "version_major": 2,
       "version_minor": 0
      },
      "text/plain": [
       "HBox(children=(IntProgress(value=0, max=25000), HTML(value='')))"
      ]
     },
     "metadata": {},
     "output_type": "display_data"
    },
    {
     "data": {
      "application/vnd.jupyter.widget-view+json": {
       "model_id": "899df2ba50a446aaa49f29d2f1fee60d",
       "version_major": 2,
       "version_minor": 0
      },
      "text/plain": [
       "HBox(children=(IntProgress(value=0, max=8599), HTML(value='')))"
      ]
     },
     "metadata": {},
     "output_type": "display_data"
    },
    {
     "name": "stdout",
     "output_type": "stream",
     "text": [
      "(1, 3) 1\n",
      "dev = 0.9822 dev_b = 0.73 train = 0.9837333333333333\n"
     ]
    },
    {
     "data": {
      "application/vnd.jupyter.widget-view+json": {
       "model_id": "d07a6547e8204fbd91406991301f66cc",
       "version_major": 2,
       "version_minor": 0
      },
      "text/plain": [
       "HBox(children=(IntProgress(value=0, max=15000), HTML(value='')))"
      ]
     },
     "metadata": {},
     "output_type": "display_data"
    },
    {
     "data": {
      "application/vnd.jupyter.widget-view+json": {
       "model_id": "c003526c26ae45ad903b1bd329a01cd2",
       "version_major": 2,
       "version_minor": 0
      },
      "text/plain": [
       "HBox(children=(IntProgress(value=0, max=10000), HTML(value='')))"
      ]
     },
     "metadata": {},
     "output_type": "display_data"
    },
    {
     "data": {
      "application/vnd.jupyter.widget-view+json": {
       "model_id": "56a32d4b92b84b7582c40191ad961132",
       "version_major": 2,
       "version_minor": 0
      },
      "text/plain": [
       "HBox(children=(IntProgress(value=0, max=2000), HTML(value='')))"
      ]
     },
     "metadata": {},
     "output_type": "display_data"
    },
    {
     "data": {
      "application/vnd.jupyter.widget-view+json": {
       "model_id": "f244e78e656948a6bf900d16b1dfc762",
       "version_major": 2,
       "version_minor": 0
      },
      "text/plain": [
       "HBox(children=(IntProgress(value=0, max=25000), HTML(value='')))"
      ]
     },
     "metadata": {},
     "output_type": "display_data"
    },
    {
     "data": {
      "application/vnd.jupyter.widget-view+json": {
       "model_id": "066090793a4148d38df15b1ab380fce0",
       "version_major": 2,
       "version_minor": 0
      },
      "text/plain": [
       "HBox(children=(IntProgress(value=0, max=8599), HTML(value='')))"
      ]
     },
     "metadata": {},
     "output_type": "display_data"
    },
    {
     "name": "stdout",
     "output_type": "stream",
     "text": [
      "(1, 3) 2\n",
      "dev = 0.9651 dev_b = 0.7305 train = 0.9638\n"
     ]
    },
    {
     "data": {
      "application/vnd.jupyter.widget-view+json": {
       "model_id": "ccb6cfeaa4694b0388a177b532ddd005",
       "version_major": 2,
       "version_minor": 0
      },
      "text/plain": [
       "HBox(children=(IntProgress(value=0, max=15000), HTML(value='')))"
      ]
     },
     "metadata": {},
     "output_type": "display_data"
    },
    {
     "data": {
      "application/vnd.jupyter.widget-view+json": {
       "model_id": "0852f3f4831a4ddbb282b6bc4aa19eef",
       "version_major": 2,
       "version_minor": 0
      },
      "text/plain": [
       "HBox(children=(IntProgress(value=0, max=10000), HTML(value='')))"
      ]
     },
     "metadata": {},
     "output_type": "display_data"
    },
    {
     "data": {
      "application/vnd.jupyter.widget-view+json": {
       "model_id": "6eb9aec331d241859deb2b3c375d2a45",
       "version_major": 2,
       "version_minor": 0
      },
      "text/plain": [
       "HBox(children=(IntProgress(value=0, max=2000), HTML(value='')))"
      ]
     },
     "metadata": {},
     "output_type": "display_data"
    },
    {
     "data": {
      "application/vnd.jupyter.widget-view+json": {
       "model_id": "afb2942e295643a48f25d41121750369",
       "version_major": 2,
       "version_minor": 0
      },
      "text/plain": [
       "HBox(children=(IntProgress(value=0, max=25000), HTML(value='')))"
      ]
     },
     "metadata": {},
     "output_type": "display_data"
    },
    {
     "data": {
      "application/vnd.jupyter.widget-view+json": {
       "model_id": "7e6b1ef6624c4594a019d3d6d5677797",
       "version_major": 2,
       "version_minor": 0
      },
      "text/plain": [
       "HBox(children=(IntProgress(value=0, max=8599), HTML(value='')))"
      ]
     },
     "metadata": {},
     "output_type": "display_data"
    },
    {
     "name": "stdout",
     "output_type": "stream",
     "text": [
      "(1, 3) 3\n",
      "dev = 0.9516 dev_b = 0.7225 train = 0.9496666666666667\n"
     ]
    },
    {
     "data": {
      "application/vnd.jupyter.widget-view+json": {
       "model_id": "3e6ce69db1c34f56857d111c8dc39b57",
       "version_major": 2,
       "version_minor": 0
      },
      "text/plain": [
       "HBox(children=(IntProgress(value=0, max=15000), HTML(value='')))"
      ]
     },
     "metadata": {},
     "output_type": "display_data"
    },
    {
     "data": {
      "application/vnd.jupyter.widget-view+json": {
       "model_id": "6ed10d00aea949088e0438b06567329e",
       "version_major": 2,
       "version_minor": 0
      },
      "text/plain": [
       "HBox(children=(IntProgress(value=0, max=10000), HTML(value='')))"
      ]
     },
     "metadata": {},
     "output_type": "display_data"
    },
    {
     "data": {
      "application/vnd.jupyter.widget-view+json": {
       "model_id": "dd28f04ff0f24f04805349757c71babf",
       "version_major": 2,
       "version_minor": 0
      },
      "text/plain": [
       "HBox(children=(IntProgress(value=0, max=2000), HTML(value='')))"
      ]
     },
     "metadata": {},
     "output_type": "display_data"
    },
    {
     "data": {
      "application/vnd.jupyter.widget-view+json": {
       "model_id": "89622a67175f40b3a79dd8fe4479fd01",
       "version_major": 2,
       "version_minor": 0
      },
      "text/plain": [
       "HBox(children=(IntProgress(value=0, max=25000), HTML(value='')))"
      ]
     },
     "metadata": {},
     "output_type": "display_data"
    },
    {
     "data": {
      "application/vnd.jupyter.widget-view+json": {
       "model_id": "de119ed1f7c6468b8bd848ee9566789d",
       "version_major": 2,
       "version_minor": 0
      },
      "text/plain": [
       "HBox(children=(IntProgress(value=0, max=8599), HTML(value='')))"
      ]
     },
     "metadata": {},
     "output_type": "display_data"
    },
    {
     "name": "stdout",
     "output_type": "stream",
     "text": [
      "(1, 3) 5\n",
      "dev = 0.9332 dev_b = 0.7335 train = 0.9321333333333334\n"
     ]
    },
    {
     "data": {
      "application/vnd.jupyter.widget-view+json": {
       "model_id": "9bf71f236c3a499d9c0ac8000eff4824",
       "version_major": 2,
       "version_minor": 0
      },
      "text/plain": [
       "HBox(children=(IntProgress(value=0, max=15000), HTML(value='')))"
      ]
     },
     "metadata": {},
     "output_type": "display_data"
    },
    {
     "data": {
      "application/vnd.jupyter.widget-view+json": {
       "model_id": "19adb5d99a54449497ff2938302d8ca6",
       "version_major": 2,
       "version_minor": 0
      },
      "text/plain": [
       "HBox(children=(IntProgress(value=0, max=10000), HTML(value='')))"
      ]
     },
     "metadata": {},
     "output_type": "display_data"
    },
    {
     "data": {
      "application/vnd.jupyter.widget-view+json": {
       "model_id": "c442bf9879d2477d8eda394760befc11",
       "version_major": 2,
       "version_minor": 0
      },
      "text/plain": [
       "HBox(children=(IntProgress(value=0, max=2000), HTML(value='')))"
      ]
     },
     "metadata": {},
     "output_type": "display_data"
    },
    {
     "data": {
      "application/vnd.jupyter.widget-view+json": {
       "model_id": "b3282563bf2c423aa082d8323d318735",
       "version_major": 2,
       "version_minor": 0
      },
      "text/plain": [
       "HBox(children=(IntProgress(value=0, max=25000), HTML(value='')))"
      ]
     },
     "metadata": {},
     "output_type": "display_data"
    },
    {
     "data": {
      "application/vnd.jupyter.widget-view+json": {
       "model_id": "7d5c10aaaacc4875bb7bb43e8dfb6f64",
       "version_major": 2,
       "version_minor": 0
      },
      "text/plain": [
       "HBox(children=(IntProgress(value=0, max=8599), HTML(value='')))"
      ]
     },
     "metadata": {},
     "output_type": "display_data"
    },
    {
     "name": "stdout",
     "output_type": "stream",
     "text": [
      "(1, 4) 1\n",
      "dev = 0.9824 dev_b = 0.73 train = 0.9838\n"
     ]
    },
    {
     "data": {
      "application/vnd.jupyter.widget-view+json": {
       "model_id": "def05d65122a472c9529a4c83c88def3",
       "version_major": 2,
       "version_minor": 0
      },
      "text/plain": [
       "HBox(children=(IntProgress(value=0, max=15000), HTML(value='')))"
      ]
     },
     "metadata": {},
     "output_type": "display_data"
    },
    {
     "data": {
      "application/vnd.jupyter.widget-view+json": {
       "model_id": "391312f7ee98468cadfcc8ffb6de2341",
       "version_major": 2,
       "version_minor": 0
      },
      "text/plain": [
       "HBox(children=(IntProgress(value=0, max=10000), HTML(value='')))"
      ]
     },
     "metadata": {},
     "output_type": "display_data"
    },
    {
     "data": {
      "application/vnd.jupyter.widget-view+json": {
       "model_id": "12e45a0ed7ae4e1a8354b811c5affb16",
       "version_major": 2,
       "version_minor": 0
      },
      "text/plain": [
       "HBox(children=(IntProgress(value=0, max=2000), HTML(value='')))"
      ]
     },
     "metadata": {},
     "output_type": "display_data"
    },
    {
     "data": {
      "application/vnd.jupyter.widget-view+json": {
       "model_id": "c7d9f21adedb4c1fa217eba920136a86",
       "version_major": 2,
       "version_minor": 0
      },
      "text/plain": [
       "HBox(children=(IntProgress(value=0, max=25000), HTML(value='')))"
      ]
     },
     "metadata": {},
     "output_type": "display_data"
    },
    {
     "data": {
      "application/vnd.jupyter.widget-view+json": {
       "model_id": "2524092deb0445eb8ec61fd59ef3f3ad",
       "version_major": 2,
       "version_minor": 0
      },
      "text/plain": [
       "HBox(children=(IntProgress(value=0, max=8599), HTML(value='')))"
      ]
     },
     "metadata": {},
     "output_type": "display_data"
    },
    {
     "name": "stdout",
     "output_type": "stream",
     "text": [
      "(1, 4) 2\n",
      "dev = 0.9653 dev_b = 0.7305 train = 0.9637333333333333\n"
     ]
    },
    {
     "data": {
      "application/vnd.jupyter.widget-view+json": {
       "model_id": "f8720795277d4e56befd1d1c1fe495fb",
       "version_major": 2,
       "version_minor": 0
      },
      "text/plain": [
       "HBox(children=(IntProgress(value=0, max=15000), HTML(value='')))"
      ]
     },
     "metadata": {},
     "output_type": "display_data"
    },
    {
     "data": {
      "application/vnd.jupyter.widget-view+json": {
       "model_id": "3067dbe7cf2e4710a434ab6f7eacfdf7",
       "version_major": 2,
       "version_minor": 0
      },
      "text/plain": [
       "HBox(children=(IntProgress(value=0, max=10000), HTML(value='')))"
      ]
     },
     "metadata": {},
     "output_type": "display_data"
    },
    {
     "data": {
      "application/vnd.jupyter.widget-view+json": {
       "model_id": "95e74730bc3447319f5588bd9dbb569e",
       "version_major": 2,
       "version_minor": 0
      },
      "text/plain": [
       "HBox(children=(IntProgress(value=0, max=2000), HTML(value='')))"
      ]
     },
     "metadata": {},
     "output_type": "display_data"
    },
    {
     "data": {
      "application/vnd.jupyter.widget-view+json": {
       "model_id": "c0c81a7279824230aaf85c7a9041acbf",
       "version_major": 2,
       "version_minor": 0
      },
      "text/plain": [
       "HBox(children=(IntProgress(value=0, max=25000), HTML(value='')))"
      ]
     },
     "metadata": {},
     "output_type": "display_data"
    },
    {
     "data": {
      "application/vnd.jupyter.widget-view+json": {
       "model_id": "e7cc9e24497b4469b00aa546f709ec28",
       "version_major": 2,
       "version_minor": 0
      },
      "text/plain": [
       "HBox(children=(IntProgress(value=0, max=8599), HTML(value='')))"
      ]
     },
     "metadata": {},
     "output_type": "display_data"
    },
    {
     "name": "stdout",
     "output_type": "stream",
     "text": [
      "(1, 4) 3\n",
      "dev = 0.9517 dev_b = 0.7225 train = 0.9498666666666666\n"
     ]
    },
    {
     "data": {
      "application/vnd.jupyter.widget-view+json": {
       "model_id": "fcd2e2f613de46babeff1d1f544b5402",
       "version_major": 2,
       "version_minor": 0
      },
      "text/plain": [
       "HBox(children=(IntProgress(value=0, max=15000), HTML(value='')))"
      ]
     },
     "metadata": {},
     "output_type": "display_data"
    },
    {
     "data": {
      "application/vnd.jupyter.widget-view+json": {
       "model_id": "92ac6628d0f84f989c98f264ae87e198",
       "version_major": 2,
       "version_minor": 0
      },
      "text/plain": [
       "HBox(children=(IntProgress(value=0, max=10000), HTML(value='')))"
      ]
     },
     "metadata": {},
     "output_type": "display_data"
    },
    {
     "data": {
      "application/vnd.jupyter.widget-view+json": {
       "model_id": "48c8be4bada44889934577fa2511574b",
       "version_major": 2,
       "version_minor": 0
      },
      "text/plain": [
       "HBox(children=(IntProgress(value=0, max=2000), HTML(value='')))"
      ]
     },
     "metadata": {},
     "output_type": "display_data"
    },
    {
     "data": {
      "application/vnd.jupyter.widget-view+json": {
       "model_id": "6fff000cfbc845b29cfe020d9c6ae505",
       "version_major": 2,
       "version_minor": 0
      },
      "text/plain": [
       "HBox(children=(IntProgress(value=0, max=25000), HTML(value='')))"
      ]
     },
     "metadata": {},
     "output_type": "display_data"
    },
    {
     "data": {
      "application/vnd.jupyter.widget-view+json": {
       "model_id": "b36fd135ba57425f8cb65de1ab95a04a",
       "version_major": 2,
       "version_minor": 0
      },
      "text/plain": [
       "HBox(children=(IntProgress(value=0, max=8599), HTML(value='')))"
      ]
     },
     "metadata": {},
     "output_type": "display_data"
    },
    {
     "name": "stdout",
     "output_type": "stream",
     "text": [
      "(1, 4) 5\n",
      "dev = 0.9331 dev_b = 0.7335 train = 0.932\n"
     ]
    }
   ],
   "source": [
    "dev_probs_cnt_all = dict()\n",
    "train_probs_cnt_all = dict()\n",
    "dev_b_probs_cnt_all = dict()\n",
    "test_probs_cnt_all = dict()\n",
    "test_b_probs_cnt_all = dict()\n",
    "\n",
    "grams_range = [(1,3),(1,4)]\n",
    "min_cnt_alls = [1,2,3,5]\n",
    "result_cnt_all = []\n",
    "for grm_rng in grams_range:\n",
    "    for min_cnt_all in min_cnt_alls:\n",
    "        df_bigrcnt_all, vocab_bigrcnt_all, vocab_bigrcnt_all_pos, vocab_bigrcnt_all_neg = fit_ngram(all_, all_pos, all_neg, mode='ber',gram_range=grm_rng,min_cnt=min_cnt_all)\n",
    "        vocab_bigrcnt_all = set(df_bigrcnt_all.index)\n",
    "        train_probs_cnt_all[(grm_rng,min_cnt_all)] = predict_ber(train_texts_stop_punc, vocab=vocab_bigrcnt_all, df=df_bigrcnt_all,gram_range=grm_rng)    \n",
    "        dev_probs_cnt_all[(grm_rng,min_cnt_all)] = predict_ber(dev_texts, vocab=vocab_bigrcnt_all, df=df_bigrcnt_all,gram_range=grm_rng)\n",
    "        dev_b_probs_cnt_all[(grm_rng,min_cnt_all)] = predict_ber(dev_b_texts, vocab=vocab_bigrcnt_all, df=df_bigrcnt_all,gram_range=grm_rng)\n",
    "        test_probs_cnt_all[(grm_rng,min_cnt_all)] = predict_ber(test_texts, vocab=vocab_bigrcnt_all, df=df_bigrcnt_all,gram_range=grm_rng)\n",
    "        test_b_probs_cnt_all[(grm_rng,min_cnt_all)] = predict_ber(test_b_texts, vocab=vocab_bigrcnt_all, df=df_bigrcnt_all,gram_range=grm_rng)\n",
    "        res = [evaluate(dev_probs_cnt_all[(grm_rng,min_cnt_all)],dev_labels),evaluate(dev_b_probs_cnt_all[(grm_rng,min_cnt_all)],dev_b_labels),evaluate(train_probs_cnt_all[(grm_rng,min_cnt_all)],train_labels)]\n",
    "    \n",
    "        print(grm_rng,min_cnt_all)\n",
    "        print('dev =',res[0],'dev_b =',res[1],'train =',res[2])\n",
    "        result_cnt_all.append(res)"
   ]
  },
  {
   "cell_type": "code",
   "execution_count": 134,
   "metadata": {},
   "outputs": [],
   "source": [
    "save_submission(train_probs_cnt,dev_probs_cnt,test_probs_cnt,dev_b_probs_cnt,test_b_probs_cnt,gram_range=((1,3),1),name='preds_ber_all_cnt', inplace=True)"
   ]
  },
  {
   "cell_type": "code",
   "execution_count": 138,
   "metadata": {},
   "outputs": [],
   "source": [
    "save_submission(train_probs_cnt_all,dev_probs_cnt_all,test_probs_cnt_all,dev_b_probs_cnt_all,test_b_probs_cnt_all,gram_range=((1,4),2),name='preds_ber_all_cnt_all', inplace=True)"
   ]
  },
  {
   "cell_type": "markdown",
   "metadata": {},
   "source": [
    "### All these schemes don't improve result in compare with fit on train and dev"
   ]
  },
  {
   "cell_type": "markdown",
   "metadata": {},
   "source": [
    "2. Multinomial Naive Bayes classifier may take (or not) into account word frequencies (by keeping or deleting words that occur more than once). How does it affect the results?"
   ]
  },
  {
   "cell_type": "markdown",
   "metadata": {},
   "source": [
    "Of course it will be work worse because we don't take into account valuable feature."
   ]
  },
  {
   "cell_type": "markdown",
   "metadata": {},
   "source": [
    "3. Preprocessing is crucial for the model performance. Try different methods: lowercase, punctuation deletion, replacing numbers with the **NUMBER** token. How do those methods affect the results?"
   ]
  },
  {
   "cell_type": "markdown",
   "metadata": {},
   "source": [
    "I did it before ngram part and  **lowercase, punctuation deletion** increase the result except **replacing numbers** which decrease the result (we have valuable numbers like 8-9/10 etc) "
   ]
  },
  {
   "cell_type": "markdown",
   "metadata": {},
   "source": [
    "4. Some words in the test set do not appear in the dictionaries. However, they may also be a good indicator (for instance, a lot of unknown words in a email is a good feature for spam detection). Try to replace unknown words with **UNK** token. How do we estimate $P( UNK |c_j )$ then? \n",
    "\n",
    "_Hint: we get this by replacing words that occur only once in the training set with this token._"
   ]
  },
  {
   "cell_type": "code",
   "execution_count": 161,
   "metadata": {},
   "outputs": [],
   "source": [
    "def predict_ber_unk(texts,vocab=vocab,vocab_pos=vocab_pos,vocab_neg=vocab_neg,df=df,gram_range=(1,1)):\n",
    "    \n",
    "    def unique_list(list1): \n",
    "        unique_list = [] \n",
    "\n",
    "        for x in list1: \n",
    "            if x not in unique_list: \n",
    "                unique_list.append(x) \n",
    "        return unique_list\n",
    "\n",
    "    tokens = tokenization_gram(texts,gram_range=gram_range)\n",
    "    probs = []\n",
    "    p_c_pos = np.log(train_pos_all/(train_pos_all+train_neg_all))\n",
    "    p_c_neg = np.log(train_neg_all/(train_pos_all+train_neg_all))\n",
    "    pos_probs = df['pos_probs']\n",
    "    neg_probs = df['neg_probs']\n",
    "    for line in tqdm_notebook(tokens):\n",
    "        pos_prob = p_c_pos\n",
    "        neg_prob = p_c_neg\n",
    "        line = unique_list(line)\n",
    "        for i,word in enumerate(line): # for accelerating I change loop words in vocab -> loop  words in tokens w\n",
    "            flag_pos = 0\n",
    "            flag_neg = 0\n",
    "            if word in vocab:\n",
    "                if word in vocab_pos:\n",
    "                    flag_pos = 1\n",
    "                if word in vocab_neg:\n",
    "                    flag_neg = 1\n",
    "                    \n",
    "                p_prob,n_prob = pos_probs[word],neg_probs[word]\n",
    "                pos_prob += np.log(flag_pos*p_prob+(1-flag_pos)*(p_prob))\n",
    "                neg_prob += np.log(flag_neg*n_prob+(1-flag_neg)*(n_prob))\n",
    "            else:\n",
    "                if (i>0) and (line[i-1] in vocab):\n",
    "                    word = line[i-1]\n",
    "                    if word in vocab_pos:\n",
    "                        flag_pos = 1\n",
    "                    if word in vocab_neg:\n",
    "                        flag_neg = 1\n",
    "\n",
    "                    p_prob,n_prob = pos_probs[word],neg_probs[word]\n",
    "                    pos_prob += np.log(flag_pos*p_prob+(1-flag_pos)*(p_prob))\n",
    "                    neg_prob += np.log(flag_neg*n_prob+(1-flag_neg)*(n_prob))\n",
    "                    \n",
    "            \n",
    "        if pos_prob > neg_prob:\n",
    "            probs.append('pos')\n",
    "        else:\n",
    "            probs.append('neg')\n",
    "    return probs"
   ]
  },
  {
   "cell_type": "code",
   "execution_count": 162,
   "metadata": {},
   "outputs": [
    {
     "data": {
      "application/vnd.jupyter.widget-view+json": {
       "model_id": "a0a7943b33084b3ca653efbd419257e0",
       "version_major": 2,
       "version_minor": 0
      },
      "text/plain": [
       "HBox(children=(IntProgress(value=0, max=10000), HTML(value='')))"
      ]
     },
     "metadata": {},
     "output_type": "display_data"
    },
    {
     "data": {
      "application/vnd.jupyter.widget-view+json": {
       "model_id": "c1041e86e7274eb4b5d4e0a2ea48729e",
       "version_major": 2,
       "version_minor": 0
      },
      "text/plain": [
       "HBox(children=(IntProgress(value=0, max=15000), HTML(value='')))"
      ]
     },
     "metadata": {},
     "output_type": "display_data"
    },
    {
     "data": {
      "application/vnd.jupyter.widget-view+json": {
       "model_id": "6cdd31ce874c45f18f8a31e938f59300",
       "version_major": 2,
       "version_minor": 0
      },
      "text/plain": [
       "HBox(children=(IntProgress(value=0, max=2000), HTML(value='')))"
      ]
     },
     "metadata": {},
     "output_type": "display_data"
    }
   ],
   "source": [
    "df_unk_ber, vocab_unk_ber, vocab_unk_ber_pos, vocab_unk_ber_neg = fit_ngram(train_texts_stop_punc_tok, train_texts_stop_punc_pos_tok, train_texts_stop_punc_neg_tok, mode='ber',gram_range=(1,4))\n",
    "dev_probs_unk = predict_ber_unk(dev_texts, vocab=vocab_unk_ber,vocab_pos=vocab_unk_ber_pos, vocab_neg=vocab_unk_ber_neg ,df=df_unk_ber,gram_range=(1,4))\n",
    "train_probs_unk = predict_ber_unk(train_texts_stop_punc, vocab=vocab_unk_ber, df=df_unk_ber,gram_range=(1,4))\n",
    "\n",
    "dev_b_probs_unk = predict_ber_unk(dev_b_texts, vocab=vocab_unk_ber, df=df_unk_ber,gram_range=(1,4))"
   ]
  },
  {
   "cell_type": "code",
   "execution_count": 165,
   "metadata": {},
   "outputs": [
    {
     "data": {
      "application/vnd.jupyter.widget-view+json": {
       "model_id": "615a6568e1374bf1b5bf56a9d2a52629",
       "version_major": 2,
       "version_minor": 0
      },
      "text/plain": [
       "HBox(children=(IntProgress(value=0, max=25000), HTML(value='')))"
      ]
     },
     "metadata": {},
     "output_type": "display_data"
    },
    {
     "data": {
      "application/vnd.jupyter.widget-view+json": {
       "model_id": "ea0f535ee25d411bbf83bb7e2df106e0",
       "version_major": 2,
       "version_minor": 0
      },
      "text/plain": [
       "HBox(children=(IntProgress(value=0, max=8599), HTML(value='')))"
      ]
     },
     "metadata": {},
     "output_type": "display_data"
    }
   ],
   "source": [
    "test_probs_unk = predict_ber_unk(test_texts, vocab=vocab_unk_ber,vocab_pos=vocab_unk_ber_pos, vocab_neg=vocab_unk_ber_neg , df=df_unk_ber,gram_range=(1,4))\n",
    "test_b_probs_unk = predict_ber_unk(test_b_texts, vocab=vocab_unk_ber,vocab_pos=vocab_unk_ber_pos, vocab_neg=vocab_unk_ber_neg, df=df_unk_ber,gram_range=(1,4))"
   ]
  },
  {
   "cell_type": "code",
   "execution_count": 163,
   "metadata": {},
   "outputs": [
    {
     "name": "stdout",
     "output_type": "stream",
     "text": [
      "dev = 0.8877 dev_b = 0.728 train = 1.0\n"
     ]
    }
   ],
   "source": [
    "print('dev =',evaluate(dev_probs_unk,dev_labels),'dev_b =',evaluate(dev_b_probs_unk,dev_b_labels),'train =',evaluate(train_probs_unk,train_labels))"
   ]
  },
  {
   "cell_type": "code",
   "execution_count": 166,
   "metadata": {},
   "outputs": [],
   "source": [
    "final_n_b_unk = pd.Series(train_probs_unk+dev_probs_unk+test_probs_unk+dev_b_probs_unk+test_b_probs_unk)\n",
    "final_n_b_unk.index = inds\n",
    "final_n_b_unk.to_csv('preds_ber_unk_1_4.tsv',sep='\\t',header=False)"
   ]
  },
  {
   "cell_type": "code",
   "execution_count": 173,
   "metadata": {},
   "outputs": [
    {
     "data": {
      "application/vnd.jupyter.widget-view+json": {
       "model_id": "2fee766d47fd48229fd4f7a3630c15ec",
       "version_major": 2,
       "version_minor": 0
      },
      "text/plain": [
       "HBox(children=(IntProgress(value=0, max=10000), HTML(value='')))"
      ]
     },
     "metadata": {},
     "output_type": "display_data"
    },
    {
     "data": {
      "application/vnd.jupyter.widget-view+json": {
       "model_id": "1d828294327e4c089f16e96dcc7db8f2",
       "version_major": 2,
       "version_minor": 0
      },
      "text/plain": [
       "HBox(children=(IntProgress(value=0, max=15000), HTML(value='')))"
      ]
     },
     "metadata": {},
     "output_type": "display_data"
    },
    {
     "data": {
      "application/vnd.jupyter.widget-view+json": {
       "model_id": "cad86d18429945a1a1cbcfa3b116394e",
       "version_major": 2,
       "version_minor": 0
      },
      "text/plain": [
       "HBox(children=(IntProgress(value=0, max=2000), HTML(value='')))"
      ]
     },
     "metadata": {},
     "output_type": "display_data"
    },
    {
     "name": "stdout",
     "output_type": "stream",
     "text": [
      "dev = 1.0 dev_b = 0.7355 train = 1.0\n"
     ]
    },
    {
     "data": {
      "application/vnd.jupyter.widget-view+json": {
       "model_id": "501c9f23587842d18980826ce3072d4e",
       "version_major": 2,
       "version_minor": 0
      },
      "text/plain": [
       "HBox(children=(IntProgress(value=0, max=25000), HTML(value='')))"
      ]
     },
     "metadata": {},
     "output_type": "display_data"
    },
    {
     "data": {
      "application/vnd.jupyter.widget-view+json": {
       "model_id": "4dc51b1680424856baae8f91a4a35394",
       "version_major": 2,
       "version_minor": 0
      },
      "text/plain": [
       "HBox(children=(IntProgress(value=0, max=8599), HTML(value='')))"
      ]
     },
     "metadata": {},
     "output_type": "display_data"
    }
   ],
   "source": [
    "df_unk_f_ber, vocab_unk_f_ber, vocab_unk_f_ber_pos, vocab_unk_f_ber_neg = fit_ngram(all_, all_pos, all_neg, mode='ber',gram_range=(1,4))\n",
    "vocab_unk_f_ber = set(df_unk_f_ber.index)\n",
    "dev_probs_unk_f = predict_ber_unk(dev_texts, vocab=vocab_unk_f_ber,vocab_pos=vocab_unk_f_ber_pos, vocab_neg=vocab_unk_f_ber_neg ,df=df_unk_f_ber,gram_range=(1,4))\n",
    "train_probs_unk_f = predict_ber_unk(train_texts_stop_punc, vocab=vocab_unk_f_ber, df=df_unk_f_ber,gram_range=(1,4))\n",
    "\n",
    "dev_b_probs_unk_f = predict_ber_unk(dev_b_texts, vocab=vocab_unk_f_ber, df=df_unk_f_ber,gram_range=(1,4))\n",
    "\n",
    "print('dev =',evaluate(dev_probs_unk_f,dev_labels),'dev_b =',evaluate(dev_b_probs_unk_f,dev_b_labels),'train =',evaluate(train_probs_unk_f,train_labels))\n",
    "\n",
    "test_probs_unk_f = predict_ber_unk(test_texts, vocab=vocab_unk_f_ber,vocab_pos=vocab_unk_f_ber_pos, vocab_neg=vocab_unk_f_ber_neg , df=df_unk_f_ber,gram_range=(1,4))\n",
    "test_b_probs_unk_f = predict_ber_unk(test_b_texts, vocab=vocab_unk_f_ber,vocab_pos=vocab_unk_f_ber_pos, vocab_neg=vocab_unk_f_ber_neg, df=df_unk_f_ber,gram_range=(1,4))"
   ]
  },
  {
   "cell_type": "code",
   "execution_count": 174,
   "metadata": {},
   "outputs": [],
   "source": [
    "final_b_unk = pd.Series(train_probs_unk_f+dev_probs_unk_f+test_probs_unk_f+dev_b_probs_unk_f+test_b_probs_unk_f)\n",
    "final_b_unk.index = inds\n",
    "final_b_unk.to_csv('preds_ber_unk_all_1_4.tsv',sep='\\t',header=False)"
   ]
  },
  {
   "cell_type": "markdown",
   "metadata": {},
   "source": [
    "### I want to try hypothesis about to use previous word if we don't know current. It increases the results for default train dataset but not for all train(train+dev)"
   ]
  },
  {
   "cell_type": "markdown",
   "metadata": {},
   "source": [
    "5. Check the relation between the document length and the class label. Draw the distribution of document lengths for each class. Is it useful to take the length into account? "
   ]
  },
  {
   "cell_type": "code",
   "execution_count": 161,
   "metadata": {},
   "outputs": [],
   "source": [
    "train_texts_neg_len = [len(line) for line in train_texts_neg]\n",
    "train_texts_pos_len = [len(line) for line in train_texts_pos]"
   ]
  },
  {
   "cell_type": "code",
   "execution_count": 173,
   "metadata": {
    "scrolled": true
   },
   "outputs": [
    {
     "data": {
      "text/plain": [
       "<matplotlib.axes._subplots.AxesSubplot at 0x7f59baf3b278>"
      ]
     },
     "execution_count": 173,
     "metadata": {},
     "output_type": "execute_result"
    },
    {
     "data": {
      "image/png": "[encoded data removed]",
      "text/plain": [
       "<Figure size 432x288 with 1 Axes>"
      ]
     },
     "metadata": {
      "needs_background": "light"
     },
     "output_type": "display_data"
    }
   ],
   "source": [
    "pd.Series(train_texts_neg_len).value_counts().hist(bins=20)"
   ]
  },
  {
   "cell_type": "code",
   "execution_count": 191,
   "metadata": {},
   "outputs": [
    {
     "data": {
      "text/plain": [
       "<matplotlib.axes._subplots.AxesSubplot at 0x7f59748b8f60>"
      ]
     },
     "execution_count": 191,
     "metadata": {},
     "output_type": "execute_result"
    },
    {
     "data": {
      "image/png": "[encoded data removed]",
      "text/plain": [
       "<Figure size 432x288 with 1 Axes>"
      ]
     },
     "metadata": {
      "needs_background": "light"
     },
     "output_type": "display_data"
    }
   ],
   "source": [
    "pd.Series(train_texts_pos_len).value_counts().hist(bins=20)"
   ]
  },
  {
   "cell_type": "code",
   "execution_count": 162,
   "metadata": {},
   "outputs": [
    {
     "name": "stdout",
     "output_type": "stream",
     "text": [
      "length of negative reviews\n",
      " min = 52 max = 8969\n",
      "avg = 1316.356550802139 median = 981.0\n"
     ]
    }
   ],
   "source": [
    "print('length of negative reviews\\n','min =',np.min(train_texts_neg_len),'max =',np.max(train_texts_neg_len),)\n",
    "print('avg =',np.mean(train_texts_neg_len),'median =',np.median(train_texts_neg_len))"
   ]
  },
  {
   "cell_type": "code",
   "execution_count": 163,
   "metadata": {},
   "outputs": [
    {
     "name": "stdout",
     "output_type": "stream",
     "text": [
      "length of positive reviews\n",
      " min = 70 max = 10363\n",
      "avg = 1360.801329787234 median = 996.5\n"
     ]
    }
   ],
   "source": [
    "print('length of positive reviews\\n','min =',np.min(train_texts_pos_len),'max =',np.max(train_texts_pos_len),)\n",
    "print('avg =',np.mean(train_texts_pos_len),'median =',np.median(train_texts_pos_len))"
   ]
  },
  {
   "cell_type": "code",
   "execution_count": 164,
   "metadata": {},
   "outputs": [],
   "source": [
    "dev_text_pos = pos_neg_reviews('pos',dev_texts, dev_labels)\n",
    "dev_text_neg = pos_neg_reviews('neg',dev_texts,dev_labels)\n",
    "dev_neg_len = [len(line) for line in dev_text_neg]\n",
    "dev_pos_len = [len(line) for line in dev_text_pos]\n"
   ]
  },
  {
   "cell_type": "code",
   "execution_count": 165,
   "metadata": {},
   "outputs": [
    {
     "name": "stdout",
     "output_type": "stream",
     "text": [
      "length of negative reviews\n",
      " min = 55 max = 4903\n",
      "avg = 792.2555776892431 median = 593.0\n"
     ]
    }
   ],
   "source": [
    "print('length of negative reviews\\n','min =',np.min(dev_neg_len),'max =',np.max(dev_neg_len),)\n",
    "print('avg =',np.mean(dev_neg_len),'median =',np.median(dev_neg_len))"
   ]
  },
  {
   "cell_type": "code",
   "execution_count": 166,
   "metadata": {},
   "outputs": [
    {
     "name": "stdout",
     "output_type": "stream",
     "text": [
      "length of negative reviews\n",
      " min = 66 max = 9190\n",
      "avg = 838.9100401606426 median = 600.0\n"
     ]
    }
   ],
   "source": [
    "print('length of negative reviews\\n','min =',np.min(dev_pos_len),'max =',np.max(dev_pos_len),)\n",
    "print('avg =',np.mean(dev_pos_len),'median =',np.median(dev_pos_len))"
   ]
  },
  {
   "cell_type": "markdown",
   "metadata": {},
   "source": [
    "### as we can see it is not useful to take the length into account"
   ]
  }
 ],
 "metadata": {
  "kernelspec": {
   "display_name": "Python 3",
   "language": "python",
   "name": "python3"
  },
  "language_info": {
   "codemirror_mode": {
    "name": "ipython",
    "version": 3
   },
   "file_extension": ".py",
   "mimetype": "text/x-python",
   "name": "python",
   "nbconvert_exporter": "python",
   "pygments_lexer": "ipython3",
   "version": "3.7.1"
  }
 },
 "nbformat": 4,
 "nbformat_minor": 4
}
