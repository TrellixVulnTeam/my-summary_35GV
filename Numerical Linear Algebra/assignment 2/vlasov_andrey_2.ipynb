{
 "cells": [
  {
   "cell_type": "markdown",
   "metadata": {},
   "source": [
    "# Problem set 2 \n",
    "\n",
    "## 155 pts\n",
    "\n",
    "## For problems 1, 2, 4: all functions that you are asked to implement, you have to complete in separate file ```pset2.py```, where we provide signatures of the required functions . Also only this ```py```-file you have to submit in the bot to check correctness of your implementations.\n",
    "\n",
    "## For problem 3: see instructions in text"
   ]
  },
  {
   "cell_type": "markdown",
   "metadata": {},
   "source": [
    "## Problem 1 (LU decomposition) 35 pts"
   ]
  },
  {
   "cell_type": "markdown",
   "metadata": {},
   "source": [
    "### 1. LU for band matrices \n",
    "\n",
    "The complexity to find an LU decomposition of a dense $n\\times n$ matrix is $\\mathcal{O}(n^3)$.\n",
    "Significant reduction in complexity can be achieved if the matrix has a certain structure, e.g. it is sparse. \n",
    "In the following task we consider an important example of $LU$ for a special type of sparse matrices –– band matrices with the bandwidth $m$ equal to 3 or 5 which called tridiagonal and pentadiagonal respectively.\n",
    "\n",
    "- (5 pts) Write a function ```band_lu(diag_broadcast, n)``` which computes LU decomposition for tridiagonal or pentadiagonal matrix with given diagonal values. \n",
    "For example, input parametres ```(diag_broadcast = [1,-2,1], n = 4)``` mean that we need to find LU decomposition for the triangular matrix of the form:\n",
    "\n",
    "$$A = \\begin{pmatrix}\n",
    "-2 & 1 & 0 & 0\\\\\n",
    "1 & -2 & 1 & 0 \\\\\n",
    "0 & 1 & -2 & 1 \\\\\n",
    "0 & 0 & 1 & -2 \\\\\n",
    "\\end{pmatrix}.$$\n",
    "\n",
    "As an output it is considered to make ```L``` and ```U``` - 2D arrays representing diagonals in factors $L$ (```L[0]``` keeps first lower diagonal, ```L[1]``` keeps second lower, ...), and $U$ (```U[0,:]``` keeps main diagonal, ```U[:,1]``` keeps first upper, ...). More details you can find in comments to the corresponding function in ```pset2.py``` \n",
    "- (2 pts) Compare execution time of the band LU decomposition using standard function from ```scipy```, i.e. which takes the whole matrix and does not know about its special structure, and band decomposition of yours implementation. Comment on the results."
   ]
  },
  {
   "cell_type": "code",
   "execution_count": 4,
   "metadata": {},
   "outputs": [
    {
     "name": "stdout",
     "output_type": "stream",
     "text": [
      "-1.5 1.0 1.0 -2.0\n"
     ]
    },
    {
     "data": {
      "text/plain": [
       "(array([[-0.5       , -0.66666667]]), array([[-2.        ,  1.        ],\n",
       "        [-1.5       ,  1.        ],\n",
       "        [-1.33333333,  0.        ]]))"
      ]
     },
     "execution_count": 4,
     "metadata": {},
     "output_type": "execute_result"
    }
   ],
   "source": [
    "# Implement function in the ```pset2.py``` file\n",
    "from pset2 import band_lu\n",
    "from scipy.sparse import diags # can be used with broadcasting of scalars if desired dimensions are large\n",
    "import numpy as np\n",
    "\n",
    "band_lu(diag_broadcast = [1, -2,1], n = 4)"
   ]
  },
  {
   "cell_type": "markdown",
   "metadata": {},
   "source": [
    "### 2. Completing the proof of existence of LU \n",
    "\n",
    "Some details in lecture proofs about $LU$ were omitted. Let us complete them here.\n",
    "- (5 pts) Prove that if $LU$ decomposition exists, then matrix is strictly regular."
   ]
  },
  {
   "cell_type": "markdown",
   "metadata": {},
   "source": [
    "#### Proof by contradiction\n",
    "\n",
    "Suppose $\\exists k \\in 1,\\dots, n$ and a submatrices located in intersection of the first $k$ rows and $k$ columns as $A_{11}$ is singular.\n",
    "\n",
    "=> $det(A_{11}) = 0$\n",
    "\n",
    "As we know *LU* decomposition exist then \n",
    "\n",
    "$A = \\begin{pmatrix} A_{11} & A_{12}\\\\ A_{21} & A_{22}\\end{pmatrix} = \\begin{pmatrix} L_{11} & O\n",
    "\\\\ L_{21} & L_{22}\\end{pmatrix} \\begin{pmatrix} U_{11} & U_{12}\n",
    "\\\\ O & A_{22}\\end{pmatrix} = \\begin{pmatrix} L_{11}U_{11} & L_{11}U_{12}\\\\ \n",
    "L_{21} U_{11} & L_{21}U_{12}+L_{22}U_{22}\\end{pmatrix}$\n",
    "\n",
    "And we know that $L_{kk}$ & $U_{kk}$ are non-singular if their diagonal elements are not equal to zero.\n",
    "\n",
    "It means that $det(L_{11}) \\neq 0 $ and $det(U_{11})\\neq 0 $ then \n",
    "$det(A_{11}) = det(L_{11}U_{11}) = det(L_{11})det(U_{11}) \\neq 0 $\n",
    "\n",
    "Сontradiction! therefore, if $LU$ decomposition exists, then matrix is strictly regular. "
   ]
  },
  {
   "cell_type": "markdown",
   "metadata": {},
   "source": [
    "- (5 pts) Prove that if $A$ is a strictly regular matrix, then $A_1 = D - \\frac 1a b c^T$ (see lectures for notations) is also strictly regular."
   ]
  },
  {
   "cell_type": "markdown",
   "metadata": {},
   "source": [
    "#### Proof\n",
    "\n",
    "we know that $A$ is a strictly regular matrix ($\\det(A) \\neq 0$)\n",
    "$$\n",
    "    A = \\begin{pmatrix}\n",
    "          a & c^{T} \\\\\n",
    "          b & D\n",
    "    \\end{pmatrix}\n",
    "$$\n",
    "\n",
    "Then the first principal minor is not equal to 0. ($a\\neq 0 $)\n",
    "$ det(A) = det(aD - c^Tb) =$ $a$ $det (D - \\frac{1}{a} c^Tb) =$ $a$ $det(A_1) \\neq 0$ => $det(A_1) \\neq 0$\n",
    "\n",
    "Suppose $\\exists k-th$ principal minors $A^k$ where $k \\in 2,\\dots, n $  and minors of $A_1$ are singular.\n",
    "\n",
    "\n",
    "$\n",
    "    A^k =  \\begin{pmatrix}\n",
    "          a & c^{ (k-1) T} \\\\\n",
    "          b^{(k-1)} & D^{(k-1)}\n",
    "    \\end{pmatrix}\n",
    "$\n",
    "then\n",
    "$$0 \\ne A^k = \\det(a D^{(k - 1)} - b^{(k - 1)} c^{(k - 1)T}) = a \\det(D^{(k - 1)} - \\frac1a b^{(k - 1)} c^{(k - 1)T}) = a \\det(A_1^k)$$\n",
    "\n",
    "Therefore, $\\det(A_1^k) \\neq 0$\n",
    "Сontradiction! $A_1$ is strictly regular."
   ]
  },
  {
   "cell_type": "markdown",
   "metadata": {},
   "source": [
    "### 3. Stability of LU \n",
    "\n",
    "Let\n",
    "$A = \\begin{pmatrix}\n",
    "\\varepsilon & 1 & 0\\\\\n",
    "1 & 1 & 1 \\\\\n",
    "0 & 1 & 1\n",
    "\\end{pmatrix}.$ \n",
    "* (5 pts) Find analytically LU decomposition with and without pivoting for the matrix $A$.\n",
    "* (3 pts) Explain, why can the LU decomposition fail to approximate factors $L$ and $U$ for $|\\varepsilon|\\ll 1$ in computer arithmetic?"
   ]
  },
  {
   "cell_type": "markdown",
   "metadata": {},
   "source": [
    "\n",
    "**Without pivoting**:\n",
    "\n",
    "$$A=\\begin{pmatrix}\n",
    "    \\varepsilon & 1 & 0\\\\\n",
    "    1 & 1 & 1 \\\\\n",
    "    0 & 1 & 1\\\\\n",
    "    \\end{pmatrix}=LU=\\begin{pmatrix} \n",
    "    1 & 0 & 0 \\\\ \n",
    "    l_1 & 1 & 0 \\\\ \n",
    "    l_2 & l_3 & 1 \\\\     \n",
    "    \\end{pmatrix}  \\begin{pmatrix} \n",
    "    u_1 & u_2 & u_3 \\\\ \n",
    "    0 & u_4 & u_5 \\\\ \n",
    "    0 & 0 & u_6 \\\\     \n",
    "    \\end{pmatrix}=\\begin{pmatrix} \n",
    "    u_1 & u_2 & u_3 \\\\ \n",
    "    u_1l_1 & u_2l_1+u_4 & u_3l_1+u_5 \\\\ \n",
    "    u_1l_2 & u_2l_2 + u_4l_3 & u_3l_2+u_5l_3+u_6 \\\\     \n",
    "    \\end{pmatrix}$$\n",
    "    \n",
    "\n",
    "So, now lets calculate:\n",
    "\n",
    "$u_1 = \\varepsilon$ , $u_2 = 1$ , $u_3 = 0$ \n",
    "\n",
    "$u_1l_1 = 1 \\rightarrow l_1 = \\frac{1}{\\varepsilon}$\n",
    "\n",
    "$u_2l_1+u_4 = \\frac{1}{\\varepsilon} + u_4 = 1  \\rightarrow u_4 = 1 - \\frac{1}{\\varepsilon}$\n",
    "\n",
    "$u_3l_1+u_5 = u_5 = 1$\n",
    "\n",
    "$u_1l_2 = 0 \\rightarrow  l_2 = 0$\n",
    "\n",
    "$u_2l_2 + u_4l_3 = u_4l_3  = \\frac{\\varepsilon-1}{\\varepsilon} l_3 = 1$ => $l_3 = \\frac{\\varepsilon}{\\varepsilon-1} = 1 + \\frac{1}{\\varepsilon-1}$\n",
    "\n",
    "$u_3l_2+u_5l_3+u_6 = u_5l_3+u_6 = \\frac{\\varepsilon}{\\varepsilon-1} + u_6 = 1$ => $u_6 = -\\frac{1}{\\varepsilon-1}$\n",
    "\n",
    "\n",
    "$\\begin{pmatrix}\n",
    "    \\varepsilon & 1 & 0\\\\\n",
    "    1 & 1 & 1 \\\\\n",
    "    0 & 1 & 1\n",
    "    \\end{pmatrix} = \\begin{pmatrix}\n",
    "    1 & 0 & 0\\\\\n",
    "    \\frac{1}{\\varepsilon} & 1 & 0 \\\\\n",
    "    0 & 1 + \\frac{1}{\\varepsilon-1} & 1\n",
    "    \\end{pmatrix} \\begin{pmatrix}\n",
    "    \\varepsilon & 1 & 0\\\\\n",
    "    0 & 1 + \\frac{1}{\\varepsilon-1} & 1 \\\\\n",
    "    0 & 0 & -\\frac{1}{\\varepsilon-1}\n",
    "    \\end{pmatrix}$\n",
    "  \n",
    "\n",
    "If $\\varepsilon \\rightarrow 0$, we get $L \\rightarrow \\begin{pmatrix}\n",
    "    1 & 0 & 0\\\\\n",
    "    \\infty & 1 & 0 \\\\\n",
    "    0 & 0 & 1\n",
    "    \\end{pmatrix} $\n",
    "    and $U \\rightarrow \\begin{pmatrix} 0 & 1\\\\ 0 & -\\infty \\end{pmatrix}$\n",
    "\n",
    "**With pivoting:**\n",
    "\n",
    "we should take permutation matrix \n",
    "$P=\\begin{pmatrix}\n",
    " 0 & 1 & 0\\\\\n",
    " 1 & 0 & 0 \\\\\n",
    " 0 & 0 & 1\n",
    " \\end{pmatrix} $\n",
    "  \n",
    "  $$PA =\\begin{pmatrix}\n",
    " 0 & 1 & 0\\\\\n",
    " 1 & 0 & 0 \\\\\n",
    " 0 & 0 & 1\n",
    " \\end{pmatrix} \\begin{pmatrix}\n",
    "    \\varepsilon & 1 & 0\\\\\n",
    "    1 & 1 & 1 \\\\\n",
    "    0 & 1 & 1\\\\\n",
    "    \\end{pmatrix} = \\begin{pmatrix}\n",
    "       1 & 1 & 1 \\\\\n",
    "       \\varepsilon & 1 & 0\\\\\n",
    "        0 & 1 & 1\n",
    "        \\end{pmatrix}$$ \n",
    "                                                        \n",
    "now lets calculate matrices $L$ and $U$\n",
    "\n",
    "$L=\\begin{pmatrix}    \n",
    "    1 & 0 & 0 \\\\\n",
    "     0 & 1 & 0\\\\\n",
    "       0 & \\frac{1}{1-\\varepsilon} & 1\n",
    "     \\end{pmatrix}=\n",
    "     \\begin{pmatrix}    \n",
    "    1 & 0 & 0 \\\\\n",
    "     \\varepsilon& 1 & 0\\\\\n",
    "       0 & \\frac{1}{1-\\varepsilon} & 1\n",
    "     \\end{pmatrix}$\n",
    "\n",
    "$U=\\begin{pmatrix}    \n",
    "    1 & 1& 1 \\\\\n",
    "     0 & 1-\\varepsilon & -\\varepsilon\\\\\n",
    "       0 & 1 & 1\n",
    "     \\end{pmatrix}=\n",
    "     \\begin{pmatrix}    \n",
    "    1 & 1 & 1 \\\\\n",
    "      0 & 1-\\varepsilon & -\\varepsilon\\\\\n",
    "       0 & 0 & \\frac{1}{1-\\varepsilon} \n",
    "     \\end{pmatrix}$\n",
    "\n",
    "\n",
    "So in this case everything is going well."
   ]
  },
  {
   "cell_type": "markdown",
   "metadata": {},
   "source": [
    "- Explain, why can the LU decomposition fail to approximate factors $L$ and $U$ for $|\\varepsilon|\\ll 1$ in computer arithmetic?** \n",
    "As we can see in $L$ when $\\varepsilon \\rightarrow 0$ $l_1 \\rightarrow \\infty$ therefore such $LU$ decomposition can fail because we can obtain huge numbers or gabage as elements of the matrix to be stored."
   ]
  },
  {
   "cell_type": "markdown",
   "metadata": {},
   "source": [
    "### 4. Block LU \n",
    "\n",
    "Let $A = \\begin{bmatrix} A_{11} & A_{12} \\\\ A_{21} & A_{22} \\end{bmatrix}$ be a block matrix. The goal is to solve the linear system\n",
    "\n",
    "$$\n",
    "     \\begin{bmatrix} A_{11} & A_{12} \\\\ A_{21} & A_{22} \\end{bmatrix} \\begin{bmatrix} u_1 \\\\ u_2 \\end{bmatrix} = \\begin{bmatrix} f_1 \\\\ f_2 \\end{bmatrix}.\n",
    "$$\n",
    "\n",
    "* (2 pts) Using block elimination find matrix $S$ and right-hand side $\\hat{f_2}$ so that $u_2$ can be found from $S u_2 = \\hat{f_2}$. Note that the matrix $S$ is called <font color='red'> Schur complement </font> of the block $A_{11}$."
   ]
  },
  {
   "cell_type": "markdown",
   "metadata": {},
   "source": [
    "$$\n",
    "    \\begin{bmatrix} I & 0 \\\\ -A_{21}A_{11}^{-1} &I \\end{bmatrix}  \\begin{bmatrix} A_{11} & A_{12} \\\\ A_{21} & A_{22} \\end{bmatrix} \\begin{bmatrix} u_1 \\\\ u_2 \\end{bmatrix} = \\begin{bmatrix} I & 0 \\\\ -A_{21}A_{11}^{-1} &I \\end{bmatrix}  \\begin{bmatrix} f_1 \\\\ f_2 \\end{bmatrix}.\n",
    "$$\n",
    "\n",
    "$$\n",
    "     \\begin{bmatrix} A_{11} & A_{12} \\\\ 0 & A_{22}- A_{21}A_{11}^{-1}A_{12} \\end{bmatrix} \\begin{bmatrix} u_1 \\\\ u_2 \\end{bmatrix} =  \\begin{bmatrix} f_1 \\\\ - A_{21}A_{11}^{-1}f_1 + f_2 \\end{bmatrix}.\n",
    "$$\n",
    "\n",
    "$S = A_{22}- A_{21}A_{11}^{-1}A_{12}$\n",
    "\n",
    "$\\hat{f_2} =  - A_{21}A_{11}^{-1}f_1 + f_2 $"
   ]
  },
  {
   "cell_type": "markdown",
   "metadata": {},
   "source": [
    "* (4 pts) Using Schur complement properties prove that \n",
    "\n",
    "$$\\det(X+AB) = \\det(X)\\det(I+BX^{-1}A), $$\n",
    "\n",
    "where $X$ - nonsingular square matrix.\n",
    "\n",
    "Let's go\n",
    "$$\\begin{pmatrix} X & A \\\\-B &I \\end{pmatrix}$$\n",
    "\n",
    "From property of determinant of triangular matrix\n",
    "\n",
    "$$det\\begin{pmatrix} X & A \\\\-B &I \\end{pmatrix}=det\\begin{pmatrix} X & A \\\\0 &I+BX^{-1}A \\end{pmatrix}=det(X)det(I+BX^{-1}A)$$\n",
    "\n",
    "From the immutability of the determinant of the matrix after elementary transformations of rows, columns, follow:\n",
    "\n",
    "$$det\\begin{pmatrix} X & A \\\\-B &I \\end{pmatrix}=det\\begin{pmatrix} AB+X & 0 \\\\-B &I \\end{pmatrix}=det(X+AB)$$\n",
    "\n",
    "Finally, $$\\det(X+AB) = \\det(X)\\det(I+BX^{-1}A), $$ \n",
    "* (4 pts) Let matrix $F \\in \\mathbb{R}^{m \\times n}$ and $G \\in \\mathbb{R}^{n \\times m}$. Prove that \n",
    "\n",
    "$$\\det(I_m - FG) = \\det(I_n - GF).$$\n",
    "\n",
    "Let's go\n",
    "\n",
    "From previous point\n",
    "$$det\\begin{pmatrix} I_m & F \\\\G &I_n \\end{pmatrix}=det(I_m)det(I_n-GI_m^-1F)=det(I_n-GF)$$\n",
    "\n",
    "Also\n",
    "\n",
    "$$det\\begin{pmatrix} I_m & F \\\\G &I_n \\end{pmatrix}=det(I_n)det(I_m-FI^{-1}G)=det(I_m-FG)$$\n",
    "\n",
    "Finally\n",
    "\n",
    "$$\\det(I_m - FG) = \\det(I_n - GF).$$"
   ]
  },
  {
   "cell_type": "markdown",
   "metadata": {},
   "source": [
    "## Problem 2 (QR decomposition) 30 pts\n",
    "\n",
    "### 1. Standard Gram-Schmidt algorithm\n",
    "Our goal is to orthogonalize a system of linearly independent vectors $v_1,\\dots,v_n$.\n",
    "The standard algorithm for this task is the Gram-Schmidt process:\n",
    "\n",
    "$$\n",
    "\\begin{split}\n",
    "u_1 &= v_1, \\\\\n",
    "u_2 &= v_2 - \\frac{(v_2, u_1)}{(u_1, u_1)} u_1, \\\\\n",
    "\\dots \\\\\n",
    "u_n &= v_n - \\frac{(v_n, u_1)}{(u_1, u_1)} u_1 - \\frac{(v_n, u_2)}{(u_2, u_2)} u_2 - \\dots - \\frac{(v_n, u_{n-1})}{(u_{n-1}, u_{n-1})} u_{n-1}.\n",
    "\\end{split}\n",
    "$$\n",
    "\n",
    "Obtained $u_1, \\dots, u_n$ are orthogonal vectors in exact arithmetics. Then to make the system orthonormal you should divide each of the vectors by its norm: $u_i := u_i/\\|u_i\\|$.\n",
    "The Gram-Schmidt process can be considered as a QR decomposition. Let us show that."
   ]
  },
  {
   "cell_type": "markdown",
   "metadata": {},
   "source": [
    "\n",
    "* (2 pts) Write out what is matrices $Q$ and $R$ obtained in the process above. "
   ]
  },
  {
   "cell_type": "markdown",
   "metadata": {},
   "source": [
    "$$A = QR$$\n",
    "$$\n",
    "    A =  \\begin{pmatrix}\n",
    "          v_1\\\\\n",
    "          v_2\\\\\n",
    "          ...\\\\\n",
    "          v_n\n",
    "    \\end{pmatrix}\n",
    "$$\n",
    "\n",
    "$$\n",
    "    Q =  \\begin{pmatrix}\n",
    "          u_1 & u_2 & ... & u_n\n",
    "    \\end{pmatrix}\n",
    "$$\n",
    "\n",
    "$$\n",
    "    R =  \\begin{pmatrix}\n",
    "          1 & \\frac{(v_2,u_1)}{(u_1, u_1)} & ... & \\frac{(v_n,u_1)}{(u_1, u_1)}\\\\\n",
    "          0 & 1 & ... & \\frac{(v_n,u_2)}{(u_2, u_2)}\\\\\n",
    "          ...\\\\\n",
    "          0 & 0 & ... & \\frac{(v_n,u_{n-1})}{(u_{n-1}, u_{n-1})}\\\\\n",
    "          0 & 0 & ... & 1\n",
    "    \\end{pmatrix}\n",
    "$$"
   ]
  },
  {
   "cell_type": "markdown",
   "metadata": {},
   "source": [
    "* (5 pts) Implement in the ```pset2.py``` the described Gram-Schmidt algorithm as a function ```gram_schmidt_qr(A)``` that takes a rectangular matrix ```A``` and outputs ```Q,R```."
   ]
  },
  {
   "cell_type": "code",
   "execution_count": 9,
   "metadata": {},
   "outputs": [
    {
     "name": "stdout",
     "output_type": "stream",
     "text": [
      "error = 18.073738456318154\n"
     ]
    }
   ],
   "source": [
    "# Implement the functions in the ```pset2.py``` file\n",
    "from pset2 import gram_schmidt_qr\n",
    "from pset2 import modified_gram_schmidt_qr\n",
    "n = 20\n",
    "x = np.linspace(0,1,20)\n",
    "V = np.vander(x,n)\n",
    "\n",
    "Q,R = gram_schmidt_qr(V)\n",
    "Gram = np.dot(Q.T,Q)\n",
    "error = np.linalg.norm(Gram - np.identity(Gram.shape[0]),2)\n",
    "print('error =',error)"
   ]
  },
  {
   "cell_type": "code",
   "execution_count": 10,
   "metadata": {},
   "outputs": [
    {
     "name": "stdout",
     "output_type": "stream",
     "text": [
      "error = 18.073738456318154\n",
      "errorm = 0.12885979146740253\n"
     ]
    }
   ],
   "source": [
    "Qm,Rm = modified_gram_schmidt_qr(V)\n",
    "Gramm = np.dot(Qm.T,Qm)\n",
    "errorm = np.linalg.norm(Gramm - np.identity(Gramm.shape[0]),2)\n",
    "print('error =',error)\n",
    "print('errorm =',errorm)"
   ]
  },
  {
   "cell_type": "markdown",
   "metadata": {},
   "source": [
    "* (5 pts) The observed loss of orthogonality is a problem of this particular algorithm. Luckily, there is [a simple improvement to the algorithm above](https://en.wikipedia.org/wiki/Gram–Schmidt_process#Numerical_stability) that reduces the loss of orthogonality. Implement this modification in the ```pset2.py``` as a function ```modified_gram_schmidt_qr(A)``` such that input and output are similar to ```gram_schmidt_qr(A)```. \n"
   ]
  },
  {
   "cell_type": "markdown",
   "metadata": {},
   "source": [
    "* (3 pts) Compute QR decomposition of the matrix $V$ from the previous task with the function ```modified_gram_schmidt_qr(A)```.\n",
    "Compute error $\\|Q^{\\top}Q-I\\|_2$. Compare this error to the error obtained with a \"pure\" Gram-Schmidt and **comment on the result.**"
   ]
  },
  {
   "cell_type": "markdown",
   "metadata": {},
   "source": [
    "Unfortunately, the CGS method has very poor numerical properties in that there is typically a severe loss of orthogonality among the computed $Q_i$ but modified algorithm has less problems with it"
   ]
  },
  {
   "cell_type": "markdown",
   "metadata": {},
   "source": [
    "### 2. Householder QR (10 pts)\n",
    "\n",
    "* (7 pts) Implement algorithm for computing QR decomposition based on Householder reflections as a function ```householder_qr(A)``` that takes a rectangular matrix ```A``` and outputs ```Q,R```.  "
   ]
  },
  {
   "cell_type": "code",
   "execution_count": null,
   "metadata": {},
   "outputs": [],
   "source": [
    "import  scipy.linalg"
   ]
  },
  {
   "cell_type": "code",
   "execution_count": null,
   "metadata": {},
   "outputs": [],
   "source": [
    "def house_new(X):\n",
    "    m = len(x)\n",
    "    sig = x[2:m].T@x[2:m]\n",
    "    v = x\n",
    "    v[0] = 1\n",
    "    if (int(sig) == 0 ) & (x[0] >= 0):\n",
    "        b = 0\n",
    "    elif (int(sig) == 0) & (x[0] < 0):\n",
    "        b = -2 \n",
    "    else:\n",
    "        nu = np.sqrt(x[0]**2+sig)\n",
    "        if (x[0]<= 0):\n",
    "            v[0] = x[0] - nu\n",
    "        else:\n",
    "            v[0] = -sig/(x[0]+nu)\n",
    "        \n",
    "        b = 2*v[0]**2/(sig+v[0]**2)\n",
    "        v = v/ v[0]\n",
    "    return v,b\n",
    "\n",
    "def householder_qr_new(A):\n",
    "    m,n = A.shape\n",
    "    \n",
    "    Q = np.zeros_like(A)\n",
    "    R = np.copy(A)\n",
    "    \n",
    "    for j in range(0,n):\n",
    "        v,b = house_new(A)\n",
    "        A[j:m,j:n] = (np.identity(m-j)-b*v@v.T)@A[j:m,j:n]\n",
    "        R[j:m,j:n] = A[j:m,j:n]\n",
    "        \n",
    "        if  j<m:\n",
    "            A[j+1:m, j] = v[j+1:m] #1:m-j+1\n",
    "            Q[j+1:m, j] = A[j+1:m, j] \n",
    "    return Q,R\n",
    "        "
   ]
  },
  {
   "cell_type": "code",
   "execution_count": null,
   "metadata": {},
   "outputs": [],
   "source": [
    "def house(x):\n",
    "    n = len(x)\n",
    "    nu = np.linalg.norm(x,2)\n",
    "    v = x\n",
    "    if nu != 0:\n",
    "        b = x[0] + np.sign(x[0])*nu\n",
    "        v[1:] = v[1:]/b\n",
    "    v[0] = 1\n",
    "    return v\n",
    "\n",
    "def row_house(A,v):\n",
    "    b = -2/v.T@v\n",
    "    w = b*A.T@v\n",
    "    A = A + v@w.T\n",
    "    return A\n",
    "\n",
    "def householder_qr_old(A):\n",
    "    m,n = A.shape\n",
    "    \n",
    "    v = np.zeros(m)\n",
    "    Q = np.zeros_like(A)\n",
    "    R = np.copy(A)\n",
    "    \n",
    "    for j in range(0,n):\n",
    "        v[j:m] = house(A[j:m,j])\n",
    "        A[j:m,j:n] = row_house(A[j:m,j:n],v[j:m])\n",
    "        R[j:m,j:n] = A[j:m,j:n]\n",
    "        if  j<m:\n",
    "            A[j+1:m, j] = v[j+1:m] #1:m-j+1\n",
    "            Q[j+1:m, j] = A[j+1:m, j] \n",
    "    return Q,R"
   ]
  },
  {
   "cell_type": "code",
   "execution_count": 29,
   "metadata": {},
   "outputs": [],
   "source": [
    "from pset2 import householder_qr\n"
   ]
  },
  {
   "cell_type": "code",
   "execution_count": 33,
   "metadata": {},
   "outputs": [
    {
     "ename": "NameError",
     "evalue": "name 'Q' is not defined",
     "output_type": "error",
     "traceback": [
      "\u001b[0;31m---------------------------------------------------------------------------\u001b[0m",
      "\u001b[0;31mNameError\u001b[0m                                 Traceback (most recent call last)",
      "\u001b[0;32m<ipython-input-33-274b2e8d9702>\u001b[0m in \u001b[0;36m<module>\u001b[0;34m()\u001b[0m\n\u001b[1;32m      2\u001b[0m \u001b[0;32mfrom\u001b[0m \u001b[0mpset2\u001b[0m \u001b[0;32mimport\u001b[0m \u001b[0mhouseholder_qr\u001b[0m\u001b[0;34m\u001b[0m\u001b[0m\n\u001b[1;32m      3\u001b[0m \u001b[0;34m\u001b[0m\u001b[0m\n\u001b[0;32m----> 4\u001b[0;31m \u001b[0mQhc\u001b[0m\u001b[0;34m,\u001b[0m\u001b[0mRhc\u001b[0m \u001b[0;34m=\u001b[0m \u001b[0mhouseholder_qr\u001b[0m\u001b[0;34m(\u001b[0m\u001b[0mV\u001b[0m\u001b[0;34m)\u001b[0m\u001b[0;34m\u001b[0m\u001b[0m\n\u001b[0m\u001b[1;32m      5\u001b[0m \u001b[0mGramhc\u001b[0m \u001b[0;34m=\u001b[0m \u001b[0mnp\u001b[0m\u001b[0;34m.\u001b[0m\u001b[0mdot\u001b[0m\u001b[0;34m(\u001b[0m\u001b[0mQhc\u001b[0m\u001b[0;34m.\u001b[0m\u001b[0mT\u001b[0m\u001b[0;34m,\u001b[0m\u001b[0mQhc\u001b[0m\u001b[0;34m)\u001b[0m\u001b[0;34m\u001b[0m\u001b[0m\n\u001b[1;32m      6\u001b[0m \u001b[0mprint\u001b[0m\u001b[0;34m(\u001b[0m\u001b[0mGramhc\u001b[0m\u001b[0;34m.\u001b[0m\u001b[0mshape\u001b[0m\u001b[0;34m)\u001b[0m\u001b[0;34m\u001b[0m\u001b[0m\n",
      "\u001b[0;32m~/Документы/SkolTech/Numerical Algebra/nla2018-master/psets/pset2.py\u001b[0m in \u001b[0;36mhouseholder_qr\u001b[0;34m(A)\u001b[0m\n\u001b[1;32m     89\u001b[0m \u001b[0;34m\u001b[0m\u001b[0m\n\u001b[1;32m     90\u001b[0m \u001b[0;32mdef\u001b[0m \u001b[0mhouseholder_qr\u001b[0m\u001b[0;34m(\u001b[0m\u001b[0mA\u001b[0m\u001b[0;34m)\u001b[0m\u001b[0;34m:\u001b[0m\u001b[0;34m\u001b[0m\u001b[0m\n\u001b[0;32m---> 91\u001b[0;31m     \u001b[0mm\u001b[0m\u001b[0;34m,\u001b[0m\u001b[0mn\u001b[0m \u001b[0;34m=\u001b[0m \u001b[0mA\u001b[0m\u001b[0;34m.\u001b[0m\u001b[0mshape\u001b[0m\u001b[0;34m\u001b[0m\u001b[0m\n\u001b[0m\u001b[1;32m     92\u001b[0m     \u001b[0mQ\u001b[0m \u001b[0;34m=\u001b[0m \u001b[0mnp\u001b[0m\u001b[0;34m.\u001b[0m\u001b[0meye\u001b[0m\u001b[0;34m(\u001b[0m\u001b[0mm\u001b[0m\u001b[0;34m)\u001b[0m\u001b[0;34m\u001b[0m\u001b[0m\n\u001b[1;32m     93\u001b[0m     \u001b[0mR\u001b[0m \u001b[0;34m=\u001b[0m \u001b[0mnp\u001b[0m\u001b[0;34m.\u001b[0m\u001b[0mcopy\u001b[0m\u001b[0;34m(\u001b[0m\u001b[0mA\u001b[0m\u001b[0;34m)\u001b[0m\u001b[0;34m\u001b[0m\u001b[0m\n",
      "\u001b[0;31mNameError\u001b[0m: name 'Q' is not defined"
     ]
    }
   ],
   "source": [
    "# Implement the function in the pset2.py file\n",
    "from pset2 import householder_qr\n",
    "\n",
    "Qhc,Rhc = householder_qr(V)\n",
    "Gramhc = np.dot(Qhc.T,Qhc)\n",
    "print(Gramhc.shape)\n",
    "errorh = np.linalg.norm(Gramhc - np.identity(Gramhc.shape[0]),2)\n",
    "print('error =',error)\n",
    "print('errorh ch = ',errorh)\n",
    "print('errorm =',errorm)"
   ]
  },
  {
   "cell_type": "markdown",
   "metadata": {},
   "source": [
    "* (2 pts) Apply it to the Vandermonde matrix $V$ created above. Print out the error $\\|Q^{\\top}Q-I\\|_2$, where $Q$ is given by ```householder_qr(A)```. Compare it to the corresponding results of Gram-Schmidt and modified Gram-Schmidt algorithms and comment on it. \n"
   ]
  },
  {
   "cell_type": "code",
   "execution_count": 36,
   "metadata": {},
   "outputs": [
    {
     "name": "stdout",
     "output_type": "stream",
     "text": [
      "error = 18.073738456318154\n",
      "errorh ch =  1.9759602233134736e-15\n",
      "errorm = 0.12885979146740253\n"
     ]
    }
   ],
   "source": [
    "def householder_qr(A):\n",
    "    m,n = A.shape\n",
    "    Q = np.eye(m)\n",
    "    R = np.copy(A)\n",
    "    \n",
    "    for k in range(n): \n",
    "        x = np.copy(R[k:, k:k+1])\n",
    "        e = np.zeros((x.size, 1))\n",
    "        e[0, 0] = 1\n",
    "        v = x + np.sign(x[0]) * np.linalg.norm(x) * e\n",
    "        v = v/np.linalg.norm(v)\n",
    "        H_k = np.eye(n)\n",
    "        H_k[k:, k:] = np.eye(n-k) - 2 * v@v.T\n",
    "        Q = Q@H_k\n",
    "        R = H_k@R\n",
    "        \n",
    "    return Q, R\n",
    "\n",
    "Qhc,Rhc = householder_qr(V)\n",
    "Gramhc = np.dot(Qhc.T,Qhc)\n",
    "errorh = np.linalg.norm(Gramhc - np.identity(Gramhc.shape[0]),2)\n",
    "print('error =',error)\n",
    "print('errorh ch = ',errorh)\n",
    "print('errorm =',errorm)"
   ]
  },
  {
   "cell_type": "markdown",
   "metadata": {},
   "source": [
    "* (3 pts) For values of $n = \\{2,25,100,250,500\\}$, create a $B\\in\\mathbb{R}^{n\\times n}$ and an upper triangular matrix $R\\in\\mathbb{R}^{n\\times n}$ both filled with standard normal entries. Use ```numpy``` (or ```scipy```) built-in QR decomposition function to obtain a random orthogonal matrix $Q$ from the decomposition of $B$. Then compute $A = QR$ and apply your Gram-Schmidt and Householder algorithms to find the $Q$ and $R$ factors of $A$ – denoted as $\\hat{Q}$ and $\\hat{R}$. \n",
    "Calculate relative errors\n",
    "$$\\frac{\\|R-\\hat{R}\\|_2}{\\|R\\|_2}, \\frac{\\|Q-\\hat{Q}\\|_2}{\\|Q\\|_2}, \\frac{\\|A-\\hat{Q}\\hat{R}\\|_2}{\\|A\\|_2}$$ \n",
    "for each value of $n$ and for both algorithms. \n",
    "**Note:** scale (multiply corresponding rows/columns by -1) $Q, R,\\hat{Q},\\hat{R}$ such that **diagonal elements of $R$ and $\\hat{R}$ be positive.**    \n",
    "    * Comment on the relative errors in $Q$ and $R$ (forward error) compared to ones in $QR$ (backward error).\n",
    "    * Comment on the backward error obtained for Gram-Schmidt compared to Householder. "
   ]
  },
  {
   "cell_type": "code",
   "execution_count": 46,
   "metadata": {},
   "outputs": [],
   "source": [
    "import scipy as sp\n",
    "\n",
    "def measure_factor_error(U,U_h):\n",
    "    return np.linalg.norm(U - U_h, 2)/np.linalg.norm(U,2)\n",
    "\n",
    "def measure_qr_error(q, r, a):\n",
    "    return np.linalg.norm(a - q@r, 2)/np.linalg.norm(a, 2)\n",
    "\n",
    "n = [2,25,100,250,500]\n",
    "qs_error = []\n",
    "rs_error = []\n",
    "sh_error = []\n",
    "qho_error = []\n",
    "rho_error = []\n",
    "ho_error = []\n",
    "\n",
    "for i in n:\n",
    "    B = np.random.randn(i,i)\n",
    "    R = np.triu(B,0)\n",
    "    for k in range(R.shape[0]):\n",
    "        if R[k,k] < 0:\n",
    "            R[k,k] = (-1)*R[k,k]\n",
    "    q,r = np.linalg.qr(B)\n",
    "    A=q@R \n",
    "    qs_h,rs_h = gram_schmidt_qr(A)\n",
    "    \n",
    "    qho_h,rho_h = householder_qr(A)\n",
    "    \n",
    "    qs_error.append(measure_factor_error(q, qs_h))\n",
    "    qho_error.append(measure_factor_error(q, qho_h))\n",
    "    \n",
    "    rs_error.append(measure_factor_error(r, rs_h))\n",
    "    rho_error.append(measure_factor_error(r, rho_h))\n",
    "    \n",
    "    sh_error.append(measure_qr_error(qs_h,rs_h,A))\n",
    "    ho_error.append(measure_qr_error(qho_h,rho_h,A))\n",
    "    "
   ]
  },
  {
   "cell_type": "code",
   "execution_count": 47,
   "metadata": {},
   "outputs": [
    {
     "data": {
      "image/png": "[encoded data removed]",
      "text/plain": [
       "<Figure size 432x288 with 1 Axes>"
      ]
     },
     "metadata": {
      "needs_background": "light"
     },
     "output_type": "display_data"
    }
   ],
   "source": [
    "import matplotlib.pyplot as plt\n",
    "%matplotlib inline\n",
    "\n",
    "\n",
    "plt.yscale('log')\n",
    "plt.title('Matrix relative error',fontsize=15)\n",
    "plt.ylabel('error')\n",
    "plt.xlabel('n')\n",
    "plt.plot(n, sh_error, label='Gram-Schmidt')\n",
    "plt.plot(n, ho_error, label='Hausholder')\n",
    "plt.legend(loc='best')\n",
    "\n",
    "plt.grid()\n",
    "plt.show()"
   ]
  },
  {
   "cell_type": "code",
   "execution_count": 48,
   "metadata": {
    "scrolled": true
   },
   "outputs": [
    {
     "data": {
      "image/png": "[encoded data removed]",
      "text/plain": [
       "<Figure size 864x288 with 2 Axes>"
      ]
     },
     "metadata": {
      "needs_background": "light"
     },
     "output_type": "display_data"
    }
   ],
   "source": [
    "plt.figure(figsize=(12,4))\n",
    "\n",
    "plt.subplot(121)\n",
    "plt.title('Forward Error Q',fontsize=15)\n",
    "plt.ylabel('error')\n",
    "plt.xlabel('n')\n",
    "plt.xlim(0,500)\n",
    "plt.plot(n, qs_error, label='Gram-Schmidt')\n",
    "plt.plot(n, qho_error, label='Hausholder')\n",
    "plt.legend(loc='best')\n",
    "plt.grid()\n",
    "\n",
    "plt.subplot(122)\n",
    "plt.title('Forward Error R',fontsize=15)\n",
    "plt.ylabel('error',fontsize=12)\n",
    "plt.xlabel('n',fontsize=12)\n",
    "plt.xlim(0,500)\n",
    "plt.plot(n, rs_error, label='Gram-Schmidt')\n",
    "plt.plot(n, rho_error, label='Hausholder')\n",
    "plt.legend(loc='best')\n",
    "plt.grid()"
   ]
  },
  {
   "cell_type": "markdown",
   "metadata": {},
   "source": [
    "- As we can see, backward error is more susceptible to deviations then forward errors because  bacward error consist both forward errors and less stable from it.\n",
    "- both these errors grows with approximately the same speed but of course Gram-Shmidt has bigger error from problem with orthogonallity"
   ]
  },
  {
   "cell_type": "markdown",
   "metadata": {},
   "source": [
    "## Problem 3 (Word2Vec as Matrix Factorization) 45 pts\n",
    "\n",
    "In this assignment you are supposed to apply SVD to training your own [word embedding model](https://en.wikipedia.org/wiki/Word_embedding) which maps English words to vectors of real numbers.\n",
    "\n",
    "Skip-Gram Negative Sampling (SGNS) word embedding model, commonly known as **word2vec** ([Mikolov et al., 2013](http://papers.nips.cc/paper/5021-distributed-representations-of-words-and-phrases-and-their-compositionality.pdf)), is usually optimized by stochastic gradient descent. However, the optimization of SGNS objective can be viewed as implicit matrix factorization objective as was shown in ([Levy and Goldberg, 2015](http://papers.nips.cc/paper/5477-neural-word-embedding-as-implicit-matrix-factorization.pdf))."
   ]
  },
  {
   "cell_type": "markdown",
   "metadata": {},
   "source": [
    "###### 1. Notation\n",
    "Assume we have a text corpus given as a sequence of words $\\{w_1,w_2,\\dots,w_n\\}$ where $n$ may be larger than $10^{12}$ and $w_i \\in \\mathcal{V}$ belongs to a vocabulary of words $\\mathcal{V}$. A word $c \\in \\mathcal{V}$ is called *a context* of word $w_i$ if they are found together in the text. More formally, given some measure $L$ of closeness between two words (typical choice is $L=2$), a word $c \\in \\mathcal{V}$ is called a context if $c \\in \\{w_{i-L}, \\dots, w_{i-1}, w_{i+1}, \\dots, w_{i+L} \\}$ Let $\\mathbf{w},\\mathbf{c}\\in\\mathbb{R}^d$ be the *word embeddings* of word $w$ and context $c$, respectively. Assume they are specified by the mapping  $\\Phi:\\mathcal{V}\\rightarrow\\mathbb{R}^d$, so $\\mathbf{w}=\\Phi(w)$. The ultimate goal of SGNS word embedding model is to fit a good mapping $\\Phi$.\n",
    "\n",
    "Let $\\mathcal{D}$ be a multiset of all word-contexts pairs observed in the corpus. In the SGNS model, the probability that word-context pair $(w,c)$ is observed in the corpus is modeled as the following distribution:\n",
    "\n",
    "$$\n",
    "P(\\#(w,c)\\neq 0|w,c) = \\sigma(\\mathbf{w}^\\top \\mathbf{c}) = \\frac{1}{1 + \\exp(-\\mathbf{w}^\\top \\mathbf{c})},\n",
    "$$\n",
    "\n",
    "where $\\#(w,c)$ is the number of times the pair $(w,c)$ appears in $\\mathcal{D}$ and $\\mathbf{w}^\\top\\mathbf{c}$ is the scalar product of vectors $\\mathbf{w}$ and $\\mathbf{c}$. Two important quantities which we will also use further are the number of times the word $w$ and the context $c$ appear in $\\mathcal{D}$, which can be computed as\n",
    "\n",
    "$$\n",
    "\\#(w) = \\sum_{c\\in\\mathcal{V}} \\#(w,c), \\quad \\#(c) = \\sum_{w\\in\\mathcal{V}} \\#(w,c).\n",
    "$$\n"
   ]
  },
  {
   "cell_type": "markdown",
   "metadata": {},
   "source": [
    "###### 2. Optimization objective"
   ]
  },
  {
   "cell_type": "markdown",
   "metadata": {},
   "source": [
    "Vanilla word embedding models are trained by maximizing log-likelihood of observed word-context pairs, namely\n",
    "\n",
    "$$\n",
    "\\mathcal{L} = \\sum_{w \\in \\mathcal{V}} \\sum_{c \\in \\mathcal{V}} \\#(w,c) \\log \\sigma(\\mathbf{w}^\\top\\mathbf{c}) \\rightarrow \\max_{\\mathbf{w},\\mathbf{c} \\in \\mathbb{R}^d}.\n",
    "$$"
   ]
  },
  {
   "cell_type": "markdown",
   "metadata": {},
   "source": [
    "Skip-Gram Negative Sampling approach modifies the objective by additionally minimizing the log-likelihood of random word-context pairs, so called *negative samples*. This idea incorporates some useful linguistic information that some number ($k$, usually $k=5$) of word-context pairs *are not* found together in the corpus which usually results in word embeddings of higher quality. The resulting optimization problem is\n",
    "\n",
    "$$\n",
    "\\mathcal{L} = \\sum_{w \\in \\mathcal{V}} \\sum_{c \\in \\mathcal{V}} \\left( \\#(w,c) \\log \\sigma(\\mathbf{w}^\\top\\mathbf{c}) + k \\cdot \\mathbb{E}_{c'\\sim P_\\mathcal{D}} \\log \\sigma (-\\mathbf{w}^\\top\\mathbf{c}) \\right) \\rightarrow \\max_{\\mathbf{w},\\mathbf{c} \\in \\mathbb{R}^d},\n",
    "$$\n",
    "\n",
    "where $P_\\mathcal{D}(c)=\\frac{\\#(c)}{|\\mathcal{D}|}$ is a probability distribution over word contexts from which negative samples are drawn."
   ]
  },
  {
   "cell_type": "markdown",
   "metadata": {},
   "source": [
    "[Levy and Goldberg, 2015](http://papers.nips.cc/paper/5477-neural-word-embedding-as-implicit-matrix-factorization.pdf) showed that this objective can be equivalently written as\n",
    "\n",
    "$$\n",
    "\\mathcal{L} = \\sum_{w \\in \\mathcal{V}} \\sum_{c \\in \\mathcal{V}} f(w,c) = \\sum_{w \\in \\mathcal{V}} \\sum_{c \\in \\mathcal{V}} \\left( \\#(w,c) \\log \\sigma(\\mathbf{w}^\\top\\mathbf{c}) + \\frac{k\\cdot\\#(w)\\cdot\\#(c)}{|\\mathcal{D}|} \\log \\sigma (-\\mathbf{w}^\\top\\mathbf{c}) \\right) \\rightarrow \\max_{\\mathbf{w},\\mathbf{c} \\in \\mathbb{R}^d},\n",
    "$$\n",
    "\n",
    "A crucial observation is that this loss function depends only on the scalar product $\\mathbf{w}^\\top\\mathbf{c}$ but not on embedding $\\mathbf{w}$ and $\\mathbf{c}$ separately."
   ]
  },
  {
   "cell_type": "markdown",
   "metadata": {},
   "source": [
    "###### 3. Matrix factorization problem statement"
   ]
  },
  {
   "cell_type": "markdown",
   "metadata": {},
   "source": [
    "Let $|\\mathcal{V}|=m$, $W \\in \\mathbb{R}^{m\\times d}$ and $C \\in \\mathbb{R}^{m\\times d}$ be matrices, where each row $\\mathbf{w}\\in\\mathbb{R}^d$ of matrix $W$ is the word embedding of the corresponding word $w$ and each row $\\mathbf{c}\\in\\mathbb{R}^d$ of matrix $C$ is the context embedding of the corresponding context $c$. SGNS embeds both words and their contexts into a low-dimensional space $\\mathbb{R}^d$, resulting in the word and context matrices $W$ and $C$. The rows of matrix $W$ are typically used in NLP tasks (such as computing word similarities) while $C$ is ignored. It is nonetheless instructive to consider the product $W^\\top C = M$. Viewed this way, SGNS can be described as factorizing an implicit matrix $M$ of dimensions $m \\times m$ into two smaller matrices.\n",
    "\n",
    "Which matrix is being factorized? A matrix entry $M_{wc}$ corresponds to the dot product $\\mathbf{w}^\\top\\mathbf{c}$ . Thus, SGNS is factorizing a matrix in which each row corresponds to a word $w \\in \\mathcal{V}$ , each column corresponds to a context $c \\in \\mathcal{V}$, and each cell contains a quantity $f(w,c)$ reflecting the strength of association between that particular word-context pair. Such word-context association matrices are very common in the NLP and word-similarity literature. That said, the objective of SGNS does not explicitly state what this association metric is. What can we say about the association function $f(w,c)$? In other words, which matrix is SGNS factorizing? Below you will find the answers."
   ]
  },
  {
   "cell_type": "markdown",
   "metadata": {},
   "source": [
    "### Task 1 (theoretical) 5 pts"
   ]
  },
  {
   "cell_type": "markdown",
   "metadata": {},
   "source": [
    "Solve SGNS optimization problem with respect to the $\\mathbf{w}^\\top\\mathbf{c}$ and show that the matrix being factorized is\n",
    "\n",
    "$$\n",
    "M_{wc} = \\mathbf{w}^\\top\\mathbf{c} = \\log \\left( \\frac{\\#(w,c) \\cdot |\\mathcal{D}|}{k\\cdot\\#(w)\\cdot\\#(c)} \\right)\n",
    "$$\n",
    "\n",
    "**Hint:** Denote $x=\\mathbf{w}^\\top\\mathbf{c}$, rewrite SGNG optimization problem in terms of $x$ and solve it."
   ]
  },
  {
   "cell_type": "markdown",
   "metadata": {},
   "source": [
    "**Note:** This matrix is called Shifted Pointwise Mutual Information (SPMI) matrix, as its elements can be written as\n",
    "\n",
    "$$\n",
    "\\text{SPMI}(w,c) = M_{wc} = \\mathbf{w}^\\top\\mathbf{c} = \\text{PMI}(w,c) - \\log k\n",
    "$$\n",
    "\n",
    "and $\\text{PMI}(w,c) = \\log \\left( \\frac{\\#(w,c) \\cdot |\\mathcal{D}|}{\\#(w)\\cdot\\#(c)} \\right)$ is the well-known [pointwise mutual information](https://en.wikipedia.org/wiki/Pointwise_mutual_information) of $(w,c)$."
   ]
  },
  {
   "cell_type": "markdown",
   "metadata": {},
   "source": [
    "$x=\\mathbf{w}^\\top\\mathbf{c}$\n",
    "\n",
    "we know that $\\sigma(x)=\\frac{1}{(1+\\exp(-w^Tc)}$\n",
    "\n",
    "$$\n",
    "L=\\sum_{w,c}(\\#(w,c)log\\frac{1}{1+exp(-x)}+\\frac{k \\cdot \\#(w) \\cdot \\#(c)}{|D|}log\\frac{1}{1+\\exp(x)})\n",
    "$$\n",
    "\n",
    "differentiate\n",
    "\n",
    "$$\n",
    "\\frac{\\partial L}{\\partial x}=\\#(w,c)\\frac{1}{1+\\exp(x)}-\\frac{k*\\#(w)*\\#(c)}{|D|}\\frac{\\exp(x)}{1+\\exp(x)}=0\n",
    "$$\n",
    "\n",
    "Follow \n",
    "$$\n",
    "\\exp(x) = \\frac{\\#(w,c) \\cdot |D|}{k \\cdot \\#(w) \\cdot \\#(c)}\n",
    "$$\n",
    "Finally\n",
    "\n",
    "$$\n",
    "\\text{PMI}(w,c) = \\log \\left( \\frac{\\#(w,c) \\cdot |\\mathcal{D}|}{\\#(w)\\cdot\\#(c)} \\right)\n",
    "$$"
   ]
  },
  {
   "cell_type": "markdown",
   "metadata": {},
   "source": [
    "### Task 2 (practical) 40 pts"
   ]
  },
  {
   "cell_type": "code",
   "execution_count": 49,
   "metadata": {},
   "outputs": [
    {
     "name": "stderr",
     "output_type": "stream",
     "text": [
      "/home/andrey/anaconda3/lib/python3.7/site-packages/sklearn/externals/joblib/_multiprocessing_helpers.py:38: UserWarning: [Errno 12] Cannot allocate memory.  joblib will operate in serial mode\n",
      "  warnings.warn('%s.  joblib will operate in serial mode' % (e,))\n"
     ]
    }
   ],
   "source": [
    "import os\n",
    "import numpy as np\n",
    "from sklearn.metrics.pairwise import cosine_similarity\n",
    "from scipy.sparse.linalg import svds"
   ]
  },
  {
   "cell_type": "markdown",
   "metadata": {},
   "source": [
    "1. Download dataset [enwik8](http://mattmahoney.net/dc/enwik8.zip) of compressed Wikipedia articles and preprocess raw data with Perl script **main_.pl**. This script will clean all unnecessary symbols, make all words to lowercase, and produce only sentences with words.\n",
    "```\n",
    "wget http://mattmahoney.net/dc/enwik8.zip\n",
    "unzip enwik8.zip\n",
    "mkdir data\n",
    "perl main_.pl enwik8 > data/enwik8.txt\n",
    "```"
   ]
  },
  {
   "cell_type": "code",
   "execution_count": 50,
   "metadata": {},
   "outputs": [],
   "source": [
    "# Load enwik 8\n",
    "import re\n",
    "file = open(\"data/enwik8.txt\", \"r\")\n",
    "doclist = [line for line in file]\n",
    "docstr = ''.join(doclist)\n",
    "sentences = re.split(r'[.!?]', docstr)\n",
    "sentences = [sentence.split() for sentence in sentences if len(sentence) > 1]"
   ]
  },
  {
   "cell_type": "code",
   "execution_count": 51,
   "metadata": {
    "scrolled": true
   },
   "outputs": [
    {
     "name": "stdout",
     "output_type": "stream",
     "text": [
      "['achilles', 'wrath', 'is', 'terrible', 'and', 'he', 'slays', 'many', 'trojan', 'warriors', 'and', 'allies', 'including', 'priam', 's', 'son', 'lycaon', 'whom', 'achilles', 'had', 'previously', 'captured', 'and', 'sold', 'into', 'slavery', 'but', 'who', 'had', 'been', 'returned', 'to', 'troy']\n"
     ]
    }
   ],
   "source": [
    "print (sentences[1249])"
   ]
  },
  {
   "cell_type": "markdown",
   "metadata": {},
   "source": [
    "2. Construct the word vocabulary from the obtained sentences which enumerates words which occur more than $r=200$ times in the corpus."
   ]
  },
  {
   "cell_type": "code",
   "execution_count": 52,
   "metadata": {},
   "outputs": [],
   "source": [
    "def create_vocabulary(sentences, r=200):\n",
    "    vocabulary = {}\n",
    "    all_voc = {}\n",
    "    k = 0\n",
    "    \n",
    "    for sentence in sentences:\n",
    "        for word in sentence:\n",
    "            if word in all_voc: \n",
    "                all_voc[word] = all_voc[word]+1 \n",
    "            else: \n",
    "                all_voc[word] = 1 \n",
    "    \n",
    "    for sentance in sentences:\n",
    "        for word in sentance:\n",
    "            if all_voc[word]>r and not(word in vocabulary): \n",
    "                vocabulary[word] = k\n",
    "                k+=1\n",
    "    return vocabulary"
   ]
  },
  {
   "cell_type": "code",
   "execution_count": 53,
   "metadata": {},
   "outputs": [],
   "source": [
    "vocab = create_vocabulary(sentences)"
   ]
  },
  {
   "cell_type": "markdown",
   "metadata": {},
   "source": [
    "3. Scan the text corpus with sliding window of size $5$ and step $1$ (which corresponds to $L$=2) and construct co-occurrence word-context matrix $D$ with elements $D_{wc}=\\#(w,c)$. Please, ignore words which occur less than $r=200$ times, but include them into the sliding window. Please, see the graphical illustration of the procedure described."
   ]
  },
  {
   "cell_type": "markdown",
   "metadata": {},
   "source": [
    "![Sliding window](sliding_window.png)"
   ]
  },
  {
   "cell_type": "code",
   "execution_count": 56,
   "metadata": {},
   "outputs": [],
   "source": [
    "def create_corpus_matrix(sentences, vocabulary):\n",
    "    n = len(vocabulary)\n",
    "    corpus_matrix = np.zeros([n,n]) # n is the count of all words\n",
    "    for sentence in sentences:\n",
    "        for i in range(len(sentence)): \n",
    "            if sentence[i] not in vocabulary:\n",
    "                continue  \n",
    "            left = max(0,i-2)\n",
    "            rigth = min(len(sentence)-1,i+2)     \n",
    "            for j in range(left,rigth+1):\n",
    "                if (i!=j) & (sentence[j]  in vocabulary):\n",
    "                    v = vocabulary[sentence[i]]\n",
    "                    w = vocabulary[sentence[j]]\n",
    "                    corpus_matrix[v,int(w)]+=1\n",
    "    return corpus_matrix"
   ]
  },
  {
   "cell_type": "code",
   "execution_count": 57,
   "metadata": {},
   "outputs": [],
   "source": [
    "D = create_corpus_matrix(sentences, vocab)"
   ]
  },
  {
   "cell_type": "code",
   "execution_count": null,
   "metadata": {},
   "outputs": [],
   "source": [
    "D"
   ]
  },
  {
   "cell_type": "markdown",
   "metadata": {},
   "source": [
    "4. To find good word embeddings, [Levy and Goldberg, 2015](http://papers.nips.cc/paper/5477-neural-word-embedding-as-implicit-matrix-factorization.pdf) proposed to find rank-$d$ SVD of Shifted Positive Pointwise Mutual Information (SPPMI) matrix\n",
    "\n",
    "$$\n",
    "U \\Sigma V^\\top \\approx \\text{SPPMI},\n",
    "$$\n",
    "\n",
    "where $\\text{SPPMI}(w, c) = \\max\\left(\\text{SPMI}(w, c), 0 \\right)$ and $\\text{SPMI}(w, c)$ is the element of the matrix $\\text{SPPMI}$ at position $(w, c)$.\n",
    "Then use $W=U\\sqrt{\\Sigma}$ as word embedding matrix. Your task is to reproduce their results. Write function constructs $\\text{SPPMI}$ matrix, computes its SVD and produces word-vectors matrix $W$. Pay attention that $\\text{SPPMI}$ matrix is **sparse**!  "
   ]
  },
  {
   "cell_type": "code",
   "execution_count": null,
   "metadata": {},
   "outputs": [],
   "source": [
    "def compute_embeddings(D, k, d=200):\n",
    "    # Your code is here\n",
    "    sum_d=abs(D.sum())\n",
    "    n = D.shape[0]\n",
    "    c = D.sum(axis=0)\n",
    "    w = D.sum(axis=1)\n",
    "    SPMI = np.zeros_like(D)\n",
    "    \n",
    "    for i in range(n):\n",
    "        for j in range(n):\n",
    "            if D[i][j] != 0 :\n",
    "                SPMI[i][j] = np.log((sum_d*D[i][j]) / (w[i]*c[j]*k))\n",
    "    \n",
    "    func = np.vectorize(lambda x: max(x,0))\n",
    "    SPPMI = func(SPMI)\n",
    "    SPPMI = scipy.sparse.csr_matrix(SPPMI)\n",
    "    \n",
    "    U,S,V = svds(SPPMI, d)\n",
    "    embedding_matrix = U @ np.diag(np.sqrt(S))\n",
    "    \n",
    "\n",
    "    return embedding_matrix"
   ]
  },
  {
   "cell_type": "code",
   "execution_count": null,
   "metadata": {},
   "outputs": [],
   "source": [
    "k = 5 # negative sampling parameter\n",
    "W = compute_embeddings(D, k)"
   ]
  },
  {
   "cell_type": "markdown",
   "metadata": {},
   "source": [
    "5. Write class **WordVectors** using provided template."
   ]
  },
  {
   "cell_type": "code",
   "execution_count": null,
   "metadata": {},
   "outputs": [],
   "source": [
    "class WordVectors:\n",
    "    \n",
    "    def __init__(self, vocabulary, embedding_matrix):\n",
    "        self.vocab = vocabulary\n",
    "        self.W = embedding_matrix\n",
    "        self.inv_vocab = {v: k for k, v in self.vocab.items()}\n",
    "        \n",
    "    def word_vector(self, word):\n",
    "        \"\"\" \n",
    "        Takes word and returns its word vector.\n",
    "        \"\"\"\n",
    "#         Your code is here\n",
    "        word_vector = np.copy(self.W[self.vocab[word]])\n",
    "        return word_vector\n",
    "    \n",
    "    def nearest_words(self, word, top_n=10):\n",
    "        \"\"\" \n",
    "        Takes word from the vocabulary and returns its top_n\n",
    "        nearest neighbors in terms of cosine similarity.\n",
    "        \"\"\"\n",
    "#         Your code is here\n",
    "        word_vector = self.word_vector(word)\n",
    "        sims = cosine_similarity(self.W, self.W)\n",
    "        neighbors = []\n",
    "        k = self.vocab[word]\n",
    "        sims[k][k] = 0\n",
    "        for i in range(top_n):\n",
    "            index = np.argmax(np.abs(sims[k]))\n",
    "            value = sims[k][index]\n",
    "            neighbors.append((self.inv_vocab[index],value))\n",
    "            sims[k][index] = 0\n",
    "        return neighbors"
   ]
  },
  {
   "cell_type": "code",
   "execution_count": null,
   "metadata": {},
   "outputs": [],
   "source": [
    "model = WordVectors(vocab, W)"
   ]
  },
  {
   "cell_type": "code",
   "execution_count": null,
   "metadata": {},
   "outputs": [],
   "source": [
    "model.nearest_words(\"anarchism\")"
   ]
  },
  {
   "cell_type": "code",
   "execution_count": null,
   "metadata": {},
   "outputs": [],
   "source": [
    "model.nearest_words(\"ussr\")"
   ]
  },
  {
   "cell_type": "code",
   "execution_count": null,
   "metadata": {},
   "outputs": [],
   "source": [
    "model.nearest_words(\"rap\")"
   ]
  },
  {
   "cell_type": "markdown",
   "metadata": {},
   "source": [
    "# Problem 4 (eigenvalues)  45 pts\n",
    "\n",
    "### 1. Theoretical tasks\n",
    "\n",
    "* (5 pts) Prove that normal matrix is Hermitian iff its eigenvalues are real. Prove that normal matrix is unitary iff its eigenvalues satisfy $|\\lambda| = 1$. \n"
   ]
  },
  {
   "cell_type": "markdown",
   "metadata": {},
   "source": [
    " 1) \n",
    "- ($\\Rightarrow$) \n",
    " $ A = A^*$\n",
    "\n",
    " As we know all the eigenvalues of a Hermitian matrix are real:\n",
    " $ \\lambda (x,x) = (\\lambda x,x) = (Ax, x) = (x, A^* x) = (x, Ax) = (x, \\lambda x) = (\\lambda ^* x, x) = \\lambda ^*  (x, x)$\n",
    "\n",
    "$$\\lambda = \\lambda^* => \\lambda \\in \\mathbb{R}$$\n",
    "\n",
    "- ($\\Leftarrow$) $ \\lambda_1, \\dots,\\lambda_n \\in \\mathbb{R}$\n",
    "\n",
    "Matrix A is normal if and only it is orthogonally diagonalized then there exists an unitary matrix $U$ and $D = diag(\\lambda_1, \\dots,\\lambda_n $) (#)\n",
    "\n",
    "$$ A = UDU^*$$\n",
    "\n",
    "and\n",
    "\n",
    "$$A^* = (UDU^*)^* = UD^*U^* = UDU^* = A$$\n",
    "\n",
    " 2) \n",
    " - ($\\Rightarrow$) A is unitary:\n",
    " \n",
    "if $\\lambda_1$ is eigenvalue of $A$ and $\\lambda_2$ is eigenvalue of $A^*$, then  $ \\lambda_1^* (x, x)=(x,\\lambda_1 x)=(x, Ax) = (A^*x, x) = \\lambda_2 (x, x) \\Rightarrow \\lambda(A) = \\lambda^*(A^*)$. Therefore:\n",
    "$$Ax = \\lambda x \\Rightarrow x = Ix = AA^*x = A \\lambda^* x = \\lambda \\lambda^* x = |\\lambda|^2 x \\Rightarrow |\\lambda| = 1$$.\n",
    "\n",
    " - ($\\Leftarrow$) $|\\lambda| = 1$:\n",
    "\n",
    "As we remember from (#)\n",
    "$$ A = UDU^* $$\n",
    "(where $U$ is unitary and $D = diag(\\lambda_1, \\dots,\\lambda_n $) )\n",
    "$|\\lambda| = 1$ $\\Rightarrow$ $D^*D = I = DD^*$\n",
    "\n",
    "$DD^* = UD(U^*U)D^*U^* = U(DD^*)U^* = UU^* = I$\n",
    "\n",
    "$A^*A = US^*(U^*U)SU^* = U(S^*S)U^* = UU^* = I$\n",
    "\n",
    "$\\Rightarrow A$ - in unitary matrix."
   ]
  },
  {
   "cell_type": "markdown",
   "metadata": {},
   "source": [
    "* (5 pts) The following problem illustrates instability of the Jordan form. Find theoretically the eigenvalues of the perturbed Jordan block:\n",
    "\n",
    "$$\n",
    "    J(\\varepsilon) = \n",
    "    \\begin{bmatrix} \n",
    "     \\lambda & 1 & & & 0 \\\\ \n",
    "     & \\lambda & 1 & & \\\\ \n",
    "     &  & \\ddots & \\ddots & \\\\ \n",
    "     & & & \\lambda & 1 \\\\ \n",
    "     \\varepsilon & & & & \\lambda  \\\\ \n",
    "    \\end{bmatrix}_{n\\times n}\n",
    "$$\n",
    "\n",
    "Comment how eigenvalues of $J(0)$ are perturbed for large $n$."
   ]
  },
  {
   "cell_type": "markdown",
   "metadata": {},
   "source": [
    "Let is make characterisic polynomial: $(\\lambda - \\tilde \\lambda)^n + (-1)^{n-1} \\varepsilon = 0 \\Rightarrow (\\lambda - \\tilde \\lambda)^n = (-1)^n \\varepsilon $\n",
    "\n",
    "=> $\\tilde \\lambda =\\begin{cases} \\lambda - \\sqrt[n]{\\varepsilon} i & \\text{if } n \\text{ is odd}\\\\ \\lambda - \\sqrt[n]{\\varepsilon} & \\text{if } n \\text{ is even} \\end{cases}$. \n",
    "\n",
    " $\\lim_{n \\rightarrow \\infty} \\lim_{\\varepsilon \\rightarrow 0} \\tilde \\lambda = \\lambda$ and $  \\lim_{\\varepsilon \\rightarrow 0}\\lim_{n \\rightarrow \\infty} \\tilde \\lambda = \\begin{cases} \\lambda - i & \\text{if } n \\text{ is odd} \\\\ \\lambda -1 & \\text{if } n \\text{ is even} \\end{cases}$ => The Jordan form is unstable \n",
    " \n",
    " \n",
    "if $n >> \\frac{1}{\\varepsilon}$, then eigenvalues of  $J(\\varepsilon ) \\neq $ eigenvalues of  $J(0 )$"
   ]
  },
  {
   "cell_type": "markdown",
   "metadata": {},
   "source": [
    "### 2. PageRank\n",
    "\n",
    "\n",
    "#### Damping factor importance\n",
    "\n",
    "* (5 pts) Write the function ```pagerank_matrix(G)``` that takes an adjacency matrix $G$ (in both sparse and dense formats) as an input and outputs the corresponding PageRank matrix $A$."
   ]
  },
  {
   "cell_type": "code",
   "execution_count": 62,
   "metadata": {},
   "outputs": [
    {
     "ename": "NameError",
     "evalue": "name 'A' is not defined",
     "output_type": "error",
     "traceback": [
      "\u001b[0;31m---------------------------------------------------------------------------\u001b[0m",
      "\u001b[0;31mNameError\u001b[0m                                 Traceback (most recent call last)",
      "\u001b[0;32m<ipython-input-62-3b0450dd790f>\u001b[0m in \u001b[0;36m<module>\u001b[0;34m()\u001b[0m\n\u001b[1;32m      3\u001b[0m \u001b[0;34m\u001b[0m\u001b[0m\n\u001b[1;32m      4\u001b[0m \u001b[0mG\u001b[0m \u001b[0;34m=\u001b[0m \u001b[0mnp\u001b[0m\u001b[0;34m.\u001b[0m\u001b[0marray\u001b[0m\u001b[0;34m(\u001b[0m\u001b[0;34m[\u001b[0m\u001b[0;34m[\u001b[0m\u001b[0;36m0\u001b[0m\u001b[0;34m,\u001b[0m\u001b[0;36m1\u001b[0m\u001b[0;34m,\u001b[0m\u001b[0;36m0\u001b[0m\u001b[0;34m,\u001b[0m\u001b[0;36m0\u001b[0m\u001b[0;34m,\u001b[0m\u001b[0;36m0\u001b[0m\u001b[0;34m]\u001b[0m\u001b[0;34m,\u001b[0m\u001b[0;34m[\u001b[0m\u001b[0;36m0\u001b[0m\u001b[0;34m,\u001b[0m\u001b[0;36m0\u001b[0m\u001b[0;34m,\u001b[0m\u001b[0;36m1\u001b[0m\u001b[0;34m,\u001b[0m\u001b[0;36m0\u001b[0m\u001b[0;34m,\u001b[0m\u001b[0;36m0\u001b[0m\u001b[0;34m]\u001b[0m\u001b[0;34m,\u001b[0m\u001b[0;34m[\u001b[0m\u001b[0;36m1\u001b[0m\u001b[0;34m,\u001b[0m\u001b[0;36m1\u001b[0m\u001b[0;34m,\u001b[0m\u001b[0;36m0\u001b[0m\u001b[0;34m,\u001b[0m\u001b[0;36m0\u001b[0m\u001b[0;34m,\u001b[0m\u001b[0;36m0\u001b[0m\u001b[0;34m]\u001b[0m\u001b[0;34m,\u001b[0m\u001b[0;34m[\u001b[0m\u001b[0;36m0\u001b[0m\u001b[0;34m,\u001b[0m\u001b[0;36m0\u001b[0m\u001b[0;34m,\u001b[0m\u001b[0;36m0\u001b[0m\u001b[0;34m,\u001b[0m\u001b[0;36m0\u001b[0m\u001b[0;34m,\u001b[0m\u001b[0;36m1\u001b[0m\u001b[0;34m]\u001b[0m\u001b[0;34m,\u001b[0m\u001b[0;34m[\u001b[0m\u001b[0;36m0\u001b[0m\u001b[0;34m,\u001b[0m\u001b[0;36m0\u001b[0m\u001b[0;34m,\u001b[0m\u001b[0;36m0\u001b[0m\u001b[0;34m,\u001b[0m\u001b[0;36m1\u001b[0m\u001b[0;34m,\u001b[0m\u001b[0;36m0\u001b[0m\u001b[0;34m]\u001b[0m\u001b[0;34m]\u001b[0m\u001b[0;34m)\u001b[0m\u001b[0;34m\u001b[0m\u001b[0m\n\u001b[0;32m----> 5\u001b[0;31m \u001b[0mA\u001b[0m \u001b[0;34m=\u001b[0m \u001b[0mpagerank_matrix\u001b[0m\u001b[0;34m(\u001b[0m\u001b[0mG\u001b[0m\u001b[0;34m)\u001b[0m\u001b[0;34m\u001b[0m\u001b[0m\n\u001b[0m\u001b[1;32m      6\u001b[0m \u001b[0mprint\u001b[0m\u001b[0;34m(\u001b[0m\u001b[0mA\u001b[0m\u001b[0;34m)\u001b[0m\u001b[0;34m\u001b[0m\u001b[0m\n",
      "\u001b[0;32m~/Документы/SkolTech/Numerical Algebra/nla2018-master/psets/pset2.py\u001b[0m in \u001b[0;36mpagerank_matrix\u001b[0;34m(G)\u001b[0m\n\u001b[1;32m     96\u001b[0m         \u001b[0mx\u001b[0m \u001b[0;34m=\u001b[0m \u001b[0mnp\u001b[0m\u001b[0;34m.\u001b[0m\u001b[0mcopy\u001b[0m\u001b[0;34m(\u001b[0m\u001b[0mR\u001b[0m\u001b[0;34m[\u001b[0m\u001b[0mk\u001b[0m\u001b[0;34m:\u001b[0m\u001b[0;34m,\u001b[0m \u001b[0mk\u001b[0m\u001b[0;34m:\u001b[0m\u001b[0mk\u001b[0m\u001b[0;34m+\u001b[0m\u001b[0;36m1\u001b[0m\u001b[0;34m]\u001b[0m\u001b[0;34m)\u001b[0m\u001b[0;34m\u001b[0m\u001b[0m\n\u001b[1;32m     97\u001b[0m         \u001b[0me\u001b[0m \u001b[0;34m=\u001b[0m \u001b[0mnp\u001b[0m\u001b[0;34m.\u001b[0m\u001b[0mzeros\u001b[0m\u001b[0;34m(\u001b[0m\u001b[0;34m(\u001b[0m\u001b[0mx\u001b[0m\u001b[0;34m.\u001b[0m\u001b[0msize\u001b[0m\u001b[0;34m,\u001b[0m \u001b[0;36m1\u001b[0m\u001b[0;34m)\u001b[0m\u001b[0;34m)\u001b[0m\u001b[0;34m\u001b[0m\u001b[0m\n\u001b[0;32m---> 98\u001b[0;31m         \u001b[0me\u001b[0m\u001b[0;34m[\u001b[0m\u001b[0;36m0\u001b[0m\u001b[0;34m,\u001b[0m \u001b[0;36m0\u001b[0m\u001b[0;34m]\u001b[0m \u001b[0;34m=\u001b[0m \u001b[0;36m1\u001b[0m\u001b[0;34m\u001b[0m\u001b[0m\n\u001b[0m\u001b[1;32m     99\u001b[0m         \u001b[0mv\u001b[0m \u001b[0;34m=\u001b[0m \u001b[0mx\u001b[0m \u001b[0;34m+\u001b[0m \u001b[0mnp\u001b[0m\u001b[0;34m.\u001b[0m\u001b[0msign\u001b[0m\u001b[0;34m(\u001b[0m\u001b[0mx\u001b[0m\u001b[0;34m[\u001b[0m\u001b[0;36m0\u001b[0m\u001b[0;34m]\u001b[0m\u001b[0;34m)\u001b[0m \u001b[0;34m*\u001b[0m \u001b[0mnp\u001b[0m\u001b[0;34m.\u001b[0m\u001b[0mlinalg\u001b[0m\u001b[0;34m.\u001b[0m\u001b[0mnorm\u001b[0m\u001b[0;34m(\u001b[0m\u001b[0mx\u001b[0m\u001b[0;34m)\u001b[0m \u001b[0;34m*\u001b[0m \u001b[0me\u001b[0m\u001b[0;34m\u001b[0m\u001b[0m\n\u001b[1;32m    100\u001b[0m         \u001b[0mv\u001b[0m \u001b[0;34m=\u001b[0m \u001b[0mv\u001b[0m\u001b[0;34m/\u001b[0m\u001b[0mnp\u001b[0m\u001b[0;34m.\u001b[0m\u001b[0mlinalg\u001b[0m\u001b[0;34m.\u001b[0m\u001b[0mnorm\u001b[0m\u001b[0;34m(\u001b[0m\u001b[0mv\u001b[0m\u001b[0;34m)\u001b[0m\u001b[0;34m\u001b[0m\u001b[0m\n",
      "\u001b[0;31mNameError\u001b[0m: name 'A' is not defined"
     ]
    }
   ],
   "source": [
    "import numpy as np\n",
    "from pset2 import pagerank_matrix, power_method, pagerank_matvec\n",
    "\n",
    "G = np.array([[0,1,0,0,0],[0,0,1,0,0],[1,1,0,0,0],[0,0,0,0,1],[0,0,0,1,0]])\n",
    "A = pagerank_matrix(G)\n",
    "print(A)"
   ]
  },
  {
   "cell_type": "markdown",
   "metadata": {},
   "source": [
    "\n",
    "* (3 pts) Find PageRank matrix $A$ that corresponds to the following graph: <img src=\"graph.png\" width='250'>\n",
    "What is its largest eigenvalue? What multiplicity does it have?\n"
   ]
  },
  {
   "cell_type": "code",
   "execution_count": 70,
   "metadata": {},
   "outputs": [
    {
     "name": "stdout",
     "output_type": "stream",
     "text": [
      "[[0.  0.5 0.  0.  0. ]\n",
      " [0.  0.  1.  0.  0. ]\n",
      " [1.  0.5 0.  0.  0. ]\n",
      " [0.  0.  0.  0.  1. ]\n",
      " [0.  0.  0.  1.  0. ]]\n"
     ]
    }
   ],
   "source": [
    "def pagerank_matrix(G): # 5 pts\n",
    "    A = np.zeros_like(G, dtype='float64')\n",
    "    for i in range (G.shape[0]):\n",
    "        for j in range(G.shape[1]):           \n",
    "            if np.sum(G[:,j]) == 0: #G[:,j] outgoing\n",
    "                A[i,j] = 0\n",
    "            else:\n",
    "                A[i,j] = G[i,j]/np.sum(G[:,j]) \n",
    "    return A\n",
    "G = np.array([[0,1,0,0,0],[0,0,1,0,0],[1,1,0,0,0],[0,0,0,0,1],[0,0,0,1,0]])\n",
    "A = pagerank_matrix(G)\n",
    "print(A)"
   ]
  },
  {
   "cell_type": "markdown",
   "metadata": {},
   "source": [
    "* (5 pts) Implement the power method for a given matrix $A$, an initial guess $x_0$ and a number of iterations  ```num_iter```. It should be organized as a function ```power_method(A, x0, num_iter)``` that outputs approximation to eigenvector $x$, eigenvalue $\\lambda$ and history of residuals $\\{\\|Ax_k - \\lambda_k x_k\\|_2\\}$. Make sure that the method conveges to the correct solution on a matrix $\\begin{bmatrix} 2 & -1 \\\\ -1 & 2 \\end{bmatrix}$ which is known to have the largest eigenvalue equal to $3$."
   ]
  },
  {
   "cell_type": "code",
   "execution_count": 69,
   "metadata": {},
   "outputs": [
    {
     "ename": "NameError",
     "evalue": "name 'x' is not defined",
     "output_type": "error",
     "traceback": [
      "\u001b[0;31m---------------------------------------------------------------------------\u001b[0m",
      "\u001b[0;31mNameError\u001b[0m                                 Traceback (most recent call last)",
      "\u001b[0;32m<ipython-input-69-2775ecacc691>\u001b[0m in \u001b[0;36m<module>\u001b[0;34m()\u001b[0m\n\u001b[1;32m      4\u001b[0m \u001b[0mnum_iter\u001b[0m \u001b[0;34m=\u001b[0m \u001b[0;36m50\u001b[0m\u001b[0;34m\u001b[0m\u001b[0m\n\u001b[1;32m      5\u001b[0m \u001b[0;34m\u001b[0m\u001b[0m\n\u001b[0;32m----> 6\u001b[0;31m \u001b[0mx\u001b[0m\u001b[0;34m,\u001b[0m \u001b[0ml\u001b[0m\u001b[0;34m,\u001b[0m \u001b[0mres\u001b[0m \u001b[0;34m=\u001b[0m \u001b[0mpower_method\u001b[0m\u001b[0;34m(\u001b[0m\u001b[0mC\u001b[0m\u001b[0;34m,\u001b[0m \u001b[0mx0\u001b[0m\u001b[0;34m,\u001b[0m \u001b[0mnum_iter\u001b[0m\u001b[0;34m)\u001b[0m\u001b[0;34m\u001b[0m\u001b[0m\n\u001b[0m\u001b[1;32m      7\u001b[0m \u001b[0;34m\u001b[0m\u001b[0m\n\u001b[1;32m      8\u001b[0m \u001b[0mprint\u001b[0m\u001b[0;34m(\u001b[0m\u001b[0ml\u001b[0m\u001b[0;34m)\u001b[0m\u001b[0;34m\u001b[0m\u001b[0m\n",
      "\u001b[0;32m~/Документы/SkolTech/Numerical Algebra/nla2018-master/psets/pset2.py\u001b[0m in \u001b[0;36mpower_method\u001b[0;34m(A, x0, num_iter)\u001b[0m\n\u001b[1;32m    103\u001b[0m         \u001b[0mQ\u001b[0m \u001b[0;34m=\u001b[0m \u001b[0mQ\u001b[0m\u001b[0;34m@\u001b[0m\u001b[0mH_k\u001b[0m\u001b[0;34m\u001b[0m\u001b[0m\n\u001b[1;32m    104\u001b[0m         \u001b[0mR\u001b[0m \u001b[0;34m=\u001b[0m \u001b[0mH_k\u001b[0m\u001b[0;34m@\u001b[0m\u001b[0mR\u001b[0m\u001b[0;34m\u001b[0m\u001b[0m\n\u001b[0;32m--> 105\u001b[0;31m \u001b[0;34m\u001b[0m\u001b[0m\n\u001b[0m\u001b[1;32m    106\u001b[0m     \u001b[0;32mreturn\u001b[0m \u001b[0mQ\u001b[0m\u001b[0;34m,\u001b[0m \u001b[0mR\u001b[0m\u001b[0;34m\u001b[0m\u001b[0m\n\u001b[1;32m    107\u001b[0m \u001b[0;34m\u001b[0m\u001b[0m\n",
      "\u001b[0;31mNameError\u001b[0m: name 'x' is not defined"
     ]
    }
   ],
   "source": [
    "from pset2 import power_method\n",
    "C = np.array([[2, -1], [-1, 2]])\n",
    "x0 = np.array([-1, 0])\n",
    "num_iter = 50\n",
    "\n",
    "x, l, res = power_method(C, x0, num_iter)\n",
    "\n",
    "print(l)"
   ]
  },
  {
   "cell_type": "code",
   "execution_count": 71,
   "metadata": {},
   "outputs": [
    {
     "name": "stdout",
     "output_type": "stream",
     "text": [
      "3.0000000000000004\n"
     ]
    }
   ],
   "source": [
    "def power_method(A, x0, num_iter): # 5 pts\n",
    "    x = x0   \n",
    "    res = np.zeros(num_iter + 1) \n",
    "    for i in range(num_iter+1):\n",
    "        x = A@x\n",
    "        x = x/np.linalg.norm(x,2)        \n",
    "        l = (A@x).T@x\n",
    "        res[i] = np.linalg.norm(A@x - l*x ,2)\n",
    "        \n",
    "    return x, l, res\n",
    "\n",
    "C = np.array([[2, -1], [-1, 2]])\n",
    "x0 = np.array([-1, 0])\n",
    "num_iter = 50\n",
    "\n",
    "x, l, res = power_method(C, x0, num_iter)\n",
    "\n",
    "print(l)"
   ]
  },
  {
   "cell_type": "markdown",
   "metadata": {},
   "source": [
    "* (2 pts) Run the power method for the graph presented above and plot residuals $\\|Ax_k - \\lambda_k x_k\\|_2$ as a function of $k$ for ```num_iter=100``` and random initial guess ```x0```.  Explain the absence of convergence. "
   ]
  },
  {
   "cell_type": "code",
   "execution_count": 74,
   "metadata": {},
   "outputs": [
    {
     "data": {
      "image/png": "[encoded data removed]",
      "text/plain": [
       "<Figure size 864x288 with 1 Axes>"
      ]
     },
     "metadata": {
      "needs_background": "light"
     },
     "output_type": "display_data"
    }
   ],
   "source": [
    "x0 = np.random.rand(A.shape[0])\n",
    "\n",
    "x, l, res = power_method(A, x0, 100)\n",
    "\n",
    "plt.figure(figsize=(12,4))\n",
    "plt.plot(res, label = 'residuals')\n",
    "plt.title('Power method for page rank matrix with num_iter = 100',fontsize=15)\n",
    "plt.ylabel('Error',fontsize=12)\n",
    "plt.xlabel('Iteration',fontsize=12)\n",
    "plt.legend()\n",
    "plt.grid()\n",
    "plt.xlim(0,100)\n",
    "plt.show()"
   ]
  },
  {
   "cell_type": "markdown",
   "metadata": {},
   "source": [
    "* (2 pts) Consider the same graph, but with a directed edge that goes from the node 3 to the node 4 being removed. Plot residuals as in the previous task and discuss the convergence. Now, run the power method with ```num_iter=100``` for 10 different initial guesses and print/plot the resulting approximated eigenvectors. Why do they depend on the initial guess?"
   ]
  },
  {
   "cell_type": "code",
   "execution_count": 75,
   "metadata": {},
   "outputs": [
    {
     "name": "stdout",
     "output_type": "stream",
     "text": [
      "[-0.5+0.5j -0.5-0.5j  1. +0.j   0. +0.j   0. +0.j ]\n"
     ]
    },
    {
     "data": {
      "image/png": "[encoded data removed]",
      "text/plain": [
       "<Figure size 864x288 with 1 Axes>"
      ]
     },
     "metadata": {
      "needs_background": "light"
     },
     "output_type": "display_data"
    }
   ],
   "source": [
    "G = np.array([[0,1,0,0,0],[0,0,1,0,0],[1,1,0,0,0],[0,0,0,0,0],[0,0,0,1,0]])\n",
    "A = pagerank_matrix(G)\n",
    "\n",
    "print(np.linalg.eigvals(A))\n",
    "\n",
    "x0 = np.random.rand(A.shape[0])\n",
    "x, l, res = power_method(A, x0, 100)\n",
    "\n",
    "plt.figure(figsize=(12,4))\n",
    "plt.semilogy(res, label = 'residuals')\n",
    "plt.title('Power method for page rank matrix(without 3->4 direction) with num_iter = 100',fontsize=15)\n",
    "plt.ylabel('Error',fontsize=12)\n",
    "plt.xlabel('Iteration',fontsize=12)\n",
    "plt.legend()\n",
    "plt.grid()\n",
    "plt.show()"
   ]
  },
  {
   "cell_type": "code",
   "execution_count": 76,
   "metadata": {
    "scrolled": false
   },
   "outputs": [
    {
     "name": "stdout",
     "output_type": "stream",
     "text": [
      "[0.33333333 0.66666667 0.66666667 0.         0.        ]\n",
      "[0.33333333 0.66666667 0.66666667 0.         0.        ]\n",
      "[0.33333333 0.66666667 0.66666667 0.         0.        ]\n",
      "[0.33333333 0.66666667 0.66666667 0.         0.        ]\n",
      "[0.33333333 0.66666667 0.66666667 0.         0.        ]\n",
      "[0.33333333 0.66666667 0.66666667 0.         0.        ]\n",
      "[0.33333333 0.66666667 0.66666667 0.         0.        ]\n",
      "[0.33333333 0.66666667 0.66666667 0.         0.        ]\n",
      "[0.33333333 0.66666667 0.66666667 0.         0.        ]\n",
      "[0.33333333 0.66666667 0.66666667 0.         0.        ]\n"
     ]
    }
   ],
   "source": [
    "x0 = np.random.rand(10, A.shape[0])\n",
    "for i in x0:\n",
    "    x, l, res = power_method(A, i, 100)\n",
    "    print(x)"
   ]
  },
  {
   "cell_type": "markdown",
   "metadata": {},
   "source": [
    "We have dependencies for x from initial case"
   ]
  },
  {
   "cell_type": "markdown",
   "metadata": {},
   "source": [
    "* (2 pts) Now, run the power method with $A_d$ and plot residuals $\\|A_d x_k - \\lambda_k x_k\\|_2$ as a function of $k$ for $d=0.97$, ```num_iter=100``` and a random initial guess ```x0```.\n",
    "\n",
    "\n",
    "In order to avoid this problem Larry Page and Sergey Brin [proposed](http://ilpubs.stanford.edu:8090/422/1/1999-66.pdf) to use the following regularization technique:\n",
    "\n",
    "$$\n",
    "A_d = dA + \\frac{1-d}{N} \\begin{pmatrix} 1 & \\dots & 1 \\\\ \\vdots & & \\vdots \\\\ 1 & \\dots & 1 \\end{pmatrix},\n",
    "$$\n",
    "\n",
    "where $d$ is a small parameter in $[0,1]$ (typically $d=0.85$), which is called **damping factor**, $A$ is of size $N\\times N$. Now $A_d$ is the matrix with multiplicity of the largest eigenvalue equal to 1. \n",
    "Recall that computing the eigenvector of the PageRank matrix, which corresponds to the largest eigenvalue, has the following interpretation. Consider a person who stays in a random node of a graph (i.e. opens a random web page); at each step s/he follows one of the outcoming edges uniformly at random (i.e. opens one of the links). So the person randomly walks through the graph and the eigenvector we are looking for is exactly his/her stationary distribution â€” for each node it tells you the probability of visiting this particular node. Therefore, if the person has started from a part of the graph which is not connected with the other part, he will never get there.  In the regularized model, the person at each step follows one of the outcoming links with probability $d$ OR teleports to a random node from the whole graph with probability $(1-d)$."
   ]
  },
  {
   "cell_type": "code",
   "execution_count": 77,
   "metadata": {},
   "outputs": [
    {
     "name": "stdout",
     "output_type": "stream",
     "text": [
      "0.9883318038879212\n"
     ]
    },
    {
     "data": {
      "image/png": "[encoded data removed]",
      "text/plain": [
       "<Figure size 864x288 with 1 Axes>"
      ]
     },
     "metadata": {
      "needs_background": "light"
     },
     "output_type": "display_data"
    }
   ],
   "source": [
    "d = 0.97\n",
    "N = A.shape[1]\n",
    "Ad = d*A + (1-d)/N* np.ones(N)\n",
    "x0 = np.random.rand(N)\n",
    "x, l, res = power_method(Ad, x0, 100)\n",
    "print(l)\n",
    "\n",
    "plt.figure(figsize=(12,4))\n",
    "plt.semilogy(res, label = 'residuals')\n",
    "plt.title('Power method for page rank matrix(with damping factor) with num_iter = 100',fontsize=15)\n",
    "plt.ylabel('Error',fontsize=12)\n",
    "plt.xlabel('Iteration',fontsize=12)\n",
    "plt.legend()\n",
    "plt.grid()\n",
    "plt.show()"
   ]
  },
  {
   "cell_type": "markdown",
   "metadata": {},
   "source": [
    "* (5 pts) Find the second largest in the absolute value eigenvalue of the obtained matrix $A_d$.**How and why is it connected to the damping factor $d$? What is the convergence rate of the PageRank algorithm when using damping factor?**"
   ]
  },
  {
   "cell_type": "code",
   "execution_count": null,
   "metadata": {},
   "outputs": [],
   "source": [
    "def power_method_all_eigvals(A, x0, num_iter): # 5 pts\n",
    "    x = x0   \n",
    "    eigval = []\n",
    "    res = np.zeros(num_iter + 1) \n",
    "    for i in range(num_iter+1):\n",
    "        x = A@x\n",
    "        x = x/np.linalg.norm(x)        \n",
    "        l = A@x@x\n",
    "        eigval.append(l)\n",
    "        res[i] = np.linalg.norm(A@x - l*x )\n",
    "        \n",
    "    return x, l,eigval, res"
   ]
  },
  {
   "cell_type": "code",
   "execution_count": null,
   "metadata": {},
   "outputs": [],
   "source": [
    "x, l,eigvals, res = power_method_all_eigvals(Ad, x0, 100)\n",
    "\n",
    "print(set(eigvals))"
   ]
  },
  {
   "cell_type": "markdown",
   "metadata": {},
   "source": [
    "Usually, graphs that arise in various areas are sparse (social, web, road networks, etc.) and, thus, computation of a matrix-vector product for corresponding PageRank matrix $A$ is much cheaper than $\\mathcal{O}(N^2)$. However, if $A_d$ is calculated directly, it becomes dense and, therefore, $\\mathcal{O}(N^2)$ cost grows prohibitively large for  big $N$.\n",
    "\n",
    "* (2 pts) Implement fast matrix-vector product for $A_d$ as a function ```pagerank_matvec(A, d, x)```, which takes a PageRank matrix $A$ (in sparse format, e.g., ```csr_matrix```), damping factor $d$ and a vector $x$ as an input and returns $A_dx$ as an output. "
   ]
  },
  {
   "cell_type": "code",
   "execution_count": 78,
   "metadata": {},
   "outputs": [],
   "source": [
    "def pagerank_matvec(A, d, x): # 2 pts\n",
    "    N = A.shape[1]\n",
    "    y = d*A@x + (1-d)/N*np.ones((N,N))\n",
    "    return y"
   ]
  },
  {
   "cell_type": "markdown",
   "metadata": {},
   "source": [
    "* (1 pts) Generate a random adjacency matrix of size $10000 \\times 10000$ with only 100 non-zero elements and compare ```pagerank_matvec``` performance with direct evaluation of $A_dx$."
   ]
  },
  {
   "cell_type": "code",
   "execution_count": 80,
   "metadata": {},
   "outputs": [],
   "source": [
    "import scipy as sp"
   ]
  },
  {
   "cell_type": "code",
   "execution_count": 81,
   "metadata": {},
   "outputs": [],
   "source": [
    "n = 100\n",
    "N = 10000\n",
    "d = 0.97\n",
    "index = np.arange(N)\n",
    "values = np.random.rand(n)\n",
    "rows = np.random.choice(index, n)\n",
    "columns = np.random.choice(index, n)\n",
    "\n",
    "G = sp.sparse.csr_matrix((values, (rows, columns)), shape = (N,N))\n",
    "x0 = np.random.rand(N)"
   ]
  },
  {
   "cell_type": "code",
   "execution_count": 85,
   "metadata": {},
   "outputs": [],
   "source": [
    "N = A.shape[1]\n",
    "Ad = d*A + (1-d)/N* np.ones((N))\n",
    "x0 = np.random.rand(N)"
   ]
  },
  {
   "cell_type": "code",
   "execution_count": null,
   "metadata": {},
   "outputs": [],
   "source": [
    "# implement the functions in the pset2.py file\n",
    "from pset2 import pagerank_matrix, power_method, pagerank_matvec\n",
    "\n",
    "# Your code is here"
   ]
  },
  {
   "cell_type": "markdown",
   "metadata": {},
   "source": [
    "#### DBLP: computer science bibliography\n",
    "\n",
    "Download the dataset from [here](https://goo.gl/oZVxEa), unzip it and put `dblp_authors.npz`  and `dblp_graph.npz` in the same folder with this notebook. Each value (author name) from `dblp_authors.npz` corresponds to the row/column of the matrix from `dblp_graph.npz`. Value at row `i` and column `j` of the matrix from `dblp_graph.npz` corresponds to the number of times author `i` cited papers of the author `j`. Let us now find the most significant scientists according to PageRank model over DBLP data.\n",
    "\n",
    "* (4 pts) Load the weighted adjacency matrix and the authors list into Python using ```load_dblp(...)``` function. Print its density (fraction of nonzero elements). Find top-10 most cited authors from the weighted adjacency matrix. Now, make all the weights of the adjacency matrix equal to 1 for simplicity (consider only existence of connection between authors, not its weight). Obtain the PageRank matrix $A$ from the adjacency matrix and verify that it is stochastic."
   ]
  },
  {
   "cell_type": "markdown",
   "metadata": {},
   "source": [
    "\n",
    "* (1 pts) In order to provide ```pagerank_matvec``` to your ```power_method``` (without rewriting it) for fast calculation of $A_dx$, you can create a ```LinearOperator```: \n",
    "```python\n",
    "L = scipy.sparse.linalg.LinearOperator(A.shape, matvec=lambda x, A=A, d=d: pagerank_matvec(A, d, x))\n",
    "```\n",
    "Calling ```L@x``` or ```L.dot(x)``` will result in calculation of ```pagerank_matvec(A, d, x)``` and, thus, you can plug $L$ instead of the matrix $A$ in the ```power_method``` directly. **Note:** though in the previous subtask graph was very small (so you could disparage fast matvec implementation), here it is very large (but sparse), so that direct evaluation of $A_dx$ will require $\\sim 10^{12}$ matrix elements to store - good luck with that (^_<).\n",
    "\n",
    "\n",
    "* (2 pts) Run the power method starting from the vector of all ones and plot residuals $\\|A_dx_k - \\lambda_k x_k\\|_2$  as a function of $k$ for $d=0.85$.\n",
    "\n",
    "\n",
    "* (1 pts) Print names of the top-10 authors according to PageRank over DBLP when $d=0.85$. Comment on your findings."
   ]
  },
  {
   "cell_type": "code",
   "execution_count": 2,
   "metadata": {},
   "outputs": [
    {
     "ename": "MemoryError",
     "evalue": "",
     "output_type": "error",
     "traceback": [
      "\u001b[0;31m---------------------------------------------------------------------------\u001b[0m",
      "\u001b[0;31mMemoryError\u001b[0m                               Traceback (most recent call last)",
      "\u001b[0;32m<ipython-input-2-b86d442d5ebf>\u001b[0m in \u001b[0;36m<module>\u001b[0;34m()\u001b[0m\n\u001b[1;32m      5\u001b[0m     \u001b[0;32mwith\u001b[0m \u001b[0mnp\u001b[0m\u001b[0;34m.\u001b[0m\u001b[0mload\u001b[0m\u001b[0;34m(\u001b[0m\u001b[0mpath_auth\u001b[0m\u001b[0;34m)\u001b[0m \u001b[0;32mas\u001b[0m \u001b[0mdata\u001b[0m\u001b[0;34m:\u001b[0m \u001b[0mauthors\u001b[0m \u001b[0;34m=\u001b[0m \u001b[0mdata\u001b[0m\u001b[0;34m[\u001b[0m\u001b[0;34m'authors'\u001b[0m\u001b[0;34m]\u001b[0m\u001b[0;34m\u001b[0m\u001b[0m\n\u001b[1;32m      6\u001b[0m     \u001b[0;32mreturn\u001b[0m \u001b[0mG\u001b[0m\u001b[0;34m,\u001b[0m \u001b[0mauthors\u001b[0m\u001b[0;34m\u001b[0m\u001b[0m\n\u001b[0;32m----> 7\u001b[0;31m \u001b[0mG\u001b[0m\u001b[0;34m,\u001b[0m \u001b[0mauthors\u001b[0m \u001b[0;34m=\u001b[0m \u001b[0mload_dblp\u001b[0m\u001b[0;34m(\u001b[0m\u001b[0;34m'dblp_authors.npz'\u001b[0m\u001b[0;34m,\u001b[0m \u001b[0;34m'dblp_graph.npz'\u001b[0m\u001b[0;34m)\u001b[0m\u001b[0;34m\u001b[0m\u001b[0m\n\u001b[0m",
      "\u001b[0;32m<ipython-input-2-b86d442d5ebf>\u001b[0m in \u001b[0;36mload_dblp\u001b[0;34m(path_auth, path_graph)\u001b[0m\n\u001b[1;32m      2\u001b[0m \u001b[0;32mimport\u001b[0m \u001b[0mnumpy\u001b[0m \u001b[0;32mas\u001b[0m \u001b[0mnp\u001b[0m\u001b[0;34m\u001b[0m\u001b[0m\n\u001b[1;32m      3\u001b[0m \u001b[0;32mdef\u001b[0m \u001b[0mload_dblp\u001b[0m\u001b[0;34m(\u001b[0m\u001b[0mpath_auth\u001b[0m\u001b[0;34m,\u001b[0m \u001b[0mpath_graph\u001b[0m\u001b[0;34m)\u001b[0m\u001b[0;34m:\u001b[0m\u001b[0;34m\u001b[0m\u001b[0m\n\u001b[0;32m----> 4\u001b[0;31m     \u001b[0mG\u001b[0m \u001b[0;34m=\u001b[0m \u001b[0mload_npz\u001b[0m\u001b[0;34m(\u001b[0m\u001b[0mpath_graph\u001b[0m\u001b[0;34m)\u001b[0m\u001b[0;34m.\u001b[0m\u001b[0mastype\u001b[0m\u001b[0;34m(\u001b[0m\u001b[0mfloat\u001b[0m\u001b[0;34m)\u001b[0m\u001b[0;34m\u001b[0m\u001b[0m\n\u001b[0m\u001b[1;32m      5\u001b[0m     \u001b[0;32mwith\u001b[0m \u001b[0mnp\u001b[0m\u001b[0;34m.\u001b[0m\u001b[0mload\u001b[0m\u001b[0;34m(\u001b[0m\u001b[0mpath_auth\u001b[0m\u001b[0;34m)\u001b[0m \u001b[0;32mas\u001b[0m \u001b[0mdata\u001b[0m\u001b[0;34m:\u001b[0m \u001b[0mauthors\u001b[0m \u001b[0;34m=\u001b[0m \u001b[0mdata\u001b[0m\u001b[0;34m[\u001b[0m\u001b[0;34m'authors'\u001b[0m\u001b[0;34m]\u001b[0m\u001b[0;34m\u001b[0m\u001b[0m\n\u001b[1;32m      6\u001b[0m     \u001b[0;32mreturn\u001b[0m \u001b[0mG\u001b[0m\u001b[0;34m,\u001b[0m \u001b[0mauthors\u001b[0m\u001b[0;34m\u001b[0m\u001b[0m\n",
      "\u001b[0;32m~/anaconda3/lib/python3.7/site-packages/scipy/sparse/data.py\u001b[0m in \u001b[0;36mastype\u001b[0;34m(self, dtype, casting, copy)\u001b[0m\n\u001b[1;32m     69\u001b[0m         \u001b[0;32mif\u001b[0m \u001b[0mself\u001b[0m\u001b[0;34m.\u001b[0m\u001b[0mdtype\u001b[0m \u001b[0;34m!=\u001b[0m \u001b[0mdtype\u001b[0m\u001b[0;34m:\u001b[0m\u001b[0;34m\u001b[0m\u001b[0m\n\u001b[1;32m     70\u001b[0m             return self._with_data(\n\u001b[0;32m---> 71\u001b[0;31m                 \u001b[0mself\u001b[0m\u001b[0;34m.\u001b[0m\u001b[0m_deduped_data\u001b[0m\u001b[0;34m(\u001b[0m\u001b[0;34m)\u001b[0m\u001b[0;34m.\u001b[0m\u001b[0mastype\u001b[0m\u001b[0;34m(\u001b[0m\u001b[0mdtype\u001b[0m\u001b[0;34m,\u001b[0m \u001b[0mcasting\u001b[0m\u001b[0;34m=\u001b[0m\u001b[0mcasting\u001b[0m\u001b[0;34m,\u001b[0m \u001b[0mcopy\u001b[0m\u001b[0;34m=\u001b[0m\u001b[0mcopy\u001b[0m\u001b[0;34m)\u001b[0m\u001b[0;34m,\u001b[0m\u001b[0;34m\u001b[0m\u001b[0m\n\u001b[0m\u001b[1;32m     72\u001b[0m                 copy=copy)\n\u001b[1;32m     73\u001b[0m         \u001b[0;32melif\u001b[0m \u001b[0mcopy\u001b[0m\u001b[0;34m:\u001b[0m\u001b[0;34m\u001b[0m\u001b[0m\n",
      "\u001b[0;31mMemoryError\u001b[0m: "
     ]
    }
   ],
   "source": [
    "from scipy.sparse import load_npz\n",
    "import numpy as np\n",
    "def load_dblp(path_auth, path_graph):\n",
    "    G = load_npz(path_graph).astype(float)\n",
    "    with np.load(path_auth) as data: authors = data['authors']\n",
    "    return G, authors\n",
    "G, authors = load_dblp('dblp_authors.npz', 'dblp_graph.npz')"
   ]
  },
  {
   "cell_type": "code",
   "execution_count": null,
   "metadata": {},
   "outputs": [],
   "source": [
    "# Your code is here"
   ]
  }
 ],
 "metadata": {
  "kernelspec": {
   "display_name": "Python 3",
   "language": "python",
   "name": "python3"
  },
  "language_info": {
   "codemirror_mode": {
    "name": "ipython",
    "version": 3
   },
   "file_extension": ".py",
   "mimetype": "text/x-python",
   "name": "python",
   "nbconvert_exporter": "python",
   "pygments_lexer": "ipython3",
   "version": "3.7.1"
  }
 },
 "nbformat": 4,
 "nbformat_minor": 2
}
