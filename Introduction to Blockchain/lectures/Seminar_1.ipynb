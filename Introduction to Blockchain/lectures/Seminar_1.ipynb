{
 "cells": [
  {
   "cell_type": "markdown",
   "metadata": {},
   "source": [
    "# Blockchain introduction seminar\n",
    "\n",
    "Based on: \n",
    "* https://github.com/santisiri/proof-of-work/blob/master/pow.py\n",
    "* http://ecomunsing.com/build-your-own-blockchain\n",
    "* https://github.com/JaeDukSeo/Simple-Merkle-Tree-in-Python\n",
    "* https://www.laurentluce.com/posts/python-and-cryptography-with-pycrypto/"
   ]
  },
  {
   "cell_type": "markdown",
   "metadata": {},
   "source": [
    "## 1. Proof-of-Work"
   ]
  },
  {
   "cell_type": "markdown",
   "metadata": {},
   "source": [
    "This is a simple implemetation of Proof-of-Work function.\n",
    "It takes current block header and block calculation difficulty as inputs and returns nonce for this block and the header of a mined block."
   ]
  },
  {
   "cell_type": "code",
   "execution_count": 1,
   "metadata": {},
   "outputs": [],
   "source": [
    "import hashlib\n",
    "\n",
    "def proof_of_work(header, difficulty_bits):\n",
    "    max_nonce = 2 ** 32\n",
    "    target = 2 ** (256-difficulty_bits)\n",
    "    for nonce in range(max_nonce):\n",
    "        hash_result = hashlib.sha256(str(header).encode('utf-8')+str(nonce).encode('utf-8')).hexdigest()\n",
    "\n",
    "        if int(hash_result, 16) < target:\n",
    "            return (hash_result, nonce)"
   ]
  },
  {
   "cell_type": "markdown",
   "metadata": {},
   "source": [
    "The root block is calulated here."
   ]
  },
  {
   "cell_type": "code",
   "execution_count": 10,
   "metadata": {},
   "outputs": [
    {
     "name": "stdout",
     "output_type": "stream",
     "text": [
      "Success with nonce  2719\n",
      "Hash is  00000a951c4f8a88713ec38209093a852463fd07023b7c07b1d150bac521a9b3 \n",
      " 00000a951c4f8a88713ec38209093a852463fd07023b7c07b1d150bac521a9b3\n",
      "Elapsed time: 0.0056 seconds\n"
     ]
    }
   ],
   "source": [
    "import time\n",
    "\n",
    "nonce = 0\n",
    "block_hash = \"\"\n",
    "new_block = 'This is the root block' + block_hash\n",
    "\n",
    "difficulty_bits = 16\n",
    "\n",
    "start_time = time.time()\n",
    "(block_hash, nonce) = proof_of_work(new_block, difficulty_bits)\n",
    "end_time = time.time()\n",
    "elapsed_time = end_time - start_time\n",
    "\n",
    "print(\"Success with nonce \", nonce)\n",
    "print(\"Hash is \", block_hash,\"\\n\",block_hash_1)\n",
    "print(\"Elapsed time: %.4f seconds\" % elapsed_time)"
   ]
  },
  {
   "cell_type": "markdown",
   "metadata": {},
   "source": [
    "### Task 1.1\n",
    "\n",
    "Calculate N=100 blocks for different difficulty_bits. Plot mean, mean+std and mean-std for log_2(elapsed_time) and log_2(nonce+1) as a function of difficulty_bits. \n",
    "\n",
    "What kind of functions do you expect to see theortically?\n",
    "\n",
    "(*) Use linear regression to fit linear model. What slope do you get? How to interpret the shift?\n",
    "What hashrate does you computer performs?\n",
    "\n",
    "*Note.* Each next block should be calculated using the hash of the previous one."
   ]
  },
  {
   "cell_type": "code",
   "execution_count": 15,
   "metadata": {},
   "outputs": [
    {
     "name": "stdout",
     "output_type": "stream",
     "text": [
      "\n",
      "Difficulty: 1 (0 bits)\n",
      "Starting search...\n",
      "Elapsed time: 0.0000 seconds\n",
      "Hashing power: 0 hashes per second\n",
      "\n",
      "Difficulty: 2 (1 bits)\n",
      "Starting search...\n",
      "Elapsed time: 0.0000 seconds\n",
      "Hashing power: 0 hashes per second\n",
      "\n",
      "Difficulty: 4 (2 bits)\n",
      "Starting search...\n",
      "Elapsed time: 0.0000 seconds\n",
      "Hashing power: 92182 hashes per second\n",
      "\n",
      "Difficulty: 8 (3 bits)\n",
      "Starting search...\n",
      "Elapsed time: 0.0000 seconds\n",
      "Hashing power: 377487 hashes per second\n",
      "\n",
      "Difficulty: 16 (4 bits)\n",
      "Starting search...\n",
      "Elapsed time: 0.0001 seconds\n",
      "Hashing power: 494611 hashes per second\n",
      "\n",
      "Difficulty: 32 (5 bits)\n",
      "Starting search...\n",
      "Elapsed time: 0.0001 seconds\n",
      "Hashing power: 510118 hashes per second\n",
      "\n",
      "Difficulty: 64 (6 bits)\n",
      "Starting search...\n",
      "Elapsed time: 0.0000 seconds\n",
      "Hashing power: 0 hashes per second\n",
      "\n",
      "Difficulty: 128 (7 bits)\n",
      "Starting search...\n",
      "Elapsed time: 0.0001 seconds\n",
      "Hashing power: 491224 hashes per second\n",
      "\n",
      "Difficulty: 256 (8 bits)\n",
      "Starting search...\n",
      "Elapsed time: 0.0001 seconds\n",
      "Hashing power: 487366 hashes per second\n",
      "\n",
      "Difficulty: 512 (9 bits)\n",
      "Starting search...\n",
      "Elapsed time: 0.0000 seconds\n",
      "Hashing power: 199728 hashes per second\n",
      "\n",
      "Difficulty: 1024 (10 bits)\n",
      "Starting search...\n",
      "Elapsed time: 0.0028 seconds\n",
      "Hashing power: 545829 hashes per second\n",
      "\n",
      "Difficulty: 2048 (11 bits)\n",
      "Starting search...\n",
      "Elapsed time: 0.0016 seconds\n",
      "Hashing power: 545973 hashes per second\n",
      "\n",
      "Difficulty: 4096 (12 bits)\n",
      "Starting search...\n",
      "Elapsed time: 0.0055 seconds\n",
      "Hashing power: 533427 hashes per second\n",
      "\n",
      "Difficulty: 8192 (13 bits)\n",
      "Starting search...\n",
      "Elapsed time: 0.0038 seconds\n",
      "Hashing power: 559066 hashes per second\n",
      "\n",
      "Difficulty: 16384 (14 bits)\n",
      "Starting search...\n",
      "Elapsed time: 0.0168 seconds\n",
      "Hashing power: 532879 hashes per second\n",
      "\n",
      "Difficulty: 32768 (15 bits)\n",
      "Starting search...\n",
      "Elapsed time: 0.0657 seconds\n",
      "Hashing power: 500950 hashes per second\n",
      "\n",
      "Difficulty: 65536 (16 bits)\n",
      "Starting search...\n",
      "Elapsed time: 0.4930 seconds\n",
      "Hashing power: 578648 hashes per second\n",
      "\n",
      "Difficulty: 131072 (17 bits)\n",
      "Starting search...\n",
      "Elapsed time: 0.0181 seconds\n",
      "Hashing power: 579066 hashes per second\n",
      "\n",
      "Difficulty: 262144 (18 bits)\n",
      "Starting search...\n",
      "Elapsed time: 0.0203 seconds\n",
      "Hashing power: 589243 hashes per second\n",
      "\n",
      "Difficulty: 524288 (19 bits)\n",
      "Starting search...\n",
      "Elapsed time: 1.0489 seconds\n",
      "Hashing power: 546476 hashes per second\n",
      "\n",
      "Difficulty: 1048576 (20 bits)\n",
      "Starting search...\n",
      "Elapsed time: 0.4271 seconds\n",
      "Hashing power: 556656 hashes per second\n",
      "\n",
      "Difficulty: 2097152 (21 bits)\n",
      "Starting search...\n",
      "Elapsed time: 1.2003 seconds\n",
      "Hashing power: 572736 hashes per second\n",
      "\n",
      "Difficulty: 4194304 (22 bits)\n",
      "Starting search...\n",
      "Elapsed time: 3.1859 seconds\n",
      "Hashing power: 552174 hashes per second\n",
      "\n",
      "Difficulty: 8388608 (23 bits)\n",
      "Starting search...\n",
      "Elapsed time: 25.9435 seconds\n",
      "Hashing power: 547911 hashes per second\n",
      "\n",
      "Difficulty: 16777216 (24 bits)\n",
      "Starting search...\n",
      "Elapsed time: 46.1538 seconds\n",
      "Hashing power: 532705 hashes per second\n",
      "\n",
      "Difficulty: 33554432 (25 bits)\n",
      "Starting search...\n",
      "Elapsed time: 16.2904 seconds\n",
      "Hashing power: 526095 hashes per second\n",
      "\n",
      "Difficulty: 67108864 (26 bits)\n",
      "Starting search...\n",
      "Elapsed time: 156.8888 seconds\n",
      "Hashing power: 538988 hashes per second\n",
      "\n",
      "Difficulty: 134217728 (27 bits)\n",
      "Starting search...\n",
      "Elapsed time: 19.4130 seconds\n",
      "Hashing power: 528341 hashes per second\n",
      "\n",
      "Difficulty: 268435456 (28 bits)\n",
      "Starting search...\n"
     ]
    },
    {
     "ename": "KeyboardInterrupt",
     "evalue": "",
     "output_type": "error",
     "traceback": [
      "\u001b[0;31m---------------------------------------------------------------------------\u001b[0m",
      "\u001b[0;31mKeyboardInterrupt\u001b[0m                         Traceback (most recent call last)",
      "\u001b[0;32m<ipython-input-15-684cb25f8aec>\u001b[0m in \u001b[0;36m<module>\u001b[0;34m()\u001b[0m\n\u001b[1;32m     11\u001b[0m     \u001b[0mnew_block\u001b[0m \u001b[0;34m=\u001b[0m \u001b[0;34m'test block with transactions'\u001b[0m \u001b[0;34m+\u001b[0m \u001b[0mhash_result\u001b[0m\u001b[0;34m\u001b[0m\u001b[0m\n\u001b[1;32m     12\u001b[0m \u001b[0;34m\u001b[0m\u001b[0m\n\u001b[0;32m---> 13\u001b[0;31m     \u001b[0;34m(\u001b[0m\u001b[0mhash_result\u001b[0m\u001b[0;34m,\u001b[0m \u001b[0mnonce\u001b[0m\u001b[0;34m)\u001b[0m \u001b[0;34m=\u001b[0m \u001b[0mproof_of_work\u001b[0m\u001b[0;34m(\u001b[0m\u001b[0mnew_block\u001b[0m\u001b[0;34m,\u001b[0m \u001b[0mdifficulty_bits\u001b[0m\u001b[0;34m)\u001b[0m\u001b[0;34m\u001b[0m\u001b[0m\n\u001b[0m\u001b[1;32m     14\u001b[0m \u001b[0;34m\u001b[0m\u001b[0m\n\u001b[1;32m     15\u001b[0m     \u001b[0mend_time\u001b[0m \u001b[0;34m=\u001b[0m \u001b[0mtime\u001b[0m\u001b[0;34m.\u001b[0m\u001b[0mtime\u001b[0m\u001b[0;34m(\u001b[0m\u001b[0;34m)\u001b[0m\u001b[0;34m\u001b[0m\u001b[0m\n",
      "\u001b[0;32m<ipython-input-1-d2ab8a799962>\u001b[0m in \u001b[0;36mproof_of_work\u001b[0;34m(header, difficulty_bits)\u001b[0m\n\u001b[1;32m      5\u001b[0m     \u001b[0mtarget\u001b[0m \u001b[0;34m=\u001b[0m \u001b[0;36m2\u001b[0m \u001b[0;34m**\u001b[0m \u001b[0;34m(\u001b[0m\u001b[0;36m256\u001b[0m\u001b[0;34m-\u001b[0m\u001b[0mdifficulty_bits\u001b[0m\u001b[0;34m)\u001b[0m\u001b[0;34m\u001b[0m\u001b[0m\n\u001b[1;32m      6\u001b[0m     \u001b[0;32mfor\u001b[0m \u001b[0mnonce\u001b[0m \u001b[0;32min\u001b[0m \u001b[0mrange\u001b[0m\u001b[0;34m(\u001b[0m\u001b[0mmax_nonce\u001b[0m\u001b[0;34m)\u001b[0m\u001b[0;34m:\u001b[0m\u001b[0;34m\u001b[0m\u001b[0m\n\u001b[0;32m----> 7\u001b[0;31m         \u001b[0mhash_result\u001b[0m \u001b[0;34m=\u001b[0m \u001b[0mhashlib\u001b[0m\u001b[0;34m.\u001b[0m\u001b[0msha256\u001b[0m\u001b[0;34m(\u001b[0m\u001b[0mstr\u001b[0m\u001b[0;34m(\u001b[0m\u001b[0mheader\u001b[0m\u001b[0;34m)\u001b[0m\u001b[0;34m.\u001b[0m\u001b[0mencode\u001b[0m\u001b[0;34m(\u001b[0m\u001b[0;34m'utf-8'\u001b[0m\u001b[0;34m)\u001b[0m\u001b[0;34m+\u001b[0m\u001b[0mstr\u001b[0m\u001b[0;34m(\u001b[0m\u001b[0mnonce\u001b[0m\u001b[0;34m)\u001b[0m\u001b[0;34m.\u001b[0m\u001b[0mencode\u001b[0m\u001b[0;34m(\u001b[0m\u001b[0;34m'utf-8'\u001b[0m\u001b[0;34m)\u001b[0m\u001b[0;34m)\u001b[0m\u001b[0;34m.\u001b[0m\u001b[0mhexdigest\u001b[0m\u001b[0;34m(\u001b[0m\u001b[0;34m)\u001b[0m\u001b[0;34m\u001b[0m\u001b[0m\n\u001b[0m\u001b[1;32m      8\u001b[0m \u001b[0;34m\u001b[0m\u001b[0m\n\u001b[1;32m      9\u001b[0m         \u001b[0;32mif\u001b[0m \u001b[0mint\u001b[0m\u001b[0;34m(\u001b[0m\u001b[0mhash_result\u001b[0m\u001b[0;34m,\u001b[0m \u001b[0;36m16\u001b[0m\u001b[0;34m)\u001b[0m \u001b[0;34m<\u001b[0m \u001b[0mtarget\u001b[0m\u001b[0;34m:\u001b[0m\u001b[0;34m\u001b[0m\u001b[0m\n",
      "\u001b[0;31mKeyboardInterrupt\u001b[0m: "
     ]
    }
   ],
   "source": [
    "nonce = 0\n",
    "hash_result = ''\n",
    "\n",
    "for difficulty_bits in range(32):\n",
    "    difficulty = 2 ** difficulty_bits\n",
    "    print (\"\")\n",
    "    print (\"Difficulty: %ld (%d bits)\" % (difficulty, difficulty_bits))\n",
    "    print (\"Starting search...\")\n",
    "    \n",
    "    start_time = time.time()\n",
    "    new_block = 'test block with transactions' + hash_result\n",
    "    \n",
    "    (hash_result, nonce) = proof_of_work(new_block, difficulty_bits)\n",
    "    \n",
    "    end_time = time.time()\n",
    "    elapsed_time = end_time - start_time\n",
    "    \n",
    "    print (\"Elapsed time: %.4f seconds\" % elapsed_time)\n",
    "    \n",
    "    if elapsed_time > 0:\n",
    "        hash_power = float( int (nonce)/elapsed_time)\n",
    "        print (\"Hashing power: %ld hashes per second\" % hash_power)\n"
   ]
  },
  {
   "cell_type": "code",
   "execution_count": null,
   "metadata": {
    "collapsed": true
   },
   "outputs": [],
   "source": [
    "# code here\n",
    "\n",
    "# %matplotlib inline\n",
    "# import matplotlib.pyplot as plt\n",
    "# plt.loglog(range(10), range(10), '-*', basex=2)"
   ]
  },
  {
   "cell_type": "markdown",
   "metadata": {},
   "source": [
    "### Task 1.2\n",
    "\n",
    "Change proof_of_work fuction to get a target parameter insted of difficulty_bits.\n",
    "\n",
    "What are the resonable limitations for the target?\n",
    "\n",
    "Choose such a target that you will calculated 20 160 000 blocks per 14 days in avarage. Prove it experimetally (estimate time for at least 2016 blocks and show that it is close to the goal).\n",
    "\n",
    "(*) Use Binomial random model to estimate the mean time for block and its confidance."
   ]
  },
  {
   "cell_type": "code",
   "execution_count": null,
   "metadata": {
    "collapsed": true
   },
   "outputs": [],
   "source": []
  },
  {
   "cell_type": "code",
   "execution_count": null,
   "metadata": {
    "collapsed": true
   },
   "outputs": [],
   "source": [
    "# code here"
   ]
  },
  {
   "cell_type": "markdown",
   "metadata": {},
   "source": [
    "### Task 1.3\n",
    "\n",
    "Repeat experiments for other hash functions (for example, md5(), sha1(), sha224(), sha384(), and sha512()).\n",
    "\n",
    "What changes do you expect and what changes do you see?"
   ]
  },
  {
   "cell_type": "code",
   "execution_count": null,
   "metadata": {
    "collapsed": true
   },
   "outputs": [],
   "source": [
    "# code here"
   ]
  },
  {
   "cell_type": "markdown",
   "metadata": {},
   "source": [
    "## 2. Simple cryptocurrancy"
   ]
  },
  {
   "cell_type": "markdown",
   "metadata": {},
   "source": [
    "We’ll start off by tracking the accounts of two imaginary people: Alice and Bob, who will trade virtual money with each other.\n",
    "We’ll need to create a transaction pool of incoming transactions, validate those transactions, and make them into a block.\n",
    "We’ll be using a hash function to create a ‘fingerprint’ for each of our transactions."
   ]
  },
  {
   "cell_type": "code",
   "execution_count": null,
   "metadata": {},
   "outputs": [],
   "source": [
    "import hashlib, json, sys\n",
    "\n",
    "def hashMe(msg=\"\"):\n",
    "    # For convenience, this is a helper function that wraps our hashing algorithm\n",
    "    if type(msg)!=str:\n",
    "        msg = json.dumps(msg,sort_keys=True)  # If we don't sort keys, we can't guarantee repeatability!\n",
    "        \n",
    "    if sys.version_info.major == 2:\n",
    "        return unicode(hashlib.sha256(msg).hexdigest(),'utf-8')\n",
    "    else:\n",
    "        return hashlib.sha256(str(msg).encode('utf-8')).hexdigest()"
   ]
  },
  {
   "cell_type": "markdown",
   "metadata": {},
   "source": [
    "Next, we want to create a function to generate exchanges between Alice and Bob. We’ll indicate withdrawals with negative numbers, and deposits with positive numbers. We’ll construct our transactions to always be between the two users of our system, and make sure that the deposit is the same magnitude as the withdrawal- i.e. that we’re neither creating nor destroying money."
   ]
  },
  {
   "cell_type": "code",
   "execution_count": null,
   "metadata": {},
   "outputs": [],
   "source": [
    "import random\n",
    "\n",
    "def makeTransaction(maxValue=3):\n",
    "    # This will create valid transactions in the range of (1,maxValue)\n",
    "    sign      = int(random.getrandbits(1))*2 - 1   # This will randomly choose -1 or 1\n",
    "    amount    = random.randint(1,maxValue)\n",
    "    alicePays = sign * amount\n",
    "    bobPays   = -1 * alicePays\n",
    "    # By construction, this will always return transactions that respect the conservation of tokens.\n",
    "    # However, note that we have not done anything to check whether these overdraft an account\n",
    "    return {u'Alice':alicePays,u'Bob':bobPays}"
   ]
  },
  {
   "cell_type": "markdown",
   "metadata": {},
   "source": [
    "Now let’s create a large set of transactions, then chunk them into blocks."
   ]
  },
  {
   "cell_type": "code",
   "execution_count": null,
   "metadata": {
    "collapsed": true
   },
   "outputs": [],
   "source": [
    "txnBuffer = [makeTransaction() for i in range(30)]"
   ]
  },
  {
   "cell_type": "markdown",
   "metadata": {},
   "source": [
    "For Bitcoin, the validation function checks that the input values are valid unspent transaction outputs (UTXOs), that the outputs of the transaction are no greater than the input, and that the keys used for the signatures are valid. In Ethereum, the validation function checks that the smart contracts were faithfully executed and respect gas limits.\n",
    "\n",
    "No worries, though- we don’t have to build a system that complicated. We’ll define our own, very simple set of rules which make sense for a basic token system:\n",
    "\n",
    "* The sum of deposits and withdrawals must be 0 (tokens are neither created nor destroyed)\n",
    "* A user’s account must have sufficient funds to cover any withdrawals\n",
    "\n",
    "If either of these conditions are violated, we’ll reject the transaction."
   ]
  },
  {
   "cell_type": "code",
   "execution_count": null,
   "metadata": {
    "collapsed": true
   },
   "outputs": [],
   "source": [
    "def updateState(txn, state):\n",
    "    # Inputs: txn, state: dictionaries keyed with account names, holding numeric values for transfer amount (txn) or account balance (state)\n",
    "    # Returns: Updated state, with additional users added to state if necessary\n",
    "    # NOTE: This does not not validate the transaction- just updates the state!\n",
    "    \n",
    "    # If the transaction is valid, then update the state\n",
    "    state = state.copy() # As dictionaries are mutable, let's avoid any confusion by creating a working copy of the data.\n",
    "    for key in txn:\n",
    "        if key in state.keys():\n",
    "            state[key] += txn[key]\n",
    "        else:\n",
    "            state[key] = txn[key]\n",
    "    return state"
   ]
  },
  {
   "cell_type": "code",
   "execution_count": null,
   "metadata": {
    "collapsed": true
   },
   "outputs": [],
   "source": [
    "def isValidTxn(txn,state):\n",
    "    # Assume that the transaction is a dictionary keyed by account names\n",
    "\n",
    "    # Check that the sum of the deposits and withdrawals is 0\n",
    "    if sum(txn.values()) is not 0:\n",
    "        return False\n",
    "    \n",
    "    # Check that the transaction does not cause an overdraft\n",
    "    for key in txn.keys():\n",
    "        if key in state.keys(): \n",
    "            acctBalance = state[key]\n",
    "        else:\n",
    "            acctBalance = 0\n",
    "        if (acctBalance + txn[key]) < 0:\n",
    "            return False\n",
    "    \n",
    "    return True"
   ]
  },
  {
   "cell_type": "markdown",
   "metadata": {},
   "source": [
    "Here are a set of sample transactions, some of which are fraudulent - but we can now check their validity!"
   ]
  },
  {
   "cell_type": "code",
   "execution_count": null,
   "metadata": {
    "collapsed": true
   },
   "outputs": [],
   "source": [
    "state = {u'Alice':5,u'Bob':5}\n",
    "print(isValidTxn({u'Alice': -3, u'Bob': 3},state))  # Basic transaction - this works great!\n",
    "print(isValidTxn({u'Alice': -4, u'Bob': 3},state))  # But we can't create or destroy tokens!\n",
    "print(isValidTxn({u'Alice': -6, u'Bob': 6},state))  # We also can't overdraft our account.\n",
    "print(isValidTxn({u'Alice': -4, u'Bob': 2,'Lisa':2},state)) # Creating new users is valid\n",
    "print(isValidTxn({u'Alice': -4, u'Bob': 3,'Lisa':2},state)) # But the same rules still apply!\n"
   ]
  },
  {
   "cell_type": "markdown",
   "metadata": {},
   "source": [
    "### Building the Blockchain: From Transactions to Blocks"
   ]
  },
  {
   "cell_type": "code",
   "execution_count": null,
   "metadata": {
    "collapsed": true
   },
   "outputs": [],
   "source": [
    "state = {u'Alice':50, u'Bob':50}  # Define the initial state\n",
    "genesisBlockTxns = [state]\n",
    "genesisBlockContents = {u'blockNumber':0,u'parentHash':None,u'txnCount':1,u'txns':genesisBlockTxns}\n",
    "genesisHash = hashMe( genesisBlockContents )\n",
    "genesisBlock = {u'hash':genesisHash,u'contents':genesisBlockContents}\n",
    "genesisBlockStr = json.dumps(genesisBlock, sort_keys=True)"
   ]
  },
  {
   "cell_type": "code",
   "execution_count": null,
   "metadata": {
    "collapsed": true
   },
   "outputs": [],
   "source": [
    "chain = [genesisBlock]"
   ]
  },
  {
   "cell_type": "code",
   "execution_count": null,
   "metadata": {
    "collapsed": true
   },
   "outputs": [],
   "source": [
    "def makeBlock(txns,chain):\n",
    "    parentBlock = chain[-1]\n",
    "    parentHash  = parentBlock[u'hash']\n",
    "    blockNumber = parentBlock[u'contents'][u'blockNumber'] + 1\n",
    "    txnCount    = len(txns)\n",
    "    blockContents = {u'blockNumber':blockNumber,u'parentHash':parentHash,\n",
    "                     u'txnCount':len(txns),'txns':txns}\n",
    "    blockHash = hashMe( blockContents )\n",
    "    block = {u'hash':blockHash,u'contents':blockContents}\n",
    "    \n",
    "    return block"
   ]
  },
  {
   "cell_type": "markdown",
   "metadata": {},
   "source": [
    "Let’s use this to process our transaction buffer into a set of blocks:"
   ]
  },
  {
   "cell_type": "code",
   "execution_count": null,
   "metadata": {
    "collapsed": true
   },
   "outputs": [],
   "source": [
    "blockSizeLimit = 5  # Arbitrary number of transactions per block- \n",
    "               #  this is chosen by the block miner, and can vary between blocks!\n",
    "\n",
    "while len(txnBuffer) > 0:\n",
    "    bufferStartSize = len(txnBuffer)\n",
    "    \n",
    "    ## Gather a set of valid transactions for inclusion\n",
    "    txnList = []\n",
    "    while (len(txnBuffer) > 0) & (len(txnList) < blockSizeLimit):\n",
    "        newTxn = txnBuffer.pop()\n",
    "        validTxn = isValidTxn(newTxn,state) # This will return False if txn is invalid\n",
    "        \n",
    "        if validTxn:           # If we got a valid state, not 'False'\n",
    "            txnList.append(newTxn)\n",
    "            state = updateState(newTxn,state)\n",
    "        else:\n",
    "            print(\"ignored transaction\")\n",
    "            sys.stdout.flush()\n",
    "            continue  # This was an invalid transaction; ignore it and move on\n",
    "        \n",
    "    ## Make a block\n",
    "    myBlock = makeBlock(txnList,chain)\n",
    "    chain.append(myBlock)  "
   ]
  },
  {
   "cell_type": "code",
   "execution_count": null,
   "metadata": {
    "collapsed": true
   },
   "outputs": [],
   "source": [
    "chain[0]"
   ]
  },
  {
   "cell_type": "code",
   "execution_count": null,
   "metadata": {
    "collapsed": true
   },
   "outputs": [],
   "source": [
    "chain[1]"
   ]
  },
  {
   "cell_type": "code",
   "execution_count": null,
   "metadata": {
    "collapsed": true
   },
   "outputs": [],
   "source": [
    "print(len(chain))"
   ]
  },
  {
   "cell_type": "markdown",
   "metadata": {},
   "source": [
    "As expected, the genesis block includes an invalid transaction which initiates account balances (creating tokens out of thin air). The hash of the parent block is referenced in the child block, which contains a set of new transactions which affect system state. We can now see the state of the system, updated to include the transactions:"
   ]
  },
  {
   "cell_type": "code",
   "execution_count": null,
   "metadata": {
    "collapsed": true
   },
   "outputs": [],
   "source": [
    "state"
   ]
  },
  {
   "cell_type": "markdown",
   "metadata": {},
   "source": [
    "### Checking Chain Validity"
   ]
  },
  {
   "cell_type": "code",
   "execution_count": null,
   "metadata": {
    "collapsed": true
   },
   "outputs": [],
   "source": [
    "def checkBlockHash(block):\n",
    "    # Raise an exception if the hash does not match the block contents\n",
    "    expectedHash = hashMe( block['contents'] )\n",
    "    if block['hash']!=expectedHash:\n",
    "        raise Exception('Hash does not match contents of block %s'%\n",
    "                        block['contents']['blockNumber'])\n",
    "    return"
   ]
  },
  {
   "cell_type": "code",
   "execution_count": null,
   "metadata": {
    "collapsed": true
   },
   "outputs": [],
   "source": [
    "def checkBlockValidity(block,parent,state):    \n",
    "    # We want to check the following conditions:\n",
    "    # - Each of the transactions are valid updates to the system state\n",
    "    # - Block hash is valid for the block contents\n",
    "    # - Block number increments the parent block number by 1\n",
    "    # - Accurately references the parent block's hash\n",
    "    parentNumber = parent['contents']['blockNumber']\n",
    "    parentHash   = parent['hash']\n",
    "    blockNumber  = block['contents']['blockNumber']\n",
    "    \n",
    "    # Check transaction validity; throw an error if an invalid transaction was found.\n",
    "    for txn in block['contents']['txns']:\n",
    "        if isValidTxn(txn,state):\n",
    "            state = updateState(txn,state)\n",
    "        else:\n",
    "            raise Exception('Invalid transaction in block %s: %s'%(blockNumber,txn))\n",
    "\n",
    "    checkBlockHash(block) # Check hash integrity; raises error if inaccurate\n",
    "\n",
    "    if blockNumber!=(parentNumber+1):\n",
    "        raise Exception('Hash does not match contents of block %s'%blockNumber)\n",
    "\n",
    "    if block['contents']['parentHash'] != parentHash:\n",
    "        raise Exception('Parent hash not accurate at block %s'%blockNumber)\n",
    "    \n",
    "    return state"
   ]
  },
  {
   "cell_type": "code",
   "execution_count": null,
   "metadata": {
    "collapsed": true
   },
   "outputs": [],
   "source": [
    "def checkChain(chain):\n",
    "    # Work through the chain from the genesis block (which gets special treatment), \n",
    "    #  checking that all transactions are internally valid,\n",
    "    #    that the transactions do not cause an overdraft,\n",
    "    #    and that the blocks are linked by their hashes.\n",
    "    # This returns the state as a dictionary of accounts and balances,\n",
    "    #   or returns False if an error was detected\n",
    "\n",
    "    \n",
    "    ## Data input processing: Make sure that our chain is a list of dicts\n",
    "    if type(chain)==str:\n",
    "        try:\n",
    "            chain = json.loads(chain)\n",
    "            assert( type(chain)==list)\n",
    "        except:  # This is a catch-all, admittedly crude\n",
    "            return False\n",
    "    elif type(chain)!=list:\n",
    "        return False\n",
    "    \n",
    "    state = {}\n",
    "    ## Prime the pump by checking the genesis block\n",
    "    # We want to check the following conditions:\n",
    "    # - Each of the transactions are valid updates to the system state\n",
    "    # - Block hash is valid for the block contents\n",
    "\n",
    "    for txn in chain[0]['contents']['txns']:\n",
    "        state = updateState(txn,state)\n",
    "    checkBlockHash(chain[0])\n",
    "    parent = chain[0]\n",
    "    \n",
    "    ## Checking subsequent blocks: These additionally need to check\n",
    "    #    - the reference to the parent block's hash\n",
    "    #    - the validity of the block number\n",
    "    for block in chain[1:]:\n",
    "        state = checkBlockValidity(block,parent,state)\n",
    "        parent = block\n",
    "        \n",
    "    return state"
   ]
  },
  {
   "cell_type": "markdown",
   "metadata": {},
   "source": [
    "We can now check the validity of the state:"
   ]
  },
  {
   "cell_type": "code",
   "execution_count": null,
   "metadata": {
    "collapsed": true
   },
   "outputs": [],
   "source": [
    "checkChain(chain)"
   ]
  },
  {
   "cell_type": "markdown",
   "metadata": {},
   "source": [
    "And even if we are loading the chain from a text file, e.g. from backup or loading it for the first time, we can check the integrity of the chain and create the current state:"
   ]
  },
  {
   "cell_type": "code",
   "execution_count": null,
   "metadata": {
    "collapsed": true
   },
   "outputs": [],
   "source": [
    "chainAsText = json.dumps(chain,sort_keys=True)\n",
    "checkChain(chainAsText)"
   ]
  },
  {
   "cell_type": "code",
   "execution_count": null,
   "metadata": {
    "collapsed": true
   },
   "outputs": [],
   "source": [
    "import copy\n",
    "nodeBchain = copy.copy(chain)\n",
    "nodeBtxns  = [makeTransaction() for i in range(5)]\n",
    "newBlock   = makeBlock(nodeBtxns,nodeBchain)"
   ]
  },
  {
   "cell_type": "code",
   "execution_count": null,
   "metadata": {
    "collapsed": true
   },
   "outputs": [],
   "source": [
    "print(\"Blockchain on Node A is currently %s blocks long\"%len(chain))\n",
    "\n",
    "try:\n",
    "    print(\"New Block Received; checking validity...\")\n",
    "    state = checkBlockValidity(newBlock,chain[-1],state) # Update the state- this will throw an error if the block is invalid!\n",
    "    chain.append(newBlock)\n",
    "except:\n",
    "    print(\"Invalid block; ignoring and waiting for the next block...\")\n",
    "\n",
    "print(\"Blockchain on Node A is now %s blocks long\"%len(chain))"
   ]
  },
  {
   "cell_type": "markdown",
   "metadata": {},
   "source": [
    "### Task 2.1\n",
    "\n",
    "Add Proof-of-Work to the blockchain and nonce to the block header."
   ]
  },
  {
   "cell_type": "markdown",
   "metadata": {},
   "source": [
    "### Task 2.2\n",
    "\n",
    "Add nonce field to the transactions and include into the transaction check function to avoid transaction repeat."
   ]
  },
  {
   "cell_type": "markdown",
   "metadata": {},
   "source": [
    "## 3. Merkle tree"
   ]
  },
  {
   "cell_type": "code",
   "execution_count": null,
   "metadata": {
    "collapsed": true
   },
   "outputs": [],
   "source": [
    "# 0. Import the needed library\n",
    "import hashlib,json\n",
    "from collections import OrderedDict\n",
    "\n",
    "# 1. Declare the class trees\n",
    "class Jae_MerkTree:\n",
    "\n",
    "    # 2. Initiate the class object\n",
    "    def __init__(self,listoftransaction=None):\n",
    "        self.listoftransaction = listoftransaction\n",
    "        self.past_transaction = OrderedDict()\n",
    "\n",
    "    # 3. Create the Merkle Tree  \n",
    "    def create_tree(self):\n",
    "\n",
    "        # 3.0 Continue on the declaration\n",
    "        listoftransaction = self.listoftransaction\n",
    "        past_transaction = self.past_transaction\n",
    "        temp_transaction = []\n",
    "\n",
    "        # 3.1 Loop until the list finishes\n",
    "        for index in range(0,len(listoftransaction),2):\n",
    "\n",
    "            # 3.2 Get the most left element \n",
    "            current = listoftransaction[index]\n",
    "\n",
    "            # 3.3 If there is still index left get the right of the left most element\n",
    "            if index+1 != len(listoftransaction):\n",
    "                current_right = listoftransaction[index+1]\n",
    "\n",
    "            # 3.4 If we reached the limit of the list then make a empty string\n",
    "            else:\n",
    "                current_right = ''\n",
    "\n",
    "            # 3.5 Apply the Hash 256 function to the current values\n",
    "            current_hash = hashlib.sha256(current.encode('utf-8'))\n",
    "\n",
    "            # 3.6 If the current right hash is not a '' <- empty string\n",
    "            if current_right != '':\n",
    "                current_right_hash = hashlib.sha256(current_right.encode('utf-8'))\n",
    "\n",
    "            # 3.7 Add the Transaction to the dictionary \n",
    "            past_transaction[listoftransaction[index]] = current_hash.hexdigest()\n",
    "\n",
    "            # 3.8 If the next right is not empty\n",
    "            if current_right != '':\n",
    "                past_transaction[listoftransaction[index+1]] = current_right_hash.hexdigest()\n",
    "\n",
    "            # 3.9 Create the new list of transaction\n",
    "            if current_right != '':\n",
    "                temp_transaction.append(current_hash.hexdigest() + current_right_hash.hexdigest())\n",
    "\n",
    "            # 3.01 If the left most is an empty string then only add the current value\n",
    "            else:\n",
    "                temp_transaction.append(current_hash.hexdigest())\n",
    "\n",
    "        # 3.02 Update the variables and rerun the function again \n",
    "        if len(listoftransaction) != 1:\n",
    "            self.listoftransaction = temp_transaction\n",
    "            self.past_transaction = past_transaction\n",
    "\n",
    "            # 3.03 Call the function repeatly again and again until we get the root \n",
    "            self.create_tree()\n",
    "\n",
    "    # 4. Return the past Transaction \n",
    "    def Get_past_transacion(self):\n",
    "        return self.past_transaction\n",
    "\n",
    "    # 5. Get the root of the transaction\n",
    "    def Get_Root_leaf(self):\n",
    "        last_key = list(self.past_transaction.keys())[-1]\n",
    "        return self.past_transaction[last_key]\n",
    "\n",
    "# Declare the main part of the function to run\n",
    "if __name__ == \"__main__\":\n",
    "\n",
    "    # a) Create the new class of Jae_MerkTree\n",
    "    Jae_Tree = Jae_MerkTree()\n",
    "\n",
    "    # b) Give list of transaction\n",
    "    transaction = ['a','b','c','d']\n",
    "\n",
    "    # c) pass on the transaction list \n",
    "    Jae_Tree.listoftransaction = transaction\n",
    "\n",
    "    # d) Create the Merkle Tree transaction\n",
    "    Jae_Tree.create_tree()\n",
    "\n",
    "    # e) Retrieve the transaction \n",
    "    past_transaction = Jae_Tree.Get_past_transacion()\n",
    "\n",
    "    # f) Get the last transaction and print all \n",
    "    print(\"First Example - Even number of transaction Merkel Tree\")\n",
    "    print('Final root of the tree : ',Jae_Tree.Get_Root_leaf())\n",
    "    print(json.dumps(past_transaction, indent=4))\n",
    "    print(\"-\" * 50)\n",
    "\n",
    "    # h) Second example\n",
    "    print(\"Second Example - Odd number of transaction Merkel Tree\")\n",
    "    Jae_Tree = Jae_MerkTree()\n",
    "    transaction = ['a','b','c','d','e']\n",
    "    Jae_Tree.listoftransaction = transaction\n",
    "    Jae_Tree.create_tree()\n",
    "    past_transaction = Jae_Tree.Get_past_transacion()\n",
    "    print('Final root of the tree : ',Jae_Tree.Get_Root_leaf())\n",
    "    print(json.dumps(past_transaction, indent=4))\n",
    "    print(\"-\" * 50)\n",
    "\n",
    "    # i) Actual Use Case\n",
    "    print(\"Final Example - Actuall use case of the Merkle Tree\")\n",
    "\n",
    "    # i-1) Declare a transaction - the ground truth\n",
    "    ground_truth_Tree = Jae_MerkTree()\n",
    "    ground_truth_transaction = ['a','b','c','d','e']\n",
    "    ground_truth_Tree.listoftransaction = ground_truth_transaction\n",
    "    ground_truth_Tree.create_tree()\n",
    "    ground_truth_past_transaction = ground_truth_Tree.Get_past_transacion()\n",
    "    ground_truth_root = ground_truth_Tree.Get_Root_leaf()\n",
    "\n",
    "    # i-2) Declare a tampered transaction\n",
    "    tampered_Tree = Jae_MerkTree()\n",
    "    tampered_Tree_transaction = ['a','b','c','d','f']\n",
    "    tampered_Tree.listoftransaction = tampered_Tree_transaction\n",
    "    tampered_Tree.create_tree()\n",
    "    tampered_Tree_past_transaction = tampered_Tree.Get_past_transacion()\n",
    "    tampered_Tree_root = tampered_Tree.Get_Root_leaf()\n",
    "\n",
    "    # i-3) The three company share all of the transaction \n",
    "    print('Company A - my final transaction hash : ',ground_truth_root)\n",
    "    print('Company B - my final transaction hash : ',ground_truth_root)\n",
    "    print('Company C - my final transaction hash : ',tampered_Tree_root)\n",
    "\n",
    "    # i-4) Print out all of the past transaction\n",
    "    print(\"\\n\\nGround Truth past Transaction \")\n",
    "    print(json.dumps(ground_truth_past_transaction, indent=4))\n",
    "    \n",
    "    print(\"\\n\\nTamper Truth past Transaction \")\n",
    "    print(json.dumps(tampered_Tree_past_transaction, indent=4))"
   ]
  },
  {
   "cell_type": "markdown",
   "metadata": {},
   "source": [
    "### Task 3.1\n",
    "\n",
    "Replace transactions list with their Merkle root it the block header."
   ]
  },
  {
   "cell_type": "markdown",
   "metadata": {},
   "source": [
    "## Public key algorithms"
   ]
  },
  {
   "cell_type": "code",
   "execution_count": null,
   "metadata": {
    "collapsed": true
   },
   "outputs": [],
   "source": [
    "from Crypto import Random\n",
    "from Crypto.Hash import MD5\n",
    "from Crypto.PublicKey import RSA\n",
    "random_generator = Random.new().read\n",
    "key = RSA.generate(1024, random_generator)\n",
    "print(key)"
   ]
  },
  {
   "cell_type": "code",
   "execution_count": null,
   "metadata": {
    "collapsed": true
   },
   "outputs": [],
   "source": [
    "print(key.can_encrypt())\n",
    "print(key.can_sign())\n",
    "print(key.has_private())"
   ]
  },
  {
   "cell_type": "markdown",
   "metadata": {},
   "source": [
    "### Encrypt"
   ]
  },
  {
   "cell_type": "code",
   "execution_count": null,
   "metadata": {
    "collapsed": true
   },
   "outputs": [],
   "source": [
    "public_key = key.publickey()\n",
    "enc_data = public_key.encrypt(str('abcdefgh').encode('utf-8'), 32)\n",
    "print(enc_data)"
   ]
  },
  {
   "cell_type": "markdown",
   "metadata": {},
   "source": [
    "### Decrypt"
   ]
  },
  {
   "cell_type": "code",
   "execution_count": null,
   "metadata": {
    "collapsed": true
   },
   "outputs": [],
   "source": [
    "key.decrypt(enc_data)"
   ]
  },
  {
   "cell_type": "markdown",
   "metadata": {},
   "source": [
    "### Sign"
   ]
  },
  {
   "cell_type": "code",
   "execution_count": null,
   "metadata": {
    "collapsed": true
   },
   "outputs": [],
   "source": [
    "from Crypto.Hash import MD5\n",
    "from Crypto.PublicKey import RSA\n",
    "RSAkey = RSA.generate(1024, random_generator)   # This will take a while...\n",
    "text = 'abcdefgh'\n",
    "plaintext = str(text).encode('utf-8')\n",
    "hash = MD5.new(plaintext).digest()\n",
    "signature = RSAkey.sign(hash, \"\")\n",
    "print(signature)"
   ]
  },
  {
   "cell_type": "markdown",
   "metadata": {},
   "source": [
    "### Verify"
   ]
  },
  {
   "cell_type": "code",
   "execution_count": null,
   "metadata": {
    "collapsed": true
   },
   "outputs": [],
   "source": [
    "print(RSAkey.verify(hash, signature))     # This sig will check out\n",
    "print(RSAkey.verify(hash[:-1], signature)) # This sig will fail"
   ]
  },
  {
   "cell_type": "markdown",
   "metadata": {},
   "source": [
    "### Task 4.1\n",
    "\n",
    "Add signatures to the blockchain and their verification in isValidTxn."
   ]
  },
  {
   "cell_type": "markdown",
   "metadata": {},
   "source": [
    "### Task 4.2\n",
    "\n",
    "Prepare demo for a resulting blockchain."
   ]
  },
  {
   "cell_type": "markdown",
   "metadata": {},
   "source": [
    "## Task  5\n",
    "\n",
    "1. Make amounts int32. Be aware of overflows!\n",
    "\n",
    "2. Add lock_time parameter into transactions with the following logic: one can't add it into the block before height given in lock_time.\n",
    "\n",
    "3. (\\*) Implement multisig addresses https://en.bitcoin.it/wiki/Multisignature\n",
    "\n",
    "4. (\\*) Implement UTXOs https://en.wikipedia.org/wiki/Unspent_transaction_output\n",
    "\n",
    "5. (\\*) Prepare demo with micropayment channel https://bitcoin.org/en/developer-guide#micropayment-channel"
   ]
  },
  {
   "cell_type": "code",
   "execution_count": null,
   "metadata": {
    "collapsed": true
   },
   "outputs": [],
   "source": []
  }
 ],
 "metadata": {
  "kernelspec": {
   "display_name": "Python 3",
   "language": "python",
   "name": "python3"
  },
  "language_info": {
   "codemirror_mode": {
    "name": "ipython",
    "version": 3
   },
   "file_extension": ".py",
   "mimetype": "text/x-python",
   "name": "python",
   "nbconvert_exporter": "python",
   "pygments_lexer": "ipython3",
   "version": "3.7.0"
  }
 },
 "nbformat": 4,
 "nbformat_minor": 2
}
