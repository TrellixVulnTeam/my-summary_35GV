{
 "cells": [
  {
   "cell_type": "markdown",
   "metadata": {},
   "source": [
    "# Introduction to blockchain HW 1"
   ]
  },
  {
   "cell_type": "markdown",
   "metadata": {},
   "source": [
    "\n",
    "1.1\t1.2\t1.3\t1.4\t2.1\t2.2\t2.3\t2.4\t2.5\t3.1\t3.2\t3.3\t3.4\t3.5\t4.1\t4.2\t4.3\t4.4\t4.5\t4.6\tSUM\tLATE COEFFICIENT\tTOTAL\n",
    "\n",
    "2\t3\t2\t2(1) 2\t2(1)\t2\t1\t2\t 10\t 1\t 1\t0(1) 1\t 3\t 2\t 2\t 2\t 4\t 2\t46\t      1\t         46"
   ]
  },
  {
   "cell_type": "markdown",
   "metadata": {},
   "source": [
    "## Problem 1 (10 points) Seminar 3, lecture 4\n",
    "\n",
    "Assume that at the end of the term an instructor uses an RSA Public Key Cryptosystem to sign the grades sent to students and to the Education Office. He signs each grade with his private key and transmits both the grade and the signature in a secure manner encrypted with a public key. After you decrypt the message you use his public key to decipher the signature and verify the grade. Assume the cryptosystem has the following features: n=55, e=33 and that the grading system features integer grades from 0 to 10. You have received the grade-signature pairs 8||13 and 6||41"
   ]
  },
  {
   "cell_type": "markdown",
   "metadata": {},
   "source": [
    "1.Verify that the grades you received are indeed originating from the instructor showing just intermediate results of your calculation (2 points)"
   ]
  },
  {
   "cell_type": "markdown",
   "metadata": {},
   "source": [
    "Firstly, we should make prime factorization of n = 55. => p = 11, q = 5\n",
    "\n",
    "Secondly, calculate Euler’s function  $ \\phi(n) =  (p-1) (q-1) = 40$\n",
    "\n",
    "As we know e = 33, then $ d = e^{-1}mod$ $  \\phi(n) = 17$\n",
    "\n",
    "Message m = 13  \n",
    "Decryption $ c = m^e mod$ n = $ 13^{33} mod$  55 = 8\n",
    "\n",
    "Also, decryption for m = 41, $ c = m^e mod$ n = $ 41^{33} mod$  55 = 6"
   ]
  },
  {
   "cell_type": "code",
   "execution_count": 1,
   "metadata": {},
   "outputs": [
    {
     "name": "stdout",
     "output_type": "stream",
     "text": [
      "8 6\n"
     ]
    }
   ],
   "source": [
    "decryption_13 = 13**33%55\n",
    "decryption_41 = 41**33%55\n",
    "print(decryption_13,decryption_41)"
   ]
  },
  {
   "cell_type": "markdown",
   "metadata": {},
   "source": [
    "We verified our writting results."
   ]
  },
  {
   "cell_type": "markdown",
   "metadata": {},
   "source": [
    "2.Given the information above only can you fabricate the instructors’ signature for another grade? If yes, for which grade and how? (3 points)"
   ]
  },
  {
   "cell_type": "markdown",
   "metadata": {},
   "source": [
    "Yes, as we think that everybody know **n = 55** and **e = 33** then malefactor can fabricate the instructors’ signature for another grade with help of brute force.\n",
    "He can suggest that grade will be from 0 to 10."
   ]
  },
  {
   "cell_type": "code",
   "execution_count": 4,
   "metadata": {
    "scrolled": true
   },
   "outputs": [
    {
     "name": "stdout",
     "output_type": "stream",
     "text": [
      "signature    mark\n",
      "    0    ||   0\n",
      "    1    ||   1\n",
      "    4    ||   9\n",
      "    7    ||   2\n",
      "    10    ||   10\n",
      "    13    ||   8\n",
      "    17    ||   7\n",
      "    25    ||   5\n",
      "    41    ||   6\n",
      "    49    ||   4\n",
      "    53    ||   3\n"
     ]
    }
   ],
   "source": [
    "print('signature   ','mark')\n",
    "for i in range(0,55):\n",
    "    decryption = i**33%55\n",
    "    if 0<= decryption <= 10:\n",
    "        print('   ',i,'   ||  ',decryption)"
   ]
  },
  {
   "cell_type": "markdown",
   "metadata": {},
   "source": [
    "Also he can find all techer signatures from d."
   ]
  },
  {
   "cell_type": "markdown",
   "metadata": {},
   "source": [
    "Make factorization of n"
   ]
  },
  {
   "cell_type": "code",
   "execution_count": 5,
   "metadata": {},
   "outputs": [],
   "source": [
    "n = 55\n",
    "e = 33"
   ]
  },
  {
   "cell_type": "code",
   "execution_count": 6,
   "metadata": {},
   "outputs": [],
   "source": [
    "def primfacs(n): #Integer Factorization\n",
    "    i = 2\n",
    "    primfac = []\n",
    "    while i * i <= n:\n",
    "        while n % i == 0:\n",
    "            primfac.append(i)\n",
    "            n = n / i\n",
    "        i = i + 1\n",
    "    if n > 1:\n",
    "        primfac.append(n)\n",
    "    return primfac"
   ]
  },
  {
   "cell_type": "code",
   "execution_count": 7,
   "metadata": {},
   "outputs": [],
   "source": [
    "p,q = primfacs(n)"
   ]
  },
  {
   "cell_type": "markdown",
   "metadata": {},
   "source": [
    "now he can find **d**"
   ]
  },
  {
   "cell_type": "code",
   "execution_count": 8,
   "metadata": {},
   "outputs": [
    {
     "name": "stdout",
     "output_type": "stream",
     "text": [
      "17.0\n"
     ]
    }
   ],
   "source": [
    "def extended_gcd(a, b):\n",
    "    x = 0\n",
    "    y = 1\n",
    "    lx = 1\n",
    "    ly = 0\n",
    "    oa = a\n",
    "    ob = b\n",
    "    while b != 0:\n",
    "        q = a // b\n",
    "        (a, b)  = (b, a % b)\n",
    "        (x, lx) = ((lx - (q * x)),x)\n",
    "        (y, ly) = ((ly - (q * y)),y)\n",
    "    if (lx < 0): lx += ob\n",
    "    if (ly < 0): ly += oa\n",
    "    return lx\n",
    "def secret_exponent(e, p, q): \n",
    "    Eul_func = (p - 1) * (q - 1)\n",
    "    return extended_gcd(e, Eul_func)\n",
    "\n",
    "print(secret_exponent(33, p, q))"
   ]
  },
  {
   "cell_type": "code",
   "execution_count": 9,
   "metadata": {},
   "outputs": [
    {
     "name": "stdout",
     "output_type": "stream",
     "text": [
      "mark    signature\n",
      "  0   ||    0\n",
      "  1   ||    1\n",
      "  2   ||    7\n",
      "  3   ||    53\n",
      "  4   ||    49\n",
      "  5   ||    25\n",
      "  6   ||    41\n",
      "  7   ||    17\n",
      "  8   ||    13\n",
      "  9   ||    4\n",
      "  10   ||    10\n"
     ]
    }
   ],
   "source": [
    "print('mark   ','signature')\n",
    "for i in range(0,11):\n",
    "    decryption=(i**17)%55\n",
    "    print(' ',i,'  ||   ',decryption)"
   ]
  },
  {
   "cell_type": "markdown",
   "metadata": {},
   "source": [
    "Also, we can see that malefactor can send mark = 10 with same signature 10( also 0 || 0 ; 1 ||1) and will take the best grade (the worst grade)\n",
    "That is why mark shouldn't be equal signature."
   ]
  },
  {
   "cell_type": "markdown",
   "metadata": {},
   "source": [
    "3.What would you advise the instructor to do so as to prevent such fabrication? (2 points)"
   ]
  },
  {
   "cell_type": "markdown",
   "metadata": {},
   "source": [
    "Increase number of marks and ,of course, **n** because it will complicate brute forse."
   ]
  },
  {
   "cell_type": "markdown",
   "metadata": {},
   "source": [
    "4.Discuss what can go wrong in case the instructor sends a grade secretly by first enciphering it with a student’s public key, the signing it with his private key. Provide an example (3 points) **2**"
   ]
  },
  {
   "cell_type": "markdown",
   "metadata": {},
   "source": [
    "Instructor can make mistake if he will try to signature encryption message :\n",
    "$$ S_A(E(m)) = S_A(c) = (m^e)^d mod(n) = m^{ed} mod(n) = m $$\n",
    "\n",
    "In this case, mark-signature pair will be rigth oinly for three marks (0, 1, 10)"
   ]
  },
  {
   "cell_type": "markdown",
   "metadata": {},
   "source": [
    "## Problem 2 (10 points) Seminar 3"
   ]
  },
  {
   "cell_type": "markdown",
   "metadata": {},
   "source": [
    "El-Gamal is videly used cryptographic standart. In this task you will implement El-Gamal encryption scheme using Python"
   ]
  },
  {
   "cell_type": "markdown",
   "metadata": {},
   "source": [
    "1.Implement function for generating keys. The function must generate big random prime number (problem of generating big prime numbers was discussed during seminar after lecture 3). (2 points)"
   ]
  },
  {
   "cell_type": "code",
   "execution_count": 10,
   "metadata": {},
   "outputs": [],
   "source": [
    "# Python implementation of Fermat's primality test to generate prime numbers of any bit length.\n",
    "import random\n",
    "from random import randint\n",
    "\n",
    "def is_prime(num, test_count):\n",
    "    if num == 1:\n",
    "        return False\n",
    "    if test_count >= num:\n",
    "        test_count = num - 1\n",
    "    for x in range(test_count):\n",
    "        val = randint(1, num - 1)\n",
    "        if pow(val, num-1, num) != 1:\n",
    "            return False\n",
    "    return True\n",
    "\n",
    "def generate_big_prime(n, test_count=1000):\n",
    "    found_prime = False\n",
    "    while not found_prime:\n",
    "        p = randint(2**(n-1), 2**n)\n",
    "        if is_prime(p, test_count):\n",
    "            return p"
   ]
  },
  {
   "cell_type": "code",
   "execution_count": 11,
   "metadata": {},
   "outputs": [
    {
     "name": "stdout",
     "output_type": "stream",
     "text": [
      "826663\n"
     ]
    }
   ],
   "source": [
    "n = 20\n",
    "random_prime = generate_big_prime(n)\n",
    "print(random_prime)\n",
    "# Generates a random prime number of length n bits"
   ]
  },
  {
   "cell_type": "markdown",
   "metadata": {},
   "source": [
    "2.Implement functions that realize the encryption and decryption functions. (2 points)"
   ]
  },
  {
   "cell_type": "code",
   "execution_count": 12,
   "metadata": {},
   "outputs": [],
   "source": [
    "def gcd(a,b):\n",
    "    while a != b:\n",
    "        if a > b:\n",
    "            a = a - b\n",
    "        else:\n",
    "            b = b - a\n",
    "    return a\n",
    "\n",
    "def primitive_root(modulo):\n",
    "    roots = []\n",
    "    required_set = set(num for num in range (1, modulo) if gcd(num, modulo) == 1)\n",
    "    for g in range(1, modulo):\n",
    "        actual_set = set(pow(g, powers) % modulo for powers in range (1, modulo))\n",
    "        if required_set == actual_set:\n",
    "            return g"
   ]
  },
  {
   "cell_type": "code",
   "execution_count": 13,
   "metadata": {},
   "outputs": [],
   "source": [
    "def gen_keys(n):\n",
    "    p = generate_big_prime(n)\n",
    "    g = primitive_root(p)\n",
    "    x = random.randint(1,p-1)\n",
    "    y = pow(g,x,p)\n",
    "    return x, y"
   ]
  },
  {
   "cell_type": "code",
   "execution_count": 14,
   "metadata": {},
   "outputs": [],
   "source": [
    "def gen_keys_with_p(p):\n",
    "    g = primitive_root(p)\n",
    "    x = random.randint(1,p-1)\n",
    "    y = pow(g,x,p)\n",
    "    return x, y"
   ]
  },
  {
   "cell_type": "code",
   "execution_count": 15,
   "metadata": {},
   "outputs": [],
   "source": [
    "def encrypt(M,p,g, y):\n",
    "    k = random.randint(1,p-1)\n",
    "    (a,b) = (pow(g,k,p), pow(y,k)*M%p)\n",
    "    return (a,b)"
   ]
  },
  {
   "cell_type": "code",
   "execution_count": 16,
   "metadata": {},
   "outputs": [],
   "source": [
    "def decrypt(a,b, x, p):\n",
    "    M = (b*pow(a,p-1-x,p)%p)\n",
    "    return M"
   ]
  },
  {
   "cell_type": "markdown",
   "metadata": {},
   "source": [
    "3.Test your functions on random values and show that your realization works correctly (1 point)"
   ]
  },
  {
   "cell_type": "code",
   "execution_count": 27,
   "metadata": {},
   "outputs": [
    {
     "name": "stdout",
     "output_type": "stream",
     "text": [
      "8 3\n"
     ]
    }
   ],
   "source": [
    "#as in wiki\n",
    "x,y = gen_keys_with_p(11)\n",
    "print( x, y)"
   ]
  },
  {
   "cell_type": "code",
   "execution_count": 37,
   "metadata": {},
   "outputs": [
    {
     "name": "stdout",
     "output_type": "stream",
     "text": [
      "6 9\n"
     ]
    }
   ],
   "source": [
    "a,b = encrypt(M=5,g=2,p=11,y=3)\n",
    "print(a,b)"
   ]
  },
  {
   "cell_type": "code",
   "execution_count": 38,
   "metadata": {},
   "outputs": [
    {
     "data": {
      "text/plain": [
       "5"
      ]
     },
     "execution_count": 38,
     "metadata": {},
     "output_type": "execute_result"
    }
   ],
   "source": [
    "M = decrypt(a,b,p=11,x=8)\n",
    "M"
   ]
  },
  {
   "cell_type": "markdown",
   "metadata": {},
   "source": [
    "4.Implement functions that realize creation and verification of digital signature (2 points) **1**"
   ]
  },
  {
   "cell_type": "code",
   "execution_count": 39,
   "metadata": {},
   "outputs": [],
   "source": [
    "def eea(a,b):\n",
    "    if b==0:return (1,0)\n",
    "    (q,r) = (a//b,a%b)\n",
    "    (s,t) = eea(b,r)\n",
    "    return (t, s-(q*t) )\n",
    "\n",
    "def find_inverse(x,y):\n",
    "    inv = eea(x,y)[0]\n",
    "    if inv < 1: inv += y #we only want positive values\n",
    "    return inv"
   ]
  },
  {
   "cell_type": "code",
   "execution_count": 40,
   "metadata": {},
   "outputs": [
    {
     "name": "stdout",
     "output_type": "stream",
     "text": [
      "20 21\n",
      "True\n"
     ]
    }
   ],
   "source": [
    "# gabage\n",
    "p = 23\n",
    "g = 5#primitive_root(p)\n",
    "x = 7 #random.randint(2,p-1)\n",
    "y = pow(g,x,p)\n",
    "#---------------------------------------------------------------\n",
    "m = 3 #5*4#x*r + (k*s) % (p-1) hash_simple(6)\n",
    "k = 5 #random.randint(2,p-1)\n",
    "r = pow(g,k,p)\n",
    "\n",
    "#s = find_inverse((m-x*r)*1//k,p-1)\n",
    "s = ((m-x*r)*find_inverse(k,p-1))%(p-1)\n",
    "print(r,s)\n",
    "#--------------------------------------------------------------\n",
    "print((y**r*r**s)%p == pow(g,m,p))"
   ]
  },
  {
   "cell_type": "code",
   "execution_count": 45,
   "metadata": {},
   "outputs": [],
   "source": [
    "def hash_simple(M): # like wiki\n",
    "    return M//2"
   ]
  },
  {
   "cell_type": "code",
   "execution_count": 41,
   "metadata": {},
   "outputs": [],
   "source": [
    "def Mes_Signature_with_simple_hash(M,p,g,x):\n",
    "    m = hash_simple(M)\n",
    "    k = random.randint(2,p-1)\n",
    "    r = pow(g,k,p)\n",
    "    s = ((m-x*r)*find_inverse(k,p-1))%(p-1)\n",
    "    return (r,s)"
   ]
  },
  {
   "cell_type": "code",
   "execution_count": 42,
   "metadata": {},
   "outputs": [],
   "source": [
    "def Mes_Signature(M,p,g,x):\n",
    "    m = hash(M)\n",
    "    print(m)\n",
    "    k = random.randint(2,p-1)\n",
    "    r = pow(g,k,p)\n",
    "    s = ((m-x*r)*find_inverse(k,p-1))%(p-1)\n",
    "    return (r,s)"
   ]
  },
  {
   "cell_type": "code",
   "execution_count": 43,
   "metadata": {},
   "outputs": [],
   "source": [
    "def sig_verification(p,g,y, r,s, m):\n",
    "    if( (0 < r < p) & (0 < s < (p-1)) ):\n",
    "        op1 = (y**r*r**s)%p\n",
    "        op2 =  pow(g,m,p)\n",
    "       # print(op1,op2)\n",
    "        return op1 == op2\n",
    "    else:\n",
    "        return False"
   ]
  },
  {
   "cell_type": "markdown",
   "metadata": {},
   "source": [
    "5.Test your functions on random values and show that your algorithm works correctly (1 point)"
   ]
  },
  {
   "cell_type": "code",
   "execution_count": 78,
   "metadata": {},
   "outputs": [
    {
     "data": {
      "text/plain": [
       "(20, 21)"
      ]
     },
     "execution_count": 78,
     "metadata": {},
     "output_type": "execute_result"
    }
   ],
   "source": [
    "r,s = Mes_Signature_with_simple_hash(6,23,g,x)\n",
    "r,s"
   ]
  },
  {
   "cell_type": "code",
   "execution_count": 79,
   "metadata": {},
   "outputs": [
    {
     "data": {
      "text/plain": [
       "True"
      ]
     },
     "execution_count": 79,
     "metadata": {},
     "output_type": "execute_result"
    }
   ],
   "source": [
    "sig_verification(23,g,y,r,s,3)"
   ]
  },
  {
   "cell_type": "markdown",
   "metadata": {},
   "source": [
    "## Problem 3 (15 points) Seminar 2"
   ]
  },
  {
   "cell_type": "markdown",
   "metadata": {},
   "source": [
    "1.Implement SHA256 (https://en.wikipedia.org/wiki/SHA-2) hashing algorithm using the pseudo-code below. Note the great increase in mixing between bits of the w[16..63] words compared to SHA-1 (10 points)"
   ]
  },
  {
   "cell_type": "raw",
   "metadata": {},
   "source": [
    "Note 1: All variables are 32 bit unsigned integers and addition is done modulo 2^32\n",
    "Note 2: For each round, there is one round constant k[i] and one entry in the message schedule array w[i], 0 ≤ i ≤ 63\n",
    "Note 3: The compression function uses 8 working variables, a through h\n",
    "Note 4: Big-endian convention is used when expressing the constants in this pseudocode,\n",
    "    and when parsing message block data from bytes to words, for example,\n",
    "    the first word of the input message \"abc\" after padding is 0x61626380\n",
    "\n",
    "Initialize hash values:\n",
    "(first 32 bits of the fractional parts of the square roots of the first 8 primes 2..19):\n",
    "h0 := 0x6a09e667\n",
    "h1 := 0xbb67ae85\n",
    "h2 := 0x3c6ef372\n",
    "h3 := 0xa54ff53a\n",
    "h4 := 0x510e527f\n",
    "h5 := 0x9b05688c\n",
    "h6 := 0x1f83d9ab\n",
    "h7 := 0x5be0cd19\n",
    "\n",
    "Initialize array of round constants:\n",
    "(first 32 bits of the fractional parts of the cube roots of the first 64 primes 2..311):\n",
    "k[0..63] :=\n",
    "   0x428a2f98, 0x71374491, 0xb5c0fbcf, 0xe9b5dba5, 0x3956c25b, 0x59f111f1, 0x923f82a4, 0xab1c5ed5,\n",
    "   0xd807aa98, 0x12835b01, 0x243185be, 0x550c7dc3, 0x72be5d74, 0x80deb1fe, 0x9bdc06a7, 0xc19bf174,\n",
    "   0xe49b69c1, 0xefbe4786, 0x0fc19dc6, 0x240ca1cc, 0x2de92c6f, 0x4a7484aa, 0x5cb0a9dc, 0x76f988da,\n",
    "   0x983e5152, 0xa831c66d, 0xb00327c8, 0xbf597fc7, 0xc6e00bf3, 0xd5a79147, 0x06ca6351, 0x14292967,\n",
    "   0x27b70a85, 0x2e1b2138, 0x4d2c6dfc, 0x53380d13, 0x650a7354, 0x766a0abb, 0x81c2c92e, 0x92722c85,\n",
    "   0xa2bfe8a1, 0xa81a664b, 0xc24b8b70, 0xc76c51a3, 0xd192e819, 0xd6990624, 0xf40e3585, 0x106aa070,\n",
    "   0x19a4c116, 0x1e376c08, 0x2748774c, 0x34b0bcb5, 0x391c0cb3, 0x4ed8aa4a, 0x5b9cca4f, 0x682e6ff3,\n",
    "   0x748f82ee, 0x78a5636f, 0x84c87814, 0x8cc70208, 0x90befffa, 0xa4506ceb, 0xbef9a3f7, 0xc67178f2\n",
    "\n",
    "Pre-processing (Padding):\n",
    "begin with the original message of length L bits\n",
    "append a single '1' bit\n",
    "append K '0' bits, where K is the minimum number >= 0 such that L + 1 + K + 64 is a multiple of 512\n",
    "append L as a 64-bit big-endian integer, making the total post-processed length a multiple of 512 bits\n",
    "\n",
    "Process the message in successive 512-bit chunks:\n",
    "break message into 512-bit chunks\n",
    "for each chunk\n",
    "    create a 64-entry message schedule array w[0..63] of 32-bit words\n",
    "    (The initial values in w[0..63] don't matter, so many implementations zero them here)\n",
    "    copy chunk into first 16 words w[0..15] of the message schedule array\n",
    "\n",
    "    Extend the first 16 words into the remaining 48 words w[16..63] of the message schedule array:\n",
    "    for i from 16 to 63\n",
    "        s0 := (w[i-15] rightrotate 7) xor (w[i-15] rightrotate 18) xor (w[i-15] rightshift 3)\n",
    "        s1 := (w[i-2] rightrotate 17) xor (w[i-2] rightrotate 19) xor (w[i-2] rightshift 10)\n",
    "        w[i] := w[i-16] + s0 + w[i-7] + s1\n",
    "\n",
    "    Initialize working variables to current hash value:\n",
    "    a := h0\n",
    "    b := h1\n",
    "    c := h2\n",
    "    d := h3\n",
    "    e := h4\n",
    "    f := h5\n",
    "    g := h6\n",
    "    h := h7\n",
    "\n",
    "    Compression function main loop:\n",
    "    for i from 0 to 63\n",
    "        S1 := (e rightrotate 6) xor (e rightrotate 11) xor (e rightrotate 25)\n",
    "        ch := (e and f) xor ((not e) and g)\n",
    "        temp1 := h + S1 + ch + k[i] + w[i]\n",
    "        S0 := (a rightrotate 2) xor (a rightrotate 13) xor (a rightrotate 22)\n",
    "        maj := (a and b) xor (a and c) xor (b and c)\n",
    "        temp2 := S0 + maj\n",
    " \n",
    "        h := g\n",
    "        g := f\n",
    "        f := e\n",
    "        e := d + temp1\n",
    "        d := c\n",
    "        c := b\n",
    "        b := a\n",
    "        a := temp1 + temp2\n",
    "\n",
    "    Add the compressed chunk to the current hash value:\n",
    "    h0 := h0 + a\n",
    "    h1 := h1 + b\n",
    "    h2 := h2 + c\n",
    "    h3 := h3 + d\n",
    "    h4 := h4 + e\n",
    "    h5 := h5 + f\n",
    "    h6 := h6 + g\n",
    "    h7 := h7 + h\n",
    "\n",
    "Produce the final hash value (big-endian):\n",
    "digest := hash := h0 append h1 append h2 append h3 append h4 append h5 append h6 append h7"
   ]
  },
  {
   "cell_type": "code",
   "execution_count": 80,
   "metadata": {},
   "outputs": [],
   "source": [
    "def sha2(data):\n",
    "    bytes = \"\"\n",
    "\n",
    "    #Initialize hash values:\n",
    "    #(first 32 bits of the fractional parts of the square roots of the first 8 primes 2..19):\n",
    "    h0 = 0x6a09e667\n",
    "    h1 = 0xbb67ae85\n",
    "    h2 = 0x3c6ef372\n",
    "    h3 = 0xa54ff53a\n",
    "    h4 = 0x510e527f\n",
    "    h5 = 0x9b05688c\n",
    "    h6 = 0x1f83d9ab\n",
    "    h7 = 0x5be0cd19\n",
    "\n",
    "    #Initialize array of round constants:\n",
    "    #(first 32 bits of the fractional parts of the cube roots of the first 64 primes 2..311):\n",
    "    k = [\n",
    "        0x428a2f98, 0x71374491, 0xb5c0fbcf, 0xe9b5dba5, 0x3956c25b, 0x59f111f1, 0x923f82a4, 0xab1c5ed5,\n",
    "        0xd807aa98, 0x12835b01, 0x243185be, 0x550c7dc3, 0x72be5d74, 0x80deb1fe, 0x9bdc06a7, 0xc19bf174,\n",
    "        0xe49b69c1, 0xefbe4786, 0x0fc19dc6, 0x240ca1cc, 0x2de92c6f, 0x4a7484aa, 0x5cb0a9dc, 0x76f988da,\n",
    "        0x983e5152, 0xa831c66d, 0xb00327c8, 0xbf597fc7, 0xc6e00bf3, 0xd5a79147, 0x06ca6351, 0x14292967,\n",
    "        0x27b70a85, 0x2e1b2138, 0x4d2c6dfc, 0x53380d13, 0x650a7354, 0x766a0abb, 0x81c2c92e, 0x92722c85,\n",
    "        0xa2bfe8a1, 0xa81a664b, 0xc24b8b70, 0xc76c51a3, 0xd192e819, 0xd6990624, 0xf40e3585, 0x106aa070,\n",
    "        0x19a4c116, 0x1e376c08, 0x2748774c, 0x34b0bcb5, 0x391c0cb3, 0x4ed8aa4a, 0x5b9cca4f, 0x682e6ff3,\n",
    "        0x748f82ee, 0x78a5636f, 0x84c87814, 0x8cc70208, 0x90befffa, 0xa4506ceb, 0xbef9a3f7, 0xc67178f2,\n",
    "    ]\n",
    "    \n",
    "    #Pre-processing (Padding):\n",
    "    #begin with the original message of length L bits append a single '1' bit\n",
    "    for n in range(len(data)):\n",
    "        bytes+='{0:08b}'.format(ord(data[n]))\n",
    "        \n",
    "    bits = bytes+\"1\"\n",
    "    pBits = bits\n",
    "    #append K '0' bits, where K is the minimum number >= 0 such that L + 1 + K + 64 is a multiple of 512\n",
    "    while (len(pBits)+1)%512 != 448:\n",
    "        pBits+=\"0\"\n",
    "        \n",
    "    #append the original length\n",
    "    pBits+='{0:064b}'.format(len(bits)-1)\n",
    "\n",
    "    def chunks(l, n):\n",
    "        return [l[i:i+n] for i in range(0, len(l), n)]\n",
    "\n",
    "    def ror(n, b):\n",
    "        return ((n >> b) | (n << (32 - b))) & 0xffffffff\n",
    "    \n",
    "    def shr(n, b):\n",
    "        return (n >> b) & 0xffffffff\n",
    "    \n",
    "    #Process the message in successive 512-bit chunks:\n",
    "    #break message into 512-bit chunks\n",
    "    for c in chunks(pBits, 512): \n",
    "        words = chunks(c, 32)\n",
    "        #create a 64-entry message schedule array w[0..63] of 32-bit words\n",
    "        w = [0]*64\n",
    "        #copy chunk into first 16 words w[0..15] of the message schedule \n",
    "        for n in range(0, 16):\n",
    "            w[n] = int(words[n], 2)\n",
    "            \n",
    "        #Extend the first 16 words into the remaining 48 words w[16..63] of the message schedule array:\n",
    "        for i in range(16,64):\n",
    "            s0 = (ror(w[i-15],7)^ror(w[i-15],18)^shr(w[i-15],3) )#(shr(w[i-15],7)\n",
    "            s1 = (ror(w[i-2],17)^ror(w[i-2],19)^shr(w[i-2],10) )\n",
    "            w[i] = (w[i-16] + s0 + w[i-7] + s1) & 0xffffffff\n",
    "\n",
    "        #Initialize working variables to current hash value:\n",
    "        a = h0\n",
    "        b = h1\n",
    "        c = h2\n",
    "        d = h3\n",
    "        e = h4\n",
    "        f = h5\n",
    "        g = h6\n",
    "        h = h7                                          \n",
    "\n",
    "        #Compression function main loop:\n",
    "        for i in range(0, 64):\n",
    "            S1 = (ror(e,6)^ror(e,11)^ror(e,25))\n",
    "            ch = (e & f) ^ ((~e) & g)\n",
    "            temp1 = h + S1 + ch + k[i] + w[i] \n",
    "            S0 = (ror(a,2)^ror(a,13)^ror(a,22))\n",
    "            maj = (a & b)^(a & c)^(b & c)\n",
    "            temp2 = S0 + maj\n",
    "                                                  \n",
    "            h = g\n",
    "            g = f\n",
    "            f = e\n",
    "            e = (d + temp1)& 0xffffffff\n",
    "            d = c\n",
    "            c = b\n",
    "            b = a\n",
    "            a = (temp1 + temp2)& 0xffffffff\n",
    "\n",
    "        # Add the compressed chunk to the current hash value:\n",
    "        h0 = h0 + a & 0xffffffff\n",
    "        h1 = h1 + b & 0xffffffff\n",
    "        h2 = h2 + c & 0xffffffff\n",
    "        h3 = h3 + d & 0xffffffff\n",
    "        h4 = h4 + e & 0xffffffff\n",
    "        h5 = h5 + f & 0xffffffff\n",
    "        h6 = h6 + g & 0xffffffff\n",
    "        h7 = h7 + h & 0xffffffff                                         \n",
    "\n",
    "    # Produce the final hash value (big-endian):\n",
    "    return '%08x%08x%08x%08x%08x%08x%08x%08x' % (h0, h1, h2, h3, h4, h5, h6, h7)"
   ]
  },
  {
   "cell_type": "markdown",
   "metadata": {},
   "source": [
    "2.Calculate hashes of the texts below (1 point)"
   ]
  },
  {
   "cell_type": "code",
   "execution_count": 81,
   "metadata": {},
   "outputs": [],
   "source": [
    "string_small1 = 'This is a very small string with a few characters.'\n",
    "string_larger = 'This is a larger string that contains more characters.'\n",
    "string_big = 'This is a larger string that contains more characters. This demonstrates that no matter how big the input stream is, the generated hash is the same size (but of course, not the same value). If two files have a different hash, they surely contain different data.'\n",
    "string_empty = ''"
   ]
  },
  {
   "cell_type": "code",
   "execution_count": 82,
   "metadata": {},
   "outputs": [
    {
     "name": "stdout",
     "output_type": "stream",
     "text": [
      "e3b0c44298fc1c149afbf4c8996fb92427ae41e4649b934ca495991b7852b855\n"
     ]
    }
   ],
   "source": [
    "#compare with wiki\n",
    "hex_string = sha2(\"\")\n",
    "print(hex_string)"
   ]
  },
  {
   "cell_type": "code",
   "execution_count": 83,
   "metadata": {},
   "outputs": [
    {
     "name": "stdout",
     "output_type": "stream",
     "text": [
      "551bfc4b109bec23bbf29ba0e8c4520f194ae77d0c1839b052552deb23774f07\n",
      "e3c7ba4a5ff68765249cc065a5198b1b8be94b67910a946f1fbaa995daecb51a\n",
      "14d7885558ff807137a02f6b610df0e680e34ebf5a2565d44e138443fb82e891\n",
      "e3b0c44298fc1c149afbf4c8996fb92427ae41e4649b934ca495991b7852b855\n"
     ]
    }
   ],
   "source": [
    "string_small=sha2(string_small1)\n",
    "string_larger=sha2(string_larger)\n",
    "string_big=sha2(string_big)\n",
    "string_empty=sha2(string_empty)\n",
    "print(string_small)\n",
    "print(string_larger)\n",
    "print(string_big)\n",
    "print(string_empty)"
   ]
  },
  {
   "cell_type": "markdown",
   "metadata": {},
   "source": [
    "3.What is a bit length of each hash? (1 point)"
   ]
  },
  {
   "cell_type": "code",
   "execution_count": 84,
   "metadata": {},
   "outputs": [
    {
     "name": "stdout",
     "output_type": "stream",
     "text": [
      "64\n",
      "64\n",
      "64\n",
      "64\n"
     ]
    }
   ],
   "source": [
    "print(len(string_small))\n",
    "print(len(string_larger))\n",
    "print(len(string_big))\n",
    "print(len(string_empty))"
   ]
  },
  {
   "cell_type": "code",
   "execution_count": 85,
   "metadata": {
    "scrolled": true
   },
   "outputs": [
    {
     "name": "stdout",
     "output_type": "stream",
     "text": [
      "257\n",
      "258\n",
      "255\n",
      "258\n",
      "------------------------------------------------\n",
      "256\n",
      "256\n",
      "256\n",
      "256\n"
     ]
    }
   ],
   "source": [
    "import binascii\n",
    "string_small_lenght = bin(int(string_small, 16))\n",
    "string_larger_lenght=bin(int(string_larger, 16))\n",
    "string_big_lenght=bin(int(string_big, 16))\n",
    "string_empty_lenght=bin(int(string_empty, 16))\n",
    "print(len(string_small_lenght))\n",
    "print(len(string_larger_lenght))\n",
    "print(len(string_big_lenght))\n",
    "print(len(string_empty_lenght))\n",
    "\n",
    "print(\"------------------------------------------------\")\n",
    "#special for them who wants 256\n",
    "print(len(format(int(string_small,16),'b').zfill(256)))\n",
    "print(len(format(int(string_larger,16),'b').zfill(256)))\n",
    "print(len(format(int(string_big,16),'b').zfill(256)))\n",
    "print(len(format(int(string_empty,16),'b').zfill(256)))"
   ]
  },
  {
   "cell_type": "markdown",
   "metadata": {},
   "source": [
    "4.What is the bitwise distance between them? What is bitwise distance between their hashes? (1 point)"
   ]
  },
  {
   "cell_type": "code",
   "execution_count": 86,
   "metadata": {},
   "outputs": [],
   "source": [
    "small_string_changed1 = 'this is a very small file with a few characters.'\n",
    "small_string_changed=sha2(small_string_changed1)"
   ]
  },
  {
   "cell_type": "code",
   "execution_count": 87,
   "metadata": {},
   "outputs": [
    {
     "name": "stdout",
     "output_type": "stream",
     "text": [
      "26\n"
     ]
    }
   ],
   "source": [
    "zipped=zip(small_string_changed1,string_small1)\n",
    "d=0\n",
    "for i in zipped:\n",
    "    if i[0]!=i[1]:\n",
    "        d+=1\n",
    "print(d)"
   ]
  },
  {
   "cell_type": "code",
   "execution_count": 88,
   "metadata": {},
   "outputs": [
    {
     "name": "stdout",
     "output_type": "stream",
     "text": [
      "60\n"
     ]
    }
   ],
   "source": [
    "zipp_hash=zip(small_string_changed,string_small)\n",
    "\n",
    "d=0\n",
    "for i in zipp_hash:\n",
    "    if i[0]!=i[1]:\n",
    "        d+=1\n",
    "print(d)"
   ]
  },
  {
   "cell_type": "markdown",
   "metadata": {},
   "source": [
    "5.Typically use apply hash function to our passwords and texts that we want to digitally sign. Implement digital signature of hashed string using El-Gamal digital signature. Compare the digital signature of pain text and hashed text. (2 points)"
   ]
  },
  {
   "cell_type": "code",
   "execution_count": 89,
   "metadata": {},
   "outputs": [],
   "source": [
    "def Mes_Signature_with_sha2(M,p,g,x):\n",
    "    m = int(sha2(M),16)\n",
    "    print(m)\n",
    "    k = random.randint(2,p-1)\n",
    "    r = pow(g,k,p)\n",
    "    s = ((m-x*r)*find_inverse(k,p-1))%(p-1)\n",
    "    return (r,s)"
   ]
  },
  {
   "cell_type": "code",
   "execution_count": 96,
   "metadata": {},
   "outputs": [
    {
     "name": "stdout",
     "output_type": "stream",
     "text": [
      "20329878786436204988385760252021328656300425018755239228739303522659023427620\n"
     ]
    },
    {
     "data": {
      "text/plain": [
       "(20, 8)"
      ]
     },
     "execution_count": 96,
     "metadata": {},
     "output_type": "execute_result"
    }
   ],
   "source": [
    "Mes_Signature_with_sha2('hello',23,5,7)"
   ]
  },
  {
   "cell_type": "code",
   "execution_count": 97,
   "metadata": {
    "scrolled": true
   },
   "outputs": [
    {
     "name": "stdout",
     "output_type": "stream",
     "text": [
      "-5128446353143906143\n"
     ]
    },
    {
     "data": {
      "text/plain": [
       "(4, 1)"
      ]
     },
     "execution_count": 97,
     "metadata": {},
     "output_type": "execute_result"
    }
   ],
   "source": [
    "Mes_Signature(M='hello',g=23,p=5,x=7)"
   ]
  },
  {
   "cell_type": "markdown",
   "metadata": {},
   "source": [
    "## Problem 4 (15 points)"
   ]
  },
  {
   "cell_type": "markdown",
   "metadata": {},
   "source": [
    "Merkle hash trees play an important role in forming transaction blocks in blockchain. In this assignment we ask you to plot your own Merkle hash tree and check its' properties. Below we provide you with some code fragment what you can use in your assignment"
   ]
  },
  {
   "cell_type": "code",
   "execution_count": 98,
   "metadata": {},
   "outputs": [],
   "source": [
    "import matplotlib\n",
    "import networkx as nx\n",
    "%matplotlib inline\n",
    "from networkx import balanced_tree, draw_networkx, draw"
   ]
  },
  {
   "cell_type": "markdown",
   "metadata": {},
   "source": [
    "Let us plot graph basis for Merkle hash tree"
   ]
  },
  {
   "cell_type": "code",
   "execution_count": 99,
   "metadata": {},
   "outputs": [
    {
     "data": {
      "text/plain": [
       "{0: Text(0,4,'0'),\n",
       " 1: Text(-2,3,'1'),\n",
       " 2: Text(2,3,'2'),\n",
       " 3: Text(-3,2,'3'),\n",
       " 4: Text(-1,2,'4'),\n",
       " 5: Text(1,2,'5'),\n",
       " 6: Text(3,2,'6'),\n",
       " 7: Text(-3,1,'tx1'),\n",
       " 8: Text(-1,1,'tx2'),\n",
       " 9: Text(1,1,'tx3'),\n",
       " 10: Text(3,1,'tx4')}"
      ]
     },
     "execution_count": 99,
     "metadata": {},
     "output_type": "execute_result"
    },
    {
     "data": {
      "image/png": "[encoded data removed]",
      "text/plain": [
       "<Figure size 432x288 with 1 Axes>"
      ]
     },
     "metadata": {},
     "output_type": "display_data"
    }
   ],
   "source": [
    "G = nx.Graph()\n",
    "positions = {}\n",
    "coordinates = [\n",
    "    [0, 4],\n",
    "    [-2, 3],\n",
    "    [2, 3],\n",
    "    [-3, 2],\n",
    "    [-1, 2],\n",
    "    [1, 2],\n",
    "    [3, 2],\n",
    "    [-3, 1],\n",
    "    [-1, 1],\n",
    "    [1, 1],\n",
    "    [3, 1]\n",
    "]\n",
    "parents = [0, 0, 0, 1, 1, 2, 2, 3, 4, 5, 6]\n",
    "for index in range(11):\n",
    "    G.add_node(index)\n",
    "    G.add_edge(index, parents[index])\n",
    "    positions[index] = coordinates[index]\n",
    "nx.draw(G, positions, node_size = 1000)\n",
    "labels = {\n",
    "    0: '0',\n",
    "    1: '1',\n",
    "    2: '2',\n",
    "    3: '3',\n",
    "    4: '4',\n",
    "    5: '5',\n",
    "    6: '6',\n",
    "    7: 'tx1',\n",
    "    8: 'tx2',\n",
    "    9: 'tx3',\n",
    "    10: 'tx4',\n",
    "}\n",
    "nx.draw_networkx_labels(G, positions, labels = labels)"
   ]
  },
  {
   "cell_type": "markdown",
   "metadata": {},
   "source": [
    "In Bitcoin double sha256 hash scheme is used. Here is an example."
   ]
  },
  {
   "cell_type": "code",
   "execution_count": 100,
   "metadata": {},
   "outputs": [
    {
     "name": "stdout",
     "output_type": "stream",
     "text": [
      "First hash represented as a hexadecimal number: 2cf24dba5fb0a30e26e83b2ac5b9e29e1b161e5c1fa7425e73043362938b9824\n",
      "Second hash represented as a hexadecimal number: 9595c9df90075148eb06860365df33584b75bff782a510c6cd4883a419833d50\n"
     ]
    }
   ],
   "source": [
    "import hashlib, binascii\n",
    "\n",
    "\n",
    "first_hash = hashlib.sha256(b\"hello\") # \"b\" stands for binary representation\n",
    "second_hash = hashlib.sha256()\n",
    "print('First hash represented as a hexadecimal number:', first_hash.hexdigest())\n",
    "second_hash.update(first_hash.digest())\n",
    "print('Second hash represented as a hexadecimal number:', second_hash.hexdigest())"
   ]
  },
  {
   "cell_type": "markdown",
   "metadata": {},
   "source": [
    "Now we can easily change vertices' labels to hashes of corresponding messages and plot new graph"
   ]
  },
  {
   "cell_type": "code",
   "execution_count": 101,
   "metadata": {},
   "outputs": [
    {
     "name": "stdout",
     "output_type": "stream",
     "text": [
      "856a4921cd32690244af7568e7bd1391a94119e17c7f33234f4bf11271b223e5\n"
     ]
    },
    {
     "data": {
      "image/png": "[encoded data removed]",
      "text/plain": [
       "<Figure size 432x288 with 1 Axes>"
      ]
     },
     "metadata": {},
     "output_type": "display_data"
    }
   ],
   "source": [
    "labels[3] = hashlib.sha256(hashlib.sha256(b\"tx1\").digest()).hexdigest()\n",
    "\n",
    "# and plot the graph again\n",
    "\n",
    "nx.draw(G, positions, node_size = 1000)\n",
    "nx.draw_networkx_labels(G, positions, labels = labels, font_size = 8)\n",
    "print(labels[3])"
   ]
  },
  {
   "cell_type": "markdown",
   "metadata": {},
   "source": [
    "1.Construct Merkle hash tree using previously constructed graph by finding corresponding SHA256 hashes on vertices (2 points). Plot obtained Merkle hash tree (1 point)"
   ]
  },
  {
   "cell_type": "code",
   "execution_count": 102,
   "metadata": {},
   "outputs": [
    {
     "data": {
      "text/plain": [
       "{0: Text(0,4,'5eaee129fb6c4761a542e919f8fd0fa3f3c3d83a33bbeeec5a7e8772ddfb8f88'),\n",
       " 1: Text(-2,3,'41925fc3630f375e23755f04099f1b2c51f372a9792762b28478fbbc5faf1106'),\n",
       " 2: Text(2,3,'5c72c2fc6c2ed732c66fa8dc63f163617be1eb6175b88b3b640f440abb236e73'),\n",
       " 3: Text(-3,2,'856a4921cd32690244af7568e7bd1391a94119e17c7f33234f4bf11271b223e5'),\n",
       " 4: Text(-1,2,'79043a4d1d4d6d0b830519bfc07b92b4d162a4cd54235719c2c3cc211a638dfd'),\n",
       " 5: Text(1,2,'ef729c31d206229249bd791b29676d26cc7465aa6bc2003d80c7a82a316e0233'),\n",
       " 6: Text(3,2,'4746dc9c16f97469fa45710394c4a0e2f29226efc04cab47c29ce579ae19a74e'),\n",
       " 7: Text(-3,1,'tx1'),\n",
       " 8: Text(-1,1,'tx2'),\n",
       " 9: Text(1,1,'tx3'),\n",
       " 10: Text(3,1,'tx4')}"
      ]
     },
     "execution_count": 102,
     "metadata": {},
     "output_type": "execute_result"
    },
    {
     "data": {
      "image/png": "[encoded data removed]",
      "text/plain": [
       "<Figure size 432x288 with 1 Axes>"
      ]
     },
     "metadata": {},
     "output_type": "display_data"
    }
   ],
   "source": [
    "for i in range(3,7):\n",
    "    labels[i]= hashlib.sha256(hashlib.sha256(labels[i+4].encode('utf-8')).digest()).hexdigest()\n",
    "labels[1] = hashlib.sha256(hashlib.sha256(labels[3].encode('utf-8')+labels[4].encode('utf-8')).digest()).hexdigest()\n",
    "labels[2] = hashlib.sha256(hashlib.sha256(labels[5].encode('utf-8')+labels[6].encode('utf-8')).digest()).hexdigest()\n",
    "labels[0] = hashlib.sha256(hashlib.sha256(labels[1].encode('utf-8')+labels[2].encode('utf-8')).digest()).hexdigest()\n",
    "\n",
    "nx.draw(G, positions, node_size = 1000)\n",
    "nx.draw_networkx_labels(G, positions, labels = labels, font_size = 8)"
   ]
  },
  {
   "cell_type": "markdown",
   "metadata": {},
   "source": [
    "2.Provide a proof of correctness of leaf tx2 (2 points). "
   ]
  },
  {
   "cell_type": "code",
   "execution_count": 103,
   "metadata": {},
   "outputs": [
    {
     "name": "stdout",
     "output_type": "stream",
     "text": [
      "True\n"
     ]
    }
   ],
   "source": [
    "proof_hash = hashlib.sha256(hashlib.sha256(b\"tx2\").digest()).hexdigest()\n",
    "hash1 = hashlib.sha256(hashlib.sha256(labels[3].encode('utf-8')+proof_hash.encode('utf-8')).digest()).hexdigest()\n",
    "TopHash = hashlib.sha256(hashlib.sha256(hash1.encode('utf-8')+labels[2].encode('utf-8')).digest()).hexdigest()\n",
    "if labels[0] == TopHash:\n",
    "    print(True)\n",
    "else:\n",
    "    print(False)"
   ]
  },
  {
   "cell_type": "markdown",
   "metadata": {},
   "source": [
    "3.Provide a proof of correctness for set of leafs (tx3-tx4) (2 points)"
   ]
  },
  {
   "cell_type": "code",
   "execution_count": 104,
   "metadata": {},
   "outputs": [
    {
     "name": "stdout",
     "output_type": "stream",
     "text": [
      "True\n"
     ]
    }
   ],
   "source": [
    "proof_hash_3 = hashlib.sha256(hashlib.sha256(b\"tx3\").digest()).hexdigest()\n",
    "proof_hash_4 = hashlib.sha256(hashlib.sha256(b\"tx4\").digest()).hexdigest()\n",
    "\n",
    "hash2 = hashlib.sha256(hashlib.sha256(proof_hash_3.encode('utf-8')+proof_hash_4.encode('utf-8')).digest()).hexdigest()\n",
    "TopHash = hashlib.sha256(hashlib.sha256(labels[1].encode('utf-8')+hash2.encode('utf-8')).digest()).hexdigest()\n",
    "if labels[0] == TopHash:\n",
    "    print(True)\n",
    "else:\n",
    "    print(False)"
   ]
  },
  {
   "cell_type": "markdown",
   "metadata": {},
   "source": [
    "4.Change the value on leaf tx1 and recompute corresponding hashes. Plot newly obtained Merkle hash tree (2 points)"
   ]
  },
  {
   "cell_type": "code",
   "execution_count": 105,
   "metadata": {},
   "outputs": [
    {
     "data": {
      "text/plain": [
       "{0: Text(0,4,'27468c936f057791c2db1b48ee5f5c6c7a8dd6284ebb426590200d9d7098a7bd'),\n",
       " 1: Text(-2,3,'9ca2a29ac8ab8cd4645cecc6b7b51a2ca3a0078d81b849ae29592a95848612b9'),\n",
       " 2: Text(2,3,'5c72c2fc6c2ed732c66fa8dc63f163617be1eb6175b88b3b640f440abb236e73'),\n",
       " 3: Text(-3,2,'712150aa640b7d7ec3336e0054eb3abf0cca6d0d6d4af4e30e2c239eb6bc5468'),\n",
       " 4: Text(-1,2,'79043a4d1d4d6d0b830519bfc07b92b4d162a4cd54235719c2c3cc211a638dfd'),\n",
       " 5: Text(1,2,'ef729c31d206229249bd791b29676d26cc7465aa6bc2003d80c7a82a316e0233'),\n",
       " 6: Text(3,2,'4746dc9c16f97469fa45710394c4a0e2f29226efc04cab47c29ce579ae19a74e'),\n",
       " 7: Text(-3,1,'tx'),\n",
       " 8: Text(-1,1,'tx2'),\n",
       " 9: Text(1,1,'tx3'),\n",
       " 10: Text(3,1,'tx4')}"
      ]
     },
     "execution_count": 105,
     "metadata": {},
     "output_type": "execute_result"
    },
    {
     "data": {
      "image/png": "[encoded data removed]",
      "text/plain": [
       "<Figure size 432x288 with 1 Axes>"
      ]
     },
     "metadata": {},
     "output_type": "display_data"
    }
   ],
   "source": [
    "labels[7] = 'tx'\n",
    "for i in range(3,7):\n",
    "    #new = 'b'+labels[i+4]\n",
    "    labels[i]= hashlib.sha256(hashlib.sha256(labels[i+4].encode('utf-8')).digest()).hexdigest()\n",
    "#lab1 = #binascii.unhexlify(labels[3]+labels[4])\n",
    "#lab2 = #binascii.unhexlify(labels[5]+labels[6])\n",
    "labels[1] = hashlib.sha256(hashlib.sha256(labels[3].encode('utf-8')+labels[4].encode('utf-8')).digest()).hexdigest()\n",
    "labels[2] = hashlib.sha256(hashlib.sha256(labels[5].encode('utf-8')+labels[6].encode('utf-8')).digest()).hexdigest()\n",
    "#lab0 = binascii.unhexlify(labels[1]+labels[2])\n",
    "labels[0] = hashlib.sha256(hashlib.sha256(labels[1].encode('utf-8')+labels[2].encode('utf-8')).digest()).hexdigest()\n",
    "# and plot the graph again\n",
    "\n",
    "nx.draw(G, positions, node_size = 1000)\n",
    "nx.draw_networkx_labels(G, positions, labels = labels, font_size = 8)"
   ]
  },
  {
   "cell_type": "markdown",
   "metadata": {},
   "source": [
    "5. Nodes in Merkle hash trees may have arbitrary fanout. In previouse items we consider the case of fanout equals to two. But what will change if we set a fanout equals to three? Construct Merkle hash trees with fanout 3 to sign 9 values? Construct the hash tree with fanout 2 to sign the same set of values? Plot obtained trees (4 points) "
   ]
  },
  {
   "cell_type": "code",
   "execution_count": 106,
   "metadata": {},
   "outputs": [
    {
     "data": {
      "text/plain": [
       "{0: Text(0,4,'0'),\n",
       " 1: Text(-3,3,'1'),\n",
       " 2: Text(0,3,'2'),\n",
       " 3: Text(3,3,'3'),\n",
       " 4: Text(-4,2,'4'),\n",
       " 5: Text(-3,2,'5'),\n",
       " 6: Text(-2,2,'6'),\n",
       " 7: Text(-1,2,'7'),\n",
       " 8: Text(0,2,'8'),\n",
       " 9: Text(1,2,'9'),\n",
       " 10: Text(2,2,'10'),\n",
       " 11: Text(3,2,'11'),\n",
       " 12: Text(4,2,'12'),\n",
       " 13: Text(-4,1,'tx1'),\n",
       " 14: Text(-3,1,'tx2'),\n",
       " 15: Text(-2,1,'tx3'),\n",
       " 16: Text(-1,1,'tx4'),\n",
       " 17: Text(0,1,'tx5'),\n",
       " 18: Text(1,1,'tx6'),\n",
       " 19: Text(2,1,'tx7'),\n",
       " 20: Text(3,1,'tx8'),\n",
       " 21: Text(4,1,'tx9')}"
      ]
     },
     "execution_count": 106,
     "metadata": {},
     "output_type": "execute_result"
    },
    {
     "data": {
      "image/png": "[encoded data removed]",
      "text/plain": [
       "<Figure size 432x288 with 1 Axes>"
      ]
     },
     "metadata": {},
     "output_type": "display_data"
    }
   ],
   "source": [
    "G = nx.Graph()\n",
    "positions = {}\n",
    "coordinates = [\n",
    "    [0, 4],\n",
    "    \n",
    "    [-3, 3],\n",
    "    [0, 3],\n",
    "    [3, 3],\n",
    "    \n",
    "    [-4, 2],\n",
    "    [-3, 2],\n",
    "    [-2, 2],\n",
    "    \n",
    "    [-1, 2],\n",
    "    [0, 2],\n",
    "    [1, 2],\n",
    "    \n",
    "    [2, 2],\n",
    "    [3, 2],\n",
    "    [4, 2],\n",
    "    \n",
    "    [-4, 1],\n",
    "    [-3, 1],\n",
    "    [-2, 1],\n",
    "    \n",
    "    [-1, 1],\n",
    "    [0, 1],\n",
    "    [1, 1],\n",
    "    \n",
    "    [2, 1],\n",
    "    [3, 1],\n",
    "    [4, 1]\n",
    "]\n",
    "parents = [0, 0, 0, 0, 1, 1, 1, 2, 2, 2, 3, 3, 3, 4, 5, 6,7,8,9,10,11,12]\n",
    "for index in range(len(parents)):\n",
    "    G.add_node(index)\n",
    "    G.add_edge(index, parents[index])\n",
    "    positions[index] = coordinates[index]\n",
    "nx.draw(G, positions, node_size = 1000)\n",
    "labels = {\n",
    "    0: '0',\n",
    "    1: '1',\n",
    "    2: '2',\n",
    "    3: '3',\n",
    "    4: '4',\n",
    "    5: '5',\n",
    "    6: '6',\n",
    "    7: '7',\n",
    "    8: '8',\n",
    "    9: '9',\n",
    "    10: '10',\n",
    "    11: '11',\n",
    "    12: '12',\n",
    "    13: 'tx1',\n",
    "    14: 'tx2',\n",
    "    15: 'tx3',\n",
    "    16: 'tx4',\n",
    "    17: 'tx5',\n",
    "    18: 'tx6',\n",
    "    19: 'tx7',\n",
    "    20: 'tx8',\n",
    "    21: 'tx9'\n",
    "}\n",
    "\n",
    "nx.draw_networkx_labels(G, positions, labels = labels)"
   ]
  },
  {
   "cell_type": "code",
   "execution_count": 107,
   "metadata": {},
   "outputs": [
    {
     "data": {
      "text/plain": [
       "{0: Text(0,4,'e7296a950ce7691ac317379ed5ab311cb1cdd4904b59ed20d410bc51b7f69196'),\n",
       " 1: Text(-3,3,'66ed30b63243fcd5bd1b7414b59e2c2346ea01ca124d58651653ee4e5f47a43b'),\n",
       " 2: Text(0,3,'c8cfb3fc3818c0aa840299e590ce437472935b00cf9f2b49ea559f7e3f8c012f'),\n",
       " 3: Text(3,3,'d9dccb4196250a8861ce62b1f8e7e44563c936562337a98cb39d5f69c4696501'),\n",
       " 4: Text(-4,2,'856a4921cd32690244af7568e7bd1391a94119e17c7f33234f4bf11271b223e5'),\n",
       " 5: Text(-3,2,'79043a4d1d4d6d0b830519bfc07b92b4d162a4cd54235719c2c3cc211a638dfd'),\n",
       " 6: Text(-2,2,'ef729c31d206229249bd791b29676d26cc7465aa6bc2003d80c7a82a316e0233'),\n",
       " 7: Text(-1,2,'4746dc9c16f97469fa45710394c4a0e2f29226efc04cab47c29ce579ae19a74e'),\n",
       " 8: Text(0,2,'929e74a52e6f0d8390d60d631d6dc8fb6cde5f10c04c7053bc94ce3f62759823'),\n",
       " 9: Text(1,2,'ccd702558bb588ba5d49d2ec85af0453fae434476f205ad6caa93da525f86627'),\n",
       " 10: Text(2,2,'038edc078728e6455aa202890dec7d4635f2180e999f1a7c280c0283e5dc9ccf'),\n",
       " 11: Text(3,2,'9cb58fa7c7cf21f3e426c113f8f48c115402a476024f21edd7db637f06bb8f76'),\n",
       " 12: Text(4,2,'1d5acdeb18c0a72f5ec33b8049b7990cdd40ee81acae5375dfd0f1c06c32252b'),\n",
       " 13: Text(-4,1,'tx1'),\n",
       " 14: Text(-3,1,'tx2'),\n",
       " 15: Text(-2,1,'tx3'),\n",
       " 16: Text(-1,1,'tx4'),\n",
       " 17: Text(0,1,'tx5'),\n",
       " 18: Text(1,1,'tx6'),\n",
       " 19: Text(2,1,'tx7'),\n",
       " 20: Text(3,1,'tx8'),\n",
       " 21: Text(4,1,'tx9')}"
      ]
     },
     "execution_count": 107,
     "metadata": {},
     "output_type": "execute_result"
    },
    {
     "data": {
      "image/png": "[encoded data removed]",
      "text/plain": [
       "<Figure size 432x288 with 1 Axes>"
      ]
     },
     "metadata": {},
     "output_type": "display_data"
    }
   ],
   "source": [
    "for i in range(4,13):\n",
    "    labels[i]= hashlib.sha256(hashlib.sha256(labels[i+9].encode('utf-8')).digest()).hexdigest()\n",
    "\n",
    "    labels[1] = hashlib.sha256(hashlib.sha256(labels[4].encode('utf-8')+labels[5].encode('utf-8')+labels[6].encode('utf-8')).digest()).hexdigest()\n",
    "labels[2] = hashlib.sha256(hashlib.sha256(labels[7].encode('utf-8')+labels[8].encode('utf-8')+labels[9].encode('utf-8')).digest()).hexdigest()\n",
    "labels[3] = hashlib.sha256(hashlib.sha256(labels[10].encode('utf-8')+labels[11].encode('utf-8')+labels[12].encode('utf-8')).digest()).hexdigest()\n",
    "\n",
    "labels[0] = hashlib.sha256(hashlib.sha256(labels[1].encode('utf-8')+labels[2].encode('utf-8')+labels[3].encode('utf-8')).digest()).hexdigest()\n",
    "\n",
    "nx.draw(G, positions, node_size = 1000)\n",
    "nx.draw_networkx_labels(G, positions, labels = labels, font_size = 8)"
   ]
  },
  {
   "cell_type": "code",
   "execution_count": 108,
   "metadata": {},
   "outputs": [
    {
     "data": {
      "text/plain": [
       "{0: Text(0,6,'0'),\n",
       " 1: Text(-1.5,5,'1'),\n",
       " 2: Text(2.5,5,'2'),\n",
       " 3: Text(-5.5,4,'3'),\n",
       " 4: Text(1.5,4,'4'),\n",
       " 5: Text(3.5,4,'5'),\n",
       " 6: Text(-7,3,'6'),\n",
       " 7: Text(-3.5,3,'7'),\n",
       " 8: Text(0,3,'8'),\n",
       " 9: Text(3.5,3,'9'),\n",
       " 10: Text(5,3,'10'),\n",
       " 11: Text(-8,2,'11'),\n",
       " 12: Text(-6,2,'12'),\n",
       " 13: Text(-4.5,2,'13'),\n",
       " 14: Text(-2.5,2,'14'),\n",
       " 15: Text(-1,2,'15'),\n",
       " 16: Text(1,2,'16'),\n",
       " 17: Text(2.5,2,'17'),\n",
       " 18: Text(4.5,2,'18'),\n",
       " 19: Text(6,2,'19'),\n",
       " 20: Text(-8,1,'tx1'),\n",
       " 21: Text(-6,1,'tx2'),\n",
       " 22: Text(-4.5,1,'tx3'),\n",
       " 23: Text(-2.5,1,'tx4'),\n",
       " 24: Text(-1,1,'tx5'),\n",
       " 25: Text(1,1,'tx6'),\n",
       " 26: Text(2.5,1,'tx7'),\n",
       " 27: Text(4.5,1,'tx8'),\n",
       " 28: Text(6,1,'tx9')}"
      ]
     },
     "execution_count": 108,
     "metadata": {},
     "output_type": "execute_result"
    },
    {
     "data": {
      "image/png": "[encoded data removed]",
      "text/plain": [
       "<Figure size 432x288 with 1 Axes>"
      ]
     },
     "metadata": {},
     "output_type": "display_data"
    }
   ],
   "source": [
    "G = nx.Graph()\n",
    "positions = {}\n",
    "coordinates = [\n",
    "    [0, 6],\n",
    "    \n",
    "    [-1.5, 5],\n",
    "    [2.5, 5],\n",
    "    \n",
    "    [-5.5, 4],\n",
    "    [1.5, 4],\n",
    "    [3.5, 4],\n",
    "    \n",
    "    [-7, 3],\n",
    "    [-3.5, 3],\n",
    "    [0, 3],\n",
    "    [3.5, 3],\n",
    "    [5, 3],\n",
    "    \n",
    "    [-8, 2],\n",
    "    [-6, 2],\n",
    "    [-4.5, 2],\n",
    "    [-2.5, 2],\n",
    "    [-1, 2],\n",
    "    [1, 2],\n",
    "    [2.5, 2],\n",
    "    [4.5, 2],\n",
    "    [6, 2],\n",
    "    \n",
    "    [-8, 1],\n",
    "    [-6, 1],\n",
    "    [-4.5, 1],\n",
    "    [-2.5, 1],\n",
    "    [-1, 1],\n",
    "    [1, 1],\n",
    "    [2.5, 1],\n",
    "    [4.5, 1],\n",
    "    [6, 1]\n",
    "]\n",
    "parents = [0, 0, 0, 1, 1, 2, 3, 3, 4, 4, 5, 6, 6, 7, 7, 8,8,9,9,10,11,12,13,14,15,16,17,18,19]\n",
    "for index in range(len(parents)):\n",
    "    G.add_node(index)\n",
    "    G.add_edge(index, parents[index])\n",
    "    positions[index] = coordinates[index]\n",
    "nx.draw(G, positions, node_size = 1000)\n",
    "labels = {\n",
    "    0: '0',\n",
    "    1: '1',\n",
    "    2: '2',\n",
    "    3: '3',\n",
    "    4: '4',\n",
    "    5: '5',\n",
    "    6: '6',\n",
    "    7: '7',\n",
    "    8: '8',\n",
    "    9: '9',\n",
    "    10: '10',\n",
    "    11: '11',\n",
    "    12: '12',\n",
    "    13: '13',\n",
    "    14: '14',\n",
    "    15: '15',\n",
    "    16: '16',\n",
    "    17: '17',\n",
    "    18: '18',\n",
    "    19: '19',\n",
    "    20: 'tx1',\n",
    "    21: 'tx2',\n",
    "    22: 'tx3',\n",
    "    23: 'tx4',\n",
    "    24: 'tx5',\n",
    "    25: 'tx6',\n",
    "    26: 'tx7',\n",
    "    27: 'tx8',\n",
    "    28: 'tx9'\n",
    "    \n",
    "}\n",
    "nx.draw_networkx_labels(G, positions, labels = labels)"
   ]
  },
  {
   "cell_type": "code",
   "execution_count": 109,
   "metadata": {},
   "outputs": [
    {
     "data": {
      "text/plain": [
       "{0: Text(0,6,'014812f0ed0d468e946d9f6aaa90ec39882f71ee199e9d72d4749a7cf0373721'),\n",
       " 1: Text(-1.5,5,'7ed0ef1f4a0f7e02413d0f19708f9bde561158a5edd44315ea84e0f18ad7bce3'),\n",
       " 2: Text(2.5,5,'a8b1fcb86f005f2d0316a7874f6afe2101f20970d836aa4658af0dc704abff74'),\n",
       " 3: Text(-5.5,4,'5eaee129fb6c4761a542e919f8fd0fa3f3c3d83a33bbeeec5a7e8772ddfb8f88'),\n",
       " 4: Text(1.5,4,'d39c3a46d7a6dfcf4442264d564bd484d32bc7d4cf4557d66cf23564c20d90e9'),\n",
       " 5: Text(3.5,4,'1d8161977f9cf815e89165beabb25e9f0e93b9bb5a34524076cbeb391c10ad4d'),\n",
       " 6: Text(-7,3,'41925fc3630f375e23755f04099f1b2c51f372a9792762b28478fbbc5faf1106'),\n",
       " 7: Text(-3.5,3,'5c72c2fc6c2ed732c66fa8dc63f163617be1eb6175b88b3b640f440abb236e73'),\n",
       " 8: Text(0,3,'d6729da948be8eb1fddfc506ce39885194787a93bef6b3ab9086e1685bddfc2f'),\n",
       " 9: Text(3.5,3,'ea7690966598257569c816a598a57638cfd7b0b1e43b1bf5d0a62f4de981a7e8'),\n",
       " 10: Text(5,3,'a77a28c377695015353ef3c3a0efde9d863b3cc6fa71d024e49778564fa58fe1'),\n",
       " 11: Text(-8,2,'856a4921cd32690244af7568e7bd1391a94119e17c7f33234f4bf11271b223e5'),\n",
       " 12: Text(-6,2,'79043a4d1d4d6d0b830519bfc07b92b4d162a4cd54235719c2c3cc211a638dfd'),\n",
       " 13: Text(-4.5,2,'ef729c31d206229249bd791b29676d26cc7465aa6bc2003d80c7a82a316e0233'),\n",
       " 14: Text(-2.5,2,'4746dc9c16f97469fa45710394c4a0e2f29226efc04cab47c29ce579ae19a74e'),\n",
       " 15: Text(-1,2,'929e74a52e6f0d8390d60d631d6dc8fb6cde5f10c04c7053bc94ce3f62759823'),\n",
       " 16: Text(1,2,'ccd702558bb588ba5d49d2ec85af0453fae434476f205ad6caa93da525f86627'),\n",
       " 17: Text(2.5,2,'038edc078728e6455aa202890dec7d4635f2180e999f1a7c280c0283e5dc9ccf'),\n",
       " 18: Text(4.5,2,'9cb58fa7c7cf21f3e426c113f8f48c115402a476024f21edd7db637f06bb8f76'),\n",
       " 19: Text(6,2,'1d5acdeb18c0a72f5ec33b8049b7990cdd40ee81acae5375dfd0f1c06c32252b'),\n",
       " 20: Text(-8,1,'tx1'),\n",
       " 21: Text(-6,1,'tx2'),\n",
       " 22: Text(-4.5,1,'tx3'),\n",
       " 23: Text(-2.5,1,'tx4'),\n",
       " 24: Text(-1,1,'tx5'),\n",
       " 25: Text(1,1,'tx6'),\n",
       " 26: Text(2.5,1,'tx7'),\n",
       " 27: Text(4.5,1,'tx8'),\n",
       " 28: Text(6,1,'tx9')}"
      ]
     },
     "execution_count": 109,
     "metadata": {},
     "output_type": "execute_result"
    },
    {
     "data": {
      "image/png": "[encoded data removed]",
      "text/plain": [
       "<Figure size 432x288 with 1 Axes>"
      ]
     },
     "metadata": {},
     "output_type": "display_data"
    }
   ],
   "source": [
    "for i in range(11,20):\n",
    "    labels[i]= hashlib.sha256(hashlib.sha256(labels[i+9].encode('utf-8')).digest()).hexdigest()\n",
    "labels[6] = hashlib.sha256(hashlib.sha256(labels[11].encode('utf-8')+labels[12].encode('utf-8')).digest()).hexdigest()\n",
    "labels[7] = hashlib.sha256(hashlib.sha256(labels[13].encode('utf-8')+labels[14].encode('utf-8')).digest()).hexdigest()\n",
    "labels[8] = hashlib.sha256(hashlib.sha256(labels[15].encode('utf-8')+labels[16].encode('utf-8')).digest()).hexdigest()\n",
    "labels[9] = hashlib.sha256(hashlib.sha256(labels[17].encode('utf-8')+labels[18].encode('utf-8')).digest()).hexdigest()\n",
    "labels[10] = hashlib.sha256(hashlib.sha256(labels[19].encode('utf-8')).digest()).hexdigest()\n",
    "\n",
    "labels[3] = hashlib.sha256(hashlib.sha256(labels[6].encode('utf-8')+labels[7].encode('utf-8')).digest()).hexdigest()\n",
    "labels[4] = hashlib.sha256(hashlib.sha256(labels[8].encode('utf-8')+labels[9].encode('utf-8')).digest()).hexdigest()\n",
    "labels[5] = hashlib.sha256(hashlib.sha256(labels[10].encode('utf-8')).digest()).hexdigest()\n",
    "\n",
    "labels[1] = hashlib.sha256(hashlib.sha256(labels[3].encode('utf-8')+labels[4].encode('utf-8')).digest()).hexdigest()\n",
    "labels[2] = hashlib.sha256(hashlib.sha256(labels[5].encode('utf-8')).digest()).hexdigest()\n",
    "\n",
    "labels[0] = hashlib.sha256(hashlib.sha256(labels[1].encode('utf-8')+labels[2].encode('utf-8')).digest()).hexdigest()\n",
    "\n",
    "nx.draw(G, positions, node_size = 1000)\n",
    "nx.draw_networkx_labels(G, positions, labels = labels, font_size = 8)"
   ]
  },
  {
   "cell_type": "markdown",
   "metadata": {},
   "source": [
    "6.What is the optimum tree fanout for signing first 4 values in the set up of previouse item? (2 points)"
   ]
  },
  {
   "cell_type": "markdown",
   "metadata": {},
   "source": [
    "**1 idea (preferable)**\n",
    "\n",
    "We want to optimize proof of correctness of 1 value from other.\n",
    "\n",
    "As we should use the set up of previouse items for optimal proof of correctness that's why the optimum tree fanout is equal to 9.\n",
    "\n",
    "Because we shouldn't calculate intermediate stages(like Hash0-0 or Hash0-1 and e.t.c) and we know hashes of every leaf except one which we want to check (it will one hashing value).\n",
    "\n",
    "*Note*: I assume that the concatenation operation is simpler than hashing\n",
    "\n",
    "**2 idea**\n",
    "\n",
    "We know hashes of all 4 values and want to prove of their correctness as 1 block.\n",
    "\n",
    "In this case, we should use fanout is equal to 4."
   ]
  }
 ],
 "metadata": {
  "kernelspec": {
   "display_name": "Python 3",
   "language": "python",
   "name": "python3"
  },
  "language_info": {
   "codemirror_mode": {
    "name": "ipython",
    "version": 3
   },
   "file_extension": ".py",
   "mimetype": "text/x-python",
   "name": "python",
   "nbconvert_exporter": "python",
   "pygments_lexer": "ipython3",
   "version": "3.7.1"
  }
 },
 "nbformat": 4,
 "nbformat_minor": 2
}
