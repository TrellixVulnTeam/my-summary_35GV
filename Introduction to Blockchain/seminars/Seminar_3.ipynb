{
 "cells": [
  {
   "cell_type": "markdown",
   "metadata": {
    "slideshow": {
     "slide_type": "slide"
    }
   },
   "source": [
    "# Seminar 3"
   ]
  },
  {
   "cell_type": "markdown",
   "metadata": {
    "slideshow": {
     "slide_type": "slide"
    }
   },
   "source": [
    "## RSA (Rivest, Shamir and Adleman)"
   ]
  },
  {
   "cell_type": "markdown",
   "metadata": {
    "slideshow": {
     "slide_type": "subslide"
    }
   },
   "source": [
    "This example demonstrates RSA public-key cryptography in an easy-to-follow manner. It works on integers alone, and uses much smaller numbers for the sake of clarity. "
   ]
  },
  {
   "cell_type": "markdown",
   "metadata": {
    "slideshow": {
     "slide_type": "subslide"
    }
   },
   "source": [
    "### First we pick our primes. These will determine our keys."
   ]
  },
  {
   "cell_type": "markdown",
   "metadata": {
    "slideshow": {
     "slide_type": "subslide"
    }
   },
   "source": [
    "Pick P,Q,and E such that:\n",
    "\n",
    "    1. P and Q are prime; picked at random.\n",
    "    2. 1 < E < (P-1)*(Q-1) and E is co-prime with (P-1)*(Q-1)"
   ]
  },
  {
   "cell_type": "code",
   "execution_count": 15,
   "metadata": {},
   "outputs": [],
   "source": [
    "def gcd(a,b):\n",
    "    while a != b:\n",
    "        if a > b:\n",
    "            a = a - b\n",
    "        else:\n",
    "            b = b - a\n",
    "    return a\n",
    "\n",
    "def primitive_root(modulo):\n",
    "    required_set = set(num for num in range (1, modulo) if gcd(num, modulo) == 1)\n",
    "    for g in range(1, modulo):\n",
    "        actual_set = set(pow(g, powers) % modulo for powers in range (1, modulo))\n",
    "        if required_set == actual_set:\n",
    "            print(g)"
   ]
  },
  {
   "cell_type": "code",
   "execution_count": 16,
   "metadata": {},
   "outputs": [
    {
     "name": "stdout",
     "output_type": "stream",
     "text": [
      "2\n",
      "6\n",
      "7\n",
      "8\n"
     ]
    }
   ],
   "source": [
    "primitive_root(11)"
   ]
  },
  {
   "cell_type": "code",
   "execution_count": 6,
   "metadata": {},
   "outputs": [],
   "source": [
    "def primfacs(n): #Факторизация целых чисел\n",
    "    i = 2\n",
    "    primfac = []\n",
    "    while i * i <= n:\n",
    "        while n % i == 0:\n",
    "            primfac.append(i)\n",
    "            n = n / i\n",
    "        i = i + 1\n",
    "    if n > 1:\n",
    "        primfac.append(n)\n",
    "    return primfac"
   ]
  },
  {
   "cell_type": "code",
   "execution_count": null,
   "metadata": {},
   "outputs": [],
   "source": [
    "N = 55\n",
    "E = 33\n",
    "Q,P = primfacs(N)"
   ]
  },
  {
   "cell_type": "code",
   "execution_count": 20,
   "metadata": {
    "slideshow": {
     "slide_type": "subslide"
    }
   },
   "outputs": [],
   "source": [
    "P=11    # First prime\n",
    "Q=5    # Second prime\n",
    "E=33    # usually a constant; 0x10001 is common, prime is best"
   ]
  },
  {
   "cell_type": "markdown",
   "metadata": {
    "slideshow": {
     "slide_type": "slide"
    }
   },
   "source": [
    "### Next, some functions we'll need in a moment:"
   ]
  },
  {
   "cell_type": "code",
   "execution_count": 21,
   "metadata": {
    "slideshow": {
     "slide_type": "subslide"
    }
   },
   "outputs": [],
   "source": [
    "def isPrime(x):\n",
    "    if x%2==0 and x>2: return False     # False for all even numbers\n",
    "    i=3                                 # we don't divide by 1 or 2\n",
    "    sqrt=x**.5                          \n",
    "    while i<sqrt:\n",
    "        if x%i==0: return False\n",
    "        i+=2\n",
    "    return True\n",
    "\n",
    "# Part of find_inverse below\n",
    "# See: http://en.wikipedia.org/wiki/Extended_Euclidean_algorithm\n",
    "def eea(a,b):\n",
    "    if b==0:return (1,0)\n",
    "    (q,r) = (a//b,a%b)\n",
    "    (s,t) = eea(b,r)\n",
    "    return (t, s-(q*t) )\n",
    "\n",
    "# Find the multiplicative inverse of x (mod y)\n",
    "# see: http://en.wikipedia.org/wiki/Modular_multiplicative_inverse\n",
    "def find_inverse(x,y):\n",
    "    inv = eea(x,y)[0]\n",
    "    if inv < 1: inv += y #we only want positive values\n",
    "    return inv"
   ]
  },
  {
   "cell_type": "code",
   "execution_count": 22,
   "metadata": {},
   "outputs": [
    {
     "data": {
      "text/plain": [
       "(1, -1)"
      ]
     },
     "execution_count": 22,
     "metadata": {},
     "output_type": "execute_result"
    }
   ],
   "source": [
    "eea(6,5)"
   ]
  },
  {
   "cell_type": "code",
   "execution_count": null,
   "metadata": {},
   "outputs": [],
   "source": []
  },
  {
   "cell_type": "markdown",
   "metadata": {
    "slideshow": {
     "slide_type": "slide"
    }
   },
   "source": [
    "### Make sure the numbers we picked above are valid."
   ]
  },
  {
   "cell_type": "code",
   "execution_count": 23,
   "metadata": {
    "slideshow": {
     "slide_type": "subslide"
    }
   },
   "outputs": [],
   "source": [
    "if not isPrime(P): raise Exception(\"P (%i) is not prime\" % (P,))\n",
    "if not isPrime(Q): raise Exception(\"Q (%i) is not prime\" % (Q,))\n",
    "\n",
    "T=(P-1)*(Q-1) # Euler's totient (intermediate result)\n",
    "# Assuming E is prime, we just have to check against T\n",
    "if E<1 or E > T: raise Exception(\"E must be > 1 and < T\")\n",
    "if T%E==0: raise Exception(\"E is not coprime with T\")"
   ]
  },
  {
   "cell_type": "markdown",
   "metadata": {
    "slideshow": {
     "slide_type": "slide"
    }
   },
   "source": [
    "### Derive our keys."
   ]
  },
  {
   "cell_type": "code",
   "execution_count": 24,
   "metadata": {
    "slideshow": {
     "slide_type": "subslide"
    }
   },
   "outputs": [
    {
     "name": "stdout",
     "output_type": "stream",
     "text": [
      "17\n"
     ]
    }
   ],
   "source": [
    "# Product of P and Q is our modulus; the part determines as the \"key size\".\n",
    "MOD=P*Q\n",
    "\n",
    "# Private exponent is inverse of public exponent with respect to (mod T)\n",
    "D = find_inverse(E,T)\n",
    "print(D)"
   ]
  },
  {
   "cell_type": "markdown",
   "metadata": {
    "slideshow": {
     "slide_type": "subslide"
    }
   },
   "source": [
    "The modulus is always needed, while either E or D is the exponent, depending on which key we're using. D is much harder for an adversary to derive, so we call that one the \"private\" key.\n",
    "Note. See https://www.python-course.eu/python3_formatted_output.php for print format details."
   ]
  },
  {
   "cell_type": "code",
   "execution_count": 25,
   "metadata": {
    "slideshow": {
     "slide_type": "subslide"
    }
   },
   "outputs": [
    {
     "name": "stdout",
     "output_type": "stream",
     "text": [
      "public key: (MOD: 55, E: 33)\n",
      "private key: (MOD: 55, D: 17)\n"
     ]
    }
   ],
   "source": [
    "print(\"public key: (MOD: %i, E: %i)\" % (MOD,E))\n",
    "print(\"private key: (MOD: %i, D: %i)\" % (MOD,D))"
   ]
  },
  {
   "cell_type": "markdown",
   "metadata": {
    "slideshow": {
     "slide_type": "subslide"
    }
   },
   "source": [
    "Note that P, Q, and T can now be discarded, but they're usually kept around so that a more efficient encryption algorithm can be used. http://en.wikipedia.org/wiki/RSA#Using_the_Chinese_remainder_algorithm"
   ]
  },
  {
   "cell_type": "markdown",
   "metadata": {
    "slideshow": {
     "slide_type": "slide"
    }
   },
   "source": [
    "### We have our keys, let's do some encryption\n",
    "\n",
    "Here we only focus on whether you're applying the private key or applying the public key, since either one will reverse the other. "
   ]
  },
  {
   "cell_type": "code",
   "execution_count": 30,
   "metadata": {
    "slideshow": {
     "slide_type": "subslide"
    }
   },
   "outputs": [
    {
     "name": "stdout",
     "output_type": "stream",
     "text": [
      "Initial message: 41\n",
      "Encrypted_message: 6\n",
      "Decrypted_message: 41\n"
     ]
    }
   ],
   "source": [
    "message = int(41)\n",
    "print(\"Initial message: %i\" % message)\n",
    "\n",
    "# Note that the pow() built-in does modulo exponentation. That's handy, since it saves us having to\n",
    "# implement that ablity.\n",
    "# http://en.wikipedia.org/wiki/Modular_exponentiation\n",
    "\n",
    "if (message >= MOD):\n",
    "    raise Exception(\"Message must be < MOD\")\n",
    "\n",
    "key = E\n",
    "encrypted_message = pow(message,key,MOD)\n",
    "print(\"Encrypted_message: %i\" % encrypted_message)\n",
    "\n",
    "key = D\n",
    "decrypted_message = pow(encrypted_message,key,MOD) #encrypt/decrypt using this ONE command. Surprisingly simple.\n",
    "print(\"Decrypted_message: %i\" % decrypted_message)"
   ]
  },
  {
   "cell_type": "code",
   "execution_count": null,
   "metadata": {},
   "outputs": [],
   "source": [
    "key = E\n",
    "encrypted_message = pow(message,key,MOD)\n",
    "print(\"Encrypted_message: %i\" % encrypted_message)\n",
    "\n",
    "key = D\n",
    "decrypted_message = pow(encrypted_message,key,MOD) #encrypt/decrypt using this ONE command. Surprisingly simple.\n",
    "print(\"Decrypted_message: %i\" % decrypted_message)"
   ]
  },
  {
   "cell_type": "code",
   "execution_count": 33,
   "metadata": {},
   "outputs": [],
   "source": [
    "encripted=(41**33)%55"
   ]
  },
  {
   "cell_type": "code",
   "execution_count": 34,
   "metadata": {},
   "outputs": [
    {
     "data": {
      "text/plain": [
       "6"
      ]
     },
     "execution_count": 34,
     "metadata": {},
     "output_type": "execute_result"
    }
   ],
   "source": [
    "encripted"
   ]
  },
  {
   "cell_type": "markdown",
   "metadata": {},
   "source": [
    "Now let's find digital signatures for the same message, but please do it by yourself"
   ]
  },
  {
   "cell_type": "code",
   "execution_count": 28,
   "metadata": {},
   "outputs": [
    {
     "name": "stdout",
     "output_type": "stream",
     "text": [
      "digital_signature: 13\n",
      "Encrypted_message: 18\n",
      "digital_signature: 13\n"
     ]
    }
   ],
   "source": [
    "message = int(13)\n",
    "print(\"digital_signature: %i\" % message)\n",
    "\n",
    "# Note that the pow() built-in does modulo exponentation. That's handy, since it saves us having to\n",
    "# implement that ablity.\n",
    "# http://en.wikipedia.org/wiki/Modular_exponentiation\n",
    "\n",
    "if (message >= MOD):\n",
    "    raise Exception(\"Message must be < MOD\")\n",
    "\n",
    "key = D\n",
    "encrypted_message = pow(message,key,MOD)\n",
    "print(\"Encrypted_message: %i\" % encrypted_message)\n",
    "\n",
    "key = E\n",
    "decrypted_message = pow(encrypted_message,key,MOD) #encrypt/decrypt using this ONE command. Surprisingly simple.\n",
    "print(\"digital_signature: %i\" % decrypted_message)"
   ]
  },
  {
   "cell_type": "markdown",
   "metadata": {},
   "source": [
    "What are the differences between digital signatures and encryption in RSA? "
   ]
  },
  {
   "cell_type": "code",
   "execution_count": null,
   "metadata": {
    "collapsed": true
   },
   "outputs": [],
   "source": []
  },
  {
   "cell_type": "markdown",
   "metadata": {},
   "source": [
    "## El-Gamal protocol"
   ]
  },
  {
   "cell_type": "markdown",
   "metadata": {},
   "source": [
    "Decrypt the El-Gamal message if open key is equal to p=13, g=6, y=8\n",
    "\n",
    "Encryped message is equal to (11,11)"
   ]
  },
  {
   "cell_type": "markdown",
   "metadata": {},
   "source": [
    "### See the black board"
   ]
  },
  {
   "cell_type": "markdown",
   "metadata": {},
   "source": [
    "Find digital signature using El-Gamal protocol with parameters \n",
    "\n",
    "\n",
    "\n",
    "Open key p=11, g=7, y=8\n",
    "\n",
    "\n",
    "\n",
    "Message M=6\n",
    "\n",
    "\n",
    "\n",
    "Random parameter k=3"
   ]
  },
  {
   "cell_type": "markdown",
   "metadata": {},
   "source": [
    "### See the black board"
   ]
  },
  {
   "cell_type": "markdown",
   "metadata": {
    "slideshow": {
     "slide_type": "slide"
    }
   },
   "source": [
    "## Problem of generating big prime number"
   ]
  },
  {
   "cell_type": "markdown",
   "metadata": {},
   "source": [
    "Fermat's little theorem states that if p is a prime number, then for any integer a, the number ap − a is an integer multiple of p. In the notation of modular arithmetic, this is expressed as\n",
    "\n",
    "$$a^p \\equiv a \\pmod p$$\n",
    "\n",
    "If a is not divisible by p, Fermat's little theorem is equivalent to the statement that $a^{p − 1} − 1$ is an integer multiple of p, or in symbols:\n",
    "\n",
    "$$a^{p-1} \\equiv 1 \\pmod p$$\n",
    "\n",
    "\n",
    "\n"
   ]
  },
  {
   "cell_type": "code",
   "execution_count": null,
   "metadata": {},
   "outputs": [],
   "source": []
  },
  {
   "cell_type": "code",
   "execution_count": 10,
   "metadata": {
    "slideshow": {
     "slide_type": "subslide"
    }
   },
   "outputs": [],
   "source": [
    "# Python implementation of Fermat's primality test to generate prime numbers of any bit length.\n",
    "\n",
    "from random import randint\n",
    "\n",
    "def is_prime(num, test_count):\n",
    "    if num == 1:\n",
    "        return False\n",
    "    if test_count >= num:\n",
    "        test_count = num - 1\n",
    "    for x in range(test_count):\n",
    "        val = randint(1, num - 1)\n",
    "        if pow(val, num-1, num) != 1:\n",
    "            return False\n",
    "    return True\n",
    "\n",
    "def generate_big_prime(n, test_count=1000):\n",
    "    found_prime = False\n",
    "    while not found_prime:\n",
    "        p = randint(2**(n-1), 2**n)\n",
    "        print(\"p \", p,'\\n')\n",
    "        if is_prime(p, test_count):\n",
    "            return p"
   ]
  },
  {
   "cell_type": "code",
   "execution_count": 11,
   "metadata": {
    "slideshow": {
     "slide_type": "subslide"
    }
   },
   "outputs": [
    {
     "name": "stdout",
     "output_type": "stream",
     "text": [
      "p  677863 \n",
      "\n",
      "p  912512 \n",
      "\n",
      "p  875183 \n",
      "\n",
      "875183\n",
      "11010101101010101111\n"
     ]
    }
   ],
   "source": [
    "n = 20\n",
    "random_prime = generate_big_prime(n)\n",
    "print(random_prime)\n",
    "print(\"{0:b}\".format(random_prime))\n",
    "# Generates a random prime number of length n bits"
   ]
  },
  {
   "cell_type": "code",
   "execution_count": 1,
   "metadata": {},
   "outputs": [],
   "source": [
    "def __gcd(a,b): \n",
    "  \n",
    "    if(b == 0): \n",
    "        return a \n",
    "    else: \n",
    "        return __gcd(b, a % b) \n",
    "      \n",
    "# To compute x^y under modulo m \n",
    "def power(x,y,m): \n",
    "  \n",
    "    if (y == 0): \n",
    "        return 1\n",
    "    p = power(x, y // 2, m) % m \n",
    "    p = (p * p) % m \n",
    "   \n",
    "    return p if(y % 2 == 0) else  (x * p) % m \n",
    "  \n",
    "# Function to find modular \n",
    "# inverse of a under modulo m \n",
    "# Assumption: m is prime \n",
    "def modInverse(a,m): \n",
    "  \n",
    "    if (__gcd(a, m) != 1): \n",
    "        print(\"Inverse doesn't exist\") \n",
    "   \n",
    "    else: \n",
    "   \n",
    "        # If a and m are relatively prime, then \n",
    "        # modulo inverse is a^(m-2) mode m \n",
    "        print(\"Modular multiplicative inverse is \", \n",
    "             power(a, m - 2, m)) \n"
   ]
  },
  {
   "cell_type": "code",
   "execution_count": 5,
   "metadata": {},
   "outputs": [
    {
     "name": "stdout",
     "output_type": "stream",
     "text": [
      "Modular multiplicative inverse is  1\n"
     ]
    }
   ],
   "source": [
    "modInverse(1,11)"
   ]
  },
  {
   "cell_type": "markdown",
   "metadata": {},
   "source": [
    "Note 1: All variables are 32 bit unsigned integers and addition is done modulo 2^32\n",
    "\n",
    "Note 2: For each round, there is one round constant k[i] and one entry in the message schedule array w[i], 0 ≤ i ≤ 63\n",
    "\n",
    "Note 3: The compression function uses 8 working variables, a through h\n",
    "\n",
    "Note 4: Big-endian convention is used when expressing the constants in this pseudocode,\n",
    "    and when parsing message block data from bytes to words, for example,\n",
    "    the first word of the input message \"abc\" after padding is 0x61626380\n",
    "\n",
    "Initialize hash values:\n",
    "(first 32 bits of the fractional parts of the square roots of the first 8 primes 2..19):\n",
    "\n",
    "h0 := 0x6a09e667\n",
    "h1 := 0xbb67ae85\n",
    "h2 := 0x3c6ef372\n",
    "h3 := 0xa54ff53a\n",
    "h4 := 0x510e527f\n",
    "h5 := 0x9b05688c\n",
    "h6 := 0x1f83d9ab\n",
    "h7 := 0x5be0cd19\n",
    "\n",
    "Initialize array of round constants:\n",
    "(first 32 bits of the fractional parts of the cube roots of the first 64 primes 2..311):\n",
    "\n",
    "k[0..63] :=\n",
    "   0x428a2f98, 0x71374491, 0xb5c0fbcf, 0xe9b5dba5, 0x3956c25b, 0x59f111f1, 0x923f82a4, 0xab1c5ed5,\n",
    "   0xd807aa98, 0x12835b01, 0x243185be, 0x550c7dc3, 0x72be5d74, 0x80deb1fe, 0x9bdc06a7, 0xc19bf174,\n",
    "   0xe49b69c1, 0xefbe4786, 0x0fc19dc6, 0x240ca1cc, 0x2de92c6f, 0x4a7484aa, 0x5cb0a9dc, 0x76f988da,\n",
    "   0x983e5152, 0xa831c66d, 0xb00327c8, 0xbf597fc7, 0xc6e00bf3, 0xd5a79147, 0x06ca6351, 0x14292967,\n",
    "   0x27b70a85, 0x2e1b2138, 0x4d2c6dfc, 0x53380d13, 0x650a7354, 0x766a0abb, 0x81c2c92e, 0x92722c85,\n",
    "   0xa2bfe8a1, 0xa81a664b, 0xc24b8b70, 0xc76c51a3, 0xd192e819, 0xd6990624, 0xf40e3585, 0x106aa070,\n",
    "   0x19a4c116, 0x1e376c08, 0x2748774c, 0x34b0bcb5, 0x391c0cb3, 0x4ed8aa4a, 0x5b9cca4f, 0x682e6ff3,\n",
    "   0x748f82ee, 0x78a5636f, 0x84c87814, 0x8cc70208, 0x90befffa, 0xa4506ceb, 0xbef9a3f7, 0xc67178f2\n",
    "\n",
    "Pre-processing (Padding):\n",
    "begin with the original message of length L bits\n",
    "append a single '1' bit\n",
    "append K '0' bits, where K is the minimum number >= 0 such that L + 1 + K + 64 is a multiple of 512\n",
    "append L as a 64-bit big-endian integer, making the total post-processed length a multiple of 512 bits\n",
    "\n",
    "Process the message in successive 512-bit chunks:\n",
    "break message into 512-bit chunks\n",
    "for each chunk\n",
    "    create a 64-entry message schedule array w[0..63] of 32-bit words\n",
    "    (The initial values in w[0..63] don't matter, so many implementations zero them here)\n",
    "    copy chunk into first 16 words w[0..15] of the message schedule array\n",
    "\n",
    "    Extend the first 16 words into the remaining 48 words w[16..63] of the message schedule array:\n",
    "    for i from 16 to 63\n",
    "        s0 := (w[i-15] rightrotate 7) xor (w[i-15] rightrotate 18) xor (w[i-15] rightshift 3)\n",
    "        s1 := (w[i-2] rightrotate 17) xor (w[i-2] rightrotate 19) xor (w[i-2] rightshift 10)\n",
    "        w[i] := w[i-16] + s0 + w[i-7] + s1\n",
    "\n",
    "    Initialize working variables to current hash value:\n",
    "    a := h0\n",
    "    b := h1\n",
    "    c := h2\n",
    "    d := h3\n",
    "    e := h4\n",
    "    f := h5\n",
    "    g := h6\n",
    "    h := h7\n",
    "\n",
    "    Compression function main loop:\n",
    "    for i from 0 to 63\n",
    "        S1 := (e rightrotate 6) xor (e rightrotate 11) xor (e rightrotate 25)\n",
    "        ch := (e and f) xor ((not e) and g)\n",
    "        temp1 := h + S1 + ch + k[i] + w[i]\n",
    "        S0 := (a rightrotate 2) xor (a rightrotate 13) xor (a rightrotate 22)\n",
    "        maj := (a and b) xor (a and c) xor (b and c)\n",
    "        temp2 := S0 + maj\n",
    " \n",
    "        h := g\n",
    "        g := f\n",
    "        f := e\n",
    "        e := d + temp1\n",
    "        d := c\n",
    "        c := b\n",
    "        b := a\n",
    "        a := temp1 + temp2\n",
    "\n",
    "    Add the compressed chunk to the current hash value:\n",
    "    h0 := h0 + a\n",
    "    h1 := h1 + b\n",
    "    h2 := h2 + c\n",
    "    h3 := h3 + d\n",
    "    h4 := h4 + e\n",
    "    h5 := h5 + f\n",
    "    h6 := h6 + g\n",
    "    h7 := h7 + h\n",
    "\n",
    "Produce the final hash value (big-endian):\n",
    "digest := hash := h0 append h1 append h2 append h3 append h4 append h5 append h6 append h7"
   ]
  },
  {
   "cell_type": "code",
   "execution_count": null,
   "metadata": {},
   "outputs": [],
   "source": []
  }
 ],
 "metadata": {
  "kernelspec": {
   "display_name": "Python 3",
   "language": "python",
   "name": "python3"
  },
  "language_info": {
   "codemirror_mode": {
    "name": "ipython",
    "version": 3
   },
   "file_extension": ".py",
   "mimetype": "text/x-python",
   "name": "python",
   "nbconvert_exporter": "python",
   "pygments_lexer": "ipython3",
   "version": "3.7.0"
  }
 },
 "nbformat": 4,
 "nbformat_minor": 2
}
