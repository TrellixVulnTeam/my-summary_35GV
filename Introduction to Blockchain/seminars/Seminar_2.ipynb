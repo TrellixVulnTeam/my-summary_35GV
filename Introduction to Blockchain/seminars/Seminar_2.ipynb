{
 "cells": [
  {
   "cell_type": "markdown",
   "metadata": {},
   "source": [
    "# Seminar 1"
   ]
  },
  {
   "cell_type": "markdown",
   "metadata": {},
   "source": [
    "# Extended Euclidean algorithm\n",
    "\n",
    "We want to find   $b=a^{-1}modf$, in other words $ab=1 modf$ that is equivalent to $fx+ab=1$.\n",
    "\n",
    "This equation can be solved applying extended Euclidean algorithm for pair (f,a). This can be presented in iterative form below:\n",
    "\n",
    "Step 0: $r_{-2}=f$, $r_{-1}=a$, $y_{-2}=0$, $y_{-1}=1$ \n",
    "\n",
    "Step 1: $r_{-2}=r_{-1}q_{0}+r_{0}$, $y_{0}=y_{-2}-y_{-1}q_{0}$\n",
    "\n",
    "\n",
    ".....\n",
    "\n",
    "Repear untill $r_{x}=1$ then $y_{x}=b$\n",
    "\n",
    "\n"
   ]
  },
  {
   "cell_type": "markdown",
   "metadata": {},
   "source": [
    "## Some code"
   ]
  },
  {
   "cell_type": "code",
   "execution_count": 3,
   "metadata": {},
   "outputs": [],
   "source": [
    "#####################################################################\n",
    "# Note on what these operators do:\n",
    "# %  is the modulus (remainder) operator: 10 % 3 is 1\n",
    "# // is integer (round-down) division: 10 // 3 is 3\n",
    "# ** is exponent (2**3 is 2 to the 3rd power)\n",
    "\n",
    "def eea(a,b):\n",
    "    if b==0:return (1,0)\n",
    "    print(\"a \",a, \"b \",b)\n",
    "    (q,r) = (a//b,a%b)\n",
    "    print(\"q \",q,\"r \",r)\n",
    "    (s,t) = eea(b,r)\n",
    "    return (t, s-(q*t) )\n",
    "            \n",
    "def find_inverse(a,f):\n",
    "    b = eea(a,f)[0]\n",
    "    if b < 1: b += f #we only want positive values\n",
    "    return b            "
   ]
  },
  {
   "cell_type": "code",
   "execution_count": 4,
   "metadata": {},
   "outputs": [
    {
     "name": "stdout",
     "output_type": "stream",
     "text": [
      "a  23 b  121\n",
      "q  0 r  23\n",
      "a  121 b  23\n",
      "q  5 r  6\n",
      "a  23 b  6\n",
      "q  3 r  5\n",
      "a  6 b  5\n",
      "q  1 r  1\n",
      "a  5 b  1\n",
      "q  5 r  0\n"
     ]
    }
   ],
   "source": [
    "E=23\n",
    "T=121\n",
    "\n",
    "D = find_inverse(E,T)"
   ]
  },
  {
   "cell_type": "code",
   "execution_count": 5,
   "metadata": {},
   "outputs": [
    {
     "name": "stdout",
     "output_type": "stream",
     "text": [
      "100\n",
      "1\n"
     ]
    }
   ],
   "source": [
    "print(D)\n",
    "print((D*E)%T)"
   ]
  },
  {
   "cell_type": "markdown",
   "metadata": {},
   "source": [
    "# Euler’s Totient Function"
   ]
  },
  {
   "cell_type": "markdown",
   "metadata": {},
   "source": [
    "Euler's totient function counts the positive integers up to a given integer n that are relatively prime to n\n",
    "\n",
    "Can be computed by busting (see code below)\n",
    "\n"
   ]
  },
  {
   "cell_type": "code",
   "execution_count": 4,
   "metadata": {},
   "outputs": [],
   "source": [
    "def gcd(a, b): \n",
    "    if (a == 0): \n",
    "        return b \n",
    "    return gcd(b % a, a) \n",
    "\n",
    "\n",
    "def phi(n): \n",
    "  \n",
    "    result = 1\n",
    "    for i in range(2, n): \n",
    "        if (gcd(i, n) == 1): \n",
    "            result+=1\n",
    "    return result "
   ]
  },
  {
   "cell_type": "code",
   "execution_count": 5,
   "metadata": {},
   "outputs": [
    {
     "name": "stdout",
     "output_type": "stream",
     "text": [
      "12\n"
     ]
    }
   ],
   "source": [
    "print(phi(36))"
   ]
  },
  {
   "cell_type": "markdown",
   "metadata": {},
   "source": [
    "Another way for computing Euler's totient function is using property that each number n can be presented as $p_{1}^{k_1}p_{2}^{k_2}...p_{l}^{k_l}$, where $p_{1},...p_{l}$ are prime numbers. \n",
    "\n",
    "Then $\\phi(n)$=$\\phi(p_1)\\phi(p_2)...\\phi(p_l)=n(1-\\frac{1}{p_1})...(1-\\frac{1}{p_l})$"
   ]
  },
  {
   "cell_type": "markdown",
   "metadata": {},
   "source": [
    " Let us check this $36=2^23^2$ Therefore $\\phi(36)=36(1-\\frac{1}{2})(1-\\frac{1}{3})=12"
   ]
  },
  {
   "cell_type": "markdown",
   "metadata": {},
   "source": [
    "# Fast power computing algorithm"
   ]
  },
  {
   "cell_type": "markdown",
   "metadata": {},
   "source": [
    "The method is based on observation that $x^n=x(x^2)^{\\frac{n-1}{2}}$ if n is odd and $(x^2)^{\\frac{n}{2}}$ and multiplicativity of mod operation. So we can present power as a binary number and make a recursive procedure. In each step corresponding to 1 in binary representation multiple the result of the previous step by x and find the binary power of result and in each step corresponding to 0 find the binary power of result of the previous step. To work with \"small\" numbers after each step takes a module operation. In code, it's presented below"
   ]
  },
  {
   "cell_type": "code",
   "execution_count": 6,
   "metadata": {},
   "outputs": [],
   "source": [
    "def exp_by_squaring(x, n, f):\n",
    "    if (n ==0):\n",
    "        return  1\n",
    "    elif (n ==1):\n",
    "        return  x%f \n",
    "    elif (n%2==0): \n",
    "        return (exp_by_squaring(x*x,  n/2, f))%f\n",
    "    elif (n%2==1):\n",
    "        return (x*exp_by_squaring(x*x, (n - 1)/2, f))%f"
   ]
  },
  {
   "cell_type": "code",
   "execution_count": 7,
   "metadata": {},
   "outputs": [
    {
     "name": "stdout",
     "output_type": "stream",
     "text": [
      "33\n"
     ]
    }
   ],
   "source": [
    "print(exp_by_squaring(124, 28,37))"
   ]
  },
  {
   "cell_type": "markdown",
   "metadata": {},
   "source": [
    "## Hashing"
   ]
  },
  {
   "cell_type": "markdown",
   "metadata": {},
   "source": [
    "See SHA-1 pseudocode below. Graphic representation is available at https://upload.wikimedia.org/wikipedia/commons/thumb/e/e2/SHA-1.svg/365px-SHA-1.svg.png"
   ]
  },
  {
   "cell_type": "code",
   "execution_count": 1,
   "metadata": {},
   "outputs": [],
   "source": [
    "def sha1(data):\n",
    "    bytes = \"\"\n",
    "    \n",
    "    #Замечание: Все используемые переменные 32 бита.\n",
    "\n",
    "    #Инициализация переменных:\n",
    "    h0 = 0x67452301\n",
    "    h1 = 0xEFCDAB89\n",
    "    h2 = 0x98BADCFE\n",
    "    h3 = 0x10325476\n",
    "    h4 = 0xC3D2E1F0\n",
    "\n",
    "    #Сначала добавляется 1 (бит),\n",
    "    #а потом нули, чтобы длина блока стала равной (512 — 64 = 448) бит.\n",
    "    for n in range(len(data)):\n",
    "        bytes+='{0:08b}'.format(ord(data[n]))\n",
    "    bits = bytes+\"1\"\n",
    "    pBits = bits\n",
    "    #pad until length equals 448 mod 512\n",
    "    while len(pBits)%512 != 448:\n",
    "        pBits+=\"0\"\n",
    "    #append the original length\n",
    "    pBits+='{0:064b}'.format(len(bits)-1)\n",
    "\n",
    "    def chunks(l, n):\n",
    "        return [l[i:i+n] for i in range(0, len(l), n)]\n",
    "\n",
    "    def rol(n, b):\n",
    "        return ((n << b) | (n >> (32 - b))) & 0xffffffff\n",
    "\n",
    "    #В процессе сообщение разбивается последовательно по 512 бит:\n",
    "    #for перебираем все такие части\n",
    "    for c in chunks(pBits, 512): \n",
    "        words = chunks(c, 32)\n",
    "        w = [0]*80\n",
    "        #разбиваем этот кусок на 16 частей, слов по 32-бита (big-endian) w[i], 0 <= i <= 15\n",
    "        for n in range(0, 16):\n",
    "            w[n] = int(words[n], 2)\n",
    "        # 16 слов по 32-бита дополняются до 80 32-битовых слов:\n",
    "        for i in range(16, 80):\n",
    "            w[i] = rol((w[i-3] ^ w[i-8] ^ w[i-14] ^ w[i-16]), 1)  \n",
    "        \n",
    "        #Инициализация хеш-значений этой части:\n",
    "        a = h0\n",
    "        b = h1\n",
    "        c = h2\n",
    "        d = h3\n",
    "        e = h4\n",
    "\n",
    "        #Main loop\n",
    "        for i in range(0, 80):\n",
    "            if 0 <= i <= 19:\n",
    "                f = (b & c) | ((~b) & d)\n",
    "                k = 0x5A827999\n",
    "            elif 20 <= i <= 39:\n",
    "                f = b ^ c ^ d\n",
    "                k = 0x6ED9EBA1\n",
    "            elif 40 <= i <= 59:\n",
    "                f = (b & c) | (b & d) | (c & d) \n",
    "                k = 0x8F1BBCDC\n",
    "            elif 60 <= i <= 79:\n",
    "                f = b ^ c ^ d\n",
    "                k = 0xCA62C1D6\n",
    "\n",
    "            temp = rol(a, 5) + f + e + k + w[i] & 0xffffffff\n",
    "            e = d\n",
    "            d = c\n",
    "            c = rol(b, 30)\n",
    "            b = a\n",
    "            a = temp\n",
    "\n",
    "        # Добавляем хеш-значение этой части к результату:\n",
    "        h0 = h0 + a & 0xffffffff\n",
    "        h1 = h1 + b & 0xffffffff\n",
    "        h2 = h2 + c & 0xffffffff\n",
    "        h3 = h3 + d & 0xffffffff\n",
    "        h4 = h4 + e & 0xffffffff\n",
    "\n",
    "    # Итоговое хеш-значение(h0, h1, h2, h3, h4 должны быть преобразованы к big-endian):\n",
    "    return '%08x%08x%08x%08x%08x' % (h0, h1, h2, h3, h4)"
   ]
  },
  {
   "cell_type": "markdown",
   "metadata": {},
   "source": [
    "Function call example"
   ]
  },
  {
   "cell_type": "code",
   "execution_count": 4,
   "metadata": {},
   "outputs": [
    {
     "name": "stdout",
     "output_type": "stream",
     "text": [
      "d8f4590320e1343a915b6394170650a8f35d6926\n"
     ]
    }
   ],
   "source": [
    "hex_string = sha1(\"sha\")\n",
    "print(hex_string)"
   ]
  },
  {
   "cell_type": "markdown",
   "metadata": {},
   "source": [
    "Let's define several strings."
   ]
  },
  {
   "cell_type": "code",
   "execution_count": 28,
   "metadata": {},
   "outputs": [],
   "source": [
    "string_small1 = 'This is a very small string with a few characters.'\n",
    "string_larger = 'This is a larger string that contains more characters.'\n",
    "string_big = 'This is a larger string that contains more characters. This demonstrates that no matter how big the input stream is, the generated hash is the same size (but of course, not the same value). If two files have a different hash, they surely contain different data.'\n",
    "string_empty = ''"
   ]
  },
  {
   "cell_type": "markdown",
   "metadata": {},
   "source": [
    "And print bit representation of the given hash."
   ]
  },
  {
   "cell_type": "code",
   "execution_count": 11,
   "metadata": {},
   "outputs": [
    {
     "name": "stdout",
     "output_type": "stream",
     "text": [
      "0b10101010101110011011000011010111001001010011111100111110110100000101011101101111101001010111110100000010001011100111001110100100011110111010000100011011101101\n"
     ]
    }
   ],
   "source": [
    "import binascii\n",
    "\n",
    "binary_string = bin(int(hex_string, 16))\n",
    "print(binary_string)"
   ]
  },
  {
   "cell_type": "markdown",
   "metadata": {},
   "source": [
    "### Task 1. Calculate hashes of the texts abowe."
   ]
  },
  {
   "cell_type": "code",
   "execution_count": 15,
   "metadata": {},
   "outputs": [
    {
     "name": "stdout",
     "output_type": "stream",
     "text": [
      "9873c6011814ced6152de6c83d2629e77d60c993\n",
      "9ed56fc8a27486308ebbf55b06ceae9cd6b1a3fe\n",
      "0d9ebf408c72b966dc178765203c649d2d664cf1\n",
      "da39a3ee5e6b4b0d3255bfef95601890afd80709\n"
     ]
    }
   ],
   "source": [
    "string_small=sha1(\"This is a very small string with a few characters.\")\n",
    "string_larger=sha1(\"This is a larger string that contains more characters.\")\n",
    "string_big=sha1(\"This is a larger string that contains more characters. This demonstrates that no matter how big the input stream is, the generated hash is the same size (but of course, not the same value). If two files have a different hash, they surely contain different data.\")\n",
    "string_empty=sha1(\"\")\n",
    "print(string_small)\n",
    "print(string_larger)\n",
    "print(string_big)\n",
    "print(string_empty)"
   ]
  },
  {
   "cell_type": "markdown",
   "metadata": {},
   "source": [
    "### Task 2. What is a bit length of each hash?"
   ]
  },
  {
   "cell_type": "code",
   "execution_count": 19,
   "metadata": {},
   "outputs": [
    {
     "name": "stdout",
     "output_type": "stream",
     "text": [
      "40\n",
      "40\n",
      "40\n"
     ]
    }
   ],
   "source": [
    "print(len(string_small))\n",
    "print(len(string_larger))\n",
    "print(len(string_big))"
   ]
  },
  {
   "cell_type": "code",
   "execution_count": 24,
   "metadata": {},
   "outputs": [
    {
     "name": "stdout",
     "output_type": "stream",
     "text": [
      "162\n",
      "162\n",
      "158\n",
      "162\n"
     ]
    }
   ],
   "source": [
    "import binascii\n",
    "string_small_lenght = bin(int(string_small, 16))\n",
    "string_larger_lenght=bin(int(string_larger, 16))\n",
    "string_big_lenght=bin(int(string_big, 16))\n",
    "string_empty_lenght=bin(int(string_empty, 16))\n",
    "print(len(string_small_lenght))\n",
    "print(len(string_larger_lenght))\n",
    "print(len(string_big_lenght))\n",
    "print(len(string_empty_lenght))"
   ]
  },
  {
   "cell_type": "markdown",
   "metadata": {},
   "source": [
    "Let's change the first character of the small string:"
   ]
  },
  {
   "cell_type": "code",
   "execution_count": 27,
   "metadata": {},
   "outputs": [],
   "source": [
    "small_string_changed1 = 'this is a very small file with a few characters.'\n",
    "small_string_changed=sha1(\"this is a very small file with a few characters.\")"
   ]
  },
  {
   "cell_type": "markdown",
   "metadata": {},
   "source": [
    "### Task 3. What is the bitwise distance between two small files? What is bitwise distance between their hashes?"
   ]
  },
  {
   "cell_type": "code",
   "execution_count": 37,
   "metadata": {},
   "outputs": [
    {
     "name": "stdout",
     "output_type": "stream",
     "text": [
      "26\n"
     ]
    }
   ],
   "source": [
    "zipped=zip(small_string_changed1,string_small1)\n",
    "#list(zipped)\n",
    "d=0\n",
    "for i in zipped:\n",
    "    if i[0]!=i[1]:\n",
    "        d+=1\n",
    "print(d)"
   ]
  },
  {
   "cell_type": "code",
   "execution_count": 48,
   "metadata": {},
   "outputs": [
    {
     "name": "stdout",
     "output_type": "stream",
     "text": [
      "40\n"
     ]
    }
   ],
   "source": [
    "zipp_hash=zip(small_string_changed,string_small)\n",
    "\n",
    "d=0\n",
    "for i in zipp_hash:\n",
    "    if i[0]!=i[1]:\n",
    "        d+=1\n",
    "print(d)\n",
    "\n"
   ]
  },
  {
   "cell_type": "code",
   "execution_count": null,
   "metadata": {},
   "outputs": [],
   "source": []
  },
  {
   "cell_type": "code",
   "execution_count": null,
   "metadata": {},
   "outputs": [],
   "source": []
  }
 ],
 "metadata": {
  "kernelspec": {
   "display_name": "Python 3",
   "language": "python",
   "name": "python3"
  },
  "language_info": {
   "codemirror_mode": {
    "name": "ipython",
    "version": 3
   },
   "file_extension": ".py",
   "mimetype": "text/x-python",
   "name": "python",
   "nbconvert_exporter": "python",
   "pygments_lexer": "ipython3",
   "version": "3.7.0"
  }
 },
 "nbformat": 4,
 "nbformat_minor": 2
}
