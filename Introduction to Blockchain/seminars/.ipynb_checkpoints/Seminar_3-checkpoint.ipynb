{
 "cells": [
  {
   "cell_type": "markdown",
   "metadata": {
    "slideshow": {
     "slide_type": "slide"
    }
   },
   "source": [
    "# Seminar 3"
   ]
  },
  {
   "cell_type": "markdown",
   "metadata": {
    "slideshow": {
     "slide_type": "slide"
    }
   },
   "source": [
    "## RSA (Rivest, Shamir and Adleman)"
   ]
  },
  {
   "cell_type": "markdown",
   "metadata": {
    "slideshow": {
     "slide_type": "subslide"
    }
   },
   "source": [
    "This example demonstrates RSA public-key cryptography in an easy-to-follow manner. It works on integers alone, and uses much smaller numbers for the sake of clarity. "
   ]
  },
  {
   "cell_type": "markdown",
   "metadata": {
    "slideshow": {
     "slide_type": "subslide"
    }
   },
   "source": [
    "### First we pick our primes. These will determine our keys."
   ]
  },
  {
   "cell_type": "markdown",
   "metadata": {
    "slideshow": {
     "slide_type": "subslide"
    }
   },
   "source": [
    "Pick P,Q,and E such that:\n",
    "\n",
    "    1. P and Q are prime; picked at random.\n",
    "    2. 1 < E < (P-1)*(Q-1) and E is co-prime with (P-1)*(Q-1)"
   ]
  },
  {
   "cell_type": "code",
   "execution_count": 2,
   "metadata": {
    "slideshow": {
     "slide_type": "subslide"
    }
   },
   "outputs": [],
   "source": [
    "P=97    # First prime\n",
    "Q=83    # Second prime\n",
    "E=53    # usually a constant; 0x10001 is common, prime is best"
   ]
  },
  {
   "cell_type": "markdown",
   "metadata": {
    "slideshow": {
     "slide_type": "slide"
    }
   },
   "source": [
    "### Next, some functions we'll need in a moment:"
   ]
  },
  {
   "cell_type": "code",
   "execution_count": 3,
   "metadata": {
    "slideshow": {
     "slide_type": "subslide"
    }
   },
   "outputs": [],
   "source": [
    "def isPrime(x):\n",
    "    if x%2==0 and x>2: return False     # False for all even numbers\n",
    "    i=3                                 # we don't divide by 1 or 2\n",
    "    sqrt=x**.5                          \n",
    "    while i<sqrt:\n",
    "        if x%i==0: return False\n",
    "        i+=2\n",
    "    return True\n",
    "\n",
    "# Part of find_inverse below\n",
    "# See: http://en.wikipedia.org/wiki/Extended_Euclidean_algorithm\n",
    "def eea(a,b):\n",
    "    if b==0:return (1,0)\n",
    "    (q,r) = (a//b,a%b)\n",
    "    (s,t) = eea(b,r)\n",
    "    return (t, s-(q*t) )\n",
    "\n",
    "# Find the multiplicative inverse of x (mod y)\n",
    "# see: http://en.wikipedia.org/wiki/Modular_multiplicative_inverse\n",
    "def find_inverse(x,y):\n",
    "    inv = eea(x,y)[0]\n",
    "    if inv < 1: inv += y #we only want positive values\n",
    "    return inv"
   ]
  },
  {
   "cell_type": "markdown",
   "metadata": {
    "slideshow": {
     "slide_type": "slide"
    }
   },
   "source": [
    "### Make sure the numbers we picked above are valid."
   ]
  },
  {
   "cell_type": "code",
   "execution_count": 4,
   "metadata": {
    "slideshow": {
     "slide_type": "subslide"
    }
   },
   "outputs": [],
   "source": [
    "if not isPrime(P): raise Exception(\"P (%i) is not prime\" % (P,))\n",
    "if not isPrime(Q): raise Exception(\"Q (%i) is not prime\" % (Q,))\n",
    "\n",
    "T=(P-1)*(Q-1) # Euler's totient (intermediate result)\n",
    "# Assuming E is prime, we just have to check against T\n",
    "if E<1 or E > T: raise Exception(\"E must be > 1 and < T\")\n",
    "if T%E==0: raise Exception(\"E is not coprime with T\")"
   ]
  },
  {
   "cell_type": "markdown",
   "metadata": {
    "slideshow": {
     "slide_type": "slide"
    }
   },
   "source": [
    "### Derive our keys."
   ]
  },
  {
   "cell_type": "code",
   "execution_count": 5,
   "metadata": {
    "slideshow": {
     "slide_type": "subslide"
    }
   },
   "outputs": [
    {
     "name": "stdout",
     "output_type": "stream",
     "text": [
      "2525\n"
     ]
    }
   ],
   "source": [
    "# Product of P and Q is our modulus; the part determines as the \"key size\".\n",
    "MOD=P*Q\n",
    "\n",
    "# Private exponent is inverse of public exponent with respect to (mod T)\n",
    "D = find_inverse(E,T)\n",
    "print(D)"
   ]
  },
  {
   "cell_type": "markdown",
   "metadata": {
    "slideshow": {
     "slide_type": "subslide"
    }
   },
   "source": [
    "The modulus is always needed, while either E or D is the exponent, depending on which key we're using. D is much harder for an adversary to derive, so we call that one the \"private\" key.\n",
    "Note. See https://www.python-course.eu/python3_formatted_output.php for print format details."
   ]
  },
  {
   "cell_type": "code",
   "execution_count": 6,
   "metadata": {
    "slideshow": {
     "slide_type": "subslide"
    }
   },
   "outputs": [
    {
     "name": "stdout",
     "output_type": "stream",
     "text": [
      "public key: (MOD: 8051, E: 53)\n",
      "private key: (MOD: 8051, D: 2525)\n"
     ]
    }
   ],
   "source": [
    "print(\"public key: (MOD: %i, E: %i)\" % (MOD,E))\n",
    "print(\"private key: (MOD: %i, D: %i)\" % (MOD,D))"
   ]
  },
  {
   "cell_type": "markdown",
   "metadata": {
    "slideshow": {
     "slide_type": "subslide"
    }
   },
   "source": [
    "Note that P, Q, and T can now be discarded, but they're usually kept around so that a more efficient encryption algorithm can be used. http://en.wikipedia.org/wiki/RSA#Using_the_Chinese_remainder_algorithm"
   ]
  },
  {
   "cell_type": "markdown",
   "metadata": {
    "slideshow": {
     "slide_type": "slide"
    }
   },
   "source": [
    "### We have our keys, let's do some encryption\n",
    "\n",
    "Here we only focus on whether you're applying the private key or applying the public key, since either one will reverse the other. "
   ]
  },
  {
   "cell_type": "code",
   "execution_count": 7,
   "metadata": {
    "slideshow": {
     "slide_type": "subslide"
    }
   },
   "outputs": [
    {
     "name": "stdout",
     "output_type": "stream",
     "text": [
      "Initial message: 1111\n",
      "Encrypted_message: 4293\n",
      "Decrypted_message: 1111\n"
     ]
    }
   ],
   "source": [
    "message = int(1111)\n",
    "print(\"Initial message: %i\" % message)\n",
    "\n",
    "# Note that the pow() built-in does modulo exponentation. That's handy, since it saves us having to\n",
    "# implement that ablity.\n",
    "# http://en.wikipedia.org/wiki/Modular_exponentiation\n",
    "\n",
    "if (message >= MOD):\n",
    "    raise Exception(\"Message must be < MOD\")\n",
    "\n",
    "key = E\n",
    "encrypted_message = pow(message,key,MOD)\n",
    "print(\"Encrypted_message: %i\" % encrypted_message)\n",
    "\n",
    "key = D\n",
    "decrypted_message = pow(encrypted_message,key,MOD) #encrypt/decrypt using this ONE command. Surprisingly simple.\n",
    "print(\"Decrypted_message: %i\" % decrypted_message)"
   ]
  },
  {
   "cell_type": "markdown",
   "metadata": {},
   "source": [
    "Now let's find digital signatures for the same message, but please do it by yourself"
   ]
  },
  {
   "cell_type": "code",
   "execution_count": 31,
   "metadata": {},
   "outputs": [
    {
     "name": "stdout",
     "output_type": "stream",
     "text": [
      "digital_signature: 1111\n",
      "Encrypted_message: 4534\n",
      "digital_signature: 1111\n"
     ]
    }
   ],
   "source": [
    "message = int(1111)\n",
    "print(\"digital_signature: %i\" % message)\n",
    "\n",
    "# Note that the pow() built-in does modulo exponentation. That's handy, since it saves us having to\n",
    "# implement that ablity.\n",
    "# http://en.wikipedia.org/wiki/Modular_exponentiation\n",
    "\n",
    "if (message >= MOD):\n",
    "    raise Exception(\"Message must be < MOD\")\n",
    "\n",
    "key = D\n",
    "encrypted_message = pow(message,key,MOD)\n",
    "print(\"Encrypted_message: %i\" % encrypted_message)\n",
    "\n",
    "key = E\n",
    "decrypted_message = pow(encrypted_message,key,MOD) #encrypt/decrypt using this ONE command. Surprisingly simple.\n",
    "print(\"digital_signature: %i\" % decrypted_message)"
   ]
  },
  {
   "cell_type": "markdown",
   "metadata": {},
   "source": [
    "What are the differences between digital signatures and encryption in RSA? "
   ]
  },
  {
   "cell_type": "code",
   "execution_count": null,
   "metadata": {
    "collapsed": true
   },
   "outputs": [],
   "source": []
  },
  {
   "cell_type": "markdown",
   "metadata": {},
   "source": [
    "## El-Gamal protocol"
   ]
  },
  {
   "cell_type": "markdown",
   "metadata": {},
   "source": [
    "Decrypt the El-Gamal message if open key is equal to p=13, g=6, y=8\n",
    "\n",
    "Encryped message is equal to (11,11)"
   ]
  },
  {
   "cell_type": "markdown",
   "metadata": {},
   "source": [
    "### See the black board"
   ]
  },
  {
   "cell_type": "markdown",
   "metadata": {},
   "source": [
    "Find digital signature using El-Gamal protocol with parameters \n",
    "\n",
    "\n",
    "\n",
    "Open key p=11, g=7, y=8\n",
    "\n",
    "\n",
    "\n",
    "Message M=6\n",
    "\n",
    "\n",
    "\n",
    "Random parameter k=3"
   ]
  },
  {
   "cell_type": "markdown",
   "metadata": {},
   "source": [
    "### See the black board"
   ]
  },
  {
   "cell_type": "markdown",
   "metadata": {
    "slideshow": {
     "slide_type": "slide"
    }
   },
   "source": [
    "## Problem of generating big prime number"
   ]
  },
  {
   "cell_type": "markdown",
   "metadata": {},
   "source": [
    "Fermat's little theorem states that if p is a prime number, then for any integer a, the number ap − a is an integer multiple of p. In the notation of modular arithmetic, this is expressed as\n",
    "\n",
    "$$a^p \\equiv a \\pmod p$$\n",
    "\n",
    "If a is not divisible by p, Fermat's little theorem is equivalent to the statement that $a^{p − 1} − 1$ is an integer multiple of p, or in symbols:\n",
    "\n",
    "$$a^{p-1} \\equiv 1 \\pmod p$$\n",
    "\n",
    "\n",
    "\n"
   ]
  },
  {
   "cell_type": "code",
   "execution_count": null,
   "metadata": {},
   "outputs": [],
   "source": []
  },
  {
   "cell_type": "code",
   "execution_count": 27,
   "metadata": {
    "slideshow": {
     "slide_type": "subslide"
    }
   },
   "outputs": [],
   "source": [
    "# Python implementation of Fermat's primality test to generate prime numbers of any bit length.\n",
    "\n",
    "from random import randint\n",
    "\n",
    "def is_prime(num, test_count):\n",
    "    if num == 1:\n",
    "        return False\n",
    "    if test_count >= num:\n",
    "        test_count = num - 1\n",
    "    for x in range(test_count):\n",
    "        val = randint(1, num - 1)\n",
    "        if pow(val, num-1, num) != 1:\n",
    "            return False\n",
    "    return True\n",
    "\n",
    "def generate_big_prime(n, test_count=1000):\n",
    "    found_prime = False\n",
    "    while not found_prime:\n",
    "        p = randint(2**(n-1), 2**n)\n",
    "        if is_prime(p, test_count):\n",
    "            return p"
   ]
  },
  {
   "cell_type": "code",
   "execution_count": 28,
   "metadata": {
    "slideshow": {
     "slide_type": "subslide"
    }
   },
   "outputs": [
    {
     "name": "stdout",
     "output_type": "stream",
     "text": [
      "676111\n",
      "10100101000100001111\n"
     ]
    }
   ],
   "source": [
    "n = 20\n",
    "random_prime = generate_big_prime(n)\n",
    "print(random_prime)\n",
    "print(\"{0:b}\".format(random_prime))\n",
    "# Generates a random prime number of length n bits"
   ]
  },
  {
   "cell_type": "code",
   "execution_count": null,
   "metadata": {},
   "outputs": [],
   "source": []
  }
 ],
 "metadata": {
  "kernelspec": {
   "display_name": "Python 3",
   "language": "python",
   "name": "python3"
  },
  "language_info": {
   "codemirror_mode": {
    "name": "ipython",
    "version": 3
   },
   "file_extension": ".py",
   "mimetype": "text/x-python",
   "name": "python",
   "nbconvert_exporter": "python",
   "pygments_lexer": "ipython3",
   "version": "3.7.0"
  }
 },
 "nbformat": 4,
 "nbformat_minor": 2
}
