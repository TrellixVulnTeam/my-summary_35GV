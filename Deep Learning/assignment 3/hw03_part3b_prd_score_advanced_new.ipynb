{
 "cells": [
  {
   "cell_type": "markdown",
   "metadata": {},
   "source": [
    "Original paper: https://arxiv.org/abs/1806.00035"
   ]
  },
  {
   "cell_type": "markdown",
   "metadata": {},
   "source": [
    "# 0. Read real and generated images#"
   ]
  },
  {
   "cell_type": "code",
   "execution_count": 22,
   "metadata": {},
   "outputs": [],
   "source": [
    "import math\n",
    "import numpy as np\n",
    "import matplotlib.pyplot as plt\n",
    "import matplotlib.lines as mlines\n",
    "import matplotlib"
   ]
  },
  {
   "cell_type": "code",
   "execution_count": 23,
   "metadata": {},
   "outputs": [],
   "source": [
    "CHANNEL_NUM = 3\n",
    "PICTURE_SIZE = 36\n"
   ]
  },
  {
   "cell_type": "code",
   "execution_count": 24,
   "metadata": {},
   "outputs": [],
   "source": [
    "class ParticleDataset():\n",
    "    def __init__(self, file):\n",
    "        self.data = np.load(file)\n",
    "        self.image = self.data['Pictures'].reshape(-1, CHANNEL_NUM*PICTURE_SIZE*PICTURE_SIZE)\n",
    "\n",
    "    def __len__(self):\n",
    "        return len(self.image)\n",
    "\n",
    "    def __getitem__(self, i):\n",
    "        return {\n",
    "            \"Pictures\": self.image[i],\n",
    "        }"
   ]
  },
  {
   "cell_type": "code",
   "execution_count": 36,
   "metadata": {},
   "outputs": [],
   "source": [
    "real_data = ParticleDataset('real.npz')\n",
    "vae_data = ParticleDataset('vae.npz')\n",
    "gan_data = ParticleDataset('gan.npz')"
   ]
  },
  {
   "cell_type": "markdown",
   "metadata": {},
   "source": [
    "Make sure that the values of real and generated data are of the same order - it is important for cooperative binarizing"
   ]
  },
  {
   "cell_type": "code",
   "execution_count": 37,
   "metadata": {},
   "outputs": [
    {
     "name": "stdout",
     "output_type": "stream",
     "text": [
      "0.0 1.0\n",
      "0.0 1.0\n",
      "-0.7385716593761336 1.5644087294939895\n"
     ]
    }
   ],
   "source": [
    "print (np.min(real_data.image), np.max(real_data.image))\n",
    "print (np.min(gan_data.image), np.max(gan_data.image))\n",
    "print (np.min(vae_data.image), np.max(vae_data.image))"
   ]
  },
  {
   "cell_type": "markdown",
   "metadata": {},
   "source": [
    "# 1. Binarize# "
   ]
  },
  {
   "cell_type": "markdown",
   "metadata": {},
   "source": [
    "To understand how real and generated objects are close to each other, we need to choose a space of features in which we look these objects at"
   ]
  },
  {
   "cell_type": "markdown",
   "metadata": {},
   "source": [
    "We go the easiest way and take pixels' values as features."
   ]
  },
  {
   "cell_type": "code",
   "execution_count": 38,
   "metadata": {},
   "outputs": [],
   "source": [
    "from sklearn.cluster import KMeans, MiniBatchKMeans\n",
    "import math\n",
    "## function which map object to probability distribution ##\n",
    "\n",
    "def bin_counts (real_data, generated_data, number_of_bins=25):\n",
    "    # binirize real and generated data, plot histogram and found density function\n",
    "    cluster_data = np.vstack([real_data, generated_data])\n",
    "    kmeans = MiniBatchKMeans(n_clusters=number_of_bins, n_init=10)\n",
    "    labels = kmeans.fit(cluster_data).labels_\n",
    "\n",
    "    eval_labels = labels[:len(real_data)]\n",
    "    ref_labels = labels[len(real_data):]\n",
    "\n",
    "    real_density = np.histogram(eval_labels, bins=number_of_bins,\n",
    "                           range=[0, number_of_bins], density=True)[0]\n",
    "    gen_density = np.histogram(ref_labels, bins=number_of_bins,\n",
    "                          range=[0, number_of_bins], density=True)[0]\n",
    "    return real_density, gen_density"
   ]
  },
  {
   "cell_type": "markdown",
   "metadata": {},
   "source": [
    "Create $\\alpha-$ and $\\beta-$ vectors as in\n",
    "\n",
    "$\\hat{PRD}(Q,P) = \\{(\\alpha(\\lambda), \\beta(\\lambda))| \\lambda \\in \\Lambda \\}$, where $\\Lambda = \\{\\tan (\\frac{i}{m+1} \\frac{\\pi}{2}) | i = 1, 2 ... m\\}$"
   ]
  },
  {
   "cell_type": "code",
   "execution_count": 39,
   "metadata": {},
   "outputs": [],
   "source": [
    "def count_alpha_beta (real_density, gen_density, num_angles = 1000):\n",
    "    assert real_density.shape == gen_density.shape\n",
    "    alpha_vec = []\n",
    "    beta_vec = []\n",
    "    angles = np.linspace(1e-6, np.pi/2 - 1e-6, num=num_angles)\n",
    "    \n",
    "    slopes = np.tan(angles)\n",
    "    slopes_2d = np.expand_dims(slopes, 1)\n",
    "    \n",
    "    ref_dist_2d = np.expand_dims(gen_density, 0)\n",
    "    eval_dist_2d = np.expand_dims(real_density, 0)\n",
    "    \n",
    "    precision = np.minimum(ref_dist_2d*slopes_2d, eval_dist_2d).sum(axis=1)\n",
    "    recall = precision / slopes\n",
    "    max_val = max(np.max(precision), np.max(recall))\n",
    "    if max_val > 1.001:\n",
    "        raise ValueError('Detected value > 1.001, this should not happen.')\n",
    "    alpha_vec = np.clip(precision, 0, 1)\n",
    "    beta_vec = np.clip(recall, 0, 1)\n",
    "    return alpha_vec, beta_vec"
   ]
  },
  {
   "cell_type": "markdown",
   "metadata": {},
   "source": [
    "For stability, take the average of several repetitions"
   ]
  },
  {
   "cell_type": "code",
   "execution_count": 40,
   "metadata": {},
   "outputs": [],
   "source": [
    "def count_prd(reals, gens, repeat_number = 10):\n",
    "    vectors = [count_alpha_beta(reals, gens) for i in range(repeat_number)]\n",
    "    vectors = np.array(vectors).mean(axis=0)\n",
    "    print (vectors.shape)\n",
    "    return vectors"
   ]
  },
  {
   "cell_type": "markdown",
   "metadata": {},
   "source": [
    "## 2. Apply it##"
   ]
  },
  {
   "cell_type": "code",
   "execution_count": 41,
   "metadata": {},
   "outputs": [
    {
     "data": {
      "text/plain": [
       "(array([9., 1., 2., 2., 2., 4., 3., 1., 0., 1.]),\n",
       " array([7.60861295e-05, 1.21205204e-02, 2.41649547e-02, 3.62093890e-02,\n",
       "        4.82538233e-02, 6.02982576e-02, 7.23426919e-02, 8.43871262e-02,\n",
       "        9.64315605e-02, 1.08475995e-01, 1.20520429e-01]),\n",
       " <a list of 10 Patch objects>)"
      ]
     },
     "execution_count": 41,
     "metadata": {},
     "output_type": "execute_result"
    },
    {
     "data": {
      "image/png": "[encoded data removed]",
      "text/plain": [
       "<Figure size 432x288 with 1 Axes>"
      ]
     },
     "metadata": {
      "needs_background": "light"
     },
     "output_type": "display_data"
    }
   ],
   "source": [
    "a, b = bin_counts(real_data.image, vae_data.image)\n",
    "c, d = bin_counts(real_data.image, gan_data.image)\n",
    "plt.hist(a)\n",
    "plt.hist(b)"
   ]
  },
  {
   "cell_type": "code",
   "execution_count": 42,
   "metadata": {},
   "outputs": [
    {
     "data": {
      "text/plain": [
       "(array([3., 4., 3., 5., 5., 2., 1., 0., 0., 2.]),\n",
       " array([0.00076086, 0.01144335, 0.02212585, 0.03280834, 0.04349083,\n",
       "        0.05417332, 0.06485582, 0.07553831, 0.0862208 , 0.09690329,\n",
       "        0.10758579]),\n",
       " <a list of 10 Patch objects>)"
      ]
     },
     "execution_count": 42,
     "metadata": {},
     "output_type": "execute_result"
    },
    {
     "data": {
      "image/png": "[encoded data removed]",
      "text/plain": [
       "<Figure size 432x288 with 1 Axes>"
      ]
     },
     "metadata": {
      "needs_background": "light"
     },
     "output_type": "display_data"
    }
   ],
   "source": [
    "plt.hist(c)\n",
    "plt.hist(d)"
   ]
  },
  {
   "cell_type": "markdown",
   "metadata": {},
   "source": [
    "## 3. Make vectors for plot and plot ##"
   ]
  },
  {
   "cell_type": "code",
   "execution_count": 43,
   "metadata": {},
   "outputs": [
    {
     "name": "stdout",
     "output_type": "stream",
     "text": [
      "(2, 1000)\n",
      "(2, 1000)\n"
     ]
    }
   ],
   "source": [
    "data_for_plots = count_prd(a, b)\n",
    "data_for_plots2 = count_prd(c, d)"
   ]
  },
  {
   "cell_type": "code",
   "execution_count": 44,
   "metadata": {},
   "outputs": [
    {
     "data": {
      "image/png": "[encoded data removed]",
      "text/plain": [
       "<Figure size 500x500 with 1 Axes>"
      ]
     },
     "metadata": {
      "needs_background": "light"
     },
     "output_type": "display_data"
    }
   ],
   "source": [
    "fig = plt.figure(figsize=(2.5, 2.5), dpi=200)\n",
    "fig.add_subplot(111).tick_params(axis='both', which='major', labelsize=8)\n",
    "plt.xlim([0, 1])\n",
    "plt.ylim([0, 1])\n",
    "plt.xlabel('Recall', fontsize=12)\n",
    "plt.ylabel('Precision', fontsize=12)\n",
    "plt.plot(data_for_plots[0], data_for_plots[1], label = \"VAE\")\n",
    "plt.plot(data_for_plots2[0], data_for_plots2[1], label = \"GAN\")\n",
    "plt.legend()\n",
    "plt.show()"
   ]
  },
  {
   "cell_type": "markdown",
   "metadata": {},
   "source": [
    "**What curves were obtained for the first(VAE) and the second(GAN) models? What can we say about the advantages and disadvantages of each model?**"
   ]
  },
  {
   "cell_type": "markdown",
   "metadata": {},
   "source": [
    "the GAN model achieve higher precision and lower recall than the VAE model, which suffices to successfully distinguishing between the failure cases.\n",
    "\n",
    "curve successfully demonstrate the sensitivity of GAN."
   ]
  },
  {
   "cell_type": "markdown",
   "metadata": {
    "collapsed": true
   },
   "source": [
    "## Bonus: about features' space##\n",
    "\n",
    "It is possible to transfer the picture-> embedding, for example, using the 1st part of the Inception network as a feature extraxtor. This embedding can be used for bin counts also"
   ]
  },
  {
   "cell_type": "code",
   "execution_count": null,
   "metadata": {},
   "outputs": [],
   "source": [
    "# if you came here and still alive, the implementation of idea above will give you extra points =)\n"
   ]
  }
 ],
 "metadata": {
  "kernelspec": {
   "display_name": "Python 3",
   "language": "python",
   "name": "python3"
  },
  "language_info": {
   "codemirror_mode": {
    "name": "ipython",
    "version": 3
   },
   "file_extension": ".py",
   "mimetype": "text/x-python",
   "name": "python",
   "nbconvert_exporter": "python",
   "pygments_lexer": "ipython3",
   "version": "3.7.1"
  }
 },
 "nbformat": 4,
 "nbformat_minor": 2
}
