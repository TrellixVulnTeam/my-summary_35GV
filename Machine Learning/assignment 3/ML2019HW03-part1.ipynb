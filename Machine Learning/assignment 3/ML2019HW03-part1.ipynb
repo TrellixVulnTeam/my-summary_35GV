{
 "cells": [
  {
   "cell_type": "markdown",
   "metadata": {},
   "source": [
    "# Home Assignment No. 3: Part 1 "
   ]
  },
  {
   "cell_type": "markdown",
   "metadata": {},
   "source": [
    "In this part of the homework you are to solve several problems related to machine learning algorithms.\n",
    "* For every separate problem you can get only 0 points or maximal points for this problem. There are **NO INTERMEDIATE scores**.\n",
    "* Your solution must me **COMPLETE**, i.e. contain all required formulas/proofs/detailed explanations.\n",
    "* You must write your solution for any problem just right after the words **BEGIN SOLUTION**. Attaching pictures of your handwriting is allowed, but **highly discouraged**.\n",
    "* If you want an easy life, you have to use **BUILT-IN METHODS** of `sklearn` library instead of writing tons of our yown code. There exists a class/method for almost everything you can imagine (related to this homework).\n",
    "* To do some tasks in this part of homework, you have to write **CODE** directly inside specified places inside notebook **CELLS**.\n",
    "* In some problems you may be asked to provide short discussion of the results. In this cases you have to create **MARKDOWN** cell with your comments right after the your code cell.\n",
    "* Your **SOLUTION** notebook **MUST BE REPRODUCIBLE**, i.e. if the reviewer decides to execute `Kernel` -> `Restart Kernel and Run All Cells`, after all the computation he will obtain exactly the same solution (with all the corresponding plots) as in your uploaded notebook. For this purpose, we suggest to fix random `seed` or (better) define `random_state=` inside every algorithm that uses some pseudorandomness.\n",
    "\n",
    "* Your code must be clear to the reviewer. For this purpose, try to include neccessary comments inside the code. But remember: **GOOD CODE MUST BE SELF-EXPLANATORY** without any additional comments.\n",
    "* The are problems with \\* mark - they are not obligatory. You can get **EXTRA POINTS** for solving them.\n",
    "## $\\LaTeX$ in Jupyter\n",
    "Jupyter has constantly improving $\\LaTeX$ support. Below are the basic methods to\n",
    "write **neat, tidy, and well typeset** equations in your notebooks:\n",
    "* to write an **inline** equation use \n",
    "```markdown\n",
    "$ you latex equation here $\n",
    "```\n",
    "* to write an equation, that is **displayed on a separate line** use \n",
    "```markdown\n",
    "$$ you latex equation here $$\n",
    "```\n",
    "* to write a **block of equations** use \n",
    "```markdown\n",
    "\\begin{align}\n",
    "    left-hand-side\n",
    "        &= right-hand-side on line 1\n",
    "        \\\\\n",
    "        &= right-hand-side on line 2\n",
    "        \\\\\n",
    "        &= right-hand-side on the last line\n",
    "\\end{align}\n",
    "```\n",
    "The **ampersand** (`&`) aligns the equations horizontally and the **double backslash**\n",
    "(`\\\\`) creates a new line."
   ]
  },
  {
   "cell_type": "markdown",
   "metadata": {},
   "source": [
    "Write your theoretical derivations within such blocks:\n",
    "```markdown\n",
    "**BEGIN Solution**\n",
    "\n",
    "<!-- >>> your derivation here <<< -->\n",
    "\n",
    "**END Solution**\n",
    "```"
   ]
  },
  {
   "cell_type": "markdown",
   "metadata": {},
   "source": [
    "Please, write your implementation within the designated blocks:\n",
    "```python\n",
    "...\n",
    "### BEGIN Solution\n",
    "\n",
    "# >>> your solution here <<<\n",
    "\n",
    "### END Solution\n",
    "...\n",
    "```\n"
   ]
  },
  {
   "cell_type": "markdown",
   "metadata": {},
   "source": [
    "<br>"
   ]
  },
  {
   "cell_type": "code",
   "execution_count": 1,
   "metadata": {},
   "outputs": [],
   "source": [
    "import numpy as np\n",
    "import pandas as pd\n",
    "\n",
    "import torch\n",
    "\n",
    "%matplotlib inline\n",
    "import matplotlib.pyplot as plt"
   ]
  },
  {
   "cell_type": "markdown",
   "metadata": {},
   "source": [
    "<br>"
   ]
  },
  {
   "cell_type": "markdown",
   "metadata": {},
   "source": [
    "# Bayesian Models. GLM"
   ]
  },
  {
   "cell_type": "markdown",
   "metadata": {},
   "source": [
    "## Task 1 (1 pt.)\n",
    "\n",
    "Consider a univariate(one-dimensional) Gaussian distribution $\\mathcal{N}(x; \\mu, \\tau^{-1})$.\n",
    "Let's define Gaussian-Gamma prior for parameters $(\\mu, \\tau)$:\n",
    "\n",
    "\\begin{equation}\n",
    "    p(\\mu, \\tau)\n",
    "        = \\mathcal{N}(\\mu; \\mu_0, (\\beta \\tau)^{-1})\n",
    "            \\otimes \\text{Gamma}(\\tau; a, b)\n",
    "        \\,.\n",
    "\\end{equation}\n",
    "\n",
    "Find the posterior distribution of $(\\mu, \\tau)$ after observing $X = (x_1, \\dots, x_n)$."
   ]
  },
  {
   "cell_type": "markdown",
   "metadata": {},
   "source": [
    "**BEGIN Solution**\n",
    "\n",
    "References:\n",
    " - Bishop - Pattern Recognition And Machine Learning - Springer  2006  ch 2.3.6\n",
    " - https://www.cs.ubc.ca/~murphyk/Papers/bayesGauss.pdf\n",
    "\n",
    "\n",
    "$$\n",
    "\\mathcal{N}(\\mu| \\mu_0, (\\beta \\tau)^{-1}) \n",
    "= {\\sqrt{\\frac{\\beta \\tau}{2\\pi}}} \\exp \\left(-\\frac{(\\mu-\\mu_0)\\beta\\tau(\\mu-\\mu_0)}{2}\\right) \\text{ , }$$\n",
    "$$\n",
    "Gamma(\\tau; a, b) \n",
    "= \\frac{b^a\\tau^{a-1} \\exp \\left(-b \\tau \\right) }{\\Gamma (a)}\n",
    "$$\n",
    "\n",
    "Bayes' theorem: $$\n",
    "p(\\mu, \\tau |x)={\\frac {p(x|\\mu, \\tau )p(\\mu, \\tau )}{p(x)}} = {\\frac {p(x| \\mu, \\tau )p(\\mu, \\tau )}{p(x)}}\n",
    "$$\n",
    "\n",
    "Likelihood: \n",
    "$$ p(X|\\mu, \\tau) = \\prod_{i=1}^{n} \\sqrt{\\frac{\\tau}{2\\pi}} \\exp\\left(\\frac{-\\tau(x_i-\\mu)}{2}\\right)  = \\\\\n",
    "=\\frac{1}{(2\\pi)^{n/2}}\\tau^{n/2} \\exp \\left( -\\frac{\\tau}{2}\\sum_{i=1}^{n} (x_i - \\mu)^2 \\right)=\\\\=\n",
    "\\frac{1}{(2\\pi)^{n/2}}\\tau^{n/2} \\exp \\left( - \\frac{\\tau}{2} \\left[ \\sum x_i^2 + 2\\mu \\sum x_i - n \\mu^2\\right] \\right)$$\n",
    "\n",
    "Prior:\n",
    "\n",
    "$$ p(\\mu, \\tau) = NG (\\mu, \\tau | \\mu_0, \\beta, a,b)= \\mathcal{N}(\\mu | \\mu_0, (\\beta \\tau)^{-1}) \\otimes \\text{Gamma}(\\tau| a, b)=\\\\= \\frac{1}{Z} \\tau^{1/2} \\exp{\\left( -\\frac{\\beta\\tau}{2}(\\mu - \\mu_0)^2 \\right)} \\tau^{a-1} \\exp{\\left( -b \\tau \\right)}$$\n",
    "\n",
    "Posterior:\n",
    "\n",
    "$$ p( \\mu, \\tau | X) \\propto  p(X|\\mu, \\tau) p(\\mu, \\tau) \\propto \\tau^{1/2} \\exp{\\left( -\\frac{\\beta\\tau}{2}(\\mu - \\mu_0)^2 \\right)} \\tau^{a-1} \\exp{\\left( -b \\tau \\right)} \\times \\tau^{n/2} \\exp \\left( - \\frac{\\tau}{2} \\left[ \\sum x_i^2 + 2\\mu \\sum x_i - n \\mu^2\\right] \\right) \\propto \\\\ \\propto \\tau^{1/2}  exp{ \\left( -\\frac{\\tau}{2} \\left[ \\beta (\\mu^2 - 2\\mu \\mu_0 + \\mu_0^2)+\\sum x_i^2 - 2\\mu \\sum x_i+n\\mu^2 \\right] \\right) } \\tau^{n/2+a-1} \\exp{} \\left( -b\\tau \\right)\\propto \\\\ \\propto\n",
    "\\tau^{1/2} exp{\\left( -\\frac{\\tau}{2} \\left[ (\\beta + n)\\left( \\mu - \\frac{\\beta \\mu_0 + \\sum x_i}{\\beta + n}\\right)^2\\right]\\right)}\\tau^{n/2+a-1} exp{\\left( -A\\tau \\right)}$$\n",
    "\n",
    "where $$A = b + \\frac{(\\beta + n)\\sum x_i^2 + n\\beta\\mu_0^2 - \\left( \\sum x_i \\right)^2 - 2\\beta \\mu_0 \\sum x_i}{2(\\beta+n)}$$\n",
    "\n",
    "$ \\Rightarrow $ \n",
    "$$p(\\mu, \\tau |X) = NG(\\mu, \\tau| \\mu^{'} , \\beta ^{'}, a^{'}, b^{'})$$,where \n",
    "$$\\mu^{'} = \\frac{\\beta \\mu_0 + \\sum x_i}{\\beta + n}\\\\\n",
    "\\beta ^{'} = \\beta +n \\\\\n",
    "a^{'} = a + \\frac{n}{2}\\\\\n",
    "b^{'} = A$$\n",
    "\n",
    "we use  $\\propto$ because don't care about constant from normalization constant to be distribution density\n",
    "\n",
    "**END Solution**"
   ]
  },
  {
   "cell_type": "markdown",
   "metadata": {},
   "source": [
    "## Task 2 (1 + 1 + 1 = 3 pt.)\n",
    "\n",
    "Evaluate the following integral using the Laplace approximation:\n",
    "\\begin{equation}\n",
    "    x \\mapsto \\int \\sigma(w^T x) \\mathcal{N}(w; 0, \\Sigma) dw \\,,\n",
    "\\end{equation}\n",
    "for $x = \\bigl(\\tfrac23, \\tfrac16, \\tfrac16\\bigr)\\in \\mathbb{R}^3$ and \n",
    "\\begin{equation}\n",
    "    \\Sigma\n",
    "        = \\begin{pmatrix}\n",
    "             1    & -0.25 & 0.75 \\\\\n",
    "            -0.25 &  1    & 0.5  \\\\\n",
    "             0.75 &  0.5  & 2\n",
    "           \\end{pmatrix}\n",
    "        \\,.\n",
    "\\end{equation}"
   ]
  },
  {
   "cell_type": "markdown",
   "metadata": {},
   "source": [
    "### Task 2.1 (1 pt.)\n",
    "Use the Hessian matrix computed numericaly via finite differences. (Check out [Numdifftools](https://pypi.python.org/pypi/Numdifftools))"
   ]
  },
  {
   "cell_type": "code",
   "execution_count": 1,
   "metadata": {},
   "outputs": [],
   "source": [
    "import numdifftools as nd\n",
    "from scipy.optimize import minimize\n",
    "import numpy as np\n",
    "from scipy.stats import multivariate_normal\n",
    "%matplotlib inline\n",
    "import matplotlib.pyplot as plt"
   ]
  },
  {
   "cell_type": "code",
   "execution_count": 2,
   "metadata": {
    "scrolled": true
   },
   "outputs": [
    {
     "name": "stdout",
     "output_type": "stream",
     "text": [
      "0.49791984101882186\n"
     ]
    }
   ],
   "source": [
    "### BEGIN Solution\n",
    "x = np.array([2/3, 1/6, 1/6])\n",
    "cov = np.array([[1, -0.25, 0.75],\n",
    "                [-0.25, 1, 0.5],\n",
    "                [0.75, 0.5, 2]])\n",
    "func = lambda w: -multivariate_normal.pdf(w,[0,0,0],cov)/(1+np.exp(-w@x))\n",
    "log = lambda w: multivariate_normal.logpdf(w,[0,0,0],cov) - np.log(1+np.exp(-w@x))\n",
    "\n",
    "w_0 = minimize(func, [0,0,0], method='Nelder-Mead').x\n",
    "hess = nd.Hessian(log)\n",
    "A = np.linalg.inv(-hess(w_0))\n",
    "\n",
    "result = (2*np.pi)**(3/2)* np.linalg.det(A)**(1/2)*(-func(w_0))\n",
    "print(result)"
   ]
  },
  {
   "cell_type": "markdown",
   "metadata": {},
   "source": [
    "### Task 2.2 (1 pt.)\n",
    "Use the diagonal approximation of the Hessian computed by autodifferentiation\n",
    "in **pytorch**."
   ]
  },
  {
   "cell_type": "code",
   "execution_count": 3,
   "metadata": {},
   "outputs": [],
   "source": [
    "import torch\n",
    "from torch.autograd import Variable, grad"
   ]
  },
  {
   "cell_type": "code",
   "execution_count": 4,
   "metadata": {},
   "outputs": [
    {
     "name": "stdout",
     "output_type": "stream",
     "text": [
      "0.2964300391840083\n"
     ]
    }
   ],
   "source": [
    "### BEGIN Solution\n",
    "x_t = Variable(torch.from_numpy(x.reshape(3,1)).type(torch.FloatTensor))\n",
    "cov_t = Variable(torch.from_numpy(cov).type(torch.FloatTensor))\n",
    "\n",
    "func_t = lambda z: torch.exp(-0.5 * torch.mm(torch.mm(z.t(),cov_t.inverse()),z)) * torch.sigmoid(torch.mm(z.t(), x_t))\n",
    "log_t = lambda z: torch.log(func_t(z))\n",
    "\n",
    "tol, max_iter, learn_rate = 1e-3, 10000, 1e-1\n",
    "\n",
    "theta = Variable(torch.randn(3,1).type(torch.FloatTensor), requires_grad=True)\n",
    "for i in range(max_iter):\n",
    "    y = log_t(theta).backward()\n",
    "    theta.data += learn_rate * theta.grad.data\n",
    "    if torch.norm(theta.grad.data) < tol:\n",
    "        break      \n",
    "    theta.grad.data.zero_()\n",
    "theta_0 =  theta.data.numpy()\n",
    "\n",
    "theta = Variable(torch.FloatTensor(theta_0), requires_grad=True)\n",
    "y = log_t(theta)\n",
    "grad_params = torch.autograd.grad(y, theta, create_graph=True)\n",
    "hess_t = np.diag([torch.autograd.grad(grad_params[0][j],theta,\\\n",
    "                                      create_graph=True)[0].data.numpy()[j][0] for j in range(3)])\n",
    "\n",
    "det_t = - np.linalg.det(hess_t)\n",
    "const = np.sqrt((2*np.pi)**3 * np.linalg.det(cov))\n",
    "result_t = func_t(Variable(torch.FloatTensor(theta_0))).data.numpy()[0][0]/ const* np.sqrt((2*np.pi)**3/det_t) \n",
    "print (result_t)\n",
    "### END Solution"
   ]
  },
  {
   "cell_type": "markdown",
   "metadata": {},
   "source": [
    "### Task 2.3 (1 pt.)\n",
    "\n",
    "Compare the results comparing the `absolute errors` of the results (this is possible with Monte-Carlo estimate of the integral). Write 1-2 sentences in the results discussion."
   ]
  },
  {
   "cell_type": "code",
   "execution_count": 5,
   "metadata": {},
   "outputs": [],
   "source": [
    "def Monte_Carlo(N):\n",
    "    return np.mean(1/(1+np.exp(-multivariate_normal.rvs([0,0,0], cov, size=N)@x)))"
   ]
  },
  {
   "cell_type": "code",
   "execution_count": 6,
   "metadata": {
    "scrolled": true
   },
   "outputs": [],
   "source": [
    "result_mc = Monte_Carlo(1000000)"
   ]
  },
  {
   "cell_type": "code",
   "execution_count": 7,
   "metadata": {},
   "outputs": [
    {
     "name": "stdout",
     "output_type": "stream",
     "text": [
      "Relative error, 1 case = 0.004\n",
      "Relative error, 2 case = 0.407\n"
     ]
    }
   ],
   "source": [
    "print('Relative error, 1 case = {:.3f}'.format(np.abs(result-result_mc)/result_mc))\n",
    "print('Relative error, 2 case = {:.3f}'.format(np.abs(result_t-result_mc)/result_mc))"
   ]
  },
  {
   "cell_type": "markdown",
   "metadata": {},
   "source": [
    "As we use diagonal approximation of hessian  the used number of components of matrix is reduced and we loss information about matrix. And finally, it increases relatice error."
   ]
  },
  {
   "cell_type": "markdown",
   "metadata": {},
   "source": [
    "<br>"
   ]
  },
  {
   "cell_type": "markdown",
   "metadata": {},
   "source": [
    "# Gaussian Processes"
   ]
  },
  {
   "cell_type": "markdown",
   "metadata": {},
   "source": [
    "## Task 3 (1 + 2 = 3 pt.)"
   ]
  },
  {
   "cell_type": "markdown",
   "metadata": {},
   "source": [
    "### Task 3.1 (1 pt.)\n",
    "\n",
    "Assuimng the matrices $A \\in \\mathbb{R}^{n \\times n}$ and $D \\in \\mathbb{R}^{d \\times d}$\n",
    "are invertible, using **gaussian elimination** find the inverse matrix for the following\n",
    "block matrix:\n",
    "\\begin{equation}\n",
    "    \\begin{pmatrix} A & B \\\\ C & D \\end{pmatrix} \\,,\n",
    "\\end{equation}\n",
    "where $C \\in \\mathbb{R}^{d \\times n}$ and $B \\in \\mathbb{R}^{n \\times d}$."
   ]
  },
  {
   "cell_type": "markdown",
   "metadata": {},
   "source": [
    "**BEGIN Solution**\n",
    "$$\\left( {\\begin{array}{rr|rr}A&B&I&0\\\\C&D&0&I\\end{array}} \\right)  = \\left({\\begin{array}{rr|rr}I&A^{-1}B&A^{-1}&0\\\\C&D&0&I\\end{array}}\\right) = \\left({\\begin{array}{rr|rr}I&A^{-1}B&A^{-1}&0\\\\0&D-CA^{-1}B&-CA^{-1}&I\\end{array}}\\right) = \n",
    "$$\n",
    "$$= \\left({\\begin{array}{rr|rr}I&A^{-1}B&A^{-1}&0\\\\0&I&-(D-CA^{-1}B)^{-1}CA^{-1}&(D-CA^{-1}B)^{-1}\\end{array}}\\right) =$$\n",
    "$$ =\\left({\\begin{array}{rr|rr}I&0&A^{-1} + A^{-1}B(D-CA^{-1}B)^{-1}CA^{-1} &-A^{-1}B(D-CA^{-1}B)^{-1}\\\\0&I&-(D-CA^{-1}B)^{-1}CA^{-1}&(D-CA^{-1}B)^{-1}\\end{array}}\\right)$$\n",
    "\n",
    "$D-CA^{-1}B$ should be invertable.\n",
    "\n",
    "**END Solution**"
   ]
  },
  {
   "cell_type": "markdown",
   "metadata": {},
   "source": [
    "<br>"
   ]
  },
  {
   "cell_type": "markdown",
   "metadata": {},
   "source": [
    "### Task 3.2 (2 pt.)\n",
    "\n",
    "Assume that the function $y(x)$, $x \\in \\mathbb{R}^d$, is a realization of the Gaussian\n",
    "Process $GP\\bigl(0; K(\\cdot, \\cdot)\\bigr)$ with $K(a, b) = \\exp({- \\gamma \\|a - b\\|_2^2}))$.\n",
    "\n",
    "Suppose two datasets were observed: **noiseless** ${D_0}$ and **noisy** ${D_1}$\n",
    "\\begin{aligned}\n",
    "    & D_0 = \\bigl(x_i, y(x_i) \\bigr)_{i=1}^{n} \\,, \\\\\n",
    "    & D_1 = \\bigl(x^\\prime_i, y(x^\\prime_i) + \\varepsilon_i \\bigr)_{i=1}^{m} \\,,\n",
    "\\end{aligned}\n",
    "\n",
    "where $\\varepsilon_i \\sim \\text{ iid } \\mathcal{N}(0, \\sigma^2)$, independent of process $y$.\n",
    "\n",
    "Derive the conditional distribution of $y(x) \\big\\vert_{D_0, D_1}$ at a new $x$."
   ]
  },
  {
   "cell_type": "markdown",
   "metadata": {},
   "source": [
    "**BEGIN Solution**\n",
    "\n",
    "Link:\n",
    " - https://people.eecs.berkeley.edu/~pabbeel/cs287-fa11/slides/Gaussians-v2.pdf (page 10)\n",
    " - lecture 14 from p.24 to p.27\n",
    " - https://www.cse.iitk.ac.in/users/piyush/courses/pml_winter16/slides_lec12.pdf\n",
    " \n",
    " $$p(x,y| \\mu, \\Sigma) = \\mathcal{N}(\\mu, \\Sigma) = \\mathcal{N}\\left({\\begin{bmatrix}\\mu_x \\\\\\mu_y\\end{bmatrix}}, {\\begin{bmatrix}\\Sigma_{xx} & \\Sigma_{xy} \\\\\\Sigma_{yx}& \\Sigma_{yy}\\end{bmatrix}} \\right)$$\n",
    "\n",
    "\n",
    "$$\n",
    "\\Rightarrow p(x|y=y_0) =\\mathcal{N}(x|\\mu_x + \\Sigma_{xy}\\Sigma_{yy}^{-1}(y_0 - \\mu_y),\\Sigma_{xx}-\\Sigma_{xy}\\Sigma_{yy}^{-1}\\Sigma_{yx}) $$\n",
    "\n",
    "When we have $\\varepsilon_i \\sim \\mathcal{N}(0, \\sigma^2I_m)$:\n",
    "$$p(f) = \\mathcal{N}(f|0,K) $$\n",
    "$$p(y|f) = \\mathcal{N}(y|f, \\sigma^2I_m) $$\n",
    "$$p(y) = \\mathcal{N}(0,K+\\sigma^2I_m) $$\n",
    "\n",
    "And for 2 dim case $ A = \\begin{pmatrix} 0 & 0 \\\\ 0 & \\sigma I_m \\end{pmatrix}$ then\n",
    "\n",
    "$$p(y^{*}|D) = \\mathcal{N}(f^{*}|\\mu^{*},\\Sigma)  $$\n",
    "$$ \\mu^{*} = k^{*T}\\Sigma_0^{-1}y $$\n",
    "$$ \\Sigma_1 = K_{**} - k^T_{*}\\Sigma_0^{-1}k_{*}$$\n",
    "\n",
    "for $D_0$ we have:\n",
    "\n",
    "$$p(y(x),y(x_1),\\dots, y(x_n)) = \\mathcal{N}(0, \\Sigma_0)$$,\n",
    "$$~~where~~~~~~ \\Sigma_0 = \\begin{pmatrix} K(x,x) & k^T \\\\ k & K \\end{pmatrix} = \\text{for 2 dim case} = \\begin{pmatrix} K(x,x) & k^T \\\\ k & \\hat{K}+\\sigma I_m \\end{pmatrix} $$\n",
    "\n",
    "$K = \\begin{pmatrix} K(x_1,x_1) &...& K(x_1, x_n) \\\\..&..&..\\\\ K(x_n,x_1) & .. & K(x_n, x_n) \\end{pmatrix}, \\quad k^T = \\left[ K(x,x_1) \\dots K(x, x_n)\\right ] $\n",
    "\n",
    "\n",
    "$$ \\Sigma^{-1}_0 = [\\text{from task 3.1 }] =$$ \n",
    "$$=\\begin{pmatrix} K(x,x)^{-1} + K(x,x)^{-1}k^T(K - kK(x,x)^{-1}k^T)^{-1}kK(x,x)^{-1} & -K(x,x)^{-1}k^T(K - kK(x,x)^{-1}k^T)^{-1} \\\\ \n",
    " -(K - kK(x,x)^{-1}k^T)^{-1}kK(x,x)^{-1} & (K - kK(x,x)^{-1}k^T)^{-1} \\end{pmatrix}\n",
    "$$\n",
    "\n",
    "$\\Rightarrow$\n",
    "$$p (y(x)| D_0) = \\mathcal{N}\\left(k^TK^{-1} \\begin{bmatrix}y(x_1)\\\\.. \\\\y(x_n)\\end{bmatrix}, K(x,x)+k^TK^{-1}k\\right)$$\n",
    "\n",
    "\n",
    "Let $\\Sigma_1 = K_{**}(x,x)-k_{*}^T \\Sigma^{-1}_0k_{*}$, and $\\mu_1 = k_{*}^T\\Sigma_0^{-1} \\begin{bmatrix}y(x_1)\\\\.. \\\\y(x_n)\\end{bmatrix}$\n",
    "\n",
    "And for $D_1$(similarly):\n",
    "\n",
    "$$p(y(x),y(x_1^{'}),\\dots, y(x_n^{'})) = \\mathcal{N}(0, \\Phi)$$, \n",
    "$$~~where~~~~~~\\Phi = \\begin{pmatrix} K(x,x) & k^T \\\\ k & K \\end{pmatrix} $$\n",
    "\n",
    "\n",
    "**END Solution**"
   ]
  },
  {
   "cell_type": "markdown",
   "metadata": {},
   "source": [
    "## Task 4 (1 + 2 = 3 pt.)"
   ]
  },
  {
   "cell_type": "markdown",
   "metadata": {},
   "source": [
    "### Task 4.1 (1 pt.)"
   ]
  },
  {
   "cell_type": "markdown",
   "metadata": {},
   "source": [
    "> In the late 1950’s Charles Keeling invented an accurate way to measure atmospheric $CO_2$ concentration and began taking regular measurements at the Mauna Loa observatory.\n"
   ]
  },
  {
   "cell_type": "markdown",
   "metadata": {},
   "source": [
    "Take `monthly_co2_mlo.csv` file, load it and prepare the data."
   ]
  },
  {
   "cell_type": "markdown",
   "metadata": {},
   "source": [
    "0. Load the `CO2 [ppm]` time series\n",
    "1. Replace $-99.99$ with **NaN** and drop the missing observations\n",
    "2. Split the time series into train and test\n",
    "3. Normalize the target value by fitting a transformation on the train\n",
    "4. Plot the resulting target against the time index"
   ]
  },
  {
   "cell_type": "code",
   "execution_count": 21,
   "metadata": {},
   "outputs": [
    {
     "data": {
      "text/plain": [
       "Text(0.5,0,'Train and test split')"
      ]
     },
     "execution_count": 21,
     "metadata": {},
     "output_type": "execute_result"
    },
    {
     "data": {
      "image/png": "[encoded data removed]",
      "text/plain": [
       "<Figure size 2160x288 with 1 Axes>"
      ]
     },
     "metadata": {
      "needs_background": "light"
     },
     "output_type": "display_data"
    }
   ],
   "source": [
    "import pandas as pd\n",
    "from sklearn.model_selection import train_test_split\n",
    "from sklearn.preprocessing import StandardScaler\n",
    "\n",
    "### BEGIN Solution\n",
    "df = pd.read_csv('data/monthly_co2_mlo.csv',skiprows=[1,2])\n",
    "\n",
    "CO2_ppm = df['CO2 [ppm]']\n",
    "index = df.year-1958\n",
    "index = index.drop(CO2_ppm[CO2_ppm == -99.99].index)\n",
    "CO2_ppm.replace(to_replace=-99.99,value=np.nan,inplace=True)\n",
    "CO2_ppm.dropna(inplace=True)\n",
    "\n",
    "\n",
    "# train_n, test_n = train_test_split(CO2, test_size=0.225, random_state = 100, shuffle=False)\n",
    "train, test = train_test_split(CO2_ppm, test_size=0.2, random_state = 42, shuffle=False)\n",
    "index_train = index[:train.shape[0]]\n",
    "index_test = index[train.shape[0]:]\n",
    "\n",
    "scaler = StandardScaler()\n",
    "train_tr = scaler.fit_transform(train.values.reshape(-1,1))\n",
    "test_tr = scaler.transform(test.values.reshape(-1, 1))\n",
    "\n",
    "test_tr_n = pd.Series(test_tr.ravel(), index = index_test)\n",
    "train_tr_n = pd.Series(train_tr.ravel(), index = index_train)\n",
    "\n",
    "fig = plt.figure(figsize=(30,4))\n",
    "ax0 = fig.add_subplot(121)\n",
    "ax0.plot(index_train, train_tr, color='b')\n",
    "ax0.plot(index_test, test_tr, color='r')\n",
    "ax0.axvline(index_test.values[0], c='k')\n",
    "ax0.grid()\n",
    "ax0.set_ylabel(r\"$C0_2$\")\n",
    "ax0.set_xlabel(\"Train and test split\")\n",
    "### END Solution"
   ]
  },
  {
   "cell_type": "markdown",
   "metadata": {},
   "source": [
    "<br>"
   ]
  },
  {
   "cell_type": "markdown",
   "metadata": {},
   "source": [
    "### Task 4.2 (2 pt.)\n",
    "\n",
    "Use [**GPy**](https://pypi.python.org/pypi/GPy) library for training and prediction. Fit a GP and run the predict on the test. Useful kernels to combine: `GPy.kern.RBF, GPy.kern.Poly, GPy.kern.StdPeriodic, GPy.kern.White, GPy.kern.Linear`. \n",
    "\n",
    "1. Plot mean and confidence interval of the prediction. \n",
    "2. Inspect them on normality by scatter plot: plot predicted points/time series against true values. \n",
    "3. Estimate the prediction error with `r2_score`. R2-score accepted > 0.83 on test sample."
   ]
  },
  {
   "cell_type": "code",
   "execution_count": 46,
   "metadata": {},
   "outputs": [],
   "source": [
    "from GPy.models import GPRegression\n",
    "from GPy.kern import RBF, Poly, StdPeriodic, White, Linear\n",
    "from sklearn.metrics import r2_score"
   ]
  },
  {
   "cell_type": "code",
   "execution_count": 47,
   "metadata": {},
   "outputs": [],
   "source": [
    "def plot_model(model, xlim=None):\n",
    "    if xlim is None:\n",
    "        xmin = np.min(model.X)\n",
    "        xmax = np.max(model.X)\n",
    "        x_range = xmax - xmin\n",
    "        xlim = [xmin - 0.05 * x_range,\n",
    "                xmax + 0.05 * x_range]\n",
    "    \n",
    "    x = np.linspace(xlim[0], xlim[1], 200).reshape(-1, 1)\n",
    "    prediction, variance = model.predict(x)\n",
    "    std = np.sqrt(variance).ravel()\n",
    "    prediction = prediction.ravel()\n",
    "    \n",
    "    \n",
    "    plt.figure(figsize = (12,8))\n",
    "    \n",
    "    plt.plot(model.X, model.Y, 'xk', label='Train data')\n",
    "    plt.plot(x, prediction, label='Prediction')\n",
    "    plt.fill_between(x.ravel(), prediction - 2*std,\n",
    "                     prediction + 2*std, alpha=0.3, label='confidence')\n",
    "    \n",
    "    plt.xlabel('x', fontsize=14)\n",
    "    plt.ylabel('y', fontsize=14)\n",
    "    plt.legend()"
   ]
  },
  {
   "cell_type": "code",
   "execution_count": 48,
   "metadata": {},
   "outputs": [],
   "source": [
    "kernel = Poly(1, order=2) + StdPeriodic(1)\n",
    "# choose this kernel from periodic and nonliner character of data"
   ]
  },
  {
   "cell_type": "code",
   "execution_count": 49,
   "metadata": {
    "scrolled": false
   },
   "outputs": [
    {
     "data": {
      "image/png": "[encoded data removed]",
      "text/plain": [
       "<Figure size 864x576 with 1 Axes>"
      ]
     },
     "metadata": {
      "needs_background": "light"
     },
     "output_type": "display_data"
    }
   ],
   "source": [
    "model = GPRegression(index_train.values.reshape(-1, 1), train_tr.reshape(-1, 1), kernel)\n",
    "pred = model.predict(index_test.values.reshape(-1, 1))[0]\n",
    "plot_model(model)"
   ]
  },
  {
   "cell_type": "code",
   "execution_count": 50,
   "metadata": {},
   "outputs": [
    {
     "data": {
      "text/plain": [
       "Text(0.5,0,'True value')"
      ]
     },
     "execution_count": 50,
     "metadata": {},
     "output_type": "execute_result"
    },
    {
     "data": {
      "image/png": "[encoded data removed]",
      "text/plain": [
       "<Figure size 864x432 with 1 Axes>"
      ]
     },
     "metadata": {
      "needs_background": "light"
     },
     "output_type": "display_data"
    }
   ],
   "source": [
    "plt.figure(figsize=(12,6))\n",
    "plt.plot(test_tr,test_tr,label='x=y')\n",
    "plt.scatter(test_tr,pred)\n",
    "plt.title('QQ-plot', fontsize=12)\n",
    "plt.legend(fontsize=12)\n",
    "plt.ylabel('predicted value',fontsize=12)\n",
    "plt.xlabel('True value',fontsize=12)"
   ]
  },
  {
   "cell_type": "code",
   "execution_count": 42,
   "metadata": {},
   "outputs": [
    {
     "data": {
      "text/plain": [
       "0.9840397044996732"
      ]
     },
     "execution_count": 42,
     "metadata": {},
     "output_type": "execute_result"
    }
   ],
   "source": [
    "r2_score(test_tr, pred)"
   ]
  }
 ],
 "metadata": {
  "kernelspec": {
   "display_name": "Python 3",
   "language": "python",
   "name": "python3"
  },
  "language_info": {
   "codemirror_mode": {
    "name": "ipython",
    "version": 3
   },
   "file_extension": ".py",
   "mimetype": "text/x-python",
   "name": "python",
   "nbconvert_exporter": "python",
   "pygments_lexer": "ipython3",
   "version": "3.7.1"
  }
 },
 "nbformat": 4,
 "nbformat_minor": 2
}
